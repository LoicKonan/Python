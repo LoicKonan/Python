{
 "cells": [
  {
   "cell_type": "markdown",
   "metadata": {},
   "source": [
    "# Homework 2 "
   ]
  },
  {
   "cell_type": "markdown",
   "metadata": {},
   "source": [
    "## Part 1: Compute Factors of an Integer (10 Points)\n",
    "The objective of this problem is to compute the integer factors of a number.  Your solution should obey the following constraints:\n",
    "\n",
    "* The number whose factor should be computed is the variable `number`, which is assigned in cell #1.\n",
    "* The factors should be given in ascending order.\n",
    "* If `number` is positive, then only show the positive factors.\n",
    "* If the number is negative, then show both the negative and positive factors.\n",
    "* You should use `while:` loops.  Even if you already know about the `for..in` loop, lists, or list comprehensions, you are not allowed to use these techniques at this time.\n",
    "* Your solution should appear in cell #2.\n",
    "* The output should match the examples below in both order and formatting."
   ]
  },
  {
   "cell_type": "code",
   "execution_count": null,
   "metadata": {},
   "outputs": [],
   "source": [
    "### CELL 1 ###\n",
    "# The variable containing the number to factorize.\n",
    "# Do not change the code in this cell.\n",
    "number = int(input(\"Give me an integer: \"))"
   ]
  },
  {
   "cell_type": "markdown",
   "metadata": {},
   "source": [
    "If `number = -8`, then the output of your program should be as follows:\n",
    "\n",
    "```\n",
    "-8\n",
    "-4\n",
    "-2\n",
    "-1\n",
    "1\n",
    "2\n",
    "4\n",
    "8\n",
    "```\n",
    "If `number = 25`, then the output of your program should be as follows:\n",
    "\n",
    "```\n",
    "1\n",
    "5\n",
    "25\n",
    "```"
   ]
  },
  {
   "cell_type": "code",
   "execution_count": null,
   "metadata": {},
   "outputs": [],
   "source": [
    "### CELL 2 ###\n",
    "# Write your code in this cell.\n",
    "# Do not assign a value to the `number` variable in this cell.\n",
    "# Rather, `number` should be set when executing CELL 1.\n",
    "# Do not remove this comment block.  Write your code after the comments.\n",
    "##############\n"
   ]
  },
  {
   "cell_type": "markdown",
   "metadata": {},
   "source": [
    "Hints/Possible Tools:\n",
    "* Control Flow Structures (e.g., `if:`, `for..in:`, `while:`)\n",
    "* Mathematical Operators (e.g., `+`, `-`, `/`, `*`, `%`)\n",
    "* Logical/Comparison operators (e.g., `<`, `<=`, `>`, `>=`, `==`, `!=`, `and`, `or`, `not`)"
   ]
  },
  {
   "cell_type": "markdown",
   "metadata": {},
   "source": [
    "## Part 2: Multiplication Table Generator (20 Points)\n",
    "The objective of this program is to take two integers (`num1` and `num2`), and to output a multiplication table based on that input.\n",
    "* `num1` and `num2` are below, in cell #3.\n",
    "* `num1` is the number of rows in the table, and `num2` is the number of columns.\n",
    "* There must a header row (see the example).\n",
    "* There must be a row index (the first column).\n",
    "* The columns must align assume that the largest number will be 3 digits.\n",
    "* Your output should match the sample output."
   ]
  },
  {
   "cell_type": "code",
   "execution_count": null,
   "metadata": {},
   "outputs": [],
   "source": [
    "### CELL 3 ###\n",
    "# num1 is the # of rows\n",
    "# num2 is the # of columns\n",
    "num1 = int(input(\"How many rows? \"))\n",
    "num2 = int(input(\"How many columns? \"))"
   ]
  },
  {
   "cell_type": "markdown",
   "metadata": {},
   "source": [
    "* Example output, where `num1 = 5` and `num2 = 7`\n",
    "```\n",
    "         1    2    3    4    5    6    7\n",
    "    1    1    2    3    4    5    6    7\n",
    "    2    2    4    6    8   10   12   14\n",
    "    3    3    6    9   12   15   18   21\n",
    "    4    4    8   12   16   20   24   28\n",
    "    5    5   10   15   20   25   30   35\n",
    "```\n",
    "* Example output, where `num1 = 2` and `num2 = 10`\n",
    "```\n",
    "         1    2    3    4    5    6    7    8    9   10\n",
    "    1    1    2    3    4    5    6    7    8    9   10\n",
    "    2    2    4    6    8   10   12   14   16   18   20\n",
    "```"
   ]
  },
  {
   "cell_type": "code",
   "execution_count": null,
   "metadata": {},
   "outputs": [],
   "source": [
    "### CELL 4 ###\n",
    "# Write your code in this cell.\n",
    "# Do not remove this comment block.  Write your code after the comments.\n",
    "##############\n"
   ]
  },
  {
   "cell_type": "markdown",
   "metadata": {},
   "source": [
    "Hints/Possible Tools:\n",
    "* You probably realize that you will need to use nested `for..in:` loops, but that does not mean that that is the only structure in your code.\n",
    "* Remember that you can use formatting options as part of the `%d` and/or the format strings, which was discussed in a lecture (on a much more complicated example)."
   ]
  },
  {
   "cell_type": "markdown",
   "metadata": {},
   "source": [
    "## Part 3: Fibonacci Numbers (20 Points)\n",
    "\n",
    "Fibonacci numbers are numbers that follow the pattern where, expressed algebraically,  `f(n) = f(n-1) + f(n-2)`.\n",
    "\n",
    "This means that, when starting with numbers `1` and `1`, the next number will be `2`, because it is the sum of the previous 2 numbers.  The next number will then be `3`, because it is the sum of `2` and `1`.  The pattern is further demonstrated below.\n",
    "\n",
    "Write code that will ask the user how many Fibonacci numbers they want you to generate for them, and then compute and print out that many numbers.  A sample execution of the code may look like this:\n",
    "\n",
    "```\n",
    "How many Fibonacci numbers should I generate? 10\n",
    "1 1 2 3 5 8 13 21 34 55\n",
    "```\n",
    "As in the sample above, you should print out the numbers on a single line.\n",
    "\n",
    "Your output should match the sample output above in formatting.\n",
    "\n",
    "Your solution should use a `while:` loop.  Do not use the `for..in` syntax or lists, even if you already know about them.  This is intended to be an exercise in using the `while:` loop."
   ]
  },
  {
   "cell_type": "code",
   "execution_count": null,
   "metadata": {},
   "outputs": [],
   "source": [
    "### CELL 5 ###\n",
    "# Write your code in this cell.\n",
    "# Do not remove this comment block.  Write your code after the comments.\n",
    "##############\n"
   ]
  },
  {
   "cell_type": "code",
   "execution_count": null,
   "metadata": {},
   "outputs": [],
   "source": []
  }
 ],
 "metadata": {
  "kernelspec": {
   "display_name": "Python 3",
   "language": "python",
   "name": "python3"
  },
  "language_info": {
   "codemirror_mode": {
    "name": "ipython",
    "version": 3
   },
   "file_extension": ".py",
   "mimetype": "text/x-python",
   "name": "python",
   "nbconvert_exporter": "python",
   "pygments_lexer": "ipython3",
   "version": "3.6.13"
  }
 },
 "nbformat": 4,
 "nbformat_minor": 4
}
