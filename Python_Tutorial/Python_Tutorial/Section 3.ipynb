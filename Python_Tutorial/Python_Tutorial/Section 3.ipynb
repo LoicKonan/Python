{
 "cells": [
  {
   "cell_type": "markdown",
   "metadata": {},
   "source": [
    "# Section 3 (Objects and Visualizations)\n",
    "\n",
    "* [Babynames Dataset](#Babynames-Dataset)\n",
    "* [Objects And Classes](#Objects-And-Classes)\n",
    "    * [Constructors](#Constructors)\n",
    "    * [Attributes](#Attributes)\n",
    "    * [`.__str__()`](#.__str__())\n",
    "    * [Custom Methods](#Custom-Methods)\n",
    "    * [`.__str__()` And `.__repr__()`](#.__str__()-And-.__repr__())\n",
    "    * [Documentation]()\n",
    "    * [More Dunder Methods](#More-Dunder-Methods)\n",
    "    * [The Main Takeaways](#The-Main-Takeaways)\n",
    "* [Random Numbers](#Random-Numbers)\n",
    "* [Numpy](#Numpy)\n",
    "    * [What Is Numpy, And Why Do We Need It?](#What-Is-Numpy,-And-Why-Do-We-Need-It?)\n",
    "    * [Basic Numpy Usage](#Basic-Numpy-Usage)\n",
    "    * [Basic Numpy Math](#Basic-Numpy-Math)\n",
    "    * [`arange()`](#arange())\n",
    "    * [Various Array Behaviors](#Various-Array-Behaviors)\n",
    "    * [Multidimensional Arrays](#Multidimensional-Arrays)\n",
    "    * [Slicing](#Slicing)\n",
    "        * [An aside about how columns and rows are requested.](#An-aside-about-how-columns-and-rows-are-requested.)\n",
    "    * [Other Common Numpy Tools](#Other-Common-Numpy-Tools)\n",
    "    * [Aggregate Functions](#Aggregate-Functions)\n",
    "* [Matplotlib](#Matplotlib)\n",
    "    * [Saving The Graph As An Image](#Saving-The-Graph-As-An-Image)\n",
    "    * [More Graph Types](#More-Graph-Types)\n",
    "    * [Stupid Matplotlib Tricks](#Stupid-Matplotlib-Tricks)\n",
    "    * [The Object-Oriented Interface](#The-Object-Oriented-Interface)\n"
   ]
  },
  {
   "cell_type": "markdown",
   "metadata": {},
   "source": [
    "# Babynames Dataset"
   ]
  },
  {
   "cell_type": "code",
   "execution_count": null,
   "metadata": {},
   "outputs": [],
   "source": [
    "#########################################################\n",
    "###    Run This Code To Download And Load The Data    ###\n",
    "#########################################################\n",
    "\n",
    "from zipfile import ZipFile\n",
    "def readnames(path):\n",
    "    '''\n",
    "    This function creates a list of baby name data, which\n",
    "    is the dataset on baby names from the Social Security\n",
    "    Administration.  Data is grouped by state, sex, year,\n",
    "    name, and then finally the number of babies born that\n",
    "    year with that name.  Names that occurred less than 5\n",
    "    times that year in that state are not included.\n",
    "    The code also saves a copy of the dataset in a file on\n",
    "    your computer.  The next time that you run the script,\n",
    "    it will first try to load the dataset directly from your\n",
    "    computer.  If it doesn't find it, then it will go ahead\n",
    "    and try to download the file.\n",
    "    \n",
    "    Arguments:\n",
    "    path - The path to the babynames zip file\n",
    "    \n",
    "    Returns:\n",
    "    A list of tuples containing the data in the form of:\n",
    "      (state, sex, year, name, count)\n",
    "    '''\n",
    "\n",
    "    babyNamesRaw = []\n",
    "    \n",
    "    # Open the .zip file.  `babyzip` is the variable that\n",
    "    # represents the .zip file.\n",
    "    with ZipFile(path) as babyzip:\n",
    "        \n",
    "        # .zip files are a compressed container for\n",
    "        # potentially many other files.\n",
    "        # Iterate through the files and process the ones\n",
    "        # that represent state data.\n",
    "        for filename in [filename for filename in babyzip.namelist() if \".TXT\" in filename]:\n",
    "            print(\"Loading data for \" + (filename[:2]))\n",
    "            \n",
    "            # Open the file from the .zip file.\n",
    "            # The file is opened in RAM, so no additional\n",
    "            # disk space is required.\n",
    "            with babyzip.open(filename) as state:\n",
    "                \n",
    "                # Iterate through each line in the file\n",
    "                # and append to the `babyNamesRaw` list.\n",
    "                for line in [line for line in state.read().decode().splitlines() if line != '']:\n",
    "                    \n",
    "                    # Convert numerical data (year and count).\n",
    "                    state, sex, year, name, count = line.split(',')\n",
    "                    babyNamesRaw.append((state, sex, int(year), name, int(count)))\n",
    "\n",
    "    return babyNamesRaw\n",
    "\n",
    "\n",
    "zipname = \"babynames.zip\"\n",
    "try:\n",
    "    # Assume the file exists.  Try to open it.\n",
    "    babyList = readnames(zipname)\n",
    "except:\n",
    "    # The file open() failed.\n",
    "    try:\n",
    "        # Try to download the file.\n",
    "        from urllib.request import urlopen\n",
    "        print(\"Fetching the file from the interwebs...\")\n",
    "        print(\"NOTE: This will take a while. The file is around 20 megabytes!  And that's compressed, too!\")\n",
    "        response = urlopen(\"https://www.ssa.gov/oact/babynames/state/namesbystate.zip\")\n",
    "\n",
    "        # Write the downloaded data to a file.\n",
    "        with open(zipname, 'wb') as babyfile:\n",
    "            babyfile.write(response.read())\n",
    "        babyList = readnames(zipname)\n",
    "    except:\n",
    "        # Something else went wrong.\n",
    "        # Raise another Exception, which will cause\n",
    "        # the script to stop running (with an error).\n",
    "        raise Exception(\"Could not load file.\")\n",
    "\n",
    "print(f'Baby Names data is loaded.  There are {len(babyList)} records.')\n"
   ]
  },
  {
   "cell_type": "markdown",
   "metadata": {},
   "source": [
    "# Objects And Classes\n",
    "\n",
    "We have already seen many types of **objects** in Python.  **Strings**, **Lists**, **Dictionaries**, **Tuples**, **Sets**, and even **Functions** are all types of **objects**.  We've seen them enough to have an intuitive feel for what they are, but let's try to refine our understanding of them.\n",
    "\n",
    "An **Object** is a collection of one or more related values which are all accessed using a common reference (*i.e.*, a **variable name**).  For example, a **list** object may contain multiple items, but it may also have various **attributes**, such as the length of the list.\n",
    "\n",
    "If an object is a variable value, then a **Class** is the **definition** that dictates how the object is created, accessed, and interacts with other variables.\n",
    "\n",
    "* For example, `message = \"hello\"` defines a variable `message`, and it is a string.\n",
    "* The **type** is `str`, so `str` is the **class** definition.\n",
    "* We know that we can do things like `message += 'foo'`.\n",
    "* That is because the **`str` class** defined behavior for the `+=` operator.\n",
    "* If `str` is the **type**, then we would call `message` an **instance of** `str`.\n",
    "\n",
    "Python's documentation for functions can be found here: https://docs.python.org/3.6/tutorial/classes.html\n",
    "\n",
    "A **Class** is defined in a code block, beginning with the keyword `class`.  You, the programmer, can come up with a useful, descriptive type name, similar to coming up with a variable name.  It is **common in industry** to **capitalize** custom class names, although it is not required by the language itself.\n",
    "\n",
    "Here is a bare-bones example of creating a (custom) class that does not do anything (yet):\n"
   ]
  },
  {
   "cell_type": "code",
   "execution_count": null,
   "metadata": {},
   "outputs": [],
   "source": [
    "# We are defining a class named `Point`.\n",
    "# Eventually, it will represent a point in a\n",
    "# cartesian plane, with an `x` and a `y` value.\n",
    "# For now, it does nothing, as signified by\n",
    "# the `pass` keyword.\n",
    "\n",
    "\n",
    "class Point:\n",
    "    pass\n",
    "\n",
    "\n",
    "p = Point()\n",
    "\n",
    "print(type(p))\n",
    "print()\n",
    "\n",
    "print('p is Point   :', type(p) is Point)\n",
    "print('p is list    :', type(p) is list)\n",
    "print('p is dict    :', type(p) is dict)\n",
    "print('p is not list:', type(p) is not list)\n"
   ]
  },
  {
   "cell_type": "markdown",
   "metadata": {},
   "source": [
    "In the preceding example, we see that creating an instance of type `Point` (or, more commonly put, **instantiating** a `Point`) looks much like calling a function.\n",
    "\n",
    "As we have seen in the past, we can test the type of a variable using the `in` and `not in` syntax, which evaluates to a boolean value.\n",
    "\n",
    "Compare this with the instantiation of a dictionary, and observe the similarity."
   ]
  },
  {
   "cell_type": "code",
   "execution_count": null,
   "metadata": {},
   "outputs": [],
   "source": [
    "# A dictionary can be constructed in several ways.\n",
    "# The second example's syntax is similar to that of\n",
    "# the Point class.\n",
    "d = {}\n",
    "d = dict()\n",
    "\n",
    "print(type(d))\n",
    "print()\n",
    "\n",
    "print('d is Point   :', type(d) is Point)\n",
    "print('d is list    :', type(d) is list)\n",
    "print('d is dict    :', type(d) is dict)\n",
    "print('d is not list:', type(d) is not list)\n"
   ]
  },
  {
   "cell_type": "markdown",
   "metadata": {},
   "source": [
    "## Constructors\n",
    "\n",
    "A **Constructor** is a **method** is called automatically when an object is created.\n",
    "\n",
    "In general, **constructors** are a concept from Computer Science, and the idea of objects exists in many different programming languages.\n",
    "\n",
    "In Python, the constructor is always named **`__init__`**.  You may remember that these types of names are called **dunder** methods or attributes, depending on the context.\n",
    "\n",
    "You may also remember that **methods** are simply **functions** that are attached to a variable, or, more precisely, attached to an **object**.\n",
    "\n",
    "**How are methods defined?**\n",
    "\n",
    "Simple: Methods are created by putting a function definition inside the `class` definition.\n",
    "\n",
    "The first method that we care about is the **constructor**.  As already stated, it's name is `__init__`, and it will be called automatically whenever an object is instantiated.  Let's see this in action:"
   ]
  },
  {
   "cell_type": "code",
   "execution_count": null,
   "metadata": {},
   "outputs": [],
   "source": [
    "# We will explain `self` part in a moment.\n",
    "\n",
    "\n",
    "class Point:\n",
    "\n",
    "    def __init__(self):\n",
    "        print(\"The constructor was called!!!!\")\n",
    "        print()\n",
    "\n",
    "\n",
    "print(\"Not doing anything yet.\")\n",
    "print()\n",
    "\n",
    "p = Point()\n",
    "q = Point()\n",
    "\n",
    "print(\"The object was created.\")\n",
    "\n",
    "r = Point()\n"
   ]
  },
  {
   "cell_type": "markdown",
   "metadata": {},
   "source": [
    "You may be wondering why there is an argument called **`self`** in the constructor.  Let's see why we need it!"
   ]
  },
  {
   "cell_type": "markdown",
   "metadata": {},
   "source": [
    "## Attributes\n",
    "\n",
    "Now we will make the `Point` class do something interesting.  As stated earlier, we will think of this \"point\" as representing an `(x, y)` coordinate in a cartesian plane.  Because each point has it's own `x` and `y` value, we need to store this information in some way as part of the object.\n",
    "\n",
    "We want to store the `x` and `y` values as **attributes** on the object.  You can think of an attribute as a variable that is attached to the main object.\n",
    "\n",
    "Let's store the `x` value in an attribute called **`xpos`**, and the `y` value in an attribute called **`ypos`**.\n",
    "\n",
    "This is where the argument called **`self`** comes in.  **`self`** represents the instantiated object.\n",
    "\n",
    "As the programmer, you do not pass in anything for the `self` argument; Python will do that for you.\n",
    "\n",
    "Consider the following modification to the `Point` class, which adds a few more arguments to the constructor.  The constructor uses the additional arguments to set the `xpos` and `ypos` attributes."
   ]
  },
  {
   "cell_type": "code",
   "execution_count": null,
   "metadata": {},
   "outputs": [],
   "source": [
    "\n",
    "\n",
    "class Point:\n",
    "\n",
    "    def __init__(self, x=0, y=0):\n",
    "        # Save the x and y values as attributes on this object.\n",
    "        self.xpos = x\n",
    "        self.ypos = y\n"
   ]
  },
  {
   "cell_type": "markdown",
   "metadata": {},
   "source": [
    "In the next example, notice that the 2 arguments are passed to the `__init__` constructor.  In the next line, we can see that the `xpos` and `ypos` attributes have most definitely been set on the `p` object."
   ]
  },
  {
   "cell_type": "code",
   "execution_count": null,
   "metadata": {},
   "outputs": [],
   "source": [
    "p = Point(3, 4)\n",
    "print(f\"p.xpos: {p.xpos}\")\n",
    "print(f\"p.ypos: {p.ypos}\")\n"
   ]
  },
  {
   "cell_type": "markdown",
   "metadata": {},
   "source": [
    "In the next example, notice that each instance of the Point object (variables `p`, `q`, and `r`) has it's own `xpos` and `ypos`.\n",
    "\n",
    "Also demonstrated is the fact that the `x` and `y` arguments of the constructor have **default values**.\n"
   ]
  },
  {
   "cell_type": "code",
   "execution_count": null,
   "metadata": {},
   "outputs": [],
   "source": [
    "p = Point(3, 4)\n",
    "print(f\"p.xpos: {p.xpos}\")\n",
    "print(f\"p.ypos: {p.ypos}\")\n",
    "print()\n",
    "\n",
    "q = Point()\n",
    "print(f\"q.xpos: {q.xpos}\")\n",
    "print(f\"q.ypos: {q.ypos}\")\n",
    "print()\n",
    "\n",
    "r = Point(y=42, x=-13)\n",
    "print(f\"r.xpos: {r.xpos}\")\n",
    "print(f\"r.ypos: {r.ypos}\")\n",
    "\n"
   ]
  },
  {
   "cell_type": "markdown",
   "metadata": {},
   "source": [
    "### Observation\n",
    "\n",
    "Look at the following line:\n",
    "\n",
    "```print(\"r is\", r.xpos, r.ypos)```\n",
    "\n",
    "Isn't it ugly?\n",
    "\n",
    "I would rather be able to type something like this:\n",
    "\n",
    "```print(\"r is\", r)```\n",
    "\n",
    "Let's try it!"
   ]
  },
  {
   "cell_type": "code",
   "execution_count": null,
   "metadata": {},
   "outputs": [],
   "source": [
    "r = Point(y=42, x=-13)\n",
    "\n",
    "print(\"r is\", r)"
   ]
  },
  {
   "cell_type": "markdown",
   "metadata": {},
   "source": [
    "That's not very helpful!\n",
    "\n",
    "It's not **wrong**, it's just not very useful, and it's definitely not what you would expect!\n",
    "\n",
    "Python allows us to change this representation using a dunder method, so set's change this to something useful!"
   ]
  },
  {
   "cell_type": "markdown",
   "metadata": {},
   "source": [
    "## `.__str__()`\n",
    "\n",
    "Python has quite a few tricks for allowing our custom classes to interact in sophisticated ways.  Most often, Python supports this advanced behavior by indicating various **dunder methods** that the programmer can then implement in their custom class definitions.\n",
    "\n",
    "The `.__str__()` dunder method is used in three ways.\n",
    "\n",
    "1. It is invoked when the object is the argument of the `str()` function.\n",
    "2. It is invoked when the object is used inside a format string.\n",
    "3. It is invoked when the object is passed to the `print()` function.\n",
    "\n",
    "The **first argument** of **all** class methods will be `self`, which is how you access the object attributes."
   ]
  },
  {
   "cell_type": "code",
   "execution_count": null,
   "metadata": {},
   "outputs": [],
   "source": [
    "\n",
    "\n",
    "class Point:\n",
    "\n",
    "    def __init__(self, x=0, y=0):\n",
    "        self.xpos = x\n",
    "        self.ypos = y\n",
    "        \n",
    "    def __str__(self):\n",
    "        return f\"({self.xpos}, {self.ypos})\"\n",
    "\n"
   ]
  },
  {
   "cell_type": "code",
   "execution_count": null,
   "metadata": {},
   "outputs": [],
   "source": [
    "# Example of the three ways that .__str__() is automatically\n",
    "# invoked.\n",
    "r = Point(y=42, x=-13)\n",
    "\n",
    "message = \"r is \" + str(r)\n",
    "print(message)\n",
    "print()\n",
    "\n",
    "print(f\"r is {r}\")\n",
    "print()\n",
    "\n",
    "print(\"r is\", r)\n",
    "print()\n",
    "\n",
    "myList = ['a', 'foo', 42]\n",
    "print(f\"myList is {myList}\")\n"
   ]
  },
  {
   "cell_type": "markdown",
   "metadata": {},
   "source": [
    "**A quick word about `__str__`:**\n",
    "\n",
    "The general philosophy is that `__str__` should return a string which is easily readable and user-friendly.  In the case of a `Point` class object, it makes sense that what is printed out looks like the ordered pair of `x` and `y` coordinates.\n",
    "\n",
    "Observe the behavior of the various types as they are printed out:"
   ]
  },
  {
   "cell_type": "code",
   "execution_count": null,
   "metadata": {},
   "outputs": [],
   "source": [
    "# Notice what is printed out:\n",
    "\n",
    "print('Printing a list:')\n",
    "ex1 = [1,2,3]\n",
    "print(ex1)\n",
    "print()\n",
    "\n",
    "print('Printing a tuple:')\n",
    "ex2 = (1,2,3,4,5)\n",
    "print(ex2)\n",
    "print()\n",
    "\n",
    "print('Printing a dictionary:')\n",
    "ex3 = {'foo': 1, 'bar': 42, 'baz': None}\n",
    "print(ex3)\n",
    "print()\n",
    "\n",
    "print('Printing the dictionary keys object:')\n",
    "print(ex3.keys())\n",
    "print()\n",
    "\n",
    "print('Printing a Point:')\n",
    "r = Point(y=42, x=-13)\n",
    "print(r)"
   ]
  },
  {
   "cell_type": "markdown",
   "metadata": {},
   "source": [
    "Again, to be clear, the `__str__` dunder method is to make your Python code more intuitive and user-friendly."
   ]
  },
  {
   "cell_type": "code",
   "execution_count": null,
   "metadata": {},
   "outputs": [],
   "source": [
    "r = Point(y=42, x=-13)\n",
    "print(f\"There is a treasure at coordinates {r}!\")"
   ]
  },
  {
   "cell_type": "markdown",
   "metadata": {},
   "source": [
    "## Custom Methods\n",
    "\n",
    "Methods are simply functions that are attached to the object.  A method will usually do something or return some value that is specific to the object.\n",
    "\n",
    "You have already been using methods on objects... ***a lot!!!***  Here are a few examples:"
   ]
  },
  {
   "cell_type": "code",
   "execution_count": null,
   "metadata": {},
   "outputs": [],
   "source": [
    "s = \"The quick brown fox jumps over the lazy dog.\"\n",
    "\n",
    "print(s)\n",
    "\n",
    "print(s.upper())\n",
    "print(s.title())\n",
    "print(s.lower())\n",
    "print(s.islower())\n",
    "print(s.replace(' ', '~'))\n",
    "print(s.split())"
   ]
  },
  {
   "cell_type": "markdown",
   "metadata": {},
   "source": [
    "In Python, all methods on an object are declared as part of the class.\n",
    "\n",
    "In the next example, we will add a method called `.magnitude()` to the `Point` class.  The method will return the distance that the point is away from the origin, using the familiar Pythagorean theorem.\n",
    "\n",
    "As you can see, adding a custom method is as simple as defining a function within the class definition.\n",
    "\n",
    "Just like `__init__` and `__str__`, the method's first argument is always **`self`**, which is a reference to the object on which the method was called.\n",
    "\n",
    "Inside the function, **`self`** will refer to the calling object."
   ]
  },
  {
   "cell_type": "code",
   "execution_count": null,
   "metadata": {},
   "outputs": [],
   "source": [
    "import math\n",
    "\n",
    "\n",
    "class Point:\n",
    "\n",
    "    def __init__(self, x=0, y=0):\n",
    "        self.xpos = x\n",
    "        self.ypos = y\n",
    "        \n",
    "    def __str__(self):\n",
    "        return f\"({self.xpos}, {self.ypos})\"\n",
    "        \n",
    "    def magnitude(self):\n",
    "        return math.sqrt(self.xpos**2 + self.ypos**2)\n",
    "\n"
   ]
  },
  {
   "cell_type": "markdown",
   "metadata": {},
   "source": [
    "It is customary to separate methods within a class by a single blank line, and surround the entire class definition with 2 blank lines.\n",
    "\n",
    "There is even **[official documentation](https://www.python.org/dev/peps/pep-0008/#blank-lines)** discussing this spacing convention!"
   ]
  },
  {
   "cell_type": "code",
   "execution_count": null,
   "metadata": {},
   "outputs": [],
   "source": [
    "p = Point(3, 4)\n",
    "print(f\"The Cartesian location {p} has magnitude {p.magnitude()}\")\n",
    "\n",
    "q = Point()\n",
    "print(f\"The Cartesian location {q} has magnitude {q.magnitude()}\")\n",
    "\n",
    "r = Point(y=42, x=-13)\n",
    "print(f\"The Cartesian location {r} has magnitude {r.magnitude()}\")"
   ]
  },
  {
   "cell_type": "markdown",
   "metadata": {},
   "source": [
    "### Example of using a Point for something practical:\n",
    "\n",
    "Here, let's generate a list of points with `x` values of 0 through pi, and `y` values as the `sin(x)`.  There will be 101 numbers total, from 0 to pi."
   ]
  },
  {
   "cell_type": "code",
   "execution_count": null,
   "metadata": {},
   "outputs": [],
   "source": [
    "import math\n",
    "points = [Point(i * math.pi / 100, math.sin(i * math.pi / 100)) for i in range(101)]\n",
    "\n",
    "for index, point in enumerate(points):\n",
    "    print(f\"{index:>3} {point}\")\n",
    "print()\n",
    "\n",
    "# Of course, we can print individual points:\n",
    "print(f\"The last point has an `x` value of {points[-1].xpos} and a `y` value of {points[-1].ypos}.\")"
   ]
  },
  {
   "cell_type": "markdown",
   "metadata": {},
   "source": [
    "Notice that points[-1] is not a tuple, even though it looks like one when printed out!"
   ]
  },
  {
   "cell_type": "code",
   "execution_count": null,
   "metadata": {},
   "outputs": [],
   "source": [
    "print(points[-1])\n"
   ]
  },
  {
   "cell_type": "markdown",
   "metadata": {},
   "source": [
    "What happens if you try to treat it like a tuple?\n",
    "\n",
    "Try it and find out!\n"
   ]
  },
  {
   "cell_type": "code",
   "execution_count": null,
   "metadata": {},
   "outputs": [],
   "source": [
    "print(points[-1])\n",
    "print(points[-1][0])\n"
   ]
  },
  {
   "cell_type": "markdown",
   "metadata": {},
   "source": [
    "As you can see, it's not a tuple, and we can't access its attributes using the square bracket notation.\n",
    "\n",
    "We can, however, access the attributes using their respective names."
   ]
  },
  {
   "cell_type": "code",
   "execution_count": null,
   "metadata": {},
   "outputs": [],
   "source": [
    "print(points[-1].xpos)\n",
    "print(points[-1].ypos)"
   ]
  },
  {
   "cell_type": "markdown",
   "metadata": {},
   "source": [
    "## `.__str__()` And `.__repr__()`\n",
    "\n",
    "Python defines one additional method to use when describing an object: `.__repr__()`.\n",
    "\n",
    "`.__repr__()` is similar to `.__str__()`, but they are used in different ways and have different reasons for existing.\n",
    "\n",
    "Before we delve into `.__repr__()`, let's remind you of how we use `.__str__()`."
   ]
  },
  {
   "cell_type": "code",
   "execution_count": null,
   "metadata": {},
   "outputs": [],
   "source": [
    "# Notice the output when `__repr__()` is not defined for the class\n",
    "import math\n",
    "\n",
    "\n",
    "class Point:\n",
    "\n",
    "    def __init__(self, x=0, y=0):\n",
    "        self.xpos = x\n",
    "        self.ypos = y\n",
    "        \n",
    "    def __str__(self):\n",
    "        return f\"({self.xpos}, {self.ypos})\"\n",
    "    \n",
    "    def magnitude(self):\n",
    "        return math.sqrt(self.xpos**2 + self.ypos**2)\n",
    "\n",
    "\n",
    "p = Point(3.4, 5)\n",
    "print(f\"The object `p` represents the coordinate {p}.\")\n",
    "print()"
   ]
  },
  {
   "cell_type": "markdown",
   "metadata": {},
   "source": [
    "Obviously, **`.__str__()`** is used when converting the object to a string, whether by **(1)** format string, **(2)** `str()` cast, or **(3)** `print()` function use.\n",
    "\n",
    "Consider this use, though:"
   ]
  },
  {
   "cell_type": "code",
   "execution_count": null,
   "metadata": {},
   "outputs": [],
   "source": [
    "points = [Point(i * math.pi / 100, math.sin(i * math.pi / 100)) for i in range(101)]\n",
    "print(points)"
   ]
  },
  {
   "cell_type": "code",
   "execution_count": null,
   "metadata": {},
   "outputs": [],
   "source": []
  },
  {
   "cell_type": "markdown",
   "metadata": {},
   "source": [
    "### Wow!  That's completely useless!!!  What's happening?!?\n",
    "\n",
    "Simple.  When a container (like the `list` that we are using above) prints out an object, it doesn't use the `.__str__()` method!  It uses one called `.__repr__()` instead, and if that is not defined, then it prints out the ugly format seen above.\n",
    "\n",
    "Let's see what happens when we supply a `.__repr__()` method:\n"
   ]
  },
  {
   "cell_type": "code",
   "execution_count": null,
   "metadata": {},
   "outputs": [],
   "source": [
    "# Now that `__repr__()` is defined, the output is nicer.\n",
    "# __repr__ output should normally be in the form of a valid\n",
    "# initialization of the object.\n",
    "import math\n",
    "\n",
    "\n",
    "class Point:\n",
    "\n",
    "    def __init__(self, x=0, y=0):\n",
    "        self.xpos = x\n",
    "        self.ypos = y\n",
    "        \n",
    "    def __str__(self):\n",
    "        return f\"({self.xpos}, {self.ypos})\"\n",
    "    \n",
    "    def __repr__(self):\n",
    "        return f\"Point({self.xpos},{self.ypos})\"\n",
    "        \n",
    "    def magnitude(self):\n",
    "        return math.sqrt(self.xpos**2 + self.ypos**2)\n",
    "\n",
    "\n",
    "p = Point(3.4, 5)\n",
    "print(f\"The object `p` represents the coordinate {p}.\")\n",
    "print()"
   ]
  },
  {
   "cell_type": "markdown",
   "metadata": {},
   "source": [
    "It doesn't change the way that the `.__str__()` works.\n",
    "\n",
    "Let's see how it behaves when the `Point`s are in a list:"
   ]
  },
  {
   "cell_type": "code",
   "execution_count": null,
   "metadata": {},
   "outputs": [],
   "source": [
    "points = [Point(i * math.pi / 100, math.sin(i * math.pi / 100)) for i in range(101)]\n",
    "print(points)"
   ]
  },
  {
   "cell_type": "markdown",
   "metadata": {},
   "source": [
    "That's a lot to look at!  Let's simplify it a bit:"
   ]
  },
  {
   "cell_type": "code",
   "execution_count": null,
   "metadata": {},
   "outputs": [],
   "source": [
    "p = Point(3.4, 5)\n",
    "\n",
    "print('Printing p by itself:', p)\n",
    "print()\n",
    "\n",
    "print('Printing p in a list:', [p])"
   ]
  },
  {
   "cell_type": "markdown",
   "metadata": {},
   "source": [
    "When `p` is in a list, then the `.__repr__()` method is used!\n",
    "\n",
    "Just like there is a `str()` function that calls the `.__str__()` method, there is also a `repr()` function that calls the `.__repr__()` method!"
   ]
  },
  {
   "cell_type": "code",
   "execution_count": null,
   "metadata": {},
   "outputs": [],
   "source": [
    "p = Point(3.4, 5)\n",
    "\n",
    "print(str(p))\n",
    "print()\n",
    "\n",
    "print(repr(p))"
   ]
  },
  {
   "cell_type": "markdown",
   "metadata": {},
   "source": [
    "**But why are they different?  Why even bother with two different ways to output the strings?**\n",
    "\n",
    "The reason is that they serve two different purposes.\n",
    "\n",
    "1. **`.__str__()`** exists to provide a user-friendly disply of information.\n",
    "2. **`.__repr__()`** exists to provide an exact (reproducible) representation of the object.  The idea is that you should be able to copy-and-paste the output from `.__repr__()` and that will serve to instantiate an object of equivalent value."
   ]
  },
  {
   "cell_type": "code",
   "execution_count": null,
   "metadata": {},
   "outputs": [],
   "source": [
    "# Copy-and-paste the `repr()` output from the preceding example:\n",
    "\n",
    "newPoint = Point(3.4,5)# paste here #\n",
    "\n",
    "print(newPoint)\n"
   ]
  },
  {
   "cell_type": "markdown",
   "metadata": {},
   "source": [
    "It should be noted that some objects (like **lists**, seen below) have the exact same output for both `str()` and `repr()`.  This is perfectly fine, so long as the user understands what is being displayed."
   ]
  },
  {
   "cell_type": "code",
   "execution_count": null,
   "metadata": {},
   "outputs": [],
   "source": [
    "l = [1,2,3]\n",
    "\n",
    "print(str(l))\n",
    "print(repr(l))"
   ]
  },
  {
   "cell_type": "markdown",
   "metadata": {},
   "source": [
    "### Recap:\n",
    "\n",
    "The general philosophy is that `__repr__` should return a string which, if copy-and-pasted, could be used to create another object of equivalent values.\n",
    "\n",
    "#### What's the difference between `.__str__()` and `.__repr__()`?\n",
    "\n",
    "`.__str__()` should make your object simple to grasp.  ***Readability*** is the goal.\n",
    "\n",
    "`.__repr__()` should be exact in its meaning.  ***Unanbiguity*** is the goal."
   ]
  },
  {
   "cell_type": "markdown",
   "metadata": {},
   "source": [
    "`.__str__()` and `.__repr__()` are called automatically by the `str()` and `repr()` functions, respectively.\n",
    "\n",
    "But they are also just **methods** and can be called direcly, even though it is not common to do so.\n",
    "\n",
    "In fact, **please don't do this**.  It's ugly.  It's an example of \"just because you can doesn't mean that you should.\""
   ]
  },
  {
   "cell_type": "code",
   "execution_count": null,
   "metadata": {},
   "outputs": [],
   "source": [
    "# Sometimes the `__str__` and the `__repr__` methods are the same.\n",
    "p = Point(3.4, 5)\n",
    "\n",
    "print(p.__str__())\n",
    "print()\n",
    "\n",
    "print(p.__repr__())"
   ]
  },
  {
   "cell_type": "markdown",
   "metadata": {},
   "source": [
    "Let's see an example of an object whose `str()` and `repr()` are quite different.  Although we have not seen this type of object before, it's use should be obvious: It is an object that represents a specific point in time (date and time, to be exact).\n",
    "\n",
    "Here, you see the philosophy of the two methods exemplified: **Readability vs. Unambiguity**"
   ]
  },
  {
   "cell_type": "code",
   "execution_count": null,
   "metadata": {},
   "outputs": [],
   "source": [
    "# Here is an example of an object whose str() and repr()\n",
    "# are different.\n",
    "import datetime\n",
    "today = datetime.datetime.now()\n",
    "print(str(today))\n",
    "print(repr(today))"
   ]
  },
  {
   "cell_type": "markdown",
   "metadata": {},
   "source": [
    "## Documentation\n",
    "\n",
    "You have already seen that functions can have documentation, and that documentation string is stored on the `.__doc__` attribute."
   ]
  },
  {
   "cell_type": "code",
   "execution_count": null,
   "metadata": {},
   "outputs": [],
   "source": [
    "def doubleIt(x):\n",
    "    '''\n",
    "    Returns a value that is double that of the supplied argument.\n",
    "    \n",
    "    Arguments:\n",
    "    x - The value to be doubled.\n",
    "    '''\n",
    "\n",
    "    return x * 2"
   ]
  },
  {
   "cell_type": "markdown",
   "metadata": {},
   "source": [
    "Accessing the documentation using the `help()` function:"
   ]
  },
  {
   "cell_type": "code",
   "execution_count": null,
   "metadata": {},
   "outputs": [],
   "source": [
    "help(doubleIt)"
   ]
  },
  {
   "cell_type": "markdown",
   "metadata": {},
   "source": [
    "Accessing the documentation using the `.__doc__` dunder attribute."
   ]
  },
  {
   "cell_type": "code",
   "execution_count": null,
   "metadata": {},
   "outputs": [],
   "source": [
    "print(doubleIt.__doc__)"
   ]
  },
  {
   "cell_type": "markdown",
   "metadata": {},
   "source": [
    "In the same way, **classes** can have documentation, as can all of their methods.\n",
    "\n",
    "Consider the following defintion of a `Fraction` class:"
   ]
  },
  {
   "cell_type": "code",
   "execution_count": null,
   "metadata": {},
   "outputs": [],
   "source": [
    "\n",
    "\n",
    "class Fraction:\n",
    "\n",
    "    def __init__(self, numerator=0, denominator=1):\n",
    "        self.n = numerator\n",
    "        self.d = denominator\n",
    "\n",
    "    def __str__(self):\n",
    "        return f\"{self.n}/{self.d}\"\n",
    "\n",
    "    def __repr__(self):\n",
    "        return f\"Fraction({self.n},{self.d})\"\n",
    "\n",
    "\n",
    "help(Fraction)"
   ]
  },
  {
   "cell_type": "markdown",
   "metadata": {},
   "source": [
    "As you can see, Python provides default documentation for the class and it's methods.  It even includes some that provide built-in functionality (attributes) that we have not seen before!\n",
    "\n",
    "But the documentation is not very helpful.  Let's do better  (Notice the spacing provided for readability, discussed earlier in this section):"
   ]
  },
  {
   "cell_type": "code",
   "execution_count": null,
   "metadata": {},
   "outputs": [],
   "source": [
    "\n",
    "\n",
    "class Fraction:\n",
    "    \"\"\"\n",
    "    Represents a mathematical fraction, with integer numerator and\n",
    "    denominator values.\n",
    "    \n",
    "    Constructor:\n",
    "      Fraction() -> create a new fraction object\n",
    "      Fraction(numerator) -> create a new fraction object with the value\n",
    "        <numerator>/1\n",
    "      Fraction(numerator, denominator) -> create a new fraction object\n",
    "        with the value <numerator>/<denominator>\n",
    "    \"\"\"\n",
    "\n",
    "    def __init__(self, numerator=0, denominator=1):\n",
    "        '''\n",
    "        Construct a Fraction object.  The denominator should never be 0.\n",
    "        \n",
    "        Arguments:\n",
    "        numerator - The numerator of the Fraction.  Defaults to 0.\n",
    "        denominator - The denominator of the Fraction.  Defaults to 0.\n",
    "        '''\n",
    "        self.n = numerator\n",
    "        self.d = denominator\n",
    "\n",
    "    def __str__(self):\n",
    "        '''\n",
    "        Return a string representation of the Fraction.\n",
    "        May be improper.\n",
    "        '''\n",
    "        return f\"{self.n}/{self.d}\"\n",
    "\n",
    "    def __repr__(self):\n",
    "        '''\n",
    "        Return a string representation of a constructor for the Fraction.\n",
    "        '''\n",
    "        return f\"Fraction({self.n},{self.d})\"\n",
    "\n",
    "\n",
    "help(Fraction)"
   ]
  },
  {
   "cell_type": "markdown",
   "metadata": {},
   "source": [
    "As you can see, good documentation goes a long way to helping the programmer know how to use and what to expect from your code, including classes.\n",
    "\n",
    "You should **always** write documentation for your code.  You **will** forget how to use it at some point in the future, and documentation is how you minimize the pain of revisiting code written a long time ago.\n",
    "\n",
    "You may notice that there is actually **more** documentation than code in the preceding `Fraction` class example.  This is both intended and, in some way, desireable.  It's often said that documentation is more important than the code itself.  If this is the case, then make it a practice to **always** write good comments for anything you write.\n",
    "\n",
    "Consider documentation to be like hygiene.  Everybody appreciates it when it's good.  When it's bad, nobody wants to work with you.\n",
    "\n",
    "**Practice good code hygiene.  Write good documentation.**"
   ]
  },
  {
   "cell_type": "markdown",
   "metadata": {},
   "source": [
    "## More Dunder Methods\n",
    "\n",
    "We can make our `Fraction` class more useful and more intuitive for programmers to use.  Let's start by adding the ability to \"add\" two fractions together.\n",
    "\n",
    "We will define a method called `.add()`, which takes another `Fraction` object as an argument.  The original object's value is not changed, just as adding `3 + 5` will not alter the value of the `3` or the `5`, but evaluates to a new value of `8`."
   ]
  },
  {
   "cell_type": "code",
   "execution_count": null,
   "metadata": {},
   "outputs": [],
   "source": [
    "\n",
    "\n",
    "class Fraction:\n",
    "    \"\"\"\n",
    "    Represents a mathematical fraction, with integer numerator and\n",
    "    denominator values.\n",
    "    \n",
    "    Constructor:\n",
    "      Fraction() -> create a new fraction object\n",
    "      Fraction(numerator) -> create a new fraction object with the value\n",
    "        <numerator>/1\n",
    "      Fraction(numerator, denominator) -> create a new fraction object\n",
    "        with the value <numerator>/<denominator>\n",
    "    \"\"\"\n",
    "\n",
    "    def __init__(self, numerator=0, denominator=1):\n",
    "        '''\n",
    "        Construct a Fraction object.  The denominator should never be 0.\n",
    "        \n",
    "        Arguments:\n",
    "        numerator - The numerator of the Fraction.  Defaults to 0.\n",
    "        denominator - The denominator of the Fraction.  Defaults to 0.\n",
    "        '''\n",
    "        self.n = numerator\n",
    "        self.d = denominator\n",
    "\n",
    "    def __str__(self):\n",
    "        '''\n",
    "        Return a string representation of the Fraction.\n",
    "        May be improper.\n",
    "        '''\n",
    "        return f\"{self.n}/{self.d}\"\n",
    "\n",
    "    def __repr__(self):\n",
    "        '''\n",
    "        Return a string representation of a constructor for the Fraction.\n",
    "        '''\n",
    "        return f\"Fraction({self.n},{self.d})\"\n",
    "\n",
    "    def add(self, other):\n",
    "        '''\n",
    "        Return a new Fraction object whose value is equivalent to adding\n",
    "        the current object with `other`.\n",
    "        \n",
    "        Arguments:\n",
    "        other - The value to be added to the current object's value.\n",
    "        '''\n",
    "        return Fraction((self.n * other.d) + (self.d * other.n), self.d * other.d)\n",
    "\n"
   ]
  },
  {
   "cell_type": "code",
   "execution_count": null,
   "metadata": {},
   "outputs": [],
   "source": [
    "f = Fraction(1,3)\n",
    "g = Fraction(2,5)\n",
    "\n",
    "print(\"f and g original values:\")\n",
    "print(f\"f is {f}\")\n",
    "print(f\"g is {g}\")\n",
    "print()\n",
    "\n",
    "\n",
    "print(f\"f + g = {f.add(g)}\")\n",
    "print()\n",
    "\n",
    "print(\"f and g are unchanged:\")\n",
    "print(f\"f is {f}\")\n",
    "print(f\"g is {g}\")\n",
    "print()\n"
   ]
  },
  {
   "cell_type": "markdown",
   "metadata": {},
   "source": [
    "Using a `.add()` method is a bit cumbersome.  Let's try to make this look a bit more \"natural\", using a `+`."
   ]
  },
  {
   "cell_type": "code",
   "execution_count": null,
   "metadata": {},
   "outputs": [],
   "source": [
    "f = Fraction(1,3)\n",
    "g = Fraction(2,5)\n",
    "\n",
    "print(\"f and g original values:\")\n",
    "print(f\"f is {f}\")\n",
    "print(f\"g is {g}\")\n",
    "print()\n",
    "\n",
    "print(f\"f + g = {f + g}\")\n"
   ]
  },
  {
   "cell_type": "markdown",
   "metadata": {},
   "source": [
    "**Oops!**\n",
    "\n",
    "As you can see, Python doesn't know what to do with this syntax.  Python doesn't \"know\" anything about our custom class, including how to perform an addition.\n",
    "\n",
    "Thankfully, Python allows us to define behavior for all of the mathematical operators.  That includes not only `+ - * / // % **`, but also the shortcut operators `+= -= *= /= %= **= //=`.  It also includes the comparison operators `< <= > >= == !=`.\n",
    "\n",
    "Basic documentation can be found here: https://docs.python.org/3.6/reference/datamodel.html#emulating-numeric-types\n",
    "\n",
    "Emulating the `+` operation is easy: define the `.__add__()` dunder method.\n",
    "\n",
    "When Python sees something like `f + g`, this is what it does:\n",
    "\n",
    "1. Python examines the type of `f`.  In this case, it is a `Fraction` class type.\n",
    "2. Python looks to see whether or not the `.__add__()` method is defined on that class.\n",
    "3. Python calls `f.__add__(g)`.\n",
    "\n",
    "Earlier, we wrote an `.add()` method for our `Fraction` class.  Now, let's rename it to be `.__add__()`, and then see if the `f + g` expression works!"
   ]
  },
  {
   "cell_type": "code",
   "execution_count": null,
   "metadata": {},
   "outputs": [],
   "source": [
    "\n",
    "\n",
    "class Fraction:\n",
    "    \"\"\"\n",
    "    Represents a mathematical fraction, with integer numerator and\n",
    "    denominator values.\n",
    "    \n",
    "    Constructor:\n",
    "      Fraction() -> create a new fraction object\n",
    "      Fraction(numerator) -> create a new fraction object with the value\n",
    "        <numerator>/1\n",
    "      Fraction(numerator, denominator) -> create a new fraction object\n",
    "        with the value <numerator>/<denominator>\n",
    "    \"\"\"\n",
    "\n",
    "    def __init__(self, numerator=0, denominator=1):\n",
    "        '''\n",
    "        Construct a Fraction object.  The denominator should never be 0.\n",
    "        \n",
    "        Arguments:\n",
    "        numerator - The numerator of the Fraction.  Defaults to 0.\n",
    "        denominator - The denominator of the Fraction.  Defaults to 0.\n",
    "        '''\n",
    "        self.n = numerator\n",
    "        self.d = denominator\n",
    "\n",
    "    def __str__(self):\n",
    "        '''\n",
    "        Return a string representation of the Fraction.\n",
    "        May be improper.\n",
    "        '''\n",
    "        return f\"{self.n}/{self.d}\"\n",
    "\n",
    "    def __repr__(self):\n",
    "        '''\n",
    "        Return a string representation of a constructor for the Fraction.\n",
    "        '''\n",
    "        return f\"Fraction({self.n},{self.d})\"\n",
    "\n",
    "    def __add__(self, other):\n",
    "        '''\n",
    "        Return a new Fraction object whose value is equivalent to adding\n",
    "        the current object with `other`.\n",
    "        \n",
    "        Arguments:\n",
    "        other - The value to be added to the current object's value.\n",
    "        '''\n",
    "        return Fraction((self.n * other.d) + (self.d * other.n), self.d * other.d)\n",
    "\n"
   ]
  },
  {
   "cell_type": "code",
   "execution_count": null,
   "metadata": {},
   "outputs": [],
   "source": [
    "f = Fraction(1,3)\n",
    "g = Fraction(2,5)\n",
    "\n",
    "print(\"f and g original values:\")\n",
    "print(f\"f is {f}\")\n",
    "print(f\"g is {g}\")\n",
    "print()\n",
    "\n",
    "print(f\"f + g = {f + g}\")\n"
   ]
  },
  {
   "cell_type": "markdown",
   "metadata": {},
   "source": [
    "**It worked!!**\n",
    "\n",
    "What happens if we try to add an integer instead?"
   ]
  },
  {
   "cell_type": "code",
   "execution_count": null,
   "metadata": {},
   "outputs": [],
   "source": [
    "f = Fraction(1,3)\n",
    "print(f + 3)"
   ]
  },
  {
   "cell_type": "markdown",
   "metadata": {},
   "source": [
    "It didn't work. :(\n",
    "\n",
    "What happened?  Well, when Python saw `f + 3`, Python tried to call `f.__add__(3)`.  Inside the `.__add__()` method, the `other` argument is assigned the value `3`.  Because `other` is an `int`, it has no `.d` or `.n` attribute, and hence the error.\n",
    "\n",
    "We can protect against the error by writing special code for handling the `int` by converting it to a `Fraction` object first.\n",
    "\n",
    "While we are at it, we should make sure that the `.__add__()` method handles any other type of possible input, too.  If the type is not specified, then we should return a special value: `NotImplemented`."
   ]
  },
  {
   "cell_type": "code",
   "execution_count": null,
   "metadata": {},
   "outputs": [],
   "source": [
    "\n",
    "\n",
    "class Fraction:\n",
    "    \"\"\"\n",
    "    Represents a mathematical fraction, with integer numerator and\n",
    "    denominator values.\n",
    "    \n",
    "    Constructor:\n",
    "      Fraction() -> create a new fraction object\n",
    "      Fraction(numerator) -> create a new fraction object with the value\n",
    "        <numerator>/1\n",
    "      Fraction(numerator, denominator) -> create a new fraction object\n",
    "        with the value <numerator>/<denominator>\n",
    "    \"\"\"\n",
    "\n",
    "    def __init__(self, numerator=0, denominator=1):\n",
    "        '''\n",
    "        Construct a Fraction object.  The denominator should never be 0.\n",
    "        \n",
    "        Arguments:\n",
    "        numerator - The numerator of the Fraction.  Defaults to 0.\n",
    "        denominator - The denominator of the Fraction.  Defaults to 0.\n",
    "        '''\n",
    "        self.n = numerator\n",
    "        self.d = denominator\n",
    "\n",
    "    def __str__(self):\n",
    "        '''\n",
    "        Return a string representation of the Fraction.\n",
    "        May be improper.\n",
    "        '''\n",
    "        return f\"{self.n}/{self.d}\"\n",
    "\n",
    "    def __repr__(self):\n",
    "        '''\n",
    "        Return a string representation of a constructor for the Fraction.\n",
    "        '''\n",
    "        return f\"Fraction({self.n},{self.d})\"\n",
    "\n",
    "    def __add__(self, other):\n",
    "        '''\n",
    "        Return a new Fraction object whose value is equivalent to adding\n",
    "        the current object with `other`.\n",
    "        \n",
    "        Arguments:\n",
    "        other - The value to be added to the current object's value.\n",
    "        '''\n",
    "        if type(other) is int:\n",
    "            return self + Fraction(other)\n",
    "\n",
    "        elif type(other) is Fraction:\n",
    "            return Fraction((self.n * other.d) + (self.d * other.n), self.d * other.d)\n",
    "\n",
    "        else:\n",
    "            return NotImplemented\n",
    "\n"
   ]
  },
  {
   "cell_type": "code",
   "execution_count": null,
   "metadata": {},
   "outputs": [],
   "source": [
    "f = Fraction(1,3)\n",
    "g = Fraction(2,5)\n",
    "print(f + g)\n",
    "print(f + 3)"
   ]
  },
  {
   "cell_type": "markdown",
   "metadata": {},
   "source": [
    "Now, let's see the `NotImplemented` in action:"
   ]
  },
  {
   "cell_type": "code",
   "execution_count": null,
   "metadata": {},
   "outputs": [],
   "source": [
    "f = Fraction(1,3)\n",
    "g = Fraction(2,5)\n",
    "print(f + .5)"
   ]
  },
  {
   "cell_type": "markdown",
   "metadata": {},
   "source": [
    "That is what we want to happen!  The code gives an appropriate error message, which is helpful to the programmer.\n",
    "\n",
    "Let's see what happens when we reverse the order of the operators:"
   ]
  },
  {
   "cell_type": "code",
   "execution_count": null,
   "metadata": {},
   "outputs": [],
   "source": [
    "f = Fraction(1,3)\n",
    "print(f + 3)\n",
    "print(3 + f)"
   ]
  },
  {
   "cell_type": "markdown",
   "metadata": {},
   "source": [
    "As you can see, it doesn't work when we reverse the order.  And why is that?  Consider what happense why Python sees `3 + f`.\n",
    "\n",
    "1. Python examines the type of `3`.  In this case, it is an `int` type.\n",
    "2. Python looks to see whether or not the `.__add__()` method is defined on that type.\n",
    "3. An `int` is not a class *per se*, but Python takes a similar course of action in trying to add the `f` to the `3`.\n",
    "\n",
    "Because an `int` doesn't know anything about the `Fraction` type, it can't perform the addition.\n",
    "\n",
    "Thankfully, Python provides a way to meet this need.  It defines a \"reverse addition\" dunder method (aptly named `.__radd__()`) in the event that the normal method does not work."
   ]
  },
  {
   "cell_type": "code",
   "execution_count": null,
   "metadata": {},
   "outputs": [],
   "source": [
    "\n",
    "\n",
    "class Fraction:\n",
    "    \"\"\"\n",
    "    Represents a mathematical fraction, with integer numerator and\n",
    "    denominator values.\n",
    "    \n",
    "    Constructor:\n",
    "      Fraction() -> create a new fraction object\n",
    "      Fraction(numerator) -> create a new fraction object with the value\n",
    "        <numerator>/1\n",
    "      Fraction(numerator, denominator) -> create a new fraction object\n",
    "        with the value <numerator>/<denominator>\n",
    "    \"\"\"\n",
    "\n",
    "    def __init__(self, numerator=0, denominator=1):\n",
    "        '''\n",
    "        Construct a Fraction object.  The denominator should never be 0.\n",
    "        \n",
    "        Arguments:\n",
    "        numerator - The numerator of the Fraction.  Defaults to 0.\n",
    "        denominator - The denominator of the Fraction.  Defaults to 0.\n",
    "        '''\n",
    "        self.n = numerator\n",
    "        self.d = denominator\n",
    "\n",
    "    def __str__(self):\n",
    "        '''\n",
    "        Return a string representation of the Fraction.\n",
    "        May be improper.\n",
    "        '''\n",
    "        return f\"{self.n}/{self.d}\"\n",
    "\n",
    "    def __repr__(self):\n",
    "        '''\n",
    "        Return a string representation of a constructor for the Fraction.\n",
    "        '''\n",
    "        return f\"Fraction({self.n},{self.d})\"\n",
    "\n",
    "    def __add__(self, other):\n",
    "        '''\n",
    "        Return a new Fraction object whose value is equivalent to adding\n",
    "        the current object with `other`.\n",
    "        \n",
    "        Arguments:\n",
    "        other - The value to be added to the current object's value.\n",
    "        '''\n",
    "        if type(other) is int:\n",
    "            return self + Fraction(other)\n",
    "\n",
    "        elif type(other) is Fraction:\n",
    "            return Fraction((self.n * other.d) + (self.d * other.n), self.d * other.d)\n",
    "\n",
    "        else:\n",
    "            return NotImplemented\n",
    "\n",
    "    def __radd__(self, other):\n",
    "        '''\n",
    "        Return a new Fraction object whose value is equivalent to adding\n",
    "        the current object with `other`.\n",
    "        \n",
    "        Arguments:\n",
    "        other - The value to be added to the current object's value.\n",
    "        '''\n",
    "        return self + other\n",
    "\n"
   ]
  },
  {
   "cell_type": "code",
   "execution_count": null,
   "metadata": {},
   "outputs": [],
   "source": [
    "f = Fraction(1,3)\n",
    "g = Fraction(2,5)\n",
    "print(f\"f + g = {f + g}\")\n",
    "print(f\"f + 3 = {f + 3}\")\n",
    "print(f\"3 + f = {3 + f}\")"
   ]
  },
  {
   "cell_type": "markdown",
   "metadata": {},
   "source": [
    "It worked!\n",
    "\n",
    "In this case, `.__radd__()` falls back on the behavior of `.__add__()`, and because `.__add__()` is implemented correctly for any type (and the little detail that `+` is commutative), then we know that `.__radd__()` is also implemented correctly.\n",
    "\n",
    "How about the **`+=`** operator?  That is easy to implement as well!\n",
    "\n",
    "First, think about what `+=` does.  `x += 3` is a shorthand for `x = x + 3`.  There are 2 important things to consider.\n",
    "\n",
    "1. `+=` can use the `+` syntax that we have already defined.\n",
    "2. `+=` will change the value of `x`, which is a different behavior than the `+` operator.\n",
    "\n",
    "`+=` is implemented using the `.__iadd__()` dunder method."
   ]
  },
  {
   "cell_type": "code",
   "execution_count": null,
   "metadata": {},
   "outputs": [],
   "source": [
    "\n",
    "\n",
    "class Fraction:\n",
    "    \"\"\"\n",
    "    Represents a mathematical fraction, with integer numerator and\n",
    "    denominator values.\n",
    "    \n",
    "    Constructor:\n",
    "      Fraction() -> create a new fraction object\n",
    "      Fraction(numerator) -> create a new fraction object with the value\n",
    "        <numerator>/1\n",
    "      Fraction(numerator, denominator) -> create a new fraction object\n",
    "        with the value <numerator>/<denominator>\n",
    "    \"\"\"\n",
    "\n",
    "    def __init__(self, numerator=0, denominator=1):\n",
    "        '''\n",
    "        Construct a Fraction object.  The denominator should never be 0.\n",
    "        \n",
    "        Arguments:\n",
    "        numerator - The numerator of the Fraction.  Defaults to 0.\n",
    "        denominator - The denominator of the Fraction.  Defaults to 0.\n",
    "        '''\n",
    "        self.n = numerator\n",
    "        self.d = denominator\n",
    "\n",
    "    def __str__(self):\n",
    "        '''\n",
    "        Return a string representation of the Fraction.\n",
    "        May be improper.\n",
    "        '''\n",
    "        return f\"{self.n}/{self.d}\"\n",
    "\n",
    "    def __repr__(self):\n",
    "        '''\n",
    "        Return a string representation of a constructor for the Fraction.\n",
    "        '''\n",
    "        return f\"Fraction({self.n},{self.d})\"\n",
    "\n",
    "    def __add__(self, other):\n",
    "        '''\n",
    "        Return a new Fraction object whose value is equivalent to adding\n",
    "        the current object with `other`.\n",
    "        \n",
    "        Arguments:\n",
    "        other - The value to be added to the current object's value.\n",
    "        '''\n",
    "        if type(other) is int:\n",
    "            return self + Fraction(other)\n",
    "\n",
    "        elif type(other) is Fraction:\n",
    "            return Fraction((self.n * other.d) + (self.d * other.n), self.d * other.d)\n",
    "\n",
    "        else:\n",
    "            return NotImplemented\n",
    "\n",
    "    def __radd__(self, other):\n",
    "        '''\n",
    "        Return a new Fraction object whose value is equivalent to adding\n",
    "        the current object with `other`.\n",
    "        \n",
    "        Arguments:\n",
    "        other - The value to be added to the current object's value.\n",
    "        '''\n",
    "        return self + other\n",
    "\n",
    "    def __iadd__(self, other):\n",
    "        '''\n",
    "        Add the value of `other` to the current Fraction object.\n",
    "\n",
    "        Arguments:\n",
    "        other - The value to be added to the current object's value.\n",
    "        '''\n",
    "        self = self + other\n",
    "        return self\n",
    "\n",
    "\n",
    "help(Fraction)"
   ]
  },
  {
   "cell_type": "code",
   "execution_count": null,
   "metadata": {},
   "outputs": [],
   "source": [
    "f = Fraction(1,3)\n",
    "\n",
    "print(f\"f is {f}\")\n",
    "print()\n",
    "\n",
    "f += 3\n",
    "\n",
    "print(\"After f += 3, \")\n",
    "print(f\"f is {f}\")\n"
   ]
  },
  {
   "cell_type": "code",
   "execution_count": null,
   "metadata": {},
   "outputs": [],
   "source": [
    "\n",
    "\n",
    "class Fraction:\n",
    "    \"\"\"\n",
    "    Represents a mathematical fraction, with integer numerator and\n",
    "    denominator values.\n",
    "    \n",
    "    Constructor:\n",
    "      Fraction() -> create a new fraction object\n",
    "      Fraction(numerator) -> create a new fraction object with the value\n",
    "        <numerator>/1\n",
    "      Fraction(numerator, denominator) -> create a new fraction object\n",
    "        with the value <numerator>/<denominator>\n",
    "    \"\"\"\n",
    "\n",
    "    def __init__(self, numerator=0, denominator=1):\n",
    "        '''\n",
    "        Construct a Fraction object.  The denominator should never be 0.\n",
    "        \n",
    "        Arguments:\n",
    "        numerator - The numerator of the Fraction.  Defaults to 0.\n",
    "        denominator - The denominator of the Fraction.  Defaults to 0.\n",
    "        '''\n",
    "        self.n = numerator\n",
    "        self.d = denominator\n",
    "\n",
    "    def __str__(self):\n",
    "        '''\n",
    "        Return a string representation of the Fraction.\n",
    "        May be improper.\n",
    "        '''\n",
    "        return f\"{self.n}/{self.d}\"\n",
    "\n",
    "    def __repr__(self):\n",
    "        '''\n",
    "        Return a string representation of a constructor for the Fraction.\n",
    "        '''\n",
    "        return f\"Fraction({self.n},{self.d})\"\n",
    "\n",
    "    def __add__(self, other):\n",
    "        '''\n",
    "        Return a new Fraction object whose value is equivalent to adding\n",
    "        the current object with `other`.\n",
    "        \n",
    "        Arguments:\n",
    "        other - The value to be added to the current object's value.\n",
    "        '''\n",
    "        if type(other) is int:\n",
    "            return self + Fraction(other)\n",
    "\n",
    "        elif type(other) is Fraction:\n",
    "            return Fraction((self.n * other.d) + (self.d * other.n), self.d * other.d)\n",
    "\n",
    "        else:\n",
    "            return NotImplemented\n",
    "\n",
    "    def __radd__(self, other):\n",
    "        '''\n",
    "        Return a new Fraction object whose value is equivalent to adding\n",
    "        the current object with `other`.\n",
    "        \n",
    "        Arguments:\n",
    "        other - The value to be added to the current object's value.\n",
    "        '''\n",
    "        return self + other\n",
    "\n",
    "    def __iadd__(self, other):\n",
    "        '''\n",
    "        Add the value of `other` to the current Fraction object.\n",
    "\n",
    "        Arguments:\n",
    "        other - The value to be added to the current object's value.\n",
    "        '''\n",
    "        self = self + other\n",
    "        return self\n",
    "    \n",
    "    def __ge__(self, other):\n",
    "        if type(other) is float:\n",
    "            return (self.n / self.d) >= other\n",
    "        \n",
    "        elif type(other) is int:\n",
    "            return self >= Fraction(other)\n",
    "        \n",
    "        elif type(other) is Fraction:\n",
    "            return (self.n * other.d) >= (other.n * self.d)\n",
    "        \n",
    "        return NotImplemented\n",
    "    \n",
    "    def __le__(self, other):\n",
    "        if type(other) is float:\n",
    "            return (self.n / self.d) <= other\n",
    "        \n",
    "        elif type(other) is int:\n",
    "            return self <= Fraction(other)\n",
    "        \n",
    "        elif type(other) is Fraction:\n",
    "            return (self.n * other.d) <= (other.n * self.d)\n",
    "        \n",
    "        return NotImplemented\n",
    "\n",
    "\n",
    "#help(Fraction)"
   ]
  },
  {
   "cell_type": "code",
   "execution_count": null,
   "metadata": {},
   "outputs": [],
   "source": [
    "f = Fraction(1,3)\n",
    "g = .1\n",
    "\n",
    "print(f\"The statement {f} >= {g} is {f>=g}\")\n",
    "print(f\"The statement {g} >= {f} is {g>=f}\")\n",
    "\n",
    "print()\n",
    "print(f)\n"
   ]
  },
  {
   "cell_type": "code",
   "execution_count": null,
   "metadata": {},
   "outputs": [],
   "source": []
  },
  {
   "cell_type": "code",
   "execution_count": null,
   "metadata": {},
   "outputs": [],
   "source": []
  },
  {
   "cell_type": "code",
   "execution_count": null,
   "metadata": {},
   "outputs": [],
   "source": []
  },
  {
   "cell_type": "markdown",
   "metadata": {},
   "source": [
    "## The Main Takeaways\n",
    "\n",
    "1. By adding more and more dunder methods, you can make your custom class interact with the rest of your program seamlessly and intuitively.\n",
    "2. Classes and Objects are **tools**... **mental models** to help us think through and express ideas.  In our examples, we have used classes to express `Point` and `Fraction` ideas.  Python provides classes to represent [date and time](https://docs.python.org/3.6/library/datetime.html), [zip files](https://docs.python.org/3.6/library/zipfile.html), [variable caching](https://docs.python.org/3.6/library/pickle.html), [database connections](https://docs.python.org/3.6/library/sqlite3.html), [Parsing HTML](https://docs.python.org/3.6/library/markup.html), [manipulating multimedia files](https://docs.python.org/3.6/library/mm.html), and even [data visualizations](https://matplotlib.org/).\n",
    "3. Read documentation to learn how to use libraries and their various classes.  If the libraries are designed well, then they will use consistent styles and patterns of code.  This is commonly referred to as being **pythonic**.  Developers often talk about writing **pythonic**, or **idiomatic**, code."
   ]
  },
  {
   "cell_type": "markdown",
   "metadata": {},
   "source": [
    "# Random Numbers\n",
    "\n",
    "In Computer Science, random numbers come in 2 types: **true random** and **pseudorandom**.\n",
    "\n",
    "These two types of random numbers serve different purposes for programmers.  You may think that numbers should always be *completely* random, and sometimes that is true, but sometimes a programmer needs them to be *predictably* random.\n",
    "\n",
    "*Completely* random numbers are considered to be **true random**, and is used for cryptographic security.  But computers are **deterministic** machines, so true randomness is hard and slow to generate.\n",
    "\n",
    "Most programs use **pseudorandom** numbers.  They are fast to generate, and \"random enough\" for most uses.  Pseudorandom numbers use a \"seed\" as a starting point.  The reason that we call these \"predictably random\" is that the sequence of random numbers that are generated are always the same, given the same starting seed.  Python can use the system clock to automatically set the seed.  Of course, this means that if two computers begin a script at the exact same moment, then they will generate the exact same sequence of random numbers.\n",
    "\n",
    "We will focus on **pseudorandom** numbers.  Python generates random numbers using the `random` library (https://docs.python.org/3.6/library/random.html).\n",
    "\n",
    "Important functions:\n",
    "\n",
    "* `random.seed()` - Sets a seed value for the pseudo-random number generation.\n",
    "* `random.randrange()` - Get a (pseudo) random integer value.  This function has 3 possible parameters, which are conceptually similar to the `range()` function.\n",
    "  * `random.randrange(10)` will return a random integer between 0 and 9 (inclusive).\n",
    "  * `random.randrange(5, 10)` will return a random integer between 5 and 9 (inclusive).\n",
    "  * `random.randrange(5, 10, 2)` will return a random integer between 5 and 9 (inclusive), but will have a \"skip\" of 2.  That means that the possible numbers will be 5, 7, or 9.\n",
    "* `random.random()` - Get a (pseudo) random floating point number, 0 <= x < 1."
   ]
  },
  {
   "cell_type": "code",
   "execution_count": null,
   "metadata": {},
   "outputs": [],
   "source": [
    "# Printing 10 random integers\n",
    "\n",
    "import random\n",
    "\n",
    "for x in range(10):\n",
    "    print(random.randrange(1000))"
   ]
  },
  {
   "cell_type": "code",
   "execution_count": null,
   "metadata": {},
   "outputs": [],
   "source": [
    "for x in range(10):\n",
    "    print(random.randrange(1000))"
   ]
  },
  {
   "cell_type": "code",
   "execution_count": null,
   "metadata": {},
   "outputs": [],
   "source": [
    "# Intentionally setting the seed to 42:\n",
    "random.seed(42)\n",
    "for x in range(10):\n",
    "    print(random.randrange(1000))"
   ]
  },
  {
   "cell_type": "markdown",
   "metadata": {},
   "source": [
    "In the next 2 cells, we'll set the seed to `42`, and then generate 10 numbers:"
   ]
  },
  {
   "cell_type": "code",
   "execution_count": null,
   "metadata": {},
   "outputs": [],
   "source": [
    "# Intentionally setting the seed to 42:\n",
    "random.seed(42)\n",
    "for x in range(10):\n",
    "    print(random.randrange(1000))"
   ]
  },
  {
   "cell_type": "code",
   "execution_count": null,
   "metadata": {},
   "outputs": [],
   "source": [
    "# Intentionally setting the seed to 42:\n",
    "random.seed(42)\n",
    "for x in range(10):\n",
    "    print(random.randrange(1000))"
   ]
  },
  {
   "cell_type": "markdown",
   "metadata": {},
   "source": [
    "As you can see, setting the same seed value results in an identical sequence of numbers.\n",
    "\n",
    "Setting the same seed over and over results in the same number being generated repeatedly."
   ]
  },
  {
   "cell_type": "code",
   "execution_count": null,
   "metadata": {},
   "outputs": [],
   "source": [
    "for x in range(10):\n",
    "    random.seed(42)\n",
    "    print(random.randrange(1000))"
   ]
  },
  {
   "cell_type": "markdown",
   "metadata": {},
   "source": [
    "Generally speaking, the seed is only set once when a script is run, and most programmers put it towards the beginning.\n",
    "\n",
    "In this next example, we will let Python use the system clock to set the seed."
   ]
  },
  {
   "cell_type": "code",
   "execution_count": null,
   "metadata": {},
   "outputs": [],
   "source": [
    "random.seed()\n",
    "for x in range(10):\n",
    "    print(random.randrange(1000))"
   ]
  },
  {
   "cell_type": "markdown",
   "metadata": {},
   "source": [
    "So far, we have only generated integers.  Floating point numbers are a bit different.\n",
    "\n",
    "`random.random()` will generate a floating point number `>= 0` and `< 1`."
   ]
  },
  {
   "cell_type": "code",
   "execution_count": null,
   "metadata": {},
   "outputs": [],
   "source": [
    "for _ in range(10):\n",
    "    print(random.random())"
   ]
  },
  {
   "cell_type": "markdown",
   "metadata": {},
   "source": [
    "If you want a different **range**, then you **scale** the floating point number by multiplying it.\n",
    "\n",
    "See this next example, which will generate 10 numbers between 0 and 50:"
   ]
  },
  {
   "cell_type": "code",
   "execution_count": null,
   "metadata": {},
   "outputs": [],
   "source": [
    "for _ in range(10):\n",
    "    print(random.random() * 50)"
   ]
  },
  {
   "cell_type": "markdown",
   "metadata": {},
   "source": [
    "Of course, random numbers can be generated in comprehensions, too."
   ]
  },
  {
   "cell_type": "code",
   "execution_count": null,
   "metadata": {},
   "outputs": [],
   "source": [
    "randomNumbers = [random.random() for _ in range(10)]\n",
    "\n",
    "print(randomNumbers)"
   ]
  },
  {
   "cell_type": "markdown",
   "metadata": {},
   "source": [
    "You can use a bit more mathematical manipulation to get more complex ranges.\n",
    "\n",
    "This next example will generate a list of floating point numbers between 10 and 50:"
   ]
  },
  {
   "cell_type": "code",
   "execution_count": null,
   "metadata": {},
   "outputs": [],
   "source": [
    "randomNumbers = [(random.random() * 40) + 10 for _ in range(10)]\n",
    "\n",
    "print(randomNumbers)"
   ]
  },
  {
   "cell_type": "code",
   "execution_count": null,
   "metadata": {},
   "outputs": [],
   "source": []
  },
  {
   "cell_type": "markdown",
   "metadata": {},
   "source": [
    "# Numpy\n",
    "An alternative (more expressive) way to deal with numbers.\n",
    "* Numpy documentation: https://docs.scipy.org/doc/\n",
    "* Numpy Tutorial with Examples: https://www.pythonprogramming.in/numpy-tutorial-with-examples-and-solutions.html\n",
    "* Numpy tutorial: https://docs.scipy.org/doc/numpy/user/quickstart.html\n",
    "* https://github.com/enthought/Numpy-Tutorial-SciPyConf-2018"
   ]
  },
  {
   "cell_type": "markdown",
   "metadata": {},
   "source": [
    "## What Is Numpy, And Why Do We Need It?\n",
    "\n",
    "Python lists are heterogeneous.  Python is *flexible*, and often that is a really, rally good thing!  But the tradeoff of that flexibility is that Python is also slow.  Worse yet, it can even be unintuitive or overly verbose in some situations!"
   ]
  },
  {
   "cell_type": "code",
   "execution_count": null,
   "metadata": {
    "scrolled": true
   },
   "outputs": [],
   "source": [
    "# Python lists:\n",
    "l = [1, 2, 3]\n",
    "print(l)"
   ]
  },
  {
   "cell_type": "code",
   "execution_count": null,
   "metadata": {},
   "outputs": [],
   "source": [
    "# but also\n",
    "l = [1, 'a', True]\n",
    "print(l)"
   ]
  },
  {
   "cell_type": "markdown",
   "metadata": {},
   "source": [
    "Do you remember what happens when you try to do math with lists?"
   ]
  },
  {
   "cell_type": "code",
   "execution_count": null,
   "metadata": {},
   "outputs": [],
   "source": [
    "# Let's add two lists in Python.\n",
    "a = [1, 2, 3]\n",
    "b = [10, 11, 12]\n",
    "print (a + b)"
   ]
  },
  {
   "cell_type": "markdown",
   "metadata": {},
   "source": [
    "Wait, that's not what we want to do!\n",
    "\n",
    " We want it to add the two lists together by element. That is, the output should be `[11, 13, 15]`\n",
    "\n",
    "We can do that in Python, but it takes a bit more work."
   ]
  },
  {
   "cell_type": "code",
   "execution_count": null,
   "metadata": {},
   "outputs": [],
   "source": [
    "\n",
    "a = [1, 2, 3]\n",
    "b = [10, 11, 12]\n",
    "\n",
    "print(f\"`a` is: {a}\")\n",
    "print(f\"`b` is: {b}\")\n",
    "print()\n",
    "\n",
    "print(\"`a` and `b` zipped together:\")\n",
    "print([*zip(a,b)])\n",
    "print()\n",
    "\n",
    "print(\"Using `zip()` and a list comprehension to add together the list elements:\")\n",
    "print([x + y for (x,y) in zip(a,b)])\n"
   ]
  },
  {
   "cell_type": "markdown",
   "metadata": {},
   "source": [
    "Let's try do to do the same thing in numpy.\n",
    "\n",
    "Of course, we need to import the `numpy` library."
   ]
  },
  {
   "cell_type": "code",
   "execution_count": null,
   "metadata": {},
   "outputs": [],
   "source": [
    "# It is customary to alias numpy as `np`.\n",
    "import numpy as np\n",
    "\n",
    "a = np.array([1, 2, 3])\n",
    "b = np.array([10, 11, 12])\n",
    "\n",
    "print(f\"`a` is: {a}\")\n",
    "print(f\"`b` is: {b}\")\n",
    "print()\n",
    "\n",
    "print(f\"`a` + `b` is: {a + b}\")"
   ]
  },
  {
   "cell_type": "markdown",
   "metadata": {},
   "source": [
    "First, notice how the numpy `.__str__()` method behaves.  It prints out the numbers in square brackets, but there are no commas.\n",
    "\n",
    "What happens if we ask for it's `.__repr__()`?"
   ]
  },
  {
   "cell_type": "code",
   "execution_count": null,
   "metadata": {},
   "outputs": [],
   "source": [
    "# It is customary to alias numpy as `np`.\n",
    "import numpy as np\n",
    "\n",
    "a = np.array([1, 2, 3])\n",
    "b = np.array([10, 11, 12])\n",
    "\n",
    "print(f\"`a` is: {repr(a)}\")\n",
    "print(f\"`b` is: {repr(b)}\")\n",
    "print()\n",
    "\n",
    "print(f\"`a` + `b` is: {repr(a + b)}\")"
   ]
  },
  {
   "cell_type": "markdown",
   "metadata": {},
   "source": [
    "We can see that this object is called an `array`, and that its value can be duplicated using a list of numbers."
   ]
  },
  {
   "cell_type": "markdown",
   "metadata": {},
   "source": [
    "Let's get back to that addition that we saw earlier.\n",
    "\n",
    "It definitely OK, so it's a bit more intuitive.  Is it faster?\n",
    "\n",
    "Let's find out with a special command in Jupyter called `%timeit`"
   ]
  },
  {
   "cell_type": "code",
   "execution_count": null,
   "metadata": {},
   "outputs": [],
   "source": [
    "a = [1, 2, 3]\n",
    "b = [10, 11, 12]\n",
    "%timeit c = [*map(lambda t: t[0] + t[1], zip(a,b))]\n"
   ]
  },
  {
   "cell_type": "code",
   "execution_count": null,
   "metadata": {},
   "outputs": [],
   "source": [
    "a = [1, 2, 3]\n",
    "b = [10, 11, 12]\n",
    "%timeit c = [x + y for (x,y) in zip(a,b)]\n"
   ]
  },
  {
   "cell_type": "code",
   "execution_count": null,
   "metadata": {},
   "outputs": [],
   "source": [
    "a = np.array([1, 2, 3])\n",
    "b = np.array([10, 11, 12])\n",
    "%timeit c = a + b\n",
    "print(a + b)"
   ]
  },
  {
   "cell_type": "markdown",
   "metadata": {},
   "source": [
    "This was a simple example.  The more complex that your Python code gets, the more efficient Numpy will be as compared to pure Python."
   ]
  },
  {
   "cell_type": "markdown",
   "metadata": {},
   "source": [
    "## Basic Numpy Usage\n",
    "\n",
    "Generally speaking, numpy creates **arrays** based on some sequence.  As you already know, there are various types of sequences in Python."
   ]
  },
  {
   "cell_type": "code",
   "execution_count": null,
   "metadata": {},
   "outputs": [],
   "source": [
    "# Creating an array\n",
    "a = np.array(range(10))\n",
    "print(a)\n",
    "print()\n",
    "\n",
    "b = np.array([1,3,5,6])\n",
    "print(b)\n",
    "print()\n",
    "\n",
    "c = np.array([*\"foo\"])\n",
    "print(np.array([*\"foo\"]))"
   ]
  },
  {
   "cell_type": "code",
   "execution_count": null,
   "metadata": {},
   "outputs": [],
   "source": [
    "# See the types\n",
    "print('a =', a)\n",
    "print('The type of `a` is', type(a))\n",
    "print('The type of the data that `a` contains is', a.dtype)\n",
    "print(a[0])\n",
    "print(type(a[0]))"
   ]
  },
  {
   "cell_type": "code",
   "execution_count": null,
   "metadata": {},
   "outputs": [],
   "source": [
    "# Arrays have dimensions and shape, and other info\n",
    "print('a =', a)\n",
    "print('`a` has dimensions:', a.ndim)\n",
    "print('`a` has shape:', a.shape)\n",
    "print('Each element of a takes up %d bytes' % a.itemsize)\n",
    "print('All of the data in `a` takes %d bytes total' % a.nbytes)"
   ]
  },
  {
   "cell_type": "markdown",
   "metadata": {},
   "source": [
    "# Basic Numpy Math"
   ]
  },
  {
   "cell_type": "code",
   "execution_count": null,
   "metadata": {},
   "outputs": [],
   "source": [
    "a = np.array([1,2,3,4])\n",
    "b = np.array([2,3,4,5])\n",
    "\n",
    "print(f\"`a` is: {a}\")\n",
    "print(f\"`b` is: {b}\")\n",
    "print()\n",
    "\n",
    "print(\"a + b =\", a + b)\n",
    "print()\n",
    "\n",
    "print(\"a * b =\", a * b)\n",
    "print()\n",
    "\n",
    "print(\"a ** b =\", a ** b)\n"
   ]
  },
  {
   "cell_type": "markdown",
   "metadata": {},
   "source": [
    "As a side note, this lets us see something very interesting in the string output of a numpy array: Numpy will make all columns take up the same amount of space, for easier visual inspection."
   ]
  },
  {
   "cell_type": "code",
   "execution_count": null,
   "metadata": {
    "scrolled": true
   },
   "outputs": [],
   "source": [
    "np.array(['a', 'b'])"
   ]
  },
  {
   "cell_type": "markdown",
   "metadata": {},
   "source": [
    "## `arange()`\n",
    "\n",
    "Numpy's `arange()` function is very similar to Python's `range()` function, with a few exceptions:\n",
    "* `numpy.arange()` accept floating point numbers.\n",
    "* `dtype` is derived from the start, stop, and step values.\n",
    "\n",
    "The arguments are similar to `range()`.\n",
    "* np.arange(stop)\n",
    "* np.arange(start, stop)\n",
    "* np.arange(start, stop, skip)\n",
    "\n",
    "First, observe the differences between these different ways of generating a list of numbers:"
   ]
  },
  {
   "cell_type": "code",
   "execution_count": null,
   "metadata": {},
   "outputs": [],
   "source": [
    "print([*range(10)])\n",
    "print(np.array(range(10)))\n",
    "print()\n",
    "\n",
    "print(np.arange(10))\n",
    "print(np.arange(10.))"
   ]
  },
  {
   "cell_type": "markdown",
   "metadata": {},
   "source": [
    "See how the following examples have the same behaviors for the start and stop values:"
   ]
  },
  {
   "cell_type": "code",
   "execution_count": null,
   "metadata": {},
   "outputs": [],
   "source": [
    "print([*range(10, 26)])\n",
    "print(np.arange(10, 26))"
   ]
  },
  {
   "cell_type": "code",
   "execution_count": null,
   "metadata": {},
   "outputs": [],
   "source": [
    "print([*range(-10, 11, 2)])\n",
    "print(np.arange(-10, 11, 2))"
   ]
  },
  {
   "cell_type": "markdown",
   "metadata": {},
   "source": [
    "Suppose that you wanted to get a list of floating point numbers from -1 to +1, in increments of .25.\n",
    "\n",
    "How would you do this in Python?"
   ]
  },
  {
   "cell_type": "code",
   "execution_count": null,
   "metadata": {},
   "outputs": [],
   "source": [
    "print([-1.0, -0.75, -0.5, -0.25, 0.0, 0.25, 0.5, 0.75, 1.0])"
   ]
  },
  {
   "cell_type": "markdown",
   "metadata": {},
   "source": [
    "Of course you could hard code it, but how would you generate this list using traditional Python?  It would require a mixture of `range()` and a **comprehension**."
   ]
  },
  {
   "cell_type": "code",
   "execution_count": null,
   "metadata": {},
   "outputs": [],
   "source": [
    "# How would you get an equivalent list in standard Python?\n",
    "print([.01 * x for x in range(-100, 101, 25)])\n",
    "print()\n",
    "\n",
    "print([x / 4 for x in range(-4, 5)])"
   ]
  },
  {
   "cell_type": "markdown",
   "metadata": {},
   "source": [
    "But this is **ugly**.\n",
    "\n",
    "Numpy's `arange()` function will accept floating point numbers for its `begin`, `end`, and `skip`, so it becomes much easier:"
   ]
  },
  {
   "cell_type": "code",
   "execution_count": null,
   "metadata": {
    "scrolled": true
   },
   "outputs": [],
   "source": [
    "print(np.arange(-1, 1.1, .25))\n",
    "print()\n",
    "\n",
    "# Or, if you prefer:\n",
    "print(np.arange(-4, 5) / 4)"
   ]
  },
  {
   "cell_type": "markdown",
   "metadata": {},
   "source": [
    "Let's consider the **type** of the array, when created with the `arange()` function."
   ]
  },
  {
   "cell_type": "code",
   "execution_count": null,
   "metadata": {},
   "outputs": [],
   "source": [
    "print(\"Creating an array of integers\")\n",
    "print(np.arange(11), np.arange(11).dtype)\n",
    "print(np.arange(11) / 3)\n",
    "print()\n",
    "\n",
    "print(\"Creating an array of floats\")\n",
    "print(np.arange(11.), np.arange(11.).dtype)\n",
    "print(np.arange(11.) / 3)"
   ]
  },
  {
   "cell_type": "markdown",
   "metadata": {},
   "source": [
    "**Wait!!!!**\n",
    "\n",
    "Did you notice that we devided the array by 3 and it didn't give us an error?\n",
    "\n",
    "`print(np.arange(11) / 3)`\n",
    "\n",
    "This is because numpy works much like a mathematician would expect.  Every value in the array is divided by 3!  This will also work with the other mathematical operations, too!\n",
    "\n",
    "Also, notice that numpy changed the **type** of the array from `int32` to `float64` when the division was performed.\n"
   ]
  },
  {
   "cell_type": "code",
   "execution_count": null,
   "metadata": {},
   "outputs": [],
   "source": [
    "# Numpy gives us a value for pi.\n",
    "print(np.pi)"
   ]
  },
  {
   "cell_type": "markdown",
   "metadata": {},
   "source": [
    "Here is an example of getting a list of 10 numbers and scaling them from 0 to 2π.  Notice that we are multiplying and dividing the entire array by several numbers in a row."
   ]
  },
  {
   "cell_type": "code",
   "execution_count": null,
   "metadata": {},
   "outputs": [],
   "source": [
    "nums = np.arange(11.)\n",
    "\n",
    "print(nums * np.pi * 2 / 10)"
   ]
  },
  {
   "cell_type": "code",
   "execution_count": null,
   "metadata": {},
   "outputs": [],
   "source": [
    "np.arange(0, (np.pi * 2) + .00001, np.pi * 2 / 10)"
   ]
  },
  {
   "cell_type": "markdown",
   "metadata": {},
   "source": [
    "Again, as a reminder, compare this to the behavior of Python lists."
   ]
  },
  {
   "cell_type": "code",
   "execution_count": null,
   "metadata": {},
   "outputs": [],
   "source": [
    "# Compare with Python lists:\n",
    "[1,2,3] * 4"
   ]
  },
  {
   "cell_type": "code",
   "execution_count": null,
   "metadata": {},
   "outputs": [],
   "source": [
    "np.array([1,2,3]) * 4"
   ]
  },
  {
   "cell_type": "markdown",
   "metadata": {},
   "source": [
    "Numpy provides a lot more mathematical functions that can be applied to an entire array at a time.  In the following example, you will see the `sin` function (from the `numpy` library, not the `math` library) being applied to an entire array.\n",
    "\n",
    "You can find more math functions here: https://docs.scipy.org/doc/numpy/reference/routines.math.html"
   ]
  },
  {
   "cell_type": "code",
   "execution_count": null,
   "metadata": {},
   "outputs": [],
   "source": [
    "# Example of applying a math function to every element of the list\n",
    "x = np.arange(11) * np.pi * 2 / 10\n",
    "\n",
    "print(\"Values for x are:\")\n",
    "print(x)\n",
    "print()\n",
    "\n",
    "y = np.sin(x)\n",
    "print(\"Values for y are:\")\n",
    "print(y)"
   ]
  },
  {
   "cell_type": "markdown",
   "metadata": {},
   "source": [
    "## Various Array Behaviors"
   ]
  },
  {
   "cell_type": "code",
   "execution_count": null,
   "metadata": {},
   "outputs": [],
   "source": [
    "# Changing an element of an array using bracket notation and an index.\n",
    "\n",
    "a = np.arange(4)\n",
    "print(\"before:\")\n",
    "print(a)\n",
    "print()\n",
    "\n",
    "a[0] = 10\n",
    "print(\"after:\")\n",
    "print(a)"
   ]
  },
  {
   "cell_type": "code",
   "execution_count": null,
   "metadata": {},
   "outputs": [],
   "source": [
    "# Type coersion.  Notice the array type after assigning\n",
    "# a value to a[0].\n",
    "\n",
    "a = np.arange(4)\n",
    "print(f\"`a` is {a}\")\n",
    "print(f\"`a`'s type is: {a.dtype}\")\n",
    "print()\n",
    "\n",
    "a[0] = -15.6\n",
    "print(f\"now `a` is {a}\")\n",
    "print(f\"`a`'s type is: {a.dtype}\")\n"
   ]
  },
  {
   "cell_type": "code",
   "execution_count": null,
   "metadata": {},
   "outputs": [],
   "source": [
    "# Filling an array (replacing the values)\n",
    "a = np.arange(4)\n",
    "print(\"before:\")\n",
    "print(f\"`a` is {a}\")\n",
    "print()\n",
    "\n",
    "a.fill(-4.8)\n",
    "print(\"after:\")\n",
    "print(f\"`a` is {a}\")\n"
   ]
  },
  {
   "cell_type": "code",
   "execution_count": null,
   "metadata": {},
   "outputs": [],
   "source": [
    "# specifically setting the array type\n",
    "a = np.arange(4, dtype=np.float64)\n",
    "print(f\"`a` is {a}\")\n",
    "print(f\"`a`'s type is: {a.dtype}\")\n",
    "print()\n",
    "\n",
    "a.fill(-4.8)\n",
    "print(\"after:\")\n",
    "print(f\"`a` is {a}\")\n"
   ]
  },
  {
   "cell_type": "markdown",
   "metadata": {},
   "source": [
    "## Multidimensional Arrays\n",
    "\n",
    "Numpy supports multidimensional arrays.  It is doubtful that you need this in run-of-the-mill programming, but specialty applications may require it.  Thankfully, Numpy makes it intuitive to work with, too.\n",
    "\n",
    "As you saw earlier, each array has several properties that describe the array contents."
   ]
  },
  {
   "cell_type": "code",
   "execution_count": null,
   "metadata": {},
   "outputs": [],
   "source": [
    "a = np.array([[0,1,2,3], [10,11,12,13]])\n",
    "print(a)\n",
    "print(\"`a.shape` is\", a.shape)\n",
    "print(\"`a.size` is\", a.size)\n",
    "print(\"`a.ndim` is\", a.ndim)"
   ]
  },
  {
   "cell_type": "code",
   "execution_count": null,
   "metadata": {},
   "outputs": [],
   "source": [
    "# Notice how the standard Python `len()` knows nothing about\n",
    "# the inner lists.\n",
    "# The point is that Python lists (which are built-in) are simple\n",
    "# and flexible, but not very sophisticated.\n",
    "# Conversely, Numpy arrays are less flexible, but are much more\n",
    "# powerful in expressive power and consistency in what they represent.\n",
    "myList = [[0,1,2,3], [10,11,12,13]]\n",
    "print(myList)\n",
    "print(f\"`len` of `myList` is {len(myList)}\")\n",
    "print(f\"`len` of `myList[0]` is {len(myList[0])}\")"
   ]
  },
  {
   "cell_type": "code",
   "execution_count": null,
   "metadata": {},
   "outputs": [],
   "source": [
    "# This is the preferred (and much suggested) way to access a multi-dimensional element\n",
    "\n",
    "a = np.array([[0,1,2,3], [10,11,12,13]])\n",
    "print(\"before:\")\n",
    "print(a)\n",
    "print()\n",
    "\n",
    "a[1,3] = -999\n",
    "print(\"after:\")\n",
    "print(a)"
   ]
  },
  {
   "cell_type": "code",
   "execution_count": null,
   "metadata": {},
   "outputs": [],
   "source": [
    "# Although this way works, it is discouraged\n",
    "a[1][3] = 33\n",
    "print(a)"
   ]
  },
  {
   "cell_type": "code",
   "execution_count": null,
   "metadata": {},
   "outputs": [],
   "source": [
    "# If we only ask for one item, we get everything in a row.\n",
    "print(a[1])"
   ]
  },
  {
   "cell_type": "markdown",
   "metadata": {},
   "source": [
    "## Slicing\n",
    "It works just like you would expect!"
   ]
  },
  {
   "cell_type": "code",
   "execution_count": null,
   "metadata": {},
   "outputs": [],
   "source": [
    "a = np.arange(10,15)\n",
    "print(a)"
   ]
  },
  {
   "cell_type": "code",
   "execution_count": null,
   "metadata": {},
   "outputs": [],
   "source": [
    "print(a[1:3])"
   ]
  },
  {
   "cell_type": "code",
   "execution_count": null,
   "metadata": {},
   "outputs": [],
   "source": [
    "a = np.arange(20)\n",
    "print(a)\n",
    "print(a[3:])\n",
    "print(a[3:17:4])"
   ]
  },
  {
   "cell_type": "code",
   "execution_count": null,
   "metadata": {},
   "outputs": [],
   "source": [
    "print(a[::-1])"
   ]
  },
  {
   "cell_type": "markdown",
   "metadata": {},
   "source": [
    "Slicing gets very interesting when you begin working with multidimensional data, though!"
   ]
  },
  {
   "cell_type": "code",
   "execution_count": null,
   "metadata": {},
   "outputs": [],
   "source": [
    "print(np.arange(25))"
   ]
  },
  {
   "cell_type": "code",
   "execution_count": null,
   "metadata": {},
   "outputs": [],
   "source": [
    "# This will use the `reshape()` method to change the\n",
    "# data from a 1-dimensional array of 25 values into \n",
    "# a 2-dimensional array of 5 rows and 5 columns.\n",
    "\n",
    "a = np.arange(25)\n",
    "print(\"before:\")\n",
    "print(a)\n",
    "print()\n",
    "\n",
    "a = a.reshape(5,5)\n",
    "print(\"after:\")\n",
    "print(a)"
   ]
  },
  {
   "cell_type": "code",
   "execution_count": null,
   "metadata": {},
   "outputs": [],
   "source": [
    "np.arange(27).reshape(3,3,3)"
   ]
  },
  {
   "cell_type": "code",
   "execution_count": null,
   "metadata": {},
   "outputs": [],
   "source": [
    "print(a)\n",
    "print()\n",
    "\n",
    "print(\"getting a slice:\")\n",
    "print(a[1, 3:5])"
   ]
  },
  {
   "cell_type": "markdown",
   "metadata": {},
   "source": [
    "Notice that we asked for a specific row (`1`) and then a slice of its contents (`3:5`)."
   ]
  },
  {
   "cell_type": "code",
   "execution_count": null,
   "metadata": {},
   "outputs": [],
   "source": [
    "print(a)\n",
    "print()\n",
    "\n",
    "print(\"getting a slice:\")\n",
    "print(a[3:, 3:])"
   ]
  },
  {
   "cell_type": "markdown",
   "metadata": {},
   "source": [
    "### An aside about how columns and rows are requested.\n",
    "Notice The difference between the following two ways of asking for column 2."
   ]
  },
  {
   "cell_type": "code",
   "execution_count": null,
   "metadata": {},
   "outputs": [],
   "source": [
    "# This example returns an array with a single dimension.  We \"lost\" a dimension.\n",
    "a = np.arange(25).reshape(5,5)\n",
    "\n",
    "print(a)\n",
    "print()\n",
    "\n",
    "print(a[:,2])\n",
    "print(a[:,2].shape)"
   ]
  },
  {
   "cell_type": "code",
   "execution_count": null,
   "metadata": {},
   "outputs": [],
   "source": [
    "# When using a slice, on the other hand, both dimensions are retained.\n",
    "print(a)\n",
    "print()\n",
    "\n",
    "print(a[:,2:3])\n",
    "print(a[:,2:3].shape)"
   ]
  },
  {
   "cell_type": "code",
   "execution_count": null,
   "metadata": {},
   "outputs": [],
   "source": [
    "# Notice in this case, only a single number (e.g., no dimensions) is returned.\n",
    "print(a[1,1])\n",
    "print(a[1,1].shape)"
   ]
  },
  {
   "cell_type": "code",
   "execution_count": null,
   "metadata": {},
   "outputs": [],
   "source": [
    "# On the other hand, this code asks for the same element, but it retains\n",
    "# all the dimensions.\n",
    "print(a[1:2,1:2])\n",
    "print(a[1:2,1:2].shape)"
   ]
  },
  {
   "cell_type": "markdown",
   "metadata": {},
   "source": [
    "The takeaway from this short series of examples is this simple realization:\n",
    "  1. When we ask for a single element from a dimension, that dimension is, in effect, collapsed out of the result.\n",
    "  2. Alternatively, when we as for a slice, then that dimension is retained in the result (even if it is as small as a dimension of size 1)."
   ]
  },
  {
   "cell_type": "code",
   "execution_count": null,
   "metadata": {},
   "outputs": [],
   "source": [
    "# You can even do weird things with skips\n",
    "print(a)\n",
    "print()\n",
    "\n",
    "\n",
    "print(a[2::2,::2])"
   ]
  },
  {
   "cell_type": "markdown",
   "metadata": {},
   "source": [
    "Alternatively, you can get very specific about your selections."
   ]
  },
  {
   "cell_type": "code",
   "execution_count": null,
   "metadata": {},
   "outputs": [],
   "source": [
    "# Rather than a slice, we can use a list to request specific rows or columns.\n",
    "# Note: Do not try to use a list to pick both rows and columns at the same time.\n",
    "#       It has a very specific behavior, and is probably not what you want to happen.\n",
    "print(a)\n",
    "print()\n",
    "\n",
    "print(a[[1,4],2:])"
   ]
  },
  {
   "cell_type": "code",
   "execution_count": null,
   "metadata": {},
   "outputs": [],
   "source": [
    "# This is an advanced example, using a mask to select the rows.\n",
    "# Unless you are very much interested in the subject, you can skip this.\n",
    "mask = np.array([1,0,1,1,0], dtype=bool)\n",
    "print(a)\n",
    "print(a[mask])"
   ]
  },
  {
   "cell_type": "markdown",
   "metadata": {},
   "source": [
    "Boolean masks like this get *a lot* more complicated!"
   ]
  },
  {
   "cell_type": "markdown",
   "metadata": {},
   "source": [
    "## Other Common Numpy Tools"
   ]
  },
  {
   "cell_type": "code",
   "execution_count": null,
   "metadata": {},
   "outputs": [],
   "source": [
    "# There are a couple of helper functions to create an array of a specific size.\n",
    "z = np.zeros(10)\n",
    "print(z)\n",
    "print(z.dtype)"
   ]
  },
  {
   "cell_type": "code",
   "execution_count": null,
   "metadata": {},
   "outputs": [],
   "source": [
    "z = np.zeros(10, dtype=\"int32\")\n",
    "z[5] = 6.5\n",
    "print(z)\n",
    "print(z.dtype)"
   ]
  },
  {
   "cell_type": "code",
   "execution_count": null,
   "metadata": {},
   "outputs": [],
   "source": [
    "# Of course, you can also pass a shape as the size\n",
    "o = np.ones((3,8), dtype=\"int32\")\n",
    "print(o)\n",
    "print(o.dtype)"
   ]
  },
  {
   "cell_type": "code",
   "execution_count": null,
   "metadata": {},
   "outputs": [],
   "source": [
    "# If linear algebra is your thing, you can get the identity matrix\n",
    "for i in range(6):\n",
    "    print(np.identity(i))\n",
    "    print()"
   ]
  },
  {
   "cell_type": "code",
   "execution_count": null,
   "metadata": {},
   "outputs": [],
   "source": [
    "# Creating an array without initializing any values:\n",
    "e = np.empty(100)\n",
    "print(e)"
   ]
  },
  {
   "cell_type": "code",
   "execution_count": null,
   "metadata": {},
   "outputs": [],
   "source": [
    "f = np.empty(10)\n",
    "f.fill(20)\n",
    "print(f)"
   ]
  },
  {
   "cell_type": "code",
   "execution_count": null,
   "metadata": {},
   "outputs": [],
   "source": [
    "# It's a bit slower, but this works, too:\n",
    "f = np.empty(10)\n",
    "f[:] = 20\n",
    "print(f)"
   ]
  },
  {
   "cell_type": "code",
   "execution_count": null,
   "metadata": {},
   "outputs": [],
   "source": [
    "%timeit f.fill(20)\n",
    "%timeit f[:] = 20"
   ]
  },
  {
   "cell_type": "code",
   "execution_count": null,
   "metadata": {},
   "outputs": [],
   "source": [
    "# linspace(start, stop, count)\n",
    "# Create `count` evenly spaced numbers between start and stop, inclusive\n",
    "print(np.linspace(-5,5,20))"
   ]
  },
  {
   "cell_type": "code",
   "execution_count": null,
   "metadata": {},
   "outputs": [],
   "source": [
    "# Evidently, if you omit the `count`, it defaults to 50\n",
    "print(np.linspace(1,50))\n",
    "print(np.linspace(2,100))\n",
    "print(np.linspace(0,3))"
   ]
  },
  {
   "cell_type": "code",
   "execution_count": null,
   "metadata": {
    "scrolled": true
   },
   "outputs": [],
   "source": [
    "# Of course, you might need a logarithmic spacing instead, so there is logspace()\n",
    "# logspace(start, stop, count, base=10)\n",
    "# Range is base**start to base**stop.  Base id defaulted to 10, count to 50.\n",
    "print(np.logspace(1,3))\n",
    "print()\n",
    "\n",
    "print(np.logspace(1,10,10, base=2))\n",
    "print()\n",
    "\n",
    "print(np.logspace(1,10,10))\n",
    "print()\n",
    "\n",
    "print(np.logspace(0,2,10))"
   ]
  },
  {
   "cell_type": "code",
   "execution_count": null,
   "metadata": {},
   "outputs": [],
   "source": []
  },
  {
   "cell_type": "markdown",
   "metadata": {},
   "source": [
    "## Aggregate Functions\n",
    "\n",
    "Just as the built-in `len()` function doesn't know how to interpret a numpy array, neither do most of the other built-in functions.  Numpy provides its own version of these functions in order to support their more sphisticated usage.\n",
    "\n",
    "There are **a lot** of functions available, but I will only demonstrate a few here.\n",
    "\n",
    "**Documentation:** https://numpy.org/doc/stable/reference/routines.math.html"
   ]
  },
  {
   "cell_type": "code",
   "execution_count": null,
   "metadata": {},
   "outputs": [],
   "source": [
    "import numpy as np\n",
    "\n",
    "# Use this as sample data\n",
    "a = np.arange(-15, 15, dtype=\"int64\").reshape(5, 6) ** 2 - 35\n",
    "print(a)"
   ]
  },
  {
   "cell_type": "markdown",
   "metadata": {},
   "source": [
    "As you can see, the data is two-dimensional.  We can add up the values in several ways, though, using the numpy `sum()` function."
   ]
  },
  {
   "cell_type": "code",
   "execution_count": null,
   "metadata": {},
   "outputs": [],
   "source": [
    "print(np.sum(a))"
   ]
  },
  {
   "cell_type": "code",
   "execution_count": null,
   "metadata": {},
   "outputs": [],
   "source": [
    "print(a)\n",
    "print()\n",
    "\n",
    "# axis=0 sums up the columns\n",
    "# axis=0 eliminates the rows\n",
    "print(\"Summing up the columns:\")\n",
    "print(np.sum(a, axis=0))\n",
    "print(np.sum(a, axis=0).shape)\n",
    "print()\n",
    "\n",
    "# axis=1 sums up the rows\n",
    "# axis=1 eliminates the columns\n",
    "print(\"Summing up the rows:\")\n",
    "print(np.sum(a, axis=1))\n",
    "print(np.sum(a, axis=1).shape)\n"
   ]
  },
  {
   "cell_type": "code",
   "execution_count": null,
   "metadata": {},
   "outputs": [],
   "source": [
    "# prod() multiplies everything in the matrix.\n",
    "# Like sum(), it supports the `axis` argument.\n",
    "print(np.prod(a))\n",
    "print()\n",
    "\n",
    "print(\"Multiplying the columns:\")\n",
    "print(np.prod(a, axis=0))\n",
    "print()\n",
    "\n",
    "print(\"Multiplying the rows:\")\n",
    "print(np.prod(a, axis=1))"
   ]
  },
  {
   "cell_type": "code",
   "execution_count": null,
   "metadata": {},
   "outputs": [],
   "source": [
    "# Beware the nan!\n",
    "b = np.sqrt(np.arange(-3,4, dtype=\"float64\")) + 1\n",
    "print(b)\n",
    "print()\n",
    "\n",
    "print(np.prod(b))\n",
    "print(np.nanprod(b))\n",
    "print()\n",
    "\n",
    "print(np.sum(b))\n",
    "print(np.nansum(b))"
   ]
  },
  {
   "cell_type": "code",
   "execution_count": null,
   "metadata": {},
   "outputs": [],
   "source": [
    "# Alternative notation for the same function calls:\n",
    "print(a)\n",
    "print()\n",
    "\n",
    "print(np.sum(a))\n",
    "print(a.sum())\n",
    "print()\n",
    "\n",
    "print(np.prod(a))\n",
    "print(a.prod())"
   ]
  },
  {
   "cell_type": "code",
   "execution_count": null,
   "metadata": {},
   "outputs": [],
   "source": [
    "# Even though the data is in a two-dimensional array,\n",
    "# these functions examine all the data.\n",
    "# Imagine trying to do this with Python lists!\n",
    "print(a)\n",
    "print()\n",
    "\n",
    "print(f\"`a` max is {np.max(a)}\")\n",
    "print(f\"`a` min is {np.min(a)}\")"
   ]
  },
  {
   "cell_type": "code",
   "execution_count": null,
   "metadata": {},
   "outputs": [],
   "source": [
    "# Alternatively:\n",
    "print(a)\n",
    "print()\n",
    "\n",
    "print(f\"`a` max is {a.max()}\")\n",
    "print(f\"`a` min is {a.min()}\")"
   ]
  },
  {
   "cell_type": "code",
   "execution_count": null,
   "metadata": {},
   "outputs": [],
   "source": [
    "# we can target a specific \"axis\", however, to get row-wise and column-wise results.\n",
    "# `axis = 0` is for processing across columns\n",
    "# `axis = 1` is for processing across rows\n",
    "print(a)\n",
    "print()\n",
    "\n",
    "print(\"Max across columns:\")\n",
    "print(np.max(a, axis=0))\n",
    "print()\n",
    "\n",
    "print(\"Max across rows:\")\n",
    "print(a.max(axis=1))"
   ]
  },
  {
   "cell_type": "code",
   "execution_count": null,
   "metadata": {},
   "outputs": [],
   "source": [
    "# We can also find the indices of the smallest and largest values.\n",
    "print(a)\n",
    "print()\n",
    "\n",
    "print(\"Index of smallest value:\")\n",
    "print(np.argmin(a))\n",
    "print()\n",
    "\n",
    "# or, by row\n",
    "print(\"Index of smallest value, by row:\")\n",
    "print(a.argmin(axis=1))\n",
    "print()\n",
    "\n",
    "# or, by column\n",
    "print(\"Index of smallest value, by column:\")\n",
    "print(a.argmin(axis=0))"
   ]
  },
  {
   "cell_type": "code",
   "execution_count": null,
   "metadata": {},
   "outputs": [],
   "source": [
    "# Some stats\n",
    "print(a)\n",
    "print()\n",
    "\n",
    "print(\"Average:\")\n",
    "print(a.mean())\n",
    "print()\n",
    "\n",
    "# Average value by column\n",
    "print(\"Average value by column:\")\n",
    "print(a.mean(axis=0))"
   ]
  },
  {
   "cell_type": "code",
   "execution_count": null,
   "metadata": {},
   "outputs": [],
   "source": [
    "print(a)\n",
    "print()\n",
    "\n",
    "print(\"standard deviation:\", a.std())\n",
    "print()\n",
    "\n",
    "print(\"standard deviation by column:\\n  \", a.std(axis=0))\n",
    "print()\n",
    "\n",
    "print(\"standard deviation (sample) by column:\\n  \", a.std(axis=0, ddof=1))"
   ]
  },
  {
   "cell_type": "code",
   "execution_count": null,
   "metadata": {},
   "outputs": [],
   "source": [
    "print(a)\n",
    "print()\n",
    "\n",
    "print(\"variance:\", a.var())\n",
    "print()\n",
    "\n",
    "print(\"varianceby column:\\n  \", a.var(axis=0))"
   ]
  },
  {
   "cell_type": "markdown",
   "metadata": {},
   "source": [
    "# Matplotlib\n",
    "\n",
    "From the Matplotlib website, \"Matplotlib is a comprehensive library for creating static, animated, and interactive visualizations in Python.\"\n",
    "\n",
    "The goal of this \"short\" introduction is to introduce you to the basic ideas and concepts that Matplotlib uses, so that you can continue in your own studies and have a fundamental understanding of how the parts are structured.\n",
    "\n",
    "\n",
    "**Documentation:** https://matplotlib.org/contents.html\n",
    "\n",
    "**Tutorials:** https://matplotlib.org/tutorials/index.html\n",
    "\n",
    "The first command that you will see is `%matplotlib notebook`.  This is **not** a Python command, but a Jupyter Notebook command.  It tells Jupyter to display the Matplotlib resuls (the chart or graph) in the notebook, rather than opening a new window.\n",
    "\n",
    "Just as it is common to import `numpy` as `np`, it is common to import `matplotlib.pylab` as `plt`."
   ]
  },
  {
   "cell_type": "code",
   "execution_count": null,
   "metadata": {},
   "outputs": [],
   "source": [
    "%matplotlib notebook\n",
    "import matplotlib.pylab as plt\n",
    "import numpy as np"
   ]
  },
  {
   "cell_type": "code",
   "execution_count": null,
   "metadata": {
    "scrolled": false
   },
   "outputs": [],
   "source": [
    "x = np.linspace(0, 10)\n",
    "plt.plot(x, np.sin(x), '-o', linewidth=2)\n",
    "plt.plot(x, np.cos(x))\n",
    "\n",
    "# Not needed in Notebooks, but good to include in case this code\n",
    "# is used in a stand-alone script.\n",
    "plt.show()"
   ]
  },
  {
   "cell_type": "markdown",
   "metadata": {},
   "source": [
    "Let's break this down.\n",
    "\n",
    "* `x` is just an array of values, from 0 to 10.\n",
    "* plt.plot() is used twice, once for each line to be added to the graph.\n",
    "    * The first line (blue) is given the \"x\" values and the \"y\" values separately.  \"x\" is the `x` numpy array.  \"y\" is `np.sin(x)`.\n",
    "    * Additional arguments set the drawing style (a line with dots) and the width of the line.\n",
    "    * The second line (orange) is, obviously, drawing the cosine function.\n",
    "    \n",
    "Let's see a few more examples, to help us to build our intuition about what's going on."
   ]
  },
  {
   "cell_type": "code",
   "execution_count": null,
   "metadata": {},
   "outputs": [],
   "source": [
    "plt.plot([1,3,2,4])\n",
    "plt.show()"
   ]
  },
  {
   "cell_type": "markdown",
   "metadata": {},
   "source": [
    "**Wait!?!  Why did that line get added to the previous graph?!?**\n",
    "\n",
    "This is the first example of Matplotlib *hiding* information from you.\n",
    "\n",
    "Basically, there is a hidden variable representing the current graph.  Every time that you do something to change the graph, it changes the graph that is pointed to internally.  You can actually save a reference to a graph in a variable, but that is only when you need to create complex layouts.\n",
    "\n",
    "For our purposes at the moment, we will use the command `plt.figure()` to tell matplotlib that we want to start fresh on a new graph."
   ]
  },
  {
   "cell_type": "code",
   "execution_count": null,
   "metadata": {
    "scrolled": false
   },
   "outputs": [],
   "source": [
    "plt.figure() # Start a new drawing\n",
    "plt.plot([1,3,2,4])\n",
    "plt.show()"
   ]
  },
  {
   "cell_type": "markdown",
   "metadata": {},
   "source": [
    "**Wait!**\n",
    "\n",
    "Notice that, in the line `plt.plot([1,3,2,4])`, we only gave the equivalent of `y` values!  Since we did not provide our own `x` values, Matplotlib will supply the numbers `0,1,2,3,...` as needed for the corresponding `x` values, as you can see on the graph above.\n",
    "\n",
    "What happens if we try to add another line, this time with a **different** number of points to plot?"
   ]
  },
  {
   "cell_type": "code",
   "execution_count": null,
   "metadata": {},
   "outputs": [],
   "source": [
    "plt.plot([6,7,8,9,0])\n",
    "plt.show()"
   ]
  },
  {
   "cell_type": "markdown",
   "metadata": {},
   "source": [
    "As you can see, Matplotlib **doesn't care** that this new line has a different number of data points.  It just plots what you tell it to!"
   ]
  },
  {
   "cell_type": "code",
   "execution_count": null,
   "metadata": {},
   "outputs": [],
   "source": [
    "# clears the figure\n",
    "plt.clf()\n",
    "# but I don't like this approach"
   ]
  },
  {
   "cell_type": "markdown",
   "metadata": {},
   "source": [
    "Let's add some information to the graph.  First, we'll start with a simple graph."
   ]
  },
  {
   "cell_type": "code",
   "execution_count": null,
   "metadata": {},
   "outputs": [],
   "source": [
    "# Create a new figure\n",
    "plt.figure()\n",
    "plt.plot([1,3,2,4])\n",
    "plt.show()"
   ]
  },
  {
   "cell_type": "markdown",
   "metadata": {},
   "source": [
    "As you can see, the `x` axis values are filled in with increments of `.5`.  But that doesn't make sense with our data, so let's **change the `x` axis tick marks** using the `plt.xticks()` function.\n",
    "\n",
    "**Documentation:** https://matplotlib.org/api/_as_gen/matplotlib.pyplot.xticks.html"
   ]
  },
  {
   "cell_type": "code",
   "execution_count": null,
   "metadata": {},
   "outputs": [],
   "source": [
    "# https://matplotlib.org/api/_as_gen/matplotlib.pyplot.xticks.html\n",
    "plt.figure()\n",
    "plt.plot([1,3,2,4])\n",
    "plt.xticks([1,2,3,4])\n",
    "plt.show()"
   ]
  },
  {
   "cell_type": "markdown",
   "metadata": {},
   "source": [
    "This **works**, but the labels don't really line up with the data points.  Let's see if we can figure out why."
   ]
  },
  {
   "cell_type": "code",
   "execution_count": null,
   "metadata": {},
   "outputs": [],
   "source": [
    "plt.figure()\n",
    "plt.plot([1,3,2,4])\n",
    "plt.xticks([1,3])\n",
    "plt.show()"
   ]
  },
  {
   "cell_type": "markdown",
   "metadata": {},
   "source": [
    "If we just ask for x-ticks `[1,3]`, then evidently this is referring to the **values** of `1` and `3`.\n",
    "\n",
    "Think of this as being able to specify **where** the x-ticks should appear along the x axis.\n",
    "\n",
    "Of course, then you might think that we should be able to change **what** the x-tick label is (so that it is not just a number).  We can do this by adding a 2nd argument to the `plt.xticks()` function call."
   ]
  },
  {
   "cell_type": "code",
   "execution_count": null,
   "metadata": {
    "scrolled": false
   },
   "outputs": [],
   "source": [
    "plt.figure()\n",
    "plt.plot([1,3,2,4])\n",
    "plt.xticks([1,2,3,4], ['John', 'Paul', 'Ringo', 'George'])\n",
    "plt.show()"
   ]
  },
  {
   "cell_type": "markdown",
   "metadata": {},
   "source": [
    "Of course, the data still isn't aligned with the labels.\n",
    "\n",
    "Let's shift the x-axis labels (tick marks) by using values 0-3 rather than the original 1-4."
   ]
  },
  {
   "cell_type": "code",
   "execution_count": null,
   "metadata": {
    "scrolled": false
   },
   "outputs": [],
   "source": [
    "plt.figure()\n",
    "plt.plot([1,3,2,4])\n",
    "plt.xticks([0,1,2,3], ['John', 'Paul', 'Ringo', 'George'])\n",
    "plt.show()"
   ]
  },
  {
   "cell_type": "markdown",
   "metadata": {},
   "source": [
    "And, as usual in Python, we can streamline the x-tick value list with a `range()` (or comprehension)."
   ]
  },
  {
   "cell_type": "code",
   "execution_count": null,
   "metadata": {
    "scrolled": false
   },
   "outputs": [],
   "source": [
    "plt.figure()\n",
    "plt.plot([1,3,2,4])\n",
    "plt.xticks(range(4), ['John', 'Paul', 'Ringo', 'George'])\n",
    "plt.show()"
   ]
  },
  {
   "cell_type": "markdown",
   "metadata": {},
   "source": [
    "While we're at it, let's make the y axis tick marks say something useful, too."
   ]
  },
  {
   "cell_type": "code",
   "execution_count": null,
   "metadata": {
    "scrolled": false
   },
   "outputs": [],
   "source": [
    "plt.figure()\n",
    "plt.plot([1,3,2,4])\n",
    "plt.xticks(range(4), ['John', 'Paul', 'Ringo', 'George'])\n",
    "plt.yticks([0,3], ['not hungry', 'hungry'])\n",
    "plt.show()"
   ]
  },
  {
   "cell_type": "markdown",
   "metadata": {},
   "source": [
    "Customizing the line is easy, simply by passing in additional arguments to the `plt.plot()` function.  In the following example, the line is red, dotted, and the data points are a down-pointing arrow.\n",
    "\n",
    "**Documentation:** https://matplotlib.org/api/_as_gen/matplotlib.pyplot.plot.html"
   ]
  },
  {
   "cell_type": "code",
   "execution_count": null,
   "metadata": {
    "scrolled": false
   },
   "outputs": [],
   "source": [
    "# https://matplotlib.org/api/_as_gen/matplotlib.pyplot.plot.html\n",
    "plt.figure()\n",
    "plt.plot([1,3,2,4], 'r:v')\n",
    "plt.xticks(range(4), ['John', 'Paul', 'Ringo', 'George'])\n",
    "plt.show()"
   ]
  },
  {
   "cell_type": "markdown",
   "metadata": {},
   "source": [
    "It should be noted that Matplotlib **doesn't actually care** about where you want to place the tick marks or what label you assign to them.  The following example exists only to show you that the label positions can be highly customized, irrespective of the data being displayed along that axis."
   ]
  },
  {
   "cell_type": "code",
   "execution_count": null,
   "metadata": {},
   "outputs": [],
   "source": [
    "# https://matplotlib.org/api/_as_gen/matplotlib.pyplot.plot.html\n",
    "plt.figure()\n",
    "plt.plot([1,3,2,4], 'r:v')\n",
    "plt.xticks([.25, .5, 3, 3.5], ['John', 'Paul', 'Ringo', 'George'])\n",
    "plt.show()"
   ]
  },
  {
   "cell_type": "code",
   "execution_count": null,
   "metadata": {},
   "outputs": [],
   "source": []
  },
  {
   "cell_type": "markdown",
   "metadata": {},
   "source": [
    "Let's add more information to the graph.\n",
    "\n",
    "* Title: using `plt.title()`\n",
    "* Legend:\n",
    "    * First, add a `label` arguemnt to each `plt.plot()` function call.\n",
    "    * Second, call `plt.legend()`\n",
    "* Label the x-axis: `plt.xlabel()`\n",
    "* Label the y-axis: `plt.ylabel()`\n",
    "\n",
    "For more information, see:\n",
    "\n",
    "**Parts of a figure**\n",
    "\n",
    "https://matplotlib.org/tutorials/introductory/usage.html#sphx-glr-tutorials-introductory-usage-py\n",
    "\n",
    "**Understanding plot() options**\n",
    "\n",
    "https://matplotlib.org/1.5.3/api/pyplot_api.html#matplotlib.pyplot.plot"
   ]
  },
  {
   "cell_type": "code",
   "execution_count": null,
   "metadata": {
    "scrolled": false
   },
   "outputs": [],
   "source": [
    "plt.figure()\n",
    "x = np.linspace(0, 10)\n",
    "plt.plot(x, np.sin(x), '-o', linewidth=2, label=\"Sin\")\n",
    "plt.plot(x, np.cos(x), label=\"Cos\")\n",
    "tick = np.arange(4) * np.pi\n",
    "plt.xticks(tick, ['0', 'π', '2π', '3π'])\n",
    "plt.legend()\n",
    "plt.title(\"Sad Trigonometry\")\n",
    "plt.xlabel(\"Radians\")\n",
    "plt.ylabel(\"Value\")\n",
    "plt.show()"
   ]
  },
  {
   "cell_type": "code",
   "execution_count": null,
   "metadata": {
    "scrolled": false
   },
   "outputs": [],
   "source": [
    "t = np.linspace(0,2*np.pi,50)\n",
    "x = np.sin(t)\n",
    "y = np.cos(t)\n",
    "\n",
    "plt.figure()\n",
    "plt.plot(t,x)\n",
    "plt.title(\"Sin\")\n",
    "\n",
    "plt.figure()\n",
    "plt.plot(t, y)\n",
    "plt.title(\"Cos\")\n",
    "plt.show()\n",
    "\n",
    "plt.figure()\n",
    "plt.plot(y,x)\n",
    "plt.title(\"Circle\")\n",
    "plt.show()\n"
   ]
  },
  {
   "cell_type": "markdown",
   "metadata": {},
   "source": [
    "Again, another weird issue!  The circle at in the last value should be... well... **round!!!***\n",
    "\n",
    "Of course, the problem is that neither Python nor Matplotlib knows that we wanted the shape to be round!  It has a default size, and tries to make the data fit into that default size window.  (Usually the default size is 4x5.)\n",
    "\n",
    "We can change the size, but we need to get a **reference** to the figure itself, which we can do by calling the `plt.gcf()` function (**g**et **c**urrent **f**igure).  Then, just call the figure's `.set_size_inches()` method."
   ]
  },
  {
   "cell_type": "code",
   "execution_count": null,
   "metadata": {},
   "outputs": [],
   "source": [
    "fig = plt.gcf()\n",
    "\n",
    "fig.set_size_inches(4,4)"
   ]
  },
  {
   "cell_type": "markdown",
   "metadata": {},
   "source": [
    "As you can see, **not all lines go from just left to right!**\n",
    "\n",
    "In fact, Matplotlib doesn't care at all if your line wraps back on itself.  It just draws from one (x,y) coordinate to the next."
   ]
  },
  {
   "cell_type": "code",
   "execution_count": null,
   "metadata": {},
   "outputs": [],
   "source": [
    "import random\n",
    "random.seed(42)\n",
    "\n",
    "plt.figure()\n",
    "\n",
    "points = [(random.randrange(10), random.randrange(10)) for _ in range(10)]\n",
    "\n",
    "y = [point[0] for point in points]\n",
    "x = [point[1] for point in points]\n",
    "\n",
    "plt.plot(y,x)\n",
    "plt.title(\"Random Points.\")\n",
    "\n",
    "plt.show()\n",
    "\n",
    "print()\n",
    "print(points)\n"
   ]
  },
  {
   "cell_type": "markdown",
   "metadata": {},
   "source": [
    "## Challenge\n",
    "\n",
    "**Create a line graph of the popularity of a person's name over time.**"
   ]
  },
  {
   "cell_type": "code",
   "execution_count": null,
   "metadata": {},
   "outputs": [],
   "source": [
    "searchName = \"Corey\"\n",
    "\n",
    "\n",
    "def getNamePopularityByYear(name):\n",
    "    data = {}\n",
    "    for state, sex, year, recordName, count in babyList:\n",
    "        data.setdefault(year,0)\n",
    "        if name == recordName:\n",
    "            data[year] += count\n",
    "    return [(year, data[year]) for year in range(min(data.keys()), max(data.keys())+1)]\n",
    "\n",
    "data = getNamePopularityByYear(searchName)\n",
    "\n",
    "plt.figure()\n",
    "\n",
    "x = [year for (year, count) in data]\n",
    "y = [count for (year, count) in data]\n",
    "\n",
    "plt.plot(x, y, label=searchName)\n",
    "\n",
    "plt.legend()\n",
    "plt.title(\"Name Popularity\")\n",
    "\n",
    "plt.show()"
   ]
  },
  {
   "cell_type": "markdown",
   "metadata": {},
   "source": [
    "**Now, graph the data for two names.**"
   ]
  },
  {
   "cell_type": "code",
   "execution_count": null,
   "metadata": {},
   "outputs": [],
   "source": [
    "\n",
    "\n",
    "def getNamePopularityByYear(name):\n",
    "    data = {}\n",
    "    for state, sex, year, recordName, count in babyList:\n",
    "        data.setdefault(year,0)\n",
    "        if name == recordName:\n",
    "            data[year] += count\n",
    "    return [(year, data[year]) for year in range(min(data.keys()), max(data.keys())+1)]\n",
    "\n",
    "\n",
    "plt.figure()\n",
    "\n",
    "nameList = [\"Corey\", \"Kelsey\", \"Emily\", \"James\"]\n",
    "\n",
    "for name in nameList:\n",
    "    data = getNamePopularityByYear(name)\n",
    "\n",
    "\n",
    "    x = [year for (year, count) in data]\n",
    "    y = [count for (year, count) in data]\n",
    "\n",
    "    plt.plot(x, y, label=name)\n",
    "\n",
    "plt.legend()\n",
    "plt.title(\"Name Popularity\")\n",
    "\n",
    "plt.show()"
   ]
  },
  {
   "cell_type": "markdown",
   "metadata": {},
   "source": [
    "## Saving The Graph As An Image\n",
    "\n",
    "You can save the graph to a file using the [`plt.savefig()` function](https://matplotlib.org/api/pyplot_api.html#matplotlib.pyplot.savefig).  It is quite straightforward to use, although can be customized (dpi, transparency, size) via the function arguments."
   ]
  },
  {
   "cell_type": "code",
   "execution_count": null,
   "metadata": {},
   "outputs": [],
   "source": [
    "searchName = \"Corey\"\n",
    "\n",
    "\n",
    "def getNamePopularityByYear(name):\n",
    "    data = {}\n",
    "    for state, sex, year, recordName, count in babyList:\n",
    "        data.setdefault(year,0)\n",
    "        if name == recordName:\n",
    "            data[year] += count\n",
    "    return [(year, data[year]) for year in range(min(data.keys()), max(data.keys())+1)]\n",
    "\n",
    "data = getNamePopularityByYear(searchName)\n",
    "\n",
    "plt.figure()\n",
    "\n",
    "x = [year for (year, count) in data]\n",
    "y = [count for (year, count) in data]\n",
    "\n",
    "plt.plot(x, y, label=searchName)\n",
    "\n",
    "plt.legend()\n",
    "plt.title(\"Name Popularity\")\n",
    "\n",
    "plt.grid()\n",
    "\n",
    "plt.show()\n",
    "\n",
    "plt.savefig(\"namePopularity.png\")"
   ]
  },
  {
   "cell_type": "markdown",
   "metadata": {},
   "source": [
    "## More Graph Types\n",
    "\n",
    "Matplotlib supports [a lot](https://matplotlib.org/3.1.0/tutorials/introductory/sample_plots.html) of graph types!\n",
    "\n",
    "They all follow the same general philosophy: render the data points that you provide.\n",
    "\n",
    "As an example, let's consider a simple bar chart:"
   ]
  },
  {
   "cell_type": "code",
   "execution_count": null,
   "metadata": {},
   "outputs": [],
   "source": [
    "plt.figure()\n",
    "\n",
    "values = [1,3,5,6,3]\n",
    "\n",
    "plt.bar(range(len(values)), values)\n",
    "\n",
    "plt.show()"
   ]
  },
  {
   "cell_type": "markdown",
   "metadata": {},
   "source": [
    "As you can see, we had to provide **2** sets of values to the function:\n",
    "1. `range(len(values))` serves as the x coordinates of where to draw the bars.\n",
    "2. `values` are the height of each bar.\n",
    "\n",
    "We can, of course, modify the horizontal placement of the bars, and we will also modify the width of the bars in order to make their placement more obvious:"
   ]
  },
  {
   "cell_type": "code",
   "execution_count": null,
   "metadata": {},
   "outputs": [],
   "source": [
    "plt.figure()\n",
    "\n",
    "values = [1,3,5,6,3]\n",
    "\n",
    "plt.bar([.5, 1, 1.5, 4, 4.5], values, width=.25)\n",
    "\n",
    "plt.show()"
   ]
  },
  {
   "cell_type": "markdown",
   "metadata": {},
   "source": [
    "And what if you wanted to graph more than one data set?  Well, that is up you to you!  You must decide where to put each set of data in relation to one another (which will probably involve some math).\n",
    "\n",
    "Consider the following two examples:"
   ]
  },
  {
   "cell_type": "code",
   "execution_count": null,
   "metadata": {},
   "outputs": [],
   "source": [
    "import string\n",
    "\n",
    "plt.figure()\n",
    "\n",
    "widgetAData = [1,3,5,6,3]\n",
    "widgetBData = [7,1,3,4,2]\n",
    "\n",
    "plt.bar([i for i in range(len(widgetAData))], widgetAData, width=.25, label=\"Widget 1\")\n",
    "plt.bar(np.linspace(.25, 4.25, 5), widgetBData, width=.25, label=\"Widget 2\")\n",
    "\n",
    "xtickOffset = [i + .125 for i in range(len(widgetAData))]\n",
    "#xtickLabel = [chr(ch) for ch in range(ord('A'), ord('A') + len(widgetAData))]\n",
    "xtickLabel = [*string.ascii_uppercase[:len(widgetAData)]]\n",
    "plt.xticks(xtickOffset, xtickLabel)\n",
    "\n",
    "plt.legend()\n",
    "plt.title(\"Widgets\")\n",
    "\n",
    "plt.show()"
   ]
  },
  {
   "cell_type": "code",
   "execution_count": null,
   "metadata": {},
   "outputs": [],
   "source": [
    "plt.figure()\n",
    "\n",
    "widgetAData = [1,3,5,6,3]\n",
    "widgetBData = [7,1,3,4,2]\n",
    "\n",
    "barPosition = np.linspace(0, 2, 5)\n",
    "plt.bar(barPosition, widgetAData, width=.25, label=\"Widget 1\")\n",
    "plt.bar(barPosition + 3, widgetBData, width=.25, label=\"Widget 2\")\n",
    "\n",
    "xtickOffset = [i/2 for i in range(len(widgetAData))] + [i/2 + 3 for i in range(len(widgetAData))]\n",
    "xtickLabel = [chr(ch) for ch in range(ord('A'), ord('A') + len(widgetAData))] * 2\n",
    "plt.xticks(xtickOffset, xtickLabel)\n",
    "\n",
    "plt.legend()\n",
    "plt.title(\"Widgets\")\n",
    "\n",
    "plt.show()"
   ]
  },
  {
   "cell_type": "markdown",
   "metadata": {},
   "source": [
    "In both of the preceding cases, the data for the two \"Widgets\" stayed the same, but we were able to get different **groupings** by controlling the `x axis values` that we provided to the `plt.bar()` function."
   ]
  },
  {
   "cell_type": "markdown",
   "metadata": {},
   "source": [
    "And, of course, you can combine different types of graphs:"
   ]
  },
  {
   "cell_type": "code",
   "execution_count": null,
   "metadata": {
    "scrolled": false
   },
   "outputs": [],
   "source": [
    "plt.figure()\n",
    "\n",
    "widgetAData = [1,3,5,6,3]\n",
    "widgetBData = [7,1,3,4,2]\n",
    "\n",
    "plt.bar(range(len(widgetAData)), widgetAData, width=.25, label=\"Widget A\")\n",
    "plt.plot(range(len(widgetBData)), widgetBData, 'ko-.', label=\"Widget B\")\n",
    "\n",
    "xtickOffset = [i + .125 for i in range(len(widgetAData))]\n",
    "xtickLabel = [chr(ch) for ch in range(ord('A'), ord('A') + len(widgetAData))]\n",
    "plt.xticks(xtickOffset, xtickLabel)\n",
    "\n",
    "plt.legend()\n",
    "plt.title(\"Widgets\")\n",
    "\n",
    "plt.show()"
   ]
  },
  {
   "cell_type": "markdown",
   "metadata": {},
   "source": [
    "## Challenge:\n",
    "\n",
    "**Draw a pie chart of the overall popularity for the requested names.**\n",
    "\n",
    "https://matplotlib.org/3.1.0/api/_as_gen/matplotlib.pyplot.pie.html#matplotlib.pyplot.pie"
   ]
  },
  {
   "cell_type": "code",
   "execution_count": null,
   "metadata": {},
   "outputs": [],
   "source": [
    "names = [\"Matthew\", \"Mark\", \"Luke\", \"John\"]\n",
    "#names = [\"John\", \"Paul\", \"Ringo\", \"George\"]\n",
    "#names = [\"Peter\", \"Andrew\", \"James\", \"John\", \"Philip\", \"Thaddeus\", \"Bartholemew\", \"Thomas\", \"Matthew\", \"Simon\", \"Judas\"]\n",
    "\n",
    "def getNamePopularity(names):\n",
    "    data = {name:0 for name in names}\n",
    "    for state, sex, year, name, count in babyList:\n",
    "        if name in data:\n",
    "            data[name] += count\n",
    "    return data\n",
    "\n",
    "plt.figure()\n",
    "\n",
    "data = [*getNamePopularity(names).items()]\n",
    "\n",
    "plt.pie([count for (name, count) in data], labels=[name for (name, count) in data])\n",
    "\n",
    "plt.show()\n"
   ]
  },
  {
   "cell_type": "markdown",
   "metadata": {},
   "source": [
    "Demo of a scatter plot:\n",
    "\n",
    "https://matplotlib.org/3.1.0/api/_as_gen/matplotlib.pyplot.scatter.html"
   ]
  },
  {
   "cell_type": "code",
   "execution_count": null,
   "metadata": {},
   "outputs": [],
   "source": [
    "import random\n",
    "\n",
    "random.seed(1000)\n",
    "\n",
    "x = [random.random() for _ in range(10)]\n",
    "y = [random.random() for _ in range(10)]\n",
    "\n",
    "plt.figure()\n",
    "plt.scatter(x, y)\n",
    "plt.show()"
   ]
  },
  {
   "cell_type": "markdown",
   "metadata": {},
   "source": [
    "You can change the size of each marker by providing a either a single number (all markers will have the same size) or a list of sizes, which will be applied to each mark in the order specified in the x,y coordinates."
   ]
  },
  {
   "cell_type": "code",
   "execution_count": null,
   "metadata": {
    "scrolled": false
   },
   "outputs": [],
   "source": [
    "import random\n",
    "\n",
    "random.seed(1000)\n",
    "\n",
    "x = [random.random() for _ in range(10)]\n",
    "y = [random.random() for _ in range(10)]\n",
    "sizes = np.linspace(2,100,10)\n",
    "\n",
    "plt.figure()\n",
    "plt.scatter(x, y, s=sizes)\n",
    "plt.show()"
   ]
  },
  {
   "cell_type": "markdown",
   "metadata": {},
   "source": [
    "## Stupid Matplotlib Tricks"
   ]
  },
  {
   "cell_type": "markdown",
   "metadata": {},
   "source": [
    "**XKCD Style**\n",
    "\n",
    "You can make your charts have the styling of the great [XKCD Comics](https://xkcd.com/).\n",
    "\n",
    "Because I don't want to influence other charts, I will use the `with...:` syntax."
   ]
  },
  {
   "cell_type": "code",
   "execution_count": null,
   "metadata": {},
   "outputs": [],
   "source": [
    "\n",
    "\n",
    "def getNamePopularityByYear(name):\n",
    "    data = {}\n",
    "    for state, sex, year, recordName, count in babyList:\n",
    "        data.setdefault(year,0)\n",
    "        if name == recordName:\n",
    "            data[year] += count\n",
    "    return [(year, data[year]) for year in range(min(data.keys()), max(data.keys())+1)]\n",
    "\n",
    "\n",
    "# Only use the xkcd style on this one graph:\n",
    "with plt.xkcd():\n",
    "    plt.figure()\n",
    "\n",
    "    nameList = [\"Corey\", \"Kelsey\", \"Emily\", \"James\"]\n",
    "\n",
    "    for name in nameList:\n",
    "        data = getNamePopularityByYear(name)\n",
    "\n",
    "\n",
    "        x = [year for (year, count) in data]\n",
    "        y = [count for (year, count) in data]\n",
    "\n",
    "        plt.plot(x, y, label=name)\n",
    "\n",
    "    plt.legend()\n",
    "    plt.title(\"Name Popularity\")\n",
    "\n",
    "    plt.show()"
   ]
  },
  {
   "cell_type": "markdown",
   "metadata": {},
   "source": [
    "See the gallery for examples covering many different features!\n",
    "\n",
    "https://matplotlib.org/3.1.0/gallery/index.html\n",
    "\n",
    "See \"Anatomy of a figure\" for a thorough explanation of the different parts that you can control inside a figure.\n",
    "\n",
    "https://matplotlib.org/3.1.0/gallery/showcase/anatomy.html#sphx-glr-gallery-showcase-anatomy-py"
   ]
  },
  {
   "cell_type": "markdown",
   "metadata": {},
   "source": [
    "## The Object-Oriented Interface\n",
    "\n",
    "As it turns out, Matplotlib can be complicated, but that it a result of its flexibility and power.\n",
    "\n",
    "So far, we have been using Python to manipulate Matplotlib in a very straightforward way.  We have told Matplotlib to create a new figure, to draw on that figure, and then we move to the next figure.  This is the **simple** way to use Matplotlib.  There are other, more advanced ways.\n",
    "\n",
    "What if you want to have multiple graphs side-by-side or overlapping?  What if you want to work on multiple graphs at the same time?  For this, we need an **object-oriented** approach.\n",
    "\n",
    "First, you need to understand the difference between the words **figure**, **axes**, and **axis**.\n",
    "\n",
    "* **axis**: This is simple and straightforward.  The graphs that we have seen so far have contained an x-axis and a y-axis.\n",
    "* **axes**: This is a bad name, in my opinion.  It is **not** the plural of \"axis\", but rather it referrs to the drawing area that we add our lines to.\n",
    "* **figure**: This contains the axes.  There may be more than one axes, as we will see in a moment.\n",
    "\n",
    "In the next example, notice that we save a reference to the **figure** and the **axes** by making a call to the [`plt.subplots()` function](https://matplotlib.org/3.1.0/api/_as_gen/matplotlib.pyplot.subplots.html#matplotlib.pyplot.subplots).\n",
    "\n",
    "All plotting is done against the **`ax`** object.\n",
    "\n",
    "Showing is done against the **`fig`** object."
   ]
  },
  {
   "cell_type": "code",
   "execution_count": null,
   "metadata": {},
   "outputs": [],
   "source": [
    "fig, ax = plt.subplots()\n",
    "\n",
    "x = np.linspace(0, 10)\n",
    "ax.plot(x, np.sin(x), '-o', linewidth=2)\n",
    "ax.plot(x, np.cos(x))\n",
    "\n",
    "# Not needed in Notebooks, but good to include in case this code\n",
    "# is used in a stand-alone script.\n",
    "fig.show()"
   ]
  },
  {
   "cell_type": "markdown",
   "metadata": {},
   "source": [
    "But what is all of this about subplots?\n",
    "\n",
    "It's easier to show you.  In the preceding example, notice that `ax` was a reference to the drawing area.\n",
    "\n",
    "In this next example, we will ask for **2** subplots, and so `ax` will be a **numpy array** of references to the two requested drawing areas.\n",
    "\n",
    "We can target the drawing area for each separately by addressing them as `ax[0]` and `ax[1]`."
   ]
  },
  {
   "cell_type": "code",
   "execution_count": null,
   "metadata": {},
   "outputs": [],
   "source": [
    "fig, ax = plt.subplots(2)\n",
    "\n",
    "print(\"They type of `ax` is:\", type(ax))\n",
    "print(\"`ax` contains:\")\n",
    "print(ax)\n",
    "\n",
    "x = np.linspace(0, 10)\n",
    "ax[0].plot(x, np.sin(x), '-o', linewidth=2)\n",
    "ax[1].plot(x, np.cos(x))\n",
    "\n",
    "# Not needed in Notebooks, but good to include in case this code\n",
    "# is used in a stand-alone script.\n",
    "fig.show()"
   ]
  },
  {
   "cell_type": "markdown",
   "metadata": {},
   "source": [
    "Of course, rather than having 2 rows of axes, why not have 1 row and two columns instead?\n",
    "\n",
    "We just need to change the arguments given to `plt.subplots()`."
   ]
  },
  {
   "cell_type": "code",
   "execution_count": null,
   "metadata": {},
   "outputs": [],
   "source": [
    "fig, ax = plt.subplots(1,2)\n",
    "\n",
    "print(\"They type of `ax` is:\", type(ax))\n",
    "print(\"`ax` contains:\")\n",
    "print(ax)\n",
    "\n",
    "x = np.linspace(0, 10)\n",
    "ax[0].plot(x, np.sin(x), '-o', linewidth=2)\n",
    "ax[1].plot(x, np.cos(x))\n",
    "\n",
    "# Not needed in Notebooks, but good to include in case this code\n",
    "# is used in a stand-alone script.\n",
    "fig.show()"
   ]
  },
  {
   "cell_type": "markdown",
   "metadata": {},
   "source": [
    "We can even do more complicated layouts, just by asking for a more complicated layout from `plt.subplots()`."
   ]
  },
  {
   "cell_type": "code",
   "execution_count": null,
   "metadata": {},
   "outputs": [],
   "source": [
    "fig, ax = plt.subplots(2,2)\n",
    "\n",
    "print(\"They type of `ax` is:\", type(ax))\n",
    "print(\"`ax` contains:\")\n",
    "print(ax)\n",
    "\n",
    "x = np.linspace(0, 10)\n",
    "ax[0,0].plot(x, np.sin(x), '-o', linewidth=2)\n",
    "ax[1,0].plot(x, np.cos(x))\n",
    "ax[0,1].pie([1,2,3], labels=[\"A\", \"B\", \"C\"])\n",
    "ax[1,1].bar(range(5), [1,3,2,4,-3])\n",
    "\n",
    "# Not needed in Notebooks, but good to include in case this code\n",
    "# is used in a stand-alone script.\n",
    "fig.show()"
   ]
  },
  {
   "cell_type": "markdown",
   "metadata": {},
   "source": [
    "For more information, check out the following links:\n",
    "\n",
    "https://matplotlib.org/faq/usage_faq.html#usage\n",
    "\n",
    "https://matplotlib.org/3.1.0/api/_as_gen/matplotlib.pyplot.subplots.html#matplotlib.pyplot.subplots (scroll down for **a lot** of really great examples!)\n",
    "\n",
    "https://matplotlib.org/3.1.0/gallery/subplots_axes_and_figures/subplots_demo.html (good examples of combining the axis of different subplots)\n",
    "\n",
    "https://matplotlib.org/3.2.1/tutorials/intermediate/constrainedlayout_guide.html (if you *really*, **really**, ***really*** want some complex layouts)\n",
    "\n",
    "Examples from the complex layouts link:"
   ]
  },
  {
   "cell_type": "code",
   "execution_count": null,
   "metadata": {},
   "outputs": [],
   "source": [
    "import matplotlib.colors as mcolors\n",
    "arr = np.arange(100).reshape((10, 10))\n",
    "norm = mcolors.Normalize(vmin=0., vmax=100.)\n",
    "pc_kwargs = {'rasterized': True, 'cmap': 'viridis', 'norm': norm}\n",
    "\n",
    "def example_plot(ax, fontsize=12, nodec=False):\n",
    "    ax.plot([1, 2])\n",
    "\n",
    "    ax.locator_params(nbins=3)\n",
    "    if not nodec:\n",
    "        ax.set_xlabel('x-label', fontsize=fontsize)\n",
    "        ax.set_ylabel('y-label', fontsize=fontsize)\n",
    "        ax.set_title('Title', fontsize=fontsize)\n",
    "    else:\n",
    "        ax.set_xticklabels('')\n",
    "        ax.set_yticklabels('')\n",
    "\n",
    "\n",
    "\n",
    "def docomplicated(suptitle=None):\n",
    "    fig = plt.figure()\n",
    "    gs0 = fig.add_gridspec(1, 2, figure=fig, width_ratios=[1., 2.])\n",
    "    gsl = gs0[0].subgridspec(2, 1)\n",
    "    gsr = gs0[1].subgridspec(2, 2)\n",
    "\n",
    "    for gs in gsl:\n",
    "        ax = fig.add_subplot(gs)\n",
    "        example_plot(ax)\n",
    "    axs = []\n",
    "    for gs in gsr:\n",
    "        ax = fig.add_subplot(gs)\n",
    "        pcm = ax.pcolormesh(arr, **pc_kwargs)\n",
    "        ax.set_xlabel('x-label')\n",
    "        ax.set_ylabel('y-label')\n",
    "        ax.set_title('title')\n",
    "\n",
    "        axs += [ax]\n",
    "    fig.colorbar(pcm, ax=axs)\n",
    "    if suptitle is not None:\n",
    "        fig.suptitle(suptitle)\n",
    "\n",
    "docomplicated()"
   ]
  },
  {
   "cell_type": "code",
   "execution_count": null,
   "metadata": {},
   "outputs": [],
   "source": [
    "fig = plt.figure()\n",
    "gs = fig.add_gridspec(2, 2)\n",
    "\n",
    "ax1 = fig.add_subplot(gs[0, 0])\n",
    "ax2 = fig.add_subplot(gs[1, 0])\n",
    "ax3 = fig.add_subplot(gs[:, 1])\n",
    "\n",
    "example_plot(ax1)\n",
    "example_plot(ax2)\n",
    "example_plot(ax3)"
   ]
  },
  {
   "cell_type": "code",
   "execution_count": null,
   "metadata": {},
   "outputs": [],
   "source": []
  }
 ],
 "metadata": {
  "kernelspec": {
   "display_name": "Python 3",
   "language": "python",
   "name": "python3"
  },
  "language_info": {
   "codemirror_mode": {
    "name": "ipython",
    "version": 3
   },
   "file_extension": ".py",
   "mimetype": "text/x-python",
   "name": "python",
   "nbconvert_exporter": "python",
   "pygments_lexer": "ipython3",
   "version": "3.6.13"
  }
 },
 "nbformat": 4,
 "nbformat_minor": 4
}
