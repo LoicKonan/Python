{
 "cells": [
  {
   "cell_type": "markdown",
   "metadata": {},
   "source": [
    "# Sections\n",
    "\n",
    "* [Foundational Ideas](#Foundational-Ideas)\n",
    "    * [Comments](#Comments)\n",
    "    * [Variables and Types](#Variables-and-Types)\n",
    "        * [int, float, str](#Variables-and-Types)\n",
    "        * [Variable Rules](#Variable-Rules)\n",
    "        * [Converting Types](#Converting-Types)\n",
    "        * [Combining Types](#Combining-types)\n",
    "        * [Boolean Type](#Boolean-Type)\n",
    "        * [Arithmatic Operators](#Arithmetic-operators)\n",
    "        * [Boolean and Logic Operators](#Boolean-and-Logic-Operators)\n",
    "        * [Variables](#Variables)\n",
    "    * [Errors (Basic)](#Types-of-Errors)\n",
    "        * [Compilation/Syntax](#Compilation/Syntax-Errors)\n",
    "        * [Runtime](#Runtime-Error)\n",
    "        * [Semantic/Logic](#Semantic/Logic-Errors)\n",
    "    * [Interactive Programming (`input()`)](#Interactive-programming)\n",
    "    * [Control Flow](#Control-Flow-Operators)\n",
    "        * [If..else](#If..else)\n",
    "        * [Code Blocks](#A-note-about-Code-Blocks)\n",
    "        * [Pass](#Pass)\n",
    "        * [If..elif..else](#if..elif..else)\n",
    "        * [While](#While)\n",
    "        * [Example: FizzBuzz](#Example:-Fizz-Buzz)\n",
    "        * [Break and Continue](#Break-and-Continue)\n",
    "        * [Ternary Operator](#Ternary-Operator)\n",
    "* [Functions](#Functions)\n",
    "    * [Function (Block) Scope](#Function-(Block)-Scope)\n",
    "    * [The `help()` Function](#The-help()-Function)\n",
    "    * [Custom `help()` Text](#Custom-help()-Text)\n",
    "    * [`__doc__` Documentation String](#__doc__-Documentation-String)\n",
    "    * [Beware the Power...](#Beware-the-Power...)\n",
    "* [Strings and ASCII](#Strings-and-ASCII)\n",
    "    * [ASCII](#ASCII)\n",
    "    * [Unicode and UTF-8](#Unicode-and-UTF-8)\n",
    "    * [Strings](#Strings)\n",
    "        * [String Indexing](#String-Indexing)\n",
    "        * [String Slicing](#String-Slicing)\n",
    "        * [Slicing and Skips](#Slicing-and-Skips)\n",
    "    * [String Methods](#String-Methods)\n",
    "    * [String Library](#String-Library)\n",
    "    * [String Formatting](#String-Formatting)\n",
    "    * [String Literals and Escape Codes](#String-Literals-and-Escape-Codes)\n",
    "* [Reading and Writing Files](#Reading-and-Writing-Files)\n",
    "    * [Writing](#Writing)\n",
    "    * [Reading](#Reading)"
   ]
  },
  {
   "cell_type": "markdown",
   "metadata": {},
   "source": [
    "# Foundational Ideas\n",
    "\n",
    "The authoritative source for Python documentation is found at this website: https://docs.python.org/3.6/reference/index.html.\n",
    "\n",
    "There are two main versions of Python in use: **Python 2** and **Python 3**.  Python 2 has reached its end-of-life as of January 1, 2020, but it is still very common to encounter, especially in legacy projects.  Python 2, however, will no longer be receiving security updates, and so you should focus on Python 3 going forward.\n",
    "\n",
    "The most recent version of Python 3 is version 3.8, however Anaconda only ships with 3.6.  There are improvements and small changes introduced at each of the \"minor\" point updates, but 3.6 is a good, modern version to use.  Make sure that you are looking at the correct version of the documentation!\n",
    "\n",
    "## As a Script\n",
    "\n",
    "**Python** is a **scripting language**.  You, the programmer, write commands in the Python language, and a some helper program (the Python Interpreter) converts what you wrote into instructions that the computer can understand.\n",
    "\n",
    "We are using **Jupyter Notebooks** as our environment for writing snippets of Python in various **cells**.  Jupyter does not interpret the Python scripts, though.  There is a **Python kernel** running in the background (hidden) that Jupyter is communicating with.  In a sense, Jupyter is acting as a **communication bridge** between your script and the kernel.\n",
    "\n",
    "## The Kernel\n",
    "\n",
    "The **kernel** is a Python interpreter.  It is **persistent**, meaning that it does not go away after your code finishes running.\n",
    "\n",
    "This can introduce interesting (dangerous) side effects if you do not protect against them.  While you do not yet know enough about Python to avoid the danger, it will be pointed out in the future when appropriate.\n",
    "\n",
    "Each notebook instance has its own kernel, so any code that you run in one instance will not affect code running in another instance.\n",
    "\n",
    "### Important!!!\n",
    "\n",
    "The most important thing to know about the kernel is that it can fail.  This is not a fault of Python, but is the nature of any program.  In the context of Jupyter Notebooks, you need to know 2 things: **(1)** The kernel can be restarted, giving you a clean slate, and **(2)** if the kernel dies, a new one can be started.\n",
    "\n",
    "Why does the kernel get messed up?\n",
    "\n",
    "* It can happen when you leave the kernel running for a long time but you keep opening and closing your laptop.  I've seen this happen several times, in which a student says that all of the sudden their code doesn't work.  They've had the same Jupyter window open for a week, and we simply restart the kernel and it works again.\n",
    "* It can happen if you write faulty (but legal) code.  This is the equivalent to hitting your finger with a hammer.  Just restart the kernel, and don't run the faulty code again.  We will see examples of this behavior at a later time.\n",
    "\n",
    "## The Cells\n",
    "\n",
    "In Jupyter Notebooks, you code is written in **cells**.  You can instruct Jupyter to run all of the cells in a Notebook at once (well... really it's sequentially), or you can run cells one at a time, in any order.\n",
    "\n",
    "You can run a single cell repeatedly, too.  Just remember that the **kernel is persistent**, meaning that it retains information (variable values, etc.) from one cell to the next."
   ]
  },
  {
   "cell_type": "markdown",
   "metadata": {},
   "source": [
    "## Comments\n",
    "\n",
    "**Comments are your best friend when it comes to programming.**\n",
    "\n",
    "Comments are annotations intended to be read by humans, but ignored by the Python interpreter.\n",
    "\n",
    "In general, comments should not waste time or space explaining **what** your script is doing.  The code itself shows what you are doing.  (An exception, of course, is if you are giving a summary of a large section or documenting a function call.)\n",
    "\n",
    "Comments should explain **why** your code is doing whatever it is doing.\n",
    "\n",
    "Commenting, like poetry, is an art form and it takes a while to learn what good commenting looks like.\n"
   ]
  },
  {
   "cell_type": "code",
   "execution_count": null,
   "metadata": {},
   "outputs": [],
   "source": [
    "# I am a single-line comment.  I start with the pound (hash) sign.\n",
    "\n",
    "\"\"\"\n",
    "I am a multi-line comment.\n",
    "I'm not really a \"comment\" per-se, but Python does not support\n",
    "multi-line comments, so I'm the best that you get.\n",
    "If I'm not really a comment, then what am I?  Well, I'm actually\n",
    "a multi-line string that Python evaluates, and then ignores,\n",
    "because nothing is being done with the string.\n",
    "\"\"\"\n",
    "\n",
    "# The only alternative is to put a pound at the beginning of each line.\n",
    "# This is a pound sign --> #\n",
    "# No, it's not a \"hashtag\".\n",
    "# It was called \"pound\" LONG before \"hashtag\" was even though about...\n",
    "# by about a century! :)\n"
   ]
  },
  {
   "cell_type": "markdown",
   "metadata": {},
   "source": [
    "## Variables and Types\n",
    " * Variables are a \"storage location\" for holding some value which can be used by a Python script.\n",
    " * The contents of a variable is referred to as its \"data\".\n",
    " * All data is of specific \"type\".\n",
    "     * You already do this intuitively.\n",
    "     * **3** is a number.  **\"Hello\"** is a word.\n",
    "     * Computers must be very exact in how they represent these types of data, and this can be confusing for beginners.\n",
    "     * To a computer, **3** is not just a number, but it is an **integer**.\n",
    "     * **3.0** is a floating point number.\n",
    "     * **\"3\"** is a string (not a number at all).\n",
    "     * These distinctions will make more sense as we learn more about programming.\n",
    " * There are many different data types.\n",
    "   * Built-in: https://docs.python.org/3.6/library/stdtypes.html\n",
    "   * Collections: https://docs.python.org/3.6/library/datatypes.html\n",
    " * We will focus on a few \"core\" data types.\n",
    " \n",
    "### Variable Rules\n",
    " \n",
    "Variables have a name provided by you, the programmer.  A variable name can be simple (e.g., `i`, as you see below) or complex (e.g., `my_first_variable`).\n",
    " \n",
    "Variable names have only a few guidelines:\n",
    "  * It can contain any combination of letters `a-z`, `A-Z`, numbers `0-9`, and the underscore `_` with a few restrictions, given below.\n",
    "      * The first character cannot be a number.\n",
    "      * It cannot be a [reserved word](https://docs.python.org/3.6/reference/lexical_analysis.html#keywords).\n",
    "  * Variable names should be **logical** and convey some meaning about what they represent.\n",
    "  * For consistency (and ease of reading your code) use a consistent variable name style.\n",
    "      * Underscores: `user_first_name`\n",
    "      * Camel Case: `userFirstName`"
   ]
  },
  {
   "cell_type": "code",
   "execution_count": 1,
   "metadata": {},
   "outputs": [
    {
     "name": "stdout",
     "output_type": "stream",
     "text": [
      "i is of type: <class 'int'>\n",
      "j is of type: <class 'float'>\n",
      "k is of type: <class 'str'>\n"
     ]
    }
   ],
   "source": [
    "# The number 3\n",
    "i = 3\n",
    "print(\"i is of type:\", type(i))\n",
    "\n",
    "j = 3.0\n",
    "print(\"j is of type:\", type(j))\n",
    "\n",
    "k = \"3\"\n",
    "print(\"k is of type:\", type(k))"
   ]
  },
  {
   "cell_type": "markdown",
   "metadata": {},
   "source": [
    "In the above example, `i`, `j`, and `k` are variables.  They hold a value that is assigned to them using the equal sign.  Notice that each variable has a different type, depending on how it was assigned.\n",
    "\n",
    "We used a `print()` function to output information.  Notice that we can put multiple **arguments** in the `print()` function call.  For example:"
   ]
  },
  {
   "cell_type": "code",
   "execution_count": 3,
   "metadata": {},
   "outputs": [
    {
     "ename": "NameError",
     "evalue": "name 'i' is not defined",
     "output_type": "error",
     "traceback": [
      "\u001b[1;31m---------------------------------------------------------------------------\u001b[0m",
      "\u001b[1;31mNameError\u001b[0m                                 Traceback (most recent call last)",
      "\u001b[1;32mc:\\Users\\loick\\OneDrive\\1- GitRepo\\Python\\Python_Tutorial\\Python_Tutorial\\Section 1.ipynb Cell 8'\u001b[0m in \u001b[0;36m<cell line: 6>\u001b[1;34m()\u001b[0m\n\u001b[0;32m      <a href='vscode-notebook-cell:/c%3A/Users/loick/OneDrive/1-%20GitRepo/Python/Python_Tutorial/Python_Tutorial/Section%201.ipynb#ch0000007?line=0'>1</a>\u001b[0m \u001b[39m# Notice that the space after the comma in the script does not matter.\u001b[39;00m\n\u001b[0;32m      <a href='vscode-notebook-cell:/c%3A/Users/loick/OneDrive/1-%20GitRepo/Python/Python_Tutorial/Python_Tutorial/Section%201.ipynb#ch0000007?line=1'>2</a>\u001b[0m \u001b[39m# Also notice that the print() function will put a space in between\u001b[39;00m\n\u001b[0;32m      <a href='vscode-notebook-cell:/c%3A/Users/loick/OneDrive/1-%20GitRepo/Python/Python_Tutorial/Python_Tutorial/Section%201.ipynb#ch0000007?line=2'>3</a>\u001b[0m \u001b[39m# each variable for us, and that it puts a newline at the end of the line.\u001b[39;00m\n\u001b[0;32m      <a href='vscode-notebook-cell:/c%3A/Users/loick/OneDrive/1-%20GitRepo/Python/Python_Tutorial/Python_Tutorial/Section%201.ipynb#ch0000007?line=3'>4</a>\u001b[0m \u001b[39m# Lastly, notice that we are not re-declaring the i, j, & k variables.\u001b[39;00m\n\u001b[0;32m      <a href='vscode-notebook-cell:/c%3A/Users/loick/OneDrive/1-%20GitRepo/Python/Python_Tutorial/Python_Tutorial/Section%201.ipynb#ch0000007?line=4'>5</a>\u001b[0m \u001b[39m# The kernel remembered them from the previous cell execution.\u001b[39;00m\n\u001b[1;32m----> <a href='vscode-notebook-cell:/c%3A/Users/loick/OneDrive/1-%20GitRepo/Python/Python_Tutorial/Python_Tutorial/Section%201.ipynb#ch0000007?line=5'>6</a>\u001b[0m \u001b[39mprint\u001b[39m(i,j,k, end\u001b[39m=\u001b[39m\u001b[39m\"\u001b[39m\u001b[39m\"\u001b[39m)\n\u001b[0;32m      <a href='vscode-notebook-cell:/c%3A/Users/loick/OneDrive/1-%20GitRepo/Python/Python_Tutorial/Python_Tutorial/Section%201.ipynb#ch0000007?line=6'>7</a>\u001b[0m \u001b[39mprint\u001b[39m(i, j, k)\n\u001b[0;32m      <a href='vscode-notebook-cell:/c%3A/Users/loick/OneDrive/1-%20GitRepo/Python/Python_Tutorial/Python_Tutorial/Section%201.ipynb#ch0000007?line=8'>9</a>\u001b[0m \u001b[39mprint\u001b[39m(i, j, k, sep\u001b[39m=\u001b[39m\u001b[39m\"\u001b[39m\u001b[39m HOWDY!!!! \u001b[39m\u001b[39m\"\u001b[39m)\n",
      "\u001b[1;31mNameError\u001b[0m: name 'i' is not defined"
     ]
    }
   ],
   "source": [
    "# Notice that the space after the comma in the script does not matter.\n",
    "# Also notice that the print() function will put a space in between\n",
    "# each variable for us, and that it puts a newline at the end of the line.\n",
    "# Lastly, notice that we are not re-declaring the i, j, & k variables.\n",
    "# The kernel remembered them from the previous cell execution.\n",
    "print(i,j,k)\n",
    "print(i, j, k)\n",
    "\n",
    "print(i, j, k, sep=\" HOWDY!!!! \") # more advanced, will discuss later"
   ]
  },
  {
   "cell_type": "code",
   "execution_count": 4,
   "metadata": {},
   "outputs": [
    {
     "ename": "NameError",
     "evalue": "name 'k' is not defined",
     "output_type": "error",
     "traceback": [
      "\u001b[1;31m---------------------------------------------------------------------------\u001b[0m",
      "\u001b[1;31mNameError\u001b[0m                                 Traceback (most recent call last)",
      "\u001b[1;32mc:\\Users\\loick\\OneDrive\\1- GitRepo\\Python\\Python_Tutorial\\Python_Tutorial\\Section 1.ipynb Cell 9'\u001b[0m in \u001b[0;36m<cell line: 1>\u001b[1;34m()\u001b[0m\n\u001b[1;32m----> <a href='vscode-notebook-cell:/c%3A/Users/loick/OneDrive/1-%20GitRepo/Python/Python_Tutorial/Python_Tutorial/Section%201.ipynb#ch0000008?line=0'>1</a>\u001b[0m \u001b[39mprint\u001b[39m(k)\n",
      "\u001b[1;31mNameError\u001b[0m: name 'k' is not defined"
     ]
    }
   ],
   "source": [
    "print(k)"
   ]
  },
  {
   "cell_type": "markdown",
   "metadata": {},
   "source": [
    "We used the `type()` function to ask the interpreter which type it is using to represent a variable.  Types matter when we begin to combine variables, as we will see soon."
   ]
  },
  {
   "cell_type": "markdown",
   "metadata": {},
   "source": [
    "### Converting Types\n",
    "\n",
    "You can explicitly convert a variable from one type to another by using a **constructor** for that type.  While this can be a rather complex subject, thankfully it is rather straightforward for the basic types.\n",
    "\n",
    "`int()`, `float()`, and `str()` are the functions that we care about."
   ]
  },
  {
   "cell_type": "code",
   "execution_count": 5,
   "metadata": {},
   "outputs": [
    {
     "name": "stdout",
     "output_type": "stream",
     "text": [
      "3 <class 'int'>\n",
      "3.0 <class 'float'>\n",
      "3.0 <class 'str'>\n"
     ]
    }
   ],
   "source": [
    "i = 3\n",
    "print(i, type(i))\n",
    "\n",
    "j = float(i)\n",
    "print(j, type(j))\n",
    "\n",
    "k = str(j)\n",
    "print(k, type(k))"
   ]
  },
  {
   "cell_type": "code",
   "execution_count": 6,
   "metadata": {},
   "outputs": [
    {
     "name": "stdout",
     "output_type": "stream",
     "text": [
      "9\n",
      "9.0\n",
      "3.03.03.0\n"
     ]
    }
   ],
   "source": [
    "# Notice the difference:\n",
    "print(i * 3)\n",
    "print(j * 3)\n",
    "print(k * 3)"
   ]
  },
  {
   "cell_type": "code",
   "execution_count": 7,
   "metadata": {},
   "outputs": [
    {
     "name": "stdout",
     "output_type": "stream",
     "text": [
      "3.5 <class 'float'>\n",
      "3 <class 'int'>\n",
      "3.5 <class 'str'>\n"
     ]
    }
   ],
   "source": [
    "# And converting from a float:\n",
    "i = 3.5\n",
    "print(i, type(i))\n",
    "\n",
    "j = int(i)\n",
    "print(j, type(j))\n",
    "\n",
    "k = str(i)\n",
    "print(k, type(k))"
   ]
  },
  {
   "cell_type": "code",
   "execution_count": 9,
   "metadata": {},
   "outputs": [
    {
     "name": "stdout",
     "output_type": "stream",
     "text": [
      "3.5 <class 'str'>\n",
      "3.5 <class 'float'>\n"
     ]
    },
    {
     "ename": "ValueError",
     "evalue": "invalid literal for int() with base 10: '3.5'",
     "output_type": "error",
     "traceback": [
      "\u001b[1;31m---------------------------------------------------------------------------\u001b[0m",
      "\u001b[1;31mValueError\u001b[0m                                Traceback (most recent call last)",
      "\u001b[1;32mc:\\Users\\loick\\OneDrive\\1- GitRepo\\Python\\Python_Tutorial\\Python_Tutorial\\Section 1.ipynb Cell 15'\u001b[0m in \u001b[0;36m<cell line: 9>\u001b[1;34m()\u001b[0m\n\u001b[0;32m      <a href='vscode-notebook-cell:/c%3A/Users/loick/OneDrive/1-%20GitRepo/Python/Python_Tutorial/Python_Tutorial/Section%201.ipynb#ch0000014?line=5'>6</a>\u001b[0m j \u001b[39m=\u001b[39m \u001b[39mfloat\u001b[39m(i)\n\u001b[0;32m      <a href='vscode-notebook-cell:/c%3A/Users/loick/OneDrive/1-%20GitRepo/Python/Python_Tutorial/Python_Tutorial/Section%201.ipynb#ch0000014?line=6'>7</a>\u001b[0m \u001b[39mprint\u001b[39m(j, \u001b[39mtype\u001b[39m(j))\n\u001b[1;32m----> <a href='vscode-notebook-cell:/c%3A/Users/loick/OneDrive/1-%20GitRepo/Python/Python_Tutorial/Python_Tutorial/Section%201.ipynb#ch0000014?line=8'>9</a>\u001b[0m k \u001b[39m=\u001b[39m \u001b[39mint\u001b[39;49m(i)\n\u001b[0;32m     <a href='vscode-notebook-cell:/c%3A/Users/loick/OneDrive/1-%20GitRepo/Python/Python_Tutorial/Python_Tutorial/Section%201.ipynb#ch0000014?line=9'>10</a>\u001b[0m \u001b[39mprint\u001b[39m(k, \u001b[39mtype\u001b[39m(k))\n",
      "\u001b[1;31mValueError\u001b[0m: invalid literal for int() with base 10: '3.5'"
     ]
    }
   ],
   "source": [
    "# What about converting from a string?\n",
    "\n",
    "i = \"3.5\"\n",
    "print(i, type(i))\n",
    "\n",
    "j = float(i)\n",
    "print(j, type(j))\n",
    "\n",
    "k = int(i)\n",
    "print(k, type(k))"
   ]
  },
  {
   "cell_type": "markdown",
   "metadata": {},
   "source": [
    "### Our first error!\n",
    "\n",
    "The interpreter could not convert the string `\"3.5\"` into an integer value.  It doesn't make sense, and so the interpreter must communicate that fact back to the programmer (you).  It does so by raising an **error**.\n",
    "\n",
    "In this case, the error is called a **ValueError**, and the error message tells you more information so that you can track down the error.\n",
    "\n",
    "For the moment, we will do a quick workaround, but in the future we will learn how to handle errors more gracefully."
   ]
  },
  {
   "cell_type": "code",
   "execution_count": 8,
   "metadata": {},
   "outputs": [
    {
     "name": "stdout",
     "output_type": "stream",
     "text": [
      "3 <class 'int'>\n"
     ]
    }
   ],
   "source": [
    "# This works!\n",
    "i = \"3.5\"\n",
    "j = int(float(i))\n",
    "print(j, type(j))"
   ]
  },
  {
   "cell_type": "markdown",
   "metadata": {},
   "source": [
    "Notice that, in order to work around the error, we **composed** our function call.  That is, we used the output of the `float()` conversion as the input to `int()` conversion.\n",
    "\n",
    "You will see many more examples of this type of programming throughout the course."
   ]
  },
  {
   "cell_type": "markdown",
   "metadata": {},
   "source": [
    "### Combining types\n",
    "\n",
    "Python is \"weakly typed\", meaning a variable can change its type.  That means that the interpreter needs to **guess** when to change a variable's type, and it's usually correct so as to preserve information."
   ]
  },
  {
   "cell_type": "code",
   "execution_count": 10,
   "metadata": {},
   "outputs": [
    {
     "name": "stdout",
     "output_type": "stream",
     "text": [
      "i = 3\n",
      "i is of type:  <class 'int'>\n",
      ".5 is of type <class 'float'>\n",
      "i = 3.5\n",
      "i is of type:  <class 'float'>\n"
     ]
    }
   ],
   "source": [
    "i = 3\n",
    "print(\"i =\", i)\n",
    "print(\"i is of type: \", type(i))\n",
    "\n",
    "print(\".5 is of type\", type(.5))\n",
    "\n",
    "i = i + .5\n",
    "print(\"i =\", i)\n",
    "print(\"i is of type: \", type(i))\n"
   ]
  },
  {
   "cell_type": "code",
   "execution_count": 3,
   "metadata": {},
   "outputs": [
    {
     "name": "stdout",
     "output_type": "stream",
     "text": [
      "Hello world!\n",
      "<class 'str'>\n"
     ]
    }
   ],
   "source": [
    "# A string is a sequence of characters (letters, numbers, symbols, etc.)\n",
    "s = \"Hello world!\"\n",
    "print(s)\n",
    "print(type(s))"
   ]
  },
  {
   "cell_type": "code",
   "execution_count": 5,
   "metadata": {},
   "outputs": [
    {
     "name": "stdout",
     "output_type": "stream",
     "text": [
      "Corey Pennycuff\n",
      "CoreyPennycuff\n",
      "Corey Pennycuff\n"
     ]
    }
   ],
   "source": [
    "# \"Adding\" strings together.\n",
    "\n",
    "myFirstName = \"Corey\"\n",
    "myLastName = \"Pennycuff\"\n",
    "print(myFirstName, myLastName)\n",
    "\n",
    "myName = myFirstName + myLastName\n",
    "print(myName)\n",
    "\n",
    "myName = myFirstName + \" \" + myLastName\n",
    "print(myName)"
   ]
  },
  {
   "cell_type": "code",
   "execution_count": 6,
   "metadata": {},
   "outputs": [
    {
     "name": "stdout",
     "output_type": "stream",
     "text": [
      "Corey PennycuffCorey PennycuffCorey Pennycuff\n"
     ]
    }
   ],
   "source": [
    "# What about this?\n",
    "# How do you describe this behavior?\n",
    "print(myName * 3)"
   ]
  },
  {
   "cell_type": "markdown",
   "metadata": {},
   "source": [
    "In the following two cells, notice that the \"addition\" causes an error.  Moreover, the error is slightly different, depending on whether you are trying to add a string to a number, or add a number to a string.\n",
    "\n",
    "The reason behind the difference will be covered in a later lecture.  For now, just know that Python does not support \"addition\" between strings and numbers.\n",
    "\n",
    "There are a few work-arounds, the easiest of which is to simply convert the number into a string using `str()`."
   ]
  },
  {
   "cell_type": "code",
   "execution_count": null,
   "metadata": {},
   "outputs": [],
   "source": [
    "message = \"hello\"\n",
    "number = 42\n",
    "print(message + number)"
   ]
  },
  {
   "cell_type": "code",
   "execution_count": null,
   "metadata": {},
   "outputs": [],
   "source": [
    "message = \"hello\"\n",
    "number = 42\n",
    "print(number + message)"
   ]
  },
  {
   "cell_type": "code",
   "execution_count": null,
   "metadata": {},
   "outputs": [],
   "source": [
    "# Convert the number to a string.\n",
    "message = \"hello\"\n",
    "number = 42\n",
    "print(str(number) + message)\n",
    "\n",
    "# Of course, you could bypass the error altogether by passing\n",
    "# `number` and `message` into print separately.\n",
    "print(number, message)"
   ]
  },
  {
   "cell_type": "markdown",
   "metadata": {
    "scrolled": true
   },
   "source": [
    "## Boolean Type\n",
    "\n",
    "These are \"logical\" values, **True** and **False**.  We will discuss them in more detail later."
   ]
  },
  {
   "cell_type": "code",
   "execution_count": null,
   "metadata": {
    "scrolled": true
   },
   "outputs": [],
   "source": [
    "print(\"\\\"True\\\" is of type: \", type(True))\n",
    "myLogicalVariable = True\n",
    "\n",
    "print('The value is:', myLogicalVariable)\n",
    "print('with a not:', not myLogicalVariable)\n",
    "print('with a not not:', not not myLogicalVariable)\n",
    "print('True and True:', True and True)\n",
    "print('True and False:', True and False)\n",
    "print('True or True:', True or True)\n",
    "print('True or False:', True or False)\n",
    "\n",
    "# What about converting from a number to a bool?\n",
    "print(\"3: \", bool(3))\n",
    "print(\"0: \", bool(0))\n",
    "print(\"-1:\", bool(-1))"
   ]
  },
  {
   "cell_type": "markdown",
   "metadata": {},
   "source": [
    "There are also container types (**List**, **Dict**, **Tuple**) which we will cover later in this course."
   ]
  },
  {
   "cell_type": "markdown",
   "metadata": {},
   "source": [
    "## Printing Stuff\n",
    "* The `print()` function will output the value passed to it.\n",
    "  * In Python 2, `print` is a statement, not a function.\n",
    "  * I'm only including this fact so that, if you see any Python 2 code, it won't throw you off.\n",
    "* `print()` can accept a \"string\" (an ordered list of characters) or any other variables or values\n",
    "* The old way to format strings:\n",
    "    * A string can include formatting instructions to embed other values within the format string.  It's form is a string, followed by a `%`, followed by either a single value or an ordered list of values.\n",
    "      * https://docs.python.org/3.6/library/stdtypes.html#printf-style-string-formatting\n",
    "      * `%d` is for digits, `%f` for floating point numbers, and `%s`for other strings\n",
    "      * `%` cannot be printed unless it is escaped, written as `%%`\n",
    "      * See the documentation for many more options.\n",
    "* The new way uses \"format\" strings\n",
    "  * https://docs.python.org/3.6/library/string.html#format-string-syntax\n",
    "  * https://docs.python.org/3/library/string.html#formatspec\n",
    "  * https://www.python-course.eu/python3_formatted_output.php\n",
    "* Single quotes (`'`) work, so do double quotes (`\"`), so do multi-line strings (`\"\"\"`)\n",
    "* Each `print()` statement is followed by a newline, unless expressly overridden."
   ]
  },
  {
   "cell_type": "code",
   "execution_count": null,
   "metadata": {},
   "outputs": [],
   "source": [
    "# Printing a String\n",
    "print(\"foo\")\n",
    "print(\"foo bar baz\")"
   ]
  },
  {
   "cell_type": "code",
   "execution_count": 11,
   "metadata": {},
   "outputs": [
    {
     "name": "stdout",
     "output_type": "stream",
     "text": [
      "42.5\n",
      "=== Old Formatting ===\n",
      "42\n",
      "42.500000\n",
      "=== New Formatting ===\n",
      "42\n",
      "42.5\n",
      "=== New Formatting, Shorter Format ===\n",
      "42\n",
      "42.5\n"
     ]
    }
   ],
   "source": [
    "# Integer versus a Float\n",
    "x = 42.5\n",
    "print(x)\n",
    "print(\"=== Old Formatting ===\")\n",
    "print(\"%d\" % x) # print as Int\n",
    "print(\"%f\" % x) # print as Float\n",
    "print(\"=== New Formatting ===\")\n",
    "print(\"{}\".format(int(x))) # print as Int\n",
    "print(\"{}\".format(x))      # print as Float\n",
    "print(\"=== New Formatting, Shorter Format ===\")\n",
    "print(f\"{int(x)}\")\n",
    "print(f\"{x}\")"
   ]
  },
  {
   "cell_type": "code",
   "execution_count": null,
   "metadata": {},
   "outputs": [],
   "source": [
    "\"There are %d people in the Zoom call\" % 25"
   ]
  },
  {
   "cell_type": "code",
   "execution_count": null,
   "metadata": {},
   "outputs": [],
   "source": [
    "\"There are {} people in the Zoom call\".format(25)"
   ]
  },
  {
   "cell_type": "code",
   "execution_count": null,
   "metadata": {},
   "outputs": [],
   "source": [
    "f\"There are {25} people in the Zoom call\""
   ]
  },
  {
   "cell_type": "code",
   "execution_count": null,
   "metadata": {},
   "outputs": [],
   "source": [
    "number = 25\n",
    "f\"There are {number} people in the Zoom call\""
   ]
  },
  {
   "cell_type": "code",
   "execution_count": null,
   "metadata": {},
   "outputs": [],
   "source": [
    "# Multiple arguments\n",
    "x = 42.5\n",
    "print(\"%d is an %s, %f is a %s\" % (x, type(int(x)), x, type(x)))\n",
    "print(\"{} is an {}, {} is a {}\".format(int(x), type(int(x)), x, type(x)))\n",
    "print(f\"{int(x)} is an {type(int(x))}, {x} is a {type(x)}\")"
   ]
  },
  {
   "cell_type": "code",
   "execution_count": 12,
   "metadata": {},
   "outputs": [
    {
     "name": "stdout",
     "output_type": "stream",
     "text": [
      ".3 is the same as 30%\n",
      "0.300000 is the same as 30%\n",
      "3 vs. {x}\n"
     ]
    }
   ],
   "source": [
    "# Escaping the `%` (when necessary)\n",
    "print(\".3 is the same as 30%\")\n",
    "print(\"%f is the same as 30%%\" % .3)\n",
    "# also, escaping \"{\" and \"}\"\n",
    "x = 3\n",
    "print(f\"{x} vs. {{x}}\")"
   ]
  },
  {
   "cell_type": "code",
   "execution_count": 13,
   "metadata": {},
   "outputs": [
    {
     "name": "stdout",
     "output_type": "stream",
     "text": [
      "This text will all appear on the same line!\n",
      "This text will \n",
      "all appear \n",
      "on different lines!\n"
     ]
    }
   ],
   "source": [
    "# Getting rid of the automatic newline\n",
    "print(\"This text will \", end=\"\")\n",
    "print(\"all appear \", end=\"\")\n",
    "print(\"on the same line!\")\n",
    "\n",
    "print(\"This text will \")\n",
    "print(\"all appear \")\n",
    "print(\"on different lines!\")"
   ]
  },
  {
   "cell_type": "code",
   "execution_count": 14,
   "metadata": {},
   "outputs": [
    {
     "name": "stdout",
     "output_type": "stream",
     "text": [
      "I contain 'single' quotes\n",
      "What do you 'mean'?\n",
      "Nothing.  I \"promise\"!\n",
      "I don't think that either of you\n",
      "are trustworthy!\n",
      "\n",
      "\n",
      "Me\n",
      "either\n",
      "!\n"
     ]
    }
   ],
   "source": [
    "# Quotes\n",
    "print(\"I contain 'single' quotes\")\n",
    "print('What do you \\'mean\\'?')\n",
    "print(\"Nothing.  I \\\"promise\\\"!\")\n",
    "print('''I don't think that either of you\n",
    "are trustworthy!\n",
    "\n",
    "''')\n",
    "print(\"\"\"Me\n",
    "%s\n",
    "!\"\"\" % \"either\")"
   ]
  },
  {
   "cell_type": "markdown",
   "metadata": {},
   "source": [
    "## Arithmetic operators\n",
    "* Standard operators: `+ - *`\n",
    " * Note: Division (`/`) behaves differently in Python 3 vs Python 2.\n",
    "   * Python 2 treats `/` as integer division, unless floats are specified.\n",
    "   * Python 3 treats `/` as float division.\n",
    " * `//` is integer division in both Python 2 and 3\n",
    " * `%` is modulo, and returns an integer\n",
    " * `**` is exponentiation, not `^`!\n",
    "* Order of operations, when in doubt, use parenthesis!\n",
    " * https://docs.python.org/3.6/reference/expressions.html#operator-precedence"
   ]
  },
  {
   "cell_type": "code",
   "execution_count": 15,
   "metadata": {},
   "outputs": [
    {
     "name": "stdout",
     "output_type": "stream",
     "text": [
      "3 / 2 = 1.500000\n",
      "3 // 2 = 1.000000\n"
     ]
    }
   ],
   "source": [
    "print (\"3 / 2 = %f\" % (3 / 2))\n",
    "print (\"3 // 2 = %f\" % (3 // 2))"
   ]
  },
  {
   "cell_type": "code",
   "execution_count": null,
   "metadata": {},
   "outputs": [],
   "source": [
    "print (\"3 + 2 = %d\" % (3 + 2))\n",
    "print (\"7 - 13 = %d\" % (7 - 13))"
   ]
  },
  {
   "cell_type": "code",
   "execution_count": 16,
   "metadata": {},
   "outputs": [
    {
     "name": "stdout",
     "output_type": "stream",
     "text": [
      "8 * .4 = 3\n",
      "8 * .4 = 3.200000\n"
     ]
    }
   ],
   "source": [
    "# Notice the difference between %d and %f\n",
    "print (\"8 * .4 = %d\" % (8 * .4))\n",
    "print (\"8 * .4 = %f\" % (8 * .4))"
   ]
  },
  {
   "cell_type": "code",
   "execution_count": null,
   "metadata": {},
   "outputs": [],
   "source": [
    "print (\"8 // 3 = %d\" % (8 // 3))\n",
    "# % is the \"modulus\" (e.g., the \"remainder\")\n",
    "print (\"278 %% 13 = %d\" % (278 % 13))"
   ]
  },
  {
   "cell_type": "code",
   "execution_count": null,
   "metadata": {},
   "outputs": [],
   "source": [
    "-1 % 3"
   ]
  },
  {
   "cell_type": "code",
   "execution_count": 17,
   "metadata": {},
   "outputs": [
    {
     "name": "stdout",
     "output_type": "stream",
     "text": [
      "This number (3.141593) is pi.\n",
      "This number (3.142) is pi.\n",
      "This number (     3.142) is pi.\n",
      "This number (000003.142) is pi.\n",
      "This number (+00003.142) is pi.\n",
      "-00003.142\n",
      "8.675309e+06\n"
     ]
    }
   ],
   "source": [
    "# Fancy formatting\n",
    "import math\n",
    "print (\"This number (%f) is pi.\" % math.pi)\n",
    "print (\"This number (%.3f) is pi.\" % math.pi)\n",
    "print (\"This number (%10.3f) is pi.\" % math.pi)\n",
    "print (\"This number (%010.3f) is pi.\" % math.pi)\n",
    "print (\"This number (%+010.3f) is pi.\" % math.pi)\n",
    "print (\"%+010.3f\" % -math.pi)\n",
    "print (\"%e\" % 8675309)"
   ]
  },
  {
   "cell_type": "code",
   "execution_count": null,
   "metadata": {},
   "outputs": [],
   "source": [
    "# Fancy formatting, with format strings\n",
    "# https://docs.python.org/3/library/string.html#format-specification-mini-language\n",
    "print (f\"This number ({math.pi}) is pi.\")\n",
    "print (f\"This number ({math.pi:.3}) is pi.\")  # 3 digits, before & after decimal\n",
    "print (f\"This number ({math.pi:.3f}) is pi.\") # 3 digits after decimal\n",
    "print (f\"This number ({math.pi:10.3f}) is pi.\")\n",
    "print (f\"This number ({math.pi:010.3f}) is pi.\")\n",
    "print (f\"This number ({math.pi:+010.3f}) is pi.\")\n",
    "print (\"{:+010.3f}\".format(-math.pi))\n",
    "print (\"{:e}\".format(8675309))"
   ]
  },
  {
   "cell_type": "code",
   "execution_count": null,
   "metadata": {},
   "outputs": [],
   "source": [
    "# Exponentiation\n",
    "print(\"4 ** 3.8 = %f\" % (4 ** 3.8))"
   ]
  },
  {
   "cell_type": "code",
   "execution_count": null,
   "metadata": {},
   "outputs": [],
   "source": [
    "4 ** 2"
   ]
  },
  {
   "cell_type": "code",
   "execution_count": null,
   "metadata": {},
   "outputs": [],
   "source": [
    "2 ** .5"
   ]
  },
  {
   "cell_type": "code",
   "execution_count": null,
   "metadata": {},
   "outputs": [],
   "source": [
    "import math\n",
    "math.sqrt(2)"
   ]
  },
  {
   "cell_type": "markdown",
   "metadata": {},
   "source": [
    "## String Arithmatic"
   ]
  },
  {
   "cell_type": "code",
   "execution_count": 18,
   "metadata": {},
   "outputs": [
    {
     "name": "stdout",
     "output_type": "stream",
     "text": [
      "Hi Bye\n",
      "HaHaHa\n"
     ]
    }
   ],
   "source": [
    "print(\"Hi\" + \" \" + \"Bye\")\n",
    "print(\"Ha\" * 3)"
   ]
  },
  {
   "cell_type": "code",
   "execution_count": null,
   "metadata": {},
   "outputs": [],
   "source": [
    "print(\"Na\" * 16, \"Batman!\")"
   ]
  },
  {
   "cell_type": "markdown",
   "metadata": {},
   "source": [
    "## Boolean and Logic Operators\n",
    "`<`, `<=`, `>`, `>=`, `==`, `!=` compare two values and return `True` or `False`.\n",
    "\n",
    "`and`, `or`, and `not` can combine/modify `True` and `False` values."
   ]
  },
  {
   "cell_type": "code",
   "execution_count": 19,
   "metadata": {},
   "outputs": [
    {
     "name": "stdout",
     "output_type": "stream",
     "text": [
      "False\n",
      "3\n"
     ]
    }
   ],
   "source": [
    "x = 3\n",
    "print(x == 4)\n",
    "print(x)\n",
    "# Wait, what???"
   ]
  },
  {
   "cell_type": "markdown",
   "metadata": {},
   "source": [
    "`=` is an **assignment operator**\n",
    "\n",
    "`==` is an **equality check**"
   ]
  },
  {
   "cell_type": "code",
   "execution_count": null,
   "metadata": {},
   "outputs": [],
   "source": [
    "print(type(x == 4))\n",
    "print(x==4)"
   ]
  },
  {
   "cell_type": "code",
   "execution_count": null,
   "metadata": {},
   "outputs": [],
   "source": [
    "# Logic operators can be combined in a form of shorthand notation.\n",
    "# (Note: I don't see this very often in the real world.)\n",
    "print ((1 < 2) and (2 < 3))\n",
    "print(1 < 2 < 3)\n",
    "\n",
    "print()\n",
    "print((10 < 2) and (x < 3))\n",
    "print(10 < 2 < 3)"
   ]
  },
  {
   "cell_type": "code",
   "execution_count": null,
   "metadata": {},
   "outputs": [],
   "source": [
    "x = 3\n",
    "y = 5\n",
    "z = 10\n",
    "print (x < y < z)"
   ]
  },
  {
   "cell_type": "code",
   "execution_count": null,
   "metadata": {},
   "outputs": [],
   "source": [
    "# Logic operators can be combined.\n",
    "True or False"
   ]
  },
  {
   "cell_type": "code",
   "execution_count": null,
   "metadata": {},
   "outputs": [],
   "source": [
    "not False"
   ]
  },
  {
   "cell_type": "code",
   "execution_count": null,
   "metadata": {},
   "outputs": [],
   "source": [
    "not True and not False"
   ]
  },
  {
   "cell_type": "markdown",
   "metadata": {},
   "source": [
    "# Variables\n",
    "A variable is a discrete memory location used to store values.  Variables may be assigned and re-assigned."
   ]
  },
  {
   "cell_type": "code",
   "execution_count": null,
   "metadata": {},
   "outputs": [],
   "source": [
    "x = 4\n",
    "print(x)\n",
    "x = 5\n",
    "print(x)\n",
    "\n",
    "# Variables as strings\n",
    "x = \"Howdy\"\n",
    "x = x + \" Ya'll!\"\n",
    "print(x)"
   ]
  },
  {
   "cell_type": "markdown",
   "metadata": {},
   "source": [
    "Variables have a type associated with them."
   ]
  },
  {
   "cell_type": "code",
   "execution_count": null,
   "metadata": {},
   "outputs": [],
   "source": [
    "x = 5\n",
    "type(x)"
   ]
  },
  {
   "cell_type": "code",
   "execution_count": null,
   "metadata": {},
   "outputs": [],
   "source": [
    "type(4.5)"
   ]
  },
  {
   "cell_type": "code",
   "execution_count": null,
   "metadata": {},
   "outputs": [],
   "source": [
    "type(\"Foo\")"
   ]
  },
  {
   "cell_type": "code",
   "execution_count": null,
   "metadata": {},
   "outputs": [],
   "source": [
    "type (3 < 4)"
   ]
  },
  {
   "cell_type": "markdown",
   "metadata": {},
   "source": [
    "Variables can be substituted for values in expressions."
   ]
  },
  {
   "cell_type": "code",
   "execution_count": null,
   "metadata": {},
   "outputs": [],
   "source": [
    "x < 8"
   ]
  },
  {
   "cell_type": "code",
   "execution_count": null,
   "metadata": {},
   "outputs": [],
   "source": [
    "# Testing for inequality\n",
    "print(x != -18)\n",
    "print(x != 5)"
   ]
  },
  {
   "cell_type": "markdown",
   "metadata": {},
   "source": [
    "Variables can reference themselves in an assignment operator."
   ]
  },
  {
   "cell_type": "code",
   "execution_count": null,
   "metadata": {},
   "outputs": [],
   "source": [
    "x = 5\n",
    "print(\"x = %d\" % x)\n",
    "x = (x + 3) * x\n",
    "print('... and now ...')\n",
    "print(\"x = %d\" % x)"
   ]
  },
  {
   "cell_type": "markdown",
   "metadata": {},
   "source": [
    "# Types of Errors\n",
    "\n",
    "* Compilation/Syntax Errors\n",
    "* Runtime Errors\n",
    "* Semantic/Logic Errors"
   ]
  },
  {
   "cell_type": "markdown",
   "metadata": {},
   "source": [
    "## Compilation/Syntax Errors\n",
    "* Your code cannot be executed because the compiler doesn't understand the code that you have written.\n",
    "* It is usually called, quite literally, a **SyntaxError**, but it may have other descriptive names as well."
   ]
  },
  {
   "cell_type": "code",
   "execution_count": 20,
   "metadata": {},
   "outputs": [
    {
     "ename": "SyntaxError",
     "evalue": "cannot assign to literal (3927954352.py, line 1)",
     "output_type": "error",
     "traceback": [
      "\u001b[1;36m  Input \u001b[1;32mIn [20]\u001b[1;36m\u001b[0m\n\u001b[1;33m    3 = y\u001b[0m\n\u001b[1;37m    ^\u001b[0m\n\u001b[1;31mSyntaxError\u001b[0m\u001b[1;31m:\u001b[0m cannot assign to literal\n"
     ]
    }
   ],
   "source": [
    "3 = y"
   ]
  },
  {
   "cell_type": "code",
   "execution_count": 21,
   "metadata": {},
   "outputs": [
    {
     "ename": "SyntaxError",
     "evalue": "leading zeros in decimal integer literals are not permitted; use an 0o prefix for octal integers (3281144363.py, line 3)",
     "output_type": "error",
     "traceback": [
      "\u001b[1;36m  Input \u001b[1;32mIn [21]\u001b[1;36m\u001b[0m\n\u001b[1;33m    042\u001b[0m\n\u001b[1;37m      ^\u001b[0m\n\u001b[1;31mSyntaxError\u001b[0m\u001b[1;31m:\u001b[0m leading zeros in decimal integer literals are not permitted; use an 0o prefix for octal integers\n"
     ]
    }
   ],
   "source": [
    "0\n",
    "42\n",
    "042"
   ]
  },
  {
   "cell_type": "code",
   "execution_count": null,
   "metadata": {},
   "outputs": [],
   "source": [
    "x = 3 4"
   ]
  },
  {
   "cell_type": "code",
   "execution_count": null,
   "metadata": {},
   "outputs": [],
   "source": [
    "x = 3 + \n",
    "4\n",
    "print(x)"
   ]
  },
  {
   "cell_type": "code",
   "execution_count": 22,
   "metadata": {},
   "outputs": [
    {
     "name": "stdout",
     "output_type": "stream",
     "text": [
      "7\n"
     ]
    }
   ],
   "source": [
    "# The backslash, however, makes this valid\n",
    "x = 3 + \\\n",
    "4\n",
    "print(x)"
   ]
  },
  {
   "cell_type": "markdown",
   "metadata": {},
   "source": [
    "## Runtime Error\n",
    "* An error that causes the execution of your code to stop.\n",
    "* This is often called an **Exception**, although there are many types of Exceptions.\n",
    "* In the future, we will see how to prevent these Exceptions from halting our program."
   ]
  },
  {
   "cell_type": "code",
   "execution_count": null,
   "metadata": {
    "scrolled": true
   },
   "outputs": [],
   "source": [
    "print(\"foo\" * 3)\n",
    "print(\"foo\" / 3)"
   ]
  },
  {
   "cell_type": "code",
   "execution_count": null,
   "metadata": {},
   "outputs": [],
   "source": [
    "s = \"foo\"\n",
    "print(s * 3)\n",
    "print(s / 3)"
   ]
  },
  {
   "cell_type": "code",
   "execution_count": null,
   "metadata": {},
   "outputs": [],
   "source": [
    "x = 3\n",
    "y = 1\n",
    "print(x / y)\n",
    "print(x / (y - 1))"
   ]
  },
  {
   "cell_type": "markdown",
   "metadata": {},
   "source": [
    "## Semantic/Logic Errors\n",
    "* The syntax is correct.\n",
    "* The code is executed exactly as written.\n",
    "* The code does not behave correctly or it does not give the write answer.\n",
    "  * e.g., the software has a **bug** in it.\n",
    "  * https://en.wikipedia.org/wiki/Software_bug"
   ]
  },
  {
   "cell_type": "code",
   "execution_count": 40,
   "metadata": {},
   "outputs": [
    {
     "name": "stdout",
     "output_type": "stream",
     "text": [
      "The value of x is: 3\n",
      "The value of x is: 3\n",
      "The value of x is: 3\n",
      "The value of x is: 3\n",
      "The value of x is: 3\n",
      "The value of y is: 5\n",
      "x + y = -2\n"
     ]
    }
   ],
   "source": [
    "x = 3\n",
    "y = 5\n",
    "print(f\"The value of x is: {x}\")\n",
    "print(\"The value of x is:\", x)\n",
    "print(\"The value of x is: \" + str(x))\n",
    "print(\"The value of x is: %d\" % x)\n",
    "print(\"The value of x is: {}\".format(x))\n",
    "\n",
    "print(f\"The value of y is: {y}\")\n",
    "print(f\"x + y = {x-y}\")  # This line has a \"bug\" in it!"
   ]
  },
  {
   "cell_type": "markdown",
   "metadata": {},
   "source": [
    "# Practice problems"
   ]
  },
  {
   "cell_type": "markdown",
   "metadata": {},
   "source": [
    " ### Compute the volume of a sphere\n",
    " The volume of a sphere with radius r is `(4/3) π r^3`. What is the volume of a sphere with radius 5?"
   ]
  },
  {
   "cell_type": "code",
   "execution_count": 23,
   "metadata": {},
   "outputs": [
    {
     "name": "stdout",
     "output_type": "stream",
     "text": [
      "3.141592653589793\n",
      "523.5987755982989\n"
     ]
    }
   ],
   "source": [
    "import math\n",
    "print(math.pi)\n",
    "\n",
    "r = 5\n",
    "print((4/3) * math.pi * (r ** 3))"
   ]
  },
  {
   "cell_type": "code",
   "execution_count": null,
   "metadata": {},
   "outputs": [],
   "source": [
    "#import math\n",
    "from math import pi\n",
    "print(pi)\n",
    "\n",
    "r = 5\n",
    "print((4/3) * pi * (r ** 3))"
   ]
  },
  {
   "cell_type": "markdown",
   "metadata": {},
   "source": [
    "The preceding cell shows us that we can **import** a specific part of a library."
   ]
  },
  {
   "cell_type": "markdown",
   "metadata": {},
   "source": [
    "### Interactive programming\n",
    "You can write interactive scripts with `input()`:"
   ]
  },
  {
   "cell_type": "code",
   "execution_count": null,
   "metadata": {},
   "outputs": [],
   "source": [
    "s = input(\"What do you want me to say? \")\n",
    "print(f'I will now say, \"{s}\"')"
   ]
  },
  {
   "cell_type": "code",
   "execution_count": null,
   "metadata": {},
   "outputs": [],
   "source": [
    "# Beware!  The value returned by input() is a string!\n",
    "s = input(\"Enter a number: \")\n",
    "print(type(s))\n",
    "print(s / 10)"
   ]
  },
  {
   "cell_type": "code",
   "execution_count": null,
   "metadata": {},
   "outputs": [],
   "source": [
    "# You can convert it to either an int or a float\n",
    "# using int() or float(), respectively\n",
    "s = input(\"Enter a number: \")\n",
    "print(float(s) / 10)"
   ]
  },
  {
   "cell_type": "markdown",
   "metadata": {},
   "source": [
    "Re-write your \"volume of a sphere\" script so that it asks the user to provide the radius."
   ]
  },
  {
   "cell_type": "code",
   "execution_count": null,
   "metadata": {},
   "outputs": [],
   "source": [
    "# Write your code here\n",
    "\n",
    "#import math\n",
    "from math import pi\n",
    "print(pi)\n",
    "\n",
    "r = input(\"What is the radius? \")\n",
    "\n",
    "r = float(r)\n",
    "print((4/3) * pi * (r ** 3))"
   ]
  },
  {
   "cell_type": "markdown",
   "metadata": {},
   "source": [
    "### Simple math problem\n",
    "If you run a 10 kilometer race in 42 minutes 42 seconds, what is your average speed in miles per hour?\n",
    "\n",
    "```\n",
    " 10km              10km\n",
    "------ = ------------------------\n",
    "42'42\"    (42 * 60) + 42 seconds\n",
    "```\n",
    "\n",
    "Also, 1 mile = 1.609344km."
   ]
  },
  {
   "cell_type": "code",
   "execution_count": null,
   "metadata": {},
   "outputs": [],
   "source": [
    "# Write your code here/\n",
    "\n",
    "startingKm = 10\n",
    "startingSeconds = (42 * 60) + 42\n",
    "kmPerMile = 1.609344\n",
    "secondsPerHour = 60 * 60\n",
    "\n",
    "milesPerHour = (startingKm * secondsPerHour) / (startingSeconds * kmPerMile)\n",
    "\n",
    "print(milesPerHour)\n"
   ]
  },
  {
   "cell_type": "code",
   "execution_count": null,
   "metadata": {},
   "outputs": [],
   "source": [
    "# Write your code here/\n",
    "\n",
    "print((10 * 60 * 60) / (((42 * 60) + 42) * 1.609344))\n"
   ]
  },
  {
   "cell_type": "markdown",
   "metadata": {},
   "source": [
    "# Control Flow Operators\n",
    "## If..else\n",
    "* https://docs.python.org/3/tutorial/controlflow.html#if-statements\n",
    "* `<expression>` is an expression that can be interpreted as a boolean value\n",
    "  * https://docs.python.org/3/library/stdtypes.html\n",
    "* Notice that code blocks are indented\n",
    "* You cannot perform an assignment statement (e.g., `x = 3`) in `<expression>`"
   ]
  },
  {
   "cell_type": "code",
   "execution_count": null,
   "metadata": {},
   "outputs": [],
   "source": [
    "# if <expression>:\n",
    "x = 8\n",
    "y = 8\n",
    "if x < y:\n",
    "    print(f\"{x} is less than {y}\")\n",
    "    print(\"HI\")\n",
    "else:\n",
    "    print(\"%f is greater than or equal to %f\" % (x, y))\n",
    "    print(\"BYE\")\n",
    "print(\"I am always run after the if statement.\")"
   ]
  },
  {
   "cell_type": "markdown",
   "metadata": {},
   "source": [
    "### A note about Code Blocks\n",
    "\n",
    "Up until this point, all of our code has been written without indentation.  Python uses **indentation** to delineate blocks of code that should be executed, one statement after another.\n",
    "\n",
    "You may use either spaces or tabs for your indentation, but whichever you choose, always **be consistent** because the interpreter interprets a single space the same as a single tab, although they do not look the same on the screen.  Most programmers are opinionated about which is best, and, of course, the only ones who are right are the ones who agree with me. :)\n",
    "\n",
    "As you can see in the `if..else` statements above, each part has two statements that have been indented.  These indented statements make up a **code block**.  Code blocks can be of any length, and are identified by their indention level.\n",
    "\n",
    "Code blocks can be nested (you will see examples of this later).\n",
    "\n",
    "Because the interpreter recognizes code blocks by their indentation, you must be very careful and make sure that your indentation matches the logic that you intend to be executed."
   ]
  },
  {
   "cell_type": "code",
   "execution_count": null,
   "metadata": {},
   "outputs": [],
   "source": [
    "x = .01\n",
    "x = x + .01\n",
    "x = x * 50\n",
    "if x == 1:\n",
    "    print(\"Yes\")\n",
    "else:\n",
    "    print(\"No\")"
   ]
  },
  {
   "cell_type": "markdown",
   "metadata": {},
   "source": [
    "### Pass\n",
    "\n",
    "There are times when you need to put a placeholder for a code block, but don't actually have any code to put in the block at this time.  Python provides us with a `pass` keyword for this situation.\n",
    "\n",
    "`pass` does not do anything other than act as a placeholder for a line of code."
   ]
  },
  {
   "cell_type": "code",
   "execution_count": 24,
   "metadata": {},
   "outputs": [
    {
     "name": "stdout",
     "output_type": "stream",
     "text": [
      "I am always run after the if statement.\n"
     ]
    }
   ],
   "source": [
    "x = 4\n",
    "y = 8\n",
    "if x < y:\n",
    "    # Now do something super cool.\n",
    "    pass\n",
    "else:\n",
    "    # Now do something super boring.\n",
    "    pass\n",
    "print(\"I am always run after the if statement.\")"
   ]
  },
  {
   "cell_type": "code",
   "execution_count": null,
   "metadata": {},
   "outputs": [],
   "source": [
    "# Notice that the `pass` statement does not cause any errors.\n",
    "pass\n",
    "pass\n",
    "pass\n",
    "print(3)\n",
    "pass\n",
    "pass"
   ]
  },
  {
   "cell_type": "markdown",
   "metadata": {},
   "source": [
    "## if..elif..else\n",
    "* `elif` is short for \"else if\""
   ]
  },
  {
   "cell_type": "code",
   "execution_count": null,
   "metadata": {},
   "outputs": [],
   "source": [
    "# Change the value of x to see a different bock of code being executed.\n",
    "x = int(input(\"Give me a number: \"))\n",
    "if x < 0:\n",
    "    print(\"x is less than 0\")\n",
    "elif x == 0:\n",
    "    print(\"x is equal to 0\")\n",
    "else:\n",
    "    print(\"x is greater than 0\")"
   ]
  },
  {
   "cell_type": "code",
   "execution_count": null,
   "metadata": {},
   "outputs": [],
   "source": [
    "# Change the value of x to see a different bock of code being executed.\n",
    "x = int(input(\"Give me a number: \"))\n",
    "if x < 0:\n",
    "    print(\"x is less than 0\")\n",
    "else:\n",
    "    if x == 0:\n",
    "        print(\"x is equal to 0\")\n",
    "    else:\n",
    "        print(\"x is greater than 0\")"
   ]
  },
  {
   "cell_type": "code",
   "execution_count": null,
   "metadata": {},
   "outputs": [],
   "source": [
    "if True:\n",
    "    print(\"This was true\")\n",
    "if not False:\n",
    "    print(\"blah\")"
   ]
  },
  {
   "cell_type": "code",
   "execution_count": 42,
   "metadata": {},
   "outputs": [
    {
     "name": "stdout",
     "output_type": "stream",
     "text": [
      "d\n"
     ]
    }
   ],
   "source": [
    "x = int(input(\"Give me a number: \"))\n",
    "if x == 0:\n",
    "    print('a')\n",
    "elif x == 1:\n",
    "    print('b')\n",
    "elif x == 2:\n",
    "    print('c')\n",
    "elif x < 10:\n",
    "    print('d')\n",
    "else:\n",
    "    print('e')"
   ]
  },
  {
   "cell_type": "markdown",
   "metadata": {},
   "source": [
    "## While\n",
    "* A looping structure, which continutes looping until `<expression>` is false"
   ]
  },
  {
   "cell_type": "code",
   "execution_count": null,
   "metadata": {},
   "outputs": [],
   "source": [
    "# while <expression>:\n",
    "x = 10\n",
    "while x >= 0:\n",
    "    x = x - 1\n",
    "    print(x)\n",
    "    \n",
    "print(\"I'm done!\")"
   ]
  },
  {
   "cell_type": "code",
   "execution_count": null,
   "metadata": {},
   "outputs": [],
   "source": [
    "# Here is a common logic error:\n",
    "x = 10\n",
    "while x >= 0:\n",
    "    print(x)"
   ]
  },
  {
   "cell_type": "code",
   "execution_count": null,
   "metadata": {},
   "outputs": [],
   "source": [
    "# Another common logic error:\n",
    "x = 10\n",
    "while x > 0:\n",
    "    print(x)\n",
    "    x = x + 1\n",
    "print(\"Finished!\")"
   ]
  },
  {
   "cell_type": "code",
   "execution_count": null,
   "metadata": {},
   "outputs": [],
   "source": [
    "# while <expression>:\n",
    "x = 10\n",
    "while x != .8:\n",
    "    print(x)\n",
    "    x = x - 2.3"
   ]
  },
  {
   "cell_type": "code",
   "execution_count": null,
   "metadata": {},
   "outputs": [],
   "source": [
    "# Please don't do this!\n",
    "total = 10;\n",
    "while (total != 0):\n",
    "    print(total)\n",
    "    total = total - .01"
   ]
  },
  {
   "cell_type": "code",
   "execution_count": 41,
   "metadata": {
    "scrolled": true
   },
   "outputs": [
    {
     "name": "stdout",
     "output_type": "stream",
     "text": [
      "9\n",
      "9\n",
      "9\n",
      "6\n",
      "6\n",
      "6\n",
      "3\n",
      "3\n",
      "3\n",
      "0\n",
      "0\n",
      "0\n"
     ]
    }
   ],
   "source": [
    "# Nesting control flow structures\n",
    "# (putting an if: statement inside a while: statement)\n",
    "\n",
    "# Note: the 3 if: statements are equivalent\n",
    "x = 10\n",
    "while x >= 0:\n",
    "\n",
    "    if x % 3 == 0:\n",
    "        print(x)\n",
    "\n",
    "    if (x % 3) == 0:\n",
    "        print(x)\n",
    "\n",
    "    if not (x % 3):\n",
    "        print(x)\n",
    "\n",
    "    x = x - 1"
   ]
  },
  {
   "cell_type": "code",
   "execution_count": null,
   "metadata": {},
   "outputs": [],
   "source": [
    "x = 0\n",
    "while x < 15:\n",
    "    print('--------------------------')\n",
    "    print(f\"  x = {x}\")\n",
    "    if not x % 3:\n",
    "        print(f\"  {x} **IS** a multiple of 3\")\n",
    "    else:\n",
    "        print(f\"  {x} is not a multiple of 3\")\n",
    "    x = x + 2\n",
    "    print(\"  increasing x by 2\")\n",
    "    "
   ]
  },
  {
   "cell_type": "markdown",
   "metadata": {},
   "source": [
    "## Example: Fizz Buzz\n",
    "Rules:\n",
    "1. Print all numbers from 1 to x  (Ask the user for the integer x).\n",
    "2. If the number that is printed is divizible by 3, also print \"Fizz\"\n",
    "3. If the number that is printed is divisible by 5, also print \"Buzz\"\n",
    "4. If the number that is printed is divisible by 3 and 5, also print \"Fizz Buzz\"\n",
    "\n",
    "A few notes:\n",
    "* Because printing a line is done in parts (first the number is printed, then the `Fizz`, then the `Buzz`), `end=\"\"` must be added as an argument to the `print()` function, in order to prevent it from inserting a new line automatically.\n",
    "* The final `print()` is only there in order to add the newline, which was purposefully omitted from the earlier `print` statements.\n",
    "\n",
    "Sample output:\n",
    "```\n",
    "1\n",
    "2\n",
    "3 Fizz\n",
    "4\n",
    "5 Buzz\n",
    "6 Fizz\n",
    "7\n",
    "8\n",
    "9 Fizz\n",
    ".\n",
    ".\n",
    ".\n",
    "15 FizzBuzz\n",
    "```"
   ]
  },
  {
   "cell_type": "code",
   "execution_count": null,
   "metadata": {},
   "outputs": [],
   "source": [
    "# Write your code here\n",
    "\n",
    "print(1, end='')\n",
    "print(2)\n",
    "print()\n",
    "print(3)\n",
    "print(4)"
   ]
  },
  {
   "cell_type": "code",
   "execution_count": 25,
   "metadata": {},
   "outputs": [
    {
     "name": "stdout",
     "output_type": "stream",
     "text": [
      "1\n",
      "2\n",
      "Fizz\n",
      "4\n",
      "Buzz\n",
      "Fizz\n",
      "7\n",
      "8\n",
      "Fizz\n",
      "Buzz\n",
      "11\n",
      "Fizz\n",
      "13\n",
      "14\n",
      "FizzBuzz\n"
     ]
    }
   ],
   "source": [
    "counter = 1\n",
    "\n",
    "while counter <= 15:\n",
    "    if counter % 3 == 0:\n",
    "        if counter % 5 == 0:\n",
    "            print('FizzBuzz')\n",
    "        else:\n",
    "            print('Fizz')\n",
    "    elif counter % 5 == 0:\n",
    "        print('Buzz')\n",
    "    else:\n",
    "        print(counter)\n",
    "    # Increment counter\n",
    "    counter = counter + 1"
   ]
  },
  {
   "cell_type": "code",
   "execution_count": null,
   "metadata": {},
   "outputs": [],
   "source": [
    "counter = 1\n",
    "\n",
    "while counter <= 15:\n",
    "    print (f\"{counter} \", end='')\n",
    "    if counter % 3 == 0:\n",
    "        print('Fizz', end='')\n",
    "    if counter % 5 == 0:\n",
    "        print('Buzz', end='')\n",
    "    print()\n",
    "    # Increment counter\n",
    "    counter = counter + 1"
   ]
  },
  {
   "cell_type": "markdown",
   "metadata": {},
   "source": [
    "## Break and Continue\n",
    "* https://docs.python.org/3/tutorial/controlflow.html#break-and-continue-statements-and-else-clauses-on-loops\n",
    "* Used to modify the execution flow within a loop\n",
    "* `continue` will cause the execution to jump to the top of the loop.\n",
    "* `break` will cause the loop to exit immediately."
   ]
  },
  {
   "cell_type": "code",
   "execution_count": 26,
   "metadata": {},
   "outputs": [
    {
     "name": "stdout",
     "output_type": "stream",
     "text": [
      "8\n",
      "6\n",
      "4\n",
      "2\n",
      "0\n"
     ]
    }
   ],
   "source": [
    "# What will this print?\n",
    "x = 10\n",
    "while x > 0:\n",
    "    x = x - 1\n",
    "    if x % 2:\n",
    "        # x is odd\n",
    "        continue\n",
    "    print(x)"
   ]
  },
  {
   "cell_type": "code",
   "execution_count": null,
   "metadata": {
    "scrolled": true
   },
   "outputs": [],
   "source": [
    "# What will this print?\n",
    "x = 10\n",
    "while x > 0:\n",
    "    x = x - 1\n",
    "    if x < 5:\n",
    "        break\n",
    "    print(x)\n",
    "\n",
    "print(\"finished the loop\")"
   ]
  },
  {
   "cell_type": "markdown",
   "metadata": {},
   "source": [
    "## Practice: Write a loop that prints out all numbers from 0 to 10\n",
    "* Each number should be on a separate line"
   ]
  },
  {
   "cell_type": "code",
   "execution_count": 43,
   "metadata": {},
   "outputs": [
    {
     "name": "stdout",
     "output_type": "stream",
     "text": [
      "0\n",
      "1\n",
      "2\n",
      "3\n",
      "4\n",
      "5\n",
      "6\n",
      "7\n",
      "8\n",
      "9\n",
      "10\n"
     ]
    }
   ],
   "source": [
    "Spiderman = 0\n",
    "\n",
    "while Spiderman <= 10:\n",
    "    print(Spiderman)\n",
    "    Spiderman = Spiderman + 1"
   ]
  },
  {
   "cell_type": "markdown",
   "metadata": {},
   "source": [
    "## Ternary Operator\n",
    "\n",
    "The [**Ternary operator** ](https://docs.python.org/3.6/reference/expressions.html#conditional-expressions) is a type of shorthand for `if..else` statements.\n",
    "\n",
    "As the name \"ternary\" implies, it has **3** parts:\n",
    "\n",
    "1. The value if the condition is True\n",
    "2. The condition\n",
    "3. The value if the condition is False.\n",
    "\n",
    "It appears in this form: `X if condition else Y`.\n",
    "\n",
    "It is easiest to see with an example.  Consider the following code:"
   ]
  },
  {
   "cell_type": "code",
   "execution_count": 44,
   "metadata": {},
   "outputs": [
    {
     "name": "stdout",
     "output_type": "stream",
     "text": [
      "Your number is small.\n"
     ]
    }
   ],
   "source": [
    "number = float(input(\"What is your number (non-creepy question)? \"))\n",
    "\n",
    "if number < 100:\n",
    "    size = \"small\"\n",
    "else:\n",
    "    size = \"big\"\n",
    "\n",
    "print(f\"Your number is {size}.\")"
   ]
  },
  {
   "cell_type": "code",
   "execution_count": null,
   "metadata": {},
   "outputs": [],
   "source": [
    "number = float(input(\"What is your number (non-creepy question)? \"))\n",
    "\n",
    "size = (\"small\" if (number < 100) else \"big\")\n",
    "\n",
    "print(f\"Your number is {size}.\")"
   ]
  },
  {
   "cell_type": "code",
   "execution_count": null,
   "metadata": {},
   "outputs": [],
   "source": [
    "number = input('What is your number? ')\n",
    "print(f\"Your number is {'big' if number > 100 else 'small'}.\")"
   ]
  },
  {
   "cell_type": "markdown",
   "metadata": {},
   "source": [
    "**Ternary Expressions** are expressions that use the Ternary Operator.\n",
    "\n",
    "A Ternary Expression can appear anywhere that a normal expression can appear.\n",
    "\n",
    "The idea of [**Expressions**](https://docs.python.org/3.6/reference/expressions.html#expressions) is long and complex, but a simple way to think of it is that an expression is any code which, when interpreted, represents a value which can be stored in a variable.\n",
    "\n",
    "In this vein,\n",
    "\n",
    "`size = \"small\"`\n",
    "\n",
    "is not an expression.\n",
    "\n",
    "`\"small\"`\n",
    "\n",
    "however, is an expression, because it represents a value that can be stored in the variable `size`.\n",
    "\n",
    "The comparison `number < 100` is an expression, because it represents a value (True or False) that can be stored in a variable.  It just so happens that an expression is what appears as the conditional test for `if:` statements.\n",
    "\n",
    "`if number < 100:`\n",
    "\n",
    "As well as ternary expressions:\n",
    "\n",
    "`\"small\" if number < 100 else \"big\"`\n",
    "\n",
    "Consider the following examples of the same code snippet.  Notice that, while each is **equivalent** in functionality, some may not be desireable because they sacrifice readability for compactness, which is not always a good thing!"
   ]
  },
  {
   "cell_type": "code",
   "execution_count": 45,
   "metadata": {},
   "outputs": [
    {
     "name": "stdout",
     "output_type": "stream",
     "text": [
      "Your number is small.\n"
     ]
    }
   ],
   "source": [
    "number = float(input(\"What is your number (non-creepy question)? \"))\n",
    "\n",
    "size = (\"small\" if (number < 100) else \"big\")\n",
    "\n",
    "print(f\"Your number is {size}.\")"
   ]
  },
  {
   "cell_type": "code",
   "execution_count": 46,
   "metadata": {},
   "outputs": [
    {
     "name": "stdout",
     "output_type": "stream",
     "text": [
      "Your number is small.\n"
     ]
    }
   ],
   "source": [
    "number = float(input(\"What is your number (non-creepy question)? \"))\n",
    "\n",
    "print(\"Your number is \", \"small\" if number < 100 else \"big\", \".\", sep=\"\")"
   ]
  },
  {
   "cell_type": "code",
   "execution_count": null,
   "metadata": {},
   "outputs": [],
   "source": [
    "number = float(input(\"What is your number (non-creepy question)? \"))\n",
    "\n",
    "print(f\"Your number is {'small' if number < 100 else 'big'}.\")"
   ]
  },
  {
   "cell_type": "code",
   "execution_count": null,
   "metadata": {},
   "outputs": [],
   "source": [
    "size = \"small\" if float(input(\"What is your number (non-creepy question)? \")) < 100 else \"big\"\n",
    "\n",
    "print(f\"Your number is {size}.\")"
   ]
  },
  {
   "cell_type": "code",
   "execution_count": null,
   "metadata": {},
   "outputs": [],
   "source": [
    "print(f\"Your number is {'small' if float(input('What is your number (non-creepy question)? ')) < 100 else 'big'}.\")"
   ]
  },
  {
   "cell_type": "markdown",
   "metadata": {},
   "source": [
    "Please don't do the last example!  I want you to be able to understand **how** it works, because it is indeed valid Python, but I also want you to be able to recognize that this code isn't considered \"good\".  Just because someone is being clever, it doesn't mean that they are writing good code.\n",
    "\n",
    "Remember, coding is an **artistic** as well as **technical** skill.\n",
    "\n",
    "### Where will ternary expressions show up?\n",
    "\n",
    "You will find them in surprising places.  We will use them quite often later in the semester for something called **comprehensions**.  Don't let the ternary operator scare you.  At the end of the day, it's just a compact `if..else` statement."
   ]
  },
  {
   "cell_type": "markdown",
   "metadata": {},
   "source": [
    "# Functions\n",
    "\n",
    "* Functions are small pieces of code that separated out of the main script.\n",
    "* Functions make it easy to re-use code!\n",
    "* You can provide an **argument** to a function.\n",
    "* A function can return a value of some sort\n",
    "\n",
    "General form:\n",
    "* Start with `def` (short for define), a name, a list of argument names surrounded by parenthsis, and a colon.\n",
    "  * *e.g.,* `def foo(arg1, arg2, arg3):`\n",
    "  * *e.g.,* `def bar():`\n",
    "* Followed by a code block.\n",
    "  * may be `pass`, if the function does nothing\n",
    "* May exit at any time using a `return` statement"
   ]
  },
  {
   "cell_type": "code",
   "execution_count": null,
   "metadata": {},
   "outputs": [],
   "source": [
    "# Simple function called `doubleIt()`\n",
    "# Purpose: Computes a new number that is twice as big as the provided value.\n",
    "# Arguments: `number`, a numeric value\n",
    "# Return: returns a numeric value\n",
    "def doubleIt(number):\n",
    "    number = number * 2\n",
    "    return number\n",
    "\n",
    "\n",
    "print(3)\n",
    "print(doubleIt(3))\n",
    "print(doubleIt(42.42))"
   ]
  },
  {
   "cell_type": "markdown",
   "metadata": {},
   "source": [
    "In the following cell, notice what does (and doesn't) happen to the value of the `x` variable in the main script."
   ]
  },
  {
   "cell_type": "code",
   "execution_count": null,
   "metadata": {},
   "outputs": [],
   "source": [
    "\n",
    "x = 8\n",
    "print(\"x =\", x)\n",
    "print(doubleIt(x))\n",
    "print(\"x =\", x)\n",
    "print()"
   ]
  },
  {
   "cell_type": "markdown",
   "metadata": {},
   "source": [
    "What happens if the name of the variable is **the same** as the name of the variable in the function argument?"
   ]
  },
  {
   "cell_type": "code",
   "execution_count": null,
   "metadata": {},
   "outputs": [],
   "source": [
    "# Simple function called `doubleIt()`\n",
    "# Purpose: Computes a new number that is twice as big as the provided value.\n",
    "# Arguments: `number`, a numeric value\n",
    "# Return: returns a numeric value\n",
    "def doubleIt(number):\n",
    "    number = number * 2\n",
    "    return number\n",
    "\n",
    "\n",
    "number = 10\n",
    "print(\"number =\", number)\n",
    "print(doubleIt(number))\n",
    "print(\"number =\", number)"
   ]
  },
  {
   "cell_type": "markdown",
   "metadata": {},
   "source": [
    "## Function (Block) Scope\n",
    "\n",
    "In order to understand what is happening, you need to know a bit more about how programs are executed.  This is a rather complex topic, but I will try to give you the most important points here.\n",
    "\n",
    "1. At any point in time, there is a **stack frame** in which the current instructions are being executed.  You can think of this as an awareness of all possible variables available to the code at that moment.\n",
    "2. When a function is called, a new **stack frame** is created for it, and the function arguments are provided with the values of the variables used to call the function.\n",
    "  * In other words, the `number` inside the function is not the same as the `number` (or `x`) when the function was called.\n",
    "3. When the function exits, the **stack frame** is destroyed, and the previous stack frame is re-instated.\n",
    "\n",
    "Notice that, even in the next example, the `bar` inside the function does not overwrite the `bar` in the main script."
   ]
  },
  {
   "cell_type": "code",
   "execution_count": null,
   "metadata": {},
   "outputs": [],
   "source": [
    "bar = 3\n",
    "foo = \"hello\"\n",
    "\n",
    "def weird(foo):\n",
    "    bar = foo * 2\n",
    "    return bar\n",
    "\n",
    "\n",
    "print(bar, foo)\n",
    "print(\"The function returs\", weird(foo))\n",
    "print(bar, foo)"
   ]
  },
  {
   "cell_type": "code",
   "execution_count": null,
   "metadata": {},
   "outputs": [],
   "source": [
    "# Prints the provided string, three times.\n",
    "# Arguments: `message`: the string to be printed.\n",
    "# Return: no return value\n",
    "def printThreeTimes(message):\n",
    "    print(message)\n",
    "    print(message)\n",
    "    print(message)"
   ]
  },
  {
   "cell_type": "code",
   "execution_count": null,
   "metadata": {},
   "outputs": [],
   "source": [
    "printThreeTimes(\"Foo\")\n",
    "printThreeTimes(\"Howdy Bubba. :/\")"
   ]
  },
  {
   "cell_type": "markdown",
   "metadata": {},
   "source": [
    "## Exercise\n",
    "\n",
    "Generally speaking, it is bad form to copy-and-paste code.  It usually means that the code could be refactored (rewritten) in a cleaner way.  For this example, try to rewrite the function using a `while:` loop so that the message can be printed out an arbitrary number of times."
   ]
  },
  {
   "cell_type": "code",
   "execution_count": null,
   "metadata": {},
   "outputs": [],
   "source": [
    "# Prints the provided string a specific number of times\n",
    "# Arguments: `message`: the string to be printed\n",
    "#            `times`: the number of times to print the string\n",
    "# Return: no return value\n",
    "def printNTimes(message, times):\n",
    "    counter = 1\n",
    "    while counter <= times: \n",
    "        print(message)\n",
    "        counter = counter + 1\n",
    "\n",
    "\n",
    "def printNTimes(message, times):\n",
    "    while times > 0: \n",
    "        print(message)\n",
    "        times = times - 1\n",
    "\n"
   ]
  },
  {
   "cell_type": "code",
   "execution_count": null,
   "metadata": {},
   "outputs": [],
   "source": [
    "printNTimes(\"Foo\", 3)\n",
    "printNTimes(\"Howdy Bubba. :/\", 1)"
   ]
  },
  {
   "cell_type": "markdown",
   "metadata": {},
   "source": [
    "## The `help()` Function\n",
    "\n",
    "The `help()` function is a special function to help the programmer quickly access helpful documentation about a function.\n",
    "\n",
    "`help()` provides information such as where the function is defined (helpful in larger projects), how the function may be invoked, and information about the arguments.\n",
    "\n",
    "See the help text for the `print()` function below:"
   ]
  },
  {
   "cell_type": "code",
   "execution_count": null,
   "metadata": {},
   "outputs": [],
   "source": [
    "help(print)"
   ]
  },
  {
   "cell_type": "markdown",
   "metadata": {},
   "source": [
    "What about the `int()` type constructor?  As you can see below, it's significantly more complex!"
   ]
  },
  {
   "cell_type": "code",
   "execution_count": null,
   "metadata": {},
   "outputs": [],
   "source": [
    "help(int)"
   ]
  },
  {
   "cell_type": "markdown",
   "metadata": {},
   "source": [
    "### Custom `help()` Text\n",
    "\n",
    "Let's look at the first function that we wrote: `doubleIt()`.  What does help say about it?"
   ]
  },
  {
   "cell_type": "code",
   "execution_count": null,
   "metadata": {},
   "outputs": [],
   "source": [
    "# Simple function called `doubleIt()`\n",
    "# Purpose: Computes a new number that is twice as big as the provided value.\n",
    "# Arguments: `number`, a numeric value\n",
    "# Return: returns a numeric value\n",
    "def doubleIt(number):\n",
    "    number = number * 2\n",
    "    return number\n",
    "\n",
    "\n",
    "help(doubleIt)"
   ]
  },
  {
   "cell_type": "markdown",
   "metadata": {},
   "source": [
    "So our custom function *does* have some help text!\n",
    "\n",
    "1. It tells where our function was defined (in this `__main__` thing...).\n",
    "2. It has our function definition string which lists the arguments.\n",
    "3. It has help text, which is what we wrote in the lines *before* the funcion declaration!\n",
    "\n",
    "Alas, this is not the cleanest way to document a function, as it doesn't work in every situation.  A cleaner (and more robust) approach is to write the documentation string immediately inside the function code block.\n",
    "\n",
    "To do this, we will write our documentation using a multi-line string.  We haven't mentioned the multi-line string much (we will do so more in a bit), but the general approach is to start with three quotes (either `'''` or `\"\"\"`) and end with a matching set of three quotes.  Everything inbetween will be the documentation."
   ]
  },
  {
   "cell_type": "code",
   "execution_count": null,
   "metadata": {},
   "outputs": [],
   "source": [
    "def doubleIt(number):\n",
    "    '''\n",
    "    Simple function called `doubleIt()`\n",
    "    Purpose: Computes a new number that is twice as big as the provided value.\n",
    "    Arguments: `number`, a numeric value\n",
    "    Return: returns a numeric value\n",
    "    '''\n",
    "    number = number * 2\n",
    "    return number\n",
    "\n",
    "\n",
    "help(doubleIt)"
   ]
  },
  {
   "cell_type": "markdown",
   "metadata": {},
   "source": [
    "As you can see, the comment must have the correct indentation.\n",
    "\n",
    "We can compare our documentation text against the documentation text for `print()`, and make our documentation look a bit more consistent.\n",
    "\n",
    "*Note: `print()` is a bit more advanced than our function, and as such can accept a variable number of arguments.  That's why you see `...` in the arguments list.  Don't worry about that for now, just go for the big picture.*"
   ]
  },
  {
   "cell_type": "code",
   "execution_count": null,
   "metadata": {},
   "outputs": [],
   "source": [
    "help(print)"
   ]
  },
  {
   "cell_type": "code",
   "execution_count": null,
   "metadata": {},
   "outputs": [],
   "source": [
    "def doubleIt(number):\n",
    "    '''\n",
    "    Return a new number that is twice as big as the provided value.\n",
    "\n",
    "    Arguments:\n",
    "    number: a numeric value\n",
    "    '''\n",
    "    number = number * 2\n",
    "    return number\n",
    "\n",
    "\n",
    "help(doubleIt)"
   ]
  },
  {
   "cell_type": "markdown",
   "metadata": {},
   "source": [
    "## `__doc__` Documentation String\n",
    "\n",
    "In case you are curious as to what is happening internally, I'll tell you a bit more about what's happening.\n",
    "\n",
    "When the interpreter reads your function definiton, it has to do many things to prepare the function for use by the rest of the script.  Those \"many things\" are beyond the scope of this class.  The thing that we care about in this instance, though, is that it tries to gather some sort of help text just in case the programmer needs that information.\n",
    "\n",
    "The help text is stored as part of the function itself, in an attribute called `__doc__`.  Names like this are called **dunder** names, short for **d**ouble **under**score.\n",
    "\n",
    "Consider the next two cells:"
   ]
  },
  {
   "cell_type": "code",
   "execution_count": null,
   "metadata": {},
   "outputs": [],
   "source": [
    "print(doubleIt)"
   ]
  },
  {
   "cell_type": "code",
   "execution_count": null,
   "metadata": {},
   "outputs": [],
   "source": [
    "print(doubleIt.__doc__)"
   ]
  },
  {
   "cell_type": "markdown",
   "metadata": {},
   "source": [
    "This gives us two important insights to functions:\n",
    "\n",
    "1. A function is almost like a variable.  It has a user-defined name.  Like a variable, it can be over-written.  We have been doing that several times in the last few cells (we keep redefining `doubleIt`).\n",
    "2. Some variables have additional attributes that you can access with a `.`.  We will see *many* more examples of this as we go along later."
   ]
  },
  {
   "cell_type": "markdown",
   "metadata": {},
   "source": [
    "## Beware the Power...\n",
    "\n",
    "Python will let you change functions programmatically.\n",
    "\n",
    "It's a bad idea.\n",
    "\n",
    "**Pls no.**"
   ]
  },
  {
   "cell_type": "code",
   "execution_count": null,
   "metadata": {},
   "outputs": [],
   "source": [
    "doubleIt.__doc__ = \"I HAVE CHANGED THE HELP TEXT!!!\"\n",
    "\n",
    "help(doubleIt)"
   ]
  },
  {
   "cell_type": "markdown",
   "metadata": {},
   "source": [
    "**Pease don't do this.**\n",
    "\n",
    "\n",
    "\n",
    "But it does illustrate an important point: functions can be changed.  If you accidentally change the wrong one, then you may have to restart your **kernel** in order to get it to function correctly again."
   ]
  },
  {
   "cell_type": "code",
   "execution_count": null,
   "metadata": {},
   "outputs": [],
   "source": [
    "x = 3\n",
    "print(str)\n",
    "print(str(x))\n",
    "print(\"-------------\")\n",
    "\n",
    "# Uncomment the code below if you want to mess up the kernel.\n",
    "# You'll have to restart the kernel if you want it to work correctly again.\n",
    "\n",
    "#str = 5\n",
    "print(str)\n",
    "print(str(x))"
   ]
  },
  {
   "cell_type": "markdown",
   "metadata": {},
   "source": [
    "As you can see, we **redefined** the built-in **str** type constructor, which is a type of function.  We changed it so that it was no longer a function, but just a number (the commented-out line).  Then, when `str(x)` is invoked, the interpreter lets us know that that does not make any sense, becuase `str` is not a function, but an `int`!\n",
    "\n",
    "In other words, be careful about what names you choose for your variables and functions.  If you choose a generic word (like `list`), then you might just be sabotaging your own code!\n",
    "\n",
    "See [this list](https://docs.python.org/3.6/library/functions.html) of built-in function names for a list of some of the names that you should avoid."
   ]
  },
  {
   "cell_type": "markdown",
   "metadata": {},
   "source": [
    "# Strings and ASCII\n",
    "\n",
    "You have already seen strings, but to really understand how they operate, you need to know something about how they are represented by the computer.  Unfortunately, the way that strings are represented is a complex topic.  Why?  Because language is a difficult thing to represent!  Some languages use letters, but they are not the same as the English alphabet.  Some languages use individual symbols for each word.  Don't forget control characters such as the new line (*e.g.*, return) and other buttons on your keyboard!  And, of course, what about emoji?  😀\n",
    "\n",
    "Moreover, there are different methods to represent all of these things!  They are called **encodings**.  Every computer program in existence must deal with this problem, especially if the program needs to support languages other than English!\n",
    "\n",
    "Python supports **a lot** of encodings!  Check out the list [here](https://docs.python.org/3.6/library/codecs.html#standard-encodings)."
   ]
  },
  {
   "cell_type": "code",
   "execution_count": null,
   "metadata": {},
   "outputs": [],
   "source": [
    "import sys\n",
    "\n",
    "# Let's find out what you system's default string encoding is.\n",
    "print(sys.getdefaultencoding())"
   ]
  },
  {
   "cell_type": "markdown",
   "metadata": {},
   "source": [
    "## ASCII\n",
    "\n",
    "[**ASCII**](https://en.wikipedia.org/wiki/ASCII) was the first character encoding to gain widespread adoption and support from multiple computer manufactures.  It used *7 bits* to represent characters, meaning that it supports 128 characters (numbers 0 - 127).  ASCII is limited, but it is a good starting point to understand the basics of string representation.  Also, UTF-8 is **backwards compatible** with ASCII!\n",
    "\n",
    "(https://www.asciitable.com/) is a good reference to see the various characters and their associated values.\n",
    "\n",
    "Remember from earlier lectures how that every variable has a **type**.  The **type** dictates how the variable is stored in memory.  An **int** is different than a **float** and a **str**.\n",
    "\n",
    "Internally, **int** and **float** are represented by a group of bytes.  The specifics are quite involved, and would take a few lectures to cover thoroughly.\n",
    "\n",
    "The **str** is interesting, though.  It is a **sequence** of bytes.  In **ASCII**, each byte corresponds to a specific character in the encoding.  Other character encodings may use more than one byte to represent a single character.  Generally speaking, Python will take care of most of the work for you, but every once in a while, it guesses incorrectly, and you must use the built-in functions to tell Python how to work with a particular string.\n",
    "\n",
    "**ord()** and **chr()** are functions that convert a character into it's numeric value, and a numeric value into a character, respectively."
   ]
  },
  {
   "cell_type": "code",
   "execution_count": null,
   "metadata": {},
   "outputs": [],
   "source": [
    "# Compare this with the asciitable.com listing:\n",
    "character = \"A\"\n",
    "\n",
    "print(character, type(character))\n",
    "print(ord(character), type(ord(character)))"
   ]
  },
  {
   "cell_type": "code",
   "execution_count": null,
   "metadata": {},
   "outputs": [],
   "source": [
    "# And now the other direction:\n",
    "ordinal = 67\n",
    "\n",
    "print(ordinal, type(ordinal))\n",
    "print(chr(ordinal), type(chr(ordinal)))"
   ]
  },
  {
   "cell_type": "code",
   "execution_count": null,
   "metadata": {},
   "outputs": [],
   "source": [
    "# Of course, it only makes sense that ord() can only accept one character\n",
    "message = \"Hello\"\n",
    "print(ord(message))"
   ]
  },
  {
   "cell_type": "code",
   "execution_count": null,
   "metadata": {},
   "outputs": [],
   "source": [
    "character = ord('A')\n",
    "\n",
    "while character <= ord('Z'):\n",
    "    print(character, chr(character))\n",
    "    character = character + 1\n"
   ]
  },
  {
   "cell_type": "code",
   "execution_count": null,
   "metadata": {},
   "outputs": [],
   "source": [
    "character = ord('0')\n",
    "\n",
    "while character <= ord('9'):\n",
    "    print(character, chr(character))\n",
    "    character = character + 1\n",
    "\n"
   ]
  },
  {
   "cell_type": "markdown",
   "metadata": {},
   "source": [
    "## Unicode and UTF-8\n",
    "\n",
    "[**Unicode**](https://home.unicode.org/) is not an encoding.  It is a **character set**, which is long list that maps a number to a character.  It begins with the ASCII values, so, for example, `A` maps to number 65, and `9` (the character) maps to number 57.\n",
    "\n",
    "Unicode is a standard that says \"this character maps to this number\", but it does not describe **how** it should be represented in memory.  That is the job of **UTF-8** (and, less commonly, UTF-16 and UTF-32).\n",
    "\n",
    "Without going into too much detail, UTF-8 uses a **single byte** to represent the original ASCII character set, and uses a **multi-byte sequence** (of 2-4 bytes) to represent most other characters."
   ]
  },
  {
   "cell_type": "code",
   "execution_count": null,
   "metadata": {},
   "outputs": [],
   "source": [
    "# In this example, a \"binary\" string is the result of the .encode() method.\n",
    "# A binary string is the most honest representation of the memory used\n",
    "# to represent the string.\n",
    "# \n",
    "# See how \"\\xc3\\xa9\" seem to match up with \"é\"?\n",
    "# \"\\xc3\" represents one byte, and \"\\xa9\" represents a second byte.\n",
    "# Both are in hexadecimal format, which is why they start with \"\\x\"\n",
    "# These bytes are not \"printable\", which is why they are being displayed\n",
    "# in their \"long\" format.\n",
    "\n",
    "\"résumé\".encode(\"utf-8\")"
   ]
  },
  {
   "cell_type": "code",
   "execution_count": null,
   "metadata": {},
   "outputs": [],
   "source": [
    "# Here, we are going the opposite direction: from a binary string to\n",
    "# a UTF-8 encoded string.\n",
    "\n",
    "b\"r\\xc3\\xa9sum\\xc3\\xa9\".decode(\"utf-8\")"
   ]
  },
  {
   "cell_type": "code",
   "execution_count": null,
   "metadata": {},
   "outputs": [],
   "source": [
    "# Just to show you that ascii doesn't support the \"é\" character:\n",
    "\n",
    "\"résumé\".encode(\"ascii\")"
   ]
  },
  {
   "cell_type": "code",
   "execution_count": null,
   "metadata": {},
   "outputs": [],
   "source": [
    "# UTF-16 is still variable-width, but it uses 2 bytes for most characters.\n",
    "# This is bad for English text (where characters only required 1 byte in UTF-8),\n",
    "# but it is good for Asian languages (where characters required 3-4 bytes in UTF-8).\n",
    "\n",
    "\"résumé\".encode(\"utf-16\")"
   ]
  },
  {
   "cell_type": "code",
   "execution_count": null,
   "metadata": {},
   "outputs": [],
   "source": [
    "# UTF-32 is fixed-width, but it requires 4 bytes per character. Always.\n",
    "# This means that it is bloated from a memory efficiencty standpoint,\n",
    "# but it is faster to operate on from a computing standpoint because\n",
    "# the characters are in predictable positions.  This format is mostly\n",
    "# used by operating systems internally.\n",
    "\n",
    "\"résumé\".encode(\"utf-32\")"
   ]
  },
  {
   "cell_type": "markdown",
   "metadata": {},
   "source": [
    "## Strings\n",
    "\n",
    "Python *tries* to hide the complexity of string encodings from you.  Python provides us several ways to interact with strings and to get information about them.  Consider the following:"
   ]
  },
  {
   "cell_type": "code",
   "execution_count": null,
   "metadata": {},
   "outputs": [],
   "source": [
    "word = \"résumé\"\n",
    "print(f\"{word} is {len(word)} letters long\")\n",
    "print(f\"{word} requires {len(word.encode('utf-8'))} bytes in memory\")"
   ]
  },
  {
   "cell_type": "markdown",
   "metadata": {},
   "source": [
    "Here, we see that `résumé` is 6 letters long (as reported by the `len()` function), even though you and I both know that it requires more than 6 bytes to be represented internally in memory."
   ]
  },
  {
   "cell_type": "markdown",
   "metadata": {},
   "source": [
    "### String Indexing\n",
    "\n",
    "Python will even allow us to access each character of the string individually using a bracket (**[]**) notation."
   ]
  },
  {
   "cell_type": "code",
   "execution_count": null,
   "metadata": {},
   "outputs": [],
   "source": [
    "word = \"résumé\"\n",
    "index = 0\n",
    "while index < len(word):\n",
    "    print(index, word[index])\n",
    "    index = index + 1"
   ]
  },
  {
   "cell_type": "markdown",
   "metadata": {},
   "source": [
    "A few things to notice about the preceding example:\n",
    "\n",
    "1. `word[index]` provides us with a string that is 1 character long.\n",
    "2. The bracket notation uses zero-based counting (*e.g.*, 0 is the index of the first letter)."
   ]
  },
  {
   "cell_type": "markdown",
   "metadata": {},
   "source": [
    "### String Slicing\n",
    "\n",
    "**Slicing** is the ability to \"cut a chunk\" out of a string.  It is easiest to illustrate with an example, followed by a definition."
   ]
  },
  {
   "cell_type": "code",
   "execution_count": null,
   "metadata": {},
   "outputs": [],
   "source": [
    "sentence = \"The quick brown fox jumps over the lazy dog.\"\n",
    "\n",
    "print(sentence)\n",
    "print(\"The first character is:\", sentence[0])\n",
    "print(\"The first 5 characters are:\", sentence[0:5])"
   ]
  },
  {
   "cell_type": "markdown",
   "metadata": {},
   "source": [
    "As you can see, slicing is in the format **`[from:to]`**, where `from` and `to` are numeric indexes.\n",
    "\n",
    "`from` is self-explanatory.\n",
    "\n",
    "`to` is a bit more complicated.  It means \"up to but not including\".\n",
    "\n",
    "In our previous example, `sentence[0:5]` gave us the first 5 characters of the sentence, `The q`.  These 5 characters had the index values 0, 1, 2, 3, and 4.\n"
   ]
  },
  {
   "cell_type": "code",
   "execution_count": null,
   "metadata": {},
   "outputs": [],
   "source": [
    "sentence = \"The quick brown fox jumps over the lazy dog.\"\n",
    "index = 0\n",
    "\n",
    "while index < len(sentence):\n",
    "    print(sentence[index:index + 10])\n",
    "    index = index + 1"
   ]
  },
  {
   "cell_type": "code",
   "execution_count": null,
   "metadata": {},
   "outputs": [],
   "source": [
    "sentence = \"The quick brown fox jumps over the lazy dog.\"\n",
    "print(sentence[0:13])\n",
    "print(sentence[13:26])\n",
    "print(sentence[26:])"
   ]
  },
  {
   "cell_type": "markdown",
   "metadata": {},
   "source": [
    "If either the **from** or the **to** is blank, then they default to the front of the string or the end of the string, respectively."
   ]
  },
  {
   "cell_type": "code",
   "execution_count": null,
   "metadata": {},
   "outputs": [],
   "source": [
    "sentence = \"The quick brown fox jumps over the lazy dog.\"\n",
    "index = 0\n",
    "\n",
    "while index < len(sentence):\n",
    "    print(sentence[index:])\n",
    "    index = index + 1"
   ]
  },
  {
   "cell_type": "code",
   "execution_count": null,
   "metadata": {},
   "outputs": [],
   "source": [
    "sentence = \"The quick brown fox jumps over the lazy dog.\"\n",
    "index = 0\n",
    "\n",
    "while index < len(sentence):\n",
    "    print(sentence[:index + 1])\n",
    "    index = index + 1"
   ]
  },
  {
   "cell_type": "code",
   "execution_count": null,
   "metadata": {},
   "outputs": [],
   "source": [
    "# of course, an empty `from` and `to` will simply create a copy of the string.\n",
    "sentence = \"The quick brown fox jumps over the lazy dog.\"\n",
    "print(sentence)\n",
    "print(sentence[:])"
   ]
  },
  {
   "cell_type": "markdown",
   "metadata": {},
   "source": [
    "If either the **from** or the **to** is a negative number, then it counts from the end of the string rather than the beginning.  **-1** is the last character of the string."
   ]
  },
  {
   "cell_type": "code",
   "execution_count": null,
   "metadata": {},
   "outputs": [],
   "source": [
    "sentence = \"The quick brown fox jumps over the lazy dog.\"\n",
    "print(sentence[-1])\n",
    "print(sentence[-2])\n",
    "print(sentence[-3])\n",
    "print(sentence[-4])"
   ]
  },
  {
   "cell_type": "code",
   "execution_count": null,
   "metadata": {},
   "outputs": [],
   "source": [
    "sentence = \"The quick brown fox jumps over the lazy dog.\"\n",
    "print(sentence[-4:])"
   ]
  },
  {
   "cell_type": "code",
   "execution_count": null,
   "metadata": {},
   "outputs": [],
   "source": [
    "sentence = \"The quick brown fox jumps over the lazy dog.\"\n",
    "print(sentence[-4:-1])\n",
    "print(sentence[40:43])\n",
    "print(sentence[len(sentence)-4:len(sentence)-1])"
   ]
  },
  {
   "cell_type": "markdown",
   "metadata": {},
   "source": [
    "### Slicing and Skips\n",
    "\n",
    "The slice syntax has a third (optional) part, called the **skip**.  Again, It's behavior is best observed first."
   ]
  },
  {
   "cell_type": "code",
   "execution_count": null,
   "metadata": {},
   "outputs": [],
   "source": [
    "sentence = \"The quick brown fox jumps over the lazy dog.\"\n",
    "print(sentence)\n",
    "print(sentence[::2])"
   ]
  },
  {
   "cell_type": "markdown",
   "metadata": {},
   "source": [
    "The full form of a slice, then is **`[from:to:skip]`**, where skip says how far to advance the internal counter.  It's default value is `1`.\n",
    "\n",
    "Skip gives us some interesting behaviors:"
   ]
  },
  {
   "cell_type": "code",
   "execution_count": null,
   "metadata": {},
   "outputs": [],
   "source": [
    "sentence = \"The quick brown fox jumps over the lazy dog.\"\n",
    "print(sentence)\n",
    "print(sentence[::-1])"
   ]
  },
  {
   "cell_type": "code",
   "execution_count": null,
   "metadata": {},
   "outputs": [],
   "source": [
    "sentence = \"The quick brown fox jumps over the lazy dog.\"\n",
    "print(sentence)\n",
    "print(sentence[5:-5:3])"
   ]
  },
  {
   "cell_type": "markdown",
   "metadata": {},
   "source": [
    "## String Methods\n",
    "\n",
    "There are **a lot** of String methods, more than we could possibly cover in the class.  As usual, I will tell you about some of the more common ones, and then point you to the [documentation](https://docs.python.org/3.6/library/stdtypes.html#string-methods) so that you can see what else is possible.\n",
    "\n",
    "First though, we need to cover an important question: **What is a method?**\n",
    "\n",
    "A **method** is a function that is attached to a variable.\n",
    "\n",
    "Consider the `len()` function.  It is *not* a method, because of the way that it is invoked."
   ]
  },
  {
   "cell_type": "code",
   "execution_count": null,
   "metadata": {},
   "outputs": [],
   "source": [
    "sentence = \"The quick brown fox jumps over the lazy dog.\"\n",
    "print(len(sentence))"
   ]
  },
  {
   "cell_type": "markdown",
   "metadata": {},
   "source": [
    "Notice that the function `len()` must be provided with the string variable as one of its arguments.\n",
    "\n",
    "A method, rather, is attached to the variable itself.  Consider the `.upper()` method:"
   ]
  },
  {
   "cell_type": "code",
   "execution_count": null,
   "metadata": {},
   "outputs": [],
   "source": [
    "sentence = \"The quick brown fox jumps over the lazy dog.\"\n",
    "print(sentence.upper())\n",
    "print(sentence)"
   ]
  },
  {
   "cell_type": "markdown",
   "metadata": {},
   "source": [
    "In this case, notice that `.upper()` is attached to the `sentence` variable.  It is still a \"function\" *per se*, but we use the word *method* to describe a function that is attached to variable.\n",
    "\n",
    "There are many different methods:"
   ]
  },
  {
   "cell_type": "code",
   "execution_count": 29,
   "metadata": {},
   "outputs": [
    {
     "name": "stdout",
     "output_type": "stream",
     "text": [
      "THE QUICK BROWN FOX JUMPS OVER THE LAZY DOG.\n",
      "the quick brown fox jumps over the lazy dog.\n",
      "tHE QUICK BROWN FOX JUMPS OVER THE LAZY DOG.\n",
      "The Quick Brown Fox Jumps Over The Lazy Dog.\n"
     ]
    }
   ],
   "source": [
    "sentence = \"The quick brown fox jumps over the lazy dog.\"\n",
    "print(sentence.upper())\n",
    "print(sentence.lower())\n",
    "print(sentence.swapcase())\n",
    "print(sentence.title())\n"
   ]
  },
  {
   "cell_type": "markdown",
   "metadata": {},
   "source": [
    "Now it gets interesting... :)\n",
    "\n",
    "Because each of these methods is returning a new **string**, we can **chain** one method on to the next in order to get more complex behavior."
   ]
  },
  {
   "cell_type": "code",
   "execution_count": null,
   "metadata": {},
   "outputs": [],
   "source": [
    "sentence = \"The quick brown fox jumps over the lazy dog.\"\n",
    "print(sentence.title().swapcase())\n"
   ]
  },
  {
   "cell_type": "markdown",
   "metadata": {},
   "source": [
    "To be clear, you **can** attach a method to any string declaration.  It does not need to be stored in a variable first!"
   ]
  },
  {
   "cell_type": "code",
   "execution_count": null,
   "metadata": {},
   "outputs": [],
   "source": [
    "print(\"The quick brown fox jumps over the lazy dog.\".title().swapcase())\n"
   ]
  },
  {
   "cell_type": "markdown",
   "metadata": {},
   "source": [
    "We can combine this with the idea of slicing (presented earlier)."
   ]
  },
  {
   "cell_type": "code",
   "execution_count": null,
   "metadata": {},
   "outputs": [],
   "source": [
    "sentence = \"The quick brown fox jumps over the lazy dog.\"\n",
    "index = 0\n",
    "\n",
    "while index < len(sentence):\n",
    "    print(sentence[index:index + 10].title())\n",
    "    index = index + 1"
   ]
  },
  {
   "cell_type": "markdown",
   "metadata": {},
   "source": [
    "Some methods allow us to ask questions about the string, such as `.isalnum()`, `.isalpha()`, `.isdecimal()`, `.isdigit()`, `.islower()`, `.isnumeric()`, `.isprintable()`, `.isspace()`, `.istitle()`, `.isupper()`.\n",
    "\n",
    "These methods return a `bool` value of either `True` or `False`."
   ]
  },
  {
   "cell_type": "code",
   "execution_count": null,
   "metadata": {},
   "outputs": [],
   "source": [
    "userInput = input('Type something: ')\n",
    "\n",
    "if userInput.islower():\n",
    "    print(\"The lower case test passed!\")\n",
    "else:\n",
    "    print(\"The lower case test failed. :(\")"
   ]
  },
  {
   "cell_type": "markdown",
   "metadata": {},
   "source": [
    "Lastly, there are a few methods to remove unwanted characters from a string.  They are `.lstrip()`, `.rstrip()`, and `.strip()`."
   ]
  },
  {
   "cell_type": "code",
   "execution_count": null,
   "metadata": {},
   "outputs": [],
   "source": [
    "message = \"     foo bar baz    \"\n",
    "\n",
    "print('|', message, '|', sep=\"\")\n",
    "print('|', message.lstrip(), '|', sep=\"\")\n",
    "print('|', message.rstrip(), '|', sep=\"\")\n",
    "print('|', message.strip(), '|', sep=\"\")"
   ]
  },
  {
   "cell_type": "code",
   "execution_count": null,
   "metadata": {},
   "outputs": [],
   "source": [
    "message = \"bbabaacccbbbaaa\"\n",
    "\n",
    "print('|', message, '|', sep=\"\")\n",
    "print('|', message.lstrip('ab'), '|', sep=\"\")\n",
    "print('|', message.rstrip('ab'), '|', sep=\"\")\n",
    "print('|', message.strip('ab'), '|', sep=\"\")\n"
   ]
  },
  {
   "cell_type": "markdown",
   "metadata": {},
   "source": [
    "## String Library\n",
    "\n",
    "Python ships with a [String library](https://docs.python.org/3.6/library/string.html) that both defines constants and other functionality.\n",
    "\n",
    "### Common constants:"
   ]
  },
  {
   "cell_type": "code",
   "execution_count": 30,
   "metadata": {},
   "outputs": [
    {
     "name": "stdout",
     "output_type": "stream",
     "text": [
      "Letters: abcdefghijklmnopqrstuvwxyzABCDEFGHIJKLMNOPQRSTUVWXYZ\n",
      "Lowercase: abcdefghijklmnopqrstuvwxyz\n",
      "Uppercase: ABCDEFGHIJKLMNOPQRSTUVWXYZ\n",
      "Digits: 0123456789\n",
      "Hex Digits: 0123456789abcdefABCDEF\n",
      "Oct Digits: 01234567\n",
      "Punctuation: !\"#$%&'()*+,-./:;<=>?@[\\]^_`{|}~\n",
      "Printable: 0123456789abcdefghijklmnopqrstuvwxyzABCDEFGHIJKLMNOPQRSTUVWXYZ!\"#$%&'()*+,-./:;<=>?@[\\]^_`{|}~ \t\n",
      "\u000b\f\n",
      "Whitespace:  \t\n",
      "\u000b\f\n"
     ]
    }
   ],
   "source": [
    "import string\n",
    "\n",
    "print('Letters:', string.ascii_letters)\n",
    "print('Lowercase:', string.ascii_lowercase)\n",
    "print('Uppercase:', string.ascii_uppercase)\n",
    "print('Digits:', string.digits)\n",
    "print('Hex Digits:', string.hexdigits)\n",
    "print('Oct Digits:', string.octdigits)\n",
    "print('Punctuation:', string.punctuation)\n",
    "print('Printable:', string.printable)\n",
    "print('Whitespace:', string.whitespace)"
   ]
  },
  {
   "cell_type": "markdown",
   "metadata": {},
   "source": [
    "We will see a more important use case for these constants in Section 2 of the class."
   ]
  },
  {
   "cell_type": "markdown",
   "metadata": {},
   "source": [
    "## String Formatting\n",
    "\n",
    "We have already seen examples of using *format strings*, but here is a bit more detail about how they work.\n",
    "\n",
    "Format strings are normal strings that have an `f` before the opening quote.  For example: `f\"hello\"`\n",
    "\n",
    "Inside of a format string, variables and calculations may be inserted by putting them inside curly braces."
   ]
  },
  {
   "cell_type": "code",
   "execution_count": null,
   "metadata": {},
   "outputs": [],
   "source": [
    "message = \"Howdy!\"\n",
    "\n",
    "print(f'Corey says, \"{message}\"  {message}')"
   ]
  },
  {
   "cell_type": "code",
   "execution_count": null,
   "metadata": {},
   "outputs": [],
   "source": [
    "message = \"Howdy!\"\n",
    "\n",
    "print(f'Corey says, \"{message:-^30}\"  {message}')"
   ]
  },
  {
   "cell_type": "markdown",
   "metadata": {},
   "source": [
    "This is powerful, in and of itself, but there is much, much more that you can put inside the curly braces in order to give more precise instruction about **how** to format the variable.\n",
    "\n",
    "The [format specification](https://docs.python.org/3.6/library/string.html#format-specification-mini-language) is a sort of mini-language that you use to describe your desired format to the Python interpreter.\n",
    "\n",
    "The general format is:\n",
    "\n",
    "`[[fill]align][sign][#][0][width][grouping_option][.precision][type]`\n",
    "\n",
    "Check the documentation for more in-depth information about each option.  You do not have to include every part, but the parts that do appear must be in the order specified above.\n",
    "\n",
    "In all cases, the format appears after a colon (`:`) after the variable, inside the curly braces.\n",
    "\n",
    "Consider the following examples:"
   ]
  },
  {
   "cell_type": "code",
   "execution_count": 31,
   "metadata": {},
   "outputs": [
    {
     "name": "stdout",
     "output_type": "stream",
     "text": [
      "3.141592653589793\n",
      "3.141592653589793\n",
      "3.141593\n",
      "3.14\n",
      "3.142\n",
      "     3.142\n",
      "3.142~~~~~\n",
      "~~3.142~~~\n",
      "~~~~~3.142\n"
     ]
    }
   ],
   "source": [
    "import math\n",
    "\n",
    "print(math.pi)\n",
    "print(f\"{math.pi}\")\n",
    "print(f\"{math.pi:f}\") # Type is set to \"f\", which defaults precision to 6\n",
    "print(f\"{math.pi:.3}\") # 3 digits of precision total (type not specified)\n",
    "print(f\"{math.pi:.3f}\") # 3 digits precision after the decimal place (type specified as \"f\")\n",
    "print(f\"{math.pi:10.3f}\") # width of 10, 3 digits precision after the decimal place\n",
    "print(f\"{math.pi:~<10.3f}\") # fill character is ~, left justified, width of 10, 3 digits precision after the decimal place\n",
    "print(f\"{math.pi:~^10.3f}\") # fill character is ~, center justified, width of 10, 3 digits precision after the decimal place\n",
    "print(f\"{math.pi:~>10.3f}\") # fill character is ~, right justified, width of 10, 3 digits precision after the decimal place\n"
   ]
  },
  {
   "cell_type": "markdown",
   "metadata": {},
   "source": [
    "Of course, the formatting is not limited to numbers.  Strings can be formatted too, albeit not as powerfully (*i.e.*, you can't set the precision on a string)."
   ]
  },
  {
   "cell_type": "code",
   "execution_count": null,
   "metadata": {},
   "outputs": [],
   "source": [
    "print(f\"{'Hey':.<15}\")\n",
    "print(f\"{'Hey':.^15}\")\n",
    "print(f\"{'Hey':.>15}\")\n",
    "\n",
    "print(f\"{'Hey':<15}\")\n",
    "print(f\"{'Hey':^15}\")\n",
    "print(f\"{'Hey':>15}\")\n"
   ]
  },
  {
   "cell_type": "markdown",
   "metadata": {},
   "source": [
    "In the following example, notice that when we use a variable inside the format specification, the variable must be surrounded by curly braces, too."
   ]
  },
  {
   "cell_type": "code",
   "execution_count": null,
   "metadata": {},
   "outputs": [],
   "source": [
    "word = 'Hey'\n",
    "width = 3\n",
    "while width < 15:\n",
    "    print(f\"{word:>{width}}\")\n",
    "    width = width + 1"
   ]
  },
  {
   "cell_type": "markdown",
   "metadata": {},
   "source": [
    "## String Literals and Escape Codes\n",
    "\n",
    "Strings in Python can represent many different types of information.  Unfortunately, we only have a limited set of characters to express these ideas.  In order to work around this limitation, we have a tool called [String Literals](https://docs.python.org/3.6/reference/lexical_analysis.html#string-and-bytes-literals).\n",
    "\n",
    "The subject of String literals includes all of the strings that we have seen thus far.  But it includes much more.  By way of review:\n",
    "\n",
    "* Strings are denoted by either a set of single quotes `''` or a set of double quotes `\"\"`.\n",
    "\n",
    "`'This is a string.'`\n",
    "\n",
    "`\"This is also a string.\"`\n",
    "\n",
    "* Multi-line strings use a pair of three single or double quotes.\n",
    "\n",
    "`'''\n",
    "This is a multi-line string.\n",
    "'''`\n",
    "\n",
    "`\"\"\"\n",
    "This is another multi-line string.\n",
    "\"\"\"`\n",
    "\n",
    "* In order to represent anything other than the immediately obvious, it is necessary to use **escape codes**.\n",
    "\n",
    "### Escape Codes\n",
    "\n",
    "Generally speaking, escape codes (also called **escape sequences**) begin with a backslash character.  The list of recognized escape sequences appear in the link previously given (see String Literals).  An easier-to-read format can be seen [here](https://python-reference.readthedocs.io/en/latest/docs/str/escapes.html)."
   ]
  },
  {
   "cell_type": "markdown",
   "metadata": {},
   "source": [
    "### Example: Embedded quotes"
   ]
  },
  {
   "cell_type": "code",
   "execution_count": null,
   "metadata": {},
   "outputs": [],
   "source": [
    "example1 = 'Embedding a single quote (\\') in a single-quoted string.'\n",
    "\n",
    "print(example1)"
   ]
  },
  {
   "cell_type": "code",
   "execution_count": null,
   "metadata": {},
   "outputs": [],
   "source": [
    "example2 = \"Embedding a double quote (\\\") in a double-quoted string.\"\n",
    "\n",
    "print(example2)"
   ]
  },
  {
   "cell_type": "markdown",
   "metadata": {},
   "source": [
    "### Example: Backslash"
   ]
  },
  {
   "cell_type": "code",
   "execution_count": null,
   "metadata": {},
   "outputs": [],
   "source": [
    "example1 = \"A forward slash doesn't need to be escaped: /.\"\n",
    "\n",
    "print(example1)"
   ]
  },
  {
   "cell_type": "code",
   "execution_count": null,
   "metadata": {},
   "outputs": [],
   "source": [
    "example2 = \"A backward slash does need to be escaped: \\\\.\"\n",
    "\n",
    "print(example2)"
   ]
  },
  {
   "cell_type": "markdown",
   "metadata": {},
   "source": [
    "### Example: The newline character"
   ]
  },
  {
   "cell_type": "code",
   "execution_count": null,
   "metadata": {},
   "outputs": [],
   "source": [
    "example1 = '''Here is a multi-line string.\n",
    "It includes a newline.'''\n",
    "\n",
    "print(example1)"
   ]
  },
  {
   "cell_type": "code",
   "execution_count": null,
   "metadata": {},
   "outputs": [],
   "source": [
    "example2 = \"Here is a multi-linestring.\\nIt includes a newline.\"\n",
    "\n",
    "print(example2)"
   ]
  },
  {
   "cell_type": "markdown",
   "metadata": {},
   "source": [
    "#### Side note:\n",
    "\n",
    "The newline character is different for the different OSes.  It's [complicated](https://en.wikipedia.org/wiki/Newline).\n",
    "\n",
    "Python tries to make it easier for you, by hiding the complexity.\n",
    "\n",
    "The safest option is to always use `\\n`.  When writing files, Python will automatically use the correct newline format.\n",
    "\n",
    "If you absolutely need to know which format your installation of Python uses, then see the following code:"
   ]
  },
  {
   "cell_type": "code",
   "execution_count": 36,
   "metadata": {},
   "outputs": [
    {
     "name": "stdout",
     "output_type": "stream",
     "text": [
      "b'\\r\\n'\n"
     ]
    }
   ],
   "source": [
    "import os\n",
    "\n",
    "print(os.linesep.encode(\"utf-8\"))"
   ]
  },
  {
   "cell_type": "markdown",
   "metadata": {},
   "source": [
    "### Example: Unicode\n",
    "\n",
    "List of Unicode Characters: [on Wikipedia](https://en.wikipedia.org/wiki/List_of_Unicode_characters)\n",
    "\n",
    "Python strings can include unicode characters.  There are three ways:\n",
    "\n",
    "* `\\N{name}` where `name` comes from the unicode database. [Long list of all names](https://www.unicode.org/Public/UCD/latest/ucd/NamesList.txt)\n",
    "* `\\uxxxx` Character with 16-bit hex value XXXX (Unicode only)\n",
    "* `\\Uxxxxxxxx` Character with 32-bit hex value XXXXXXXX (Unicode only)"
   ]
  },
  {
   "cell_type": "code",
   "execution_count": 35,
   "metadata": {},
   "outputs": [
    {
     "name": "stdout",
     "output_type": "stream",
     "text": [
      "🎢\n",
      "🎢\n"
     ]
    }
   ],
   "source": [
    "print(\"\\N{ROLLER COASTER}\")\n",
    "print(\"\\U0001F3A2\")"
   ]
  },
  {
   "cell_type": "code",
   "execution_count": 34,
   "metadata": {},
   "outputs": [
    {
     "name": "stdout",
     "output_type": "stream",
     "text": [
      "Here's a  🎢 roller coaster!\n",
      "Here's another 🎢 one!\n"
     ]
    }
   ],
   "source": [
    "# Quick demo showing that the unicode symbols can be embedded in string text.\n",
    "print(\"Here's a  \\N{ROLLER COASTER} roller coaster!\")\n",
    "print(\"Here's another \\U0001F3A2 one!\")"
   ]
  },
  {
   "cell_type": "code",
   "execution_count": 33,
   "metadata": {},
   "outputs": [
    {
     "name": "stdout",
     "output_type": "stream",
     "text": [
      "⛄\n",
      "⛄\n",
      "⛄\n"
     ]
    }
   ],
   "source": [
    "print(\"\\N{SNOWMAN WITHOUT SNOW}\")\n",
    "print(\"\\u26C4\")     # 16 bit value\n",
    "print(\"\\U000026C4\") # 32 bit value (notice the 0's at the beginning)"
   ]
  },
  {
   "cell_type": "code",
   "execution_count": 32,
   "metadata": {},
   "outputs": [
    {
     "name": "stdout",
     "output_type": "stream",
     "text": [
      "𝄞\n",
      "𝄞\n"
     ]
    }
   ],
   "source": [
    "print(\"\\N{MUSICAL SYMBOL G CLEF}\")\n",
    "print(\"\\U0001D11E\") # 32 bit value.\n",
    "                    # It requires at least 5 digits,\n",
    "                    # so can't be represented as a 16 bit value."
   ]
  },
  {
   "cell_type": "markdown",
   "metadata": {},
   "source": [
    "# Reading and Writing Files\n",
    "\n",
    "Python makes reading and writing files **very** easy.  Files are represented by **variables**, just like numbers and strings.\n",
    "\n",
    "There is an [`open()`](https://docs.python.org/3.6/library/functions.html#open) function to open the file for reading or writing, and there is a corresponding [`.close()`](https://docs.python.org/3.6/library/io.html#io.IOBase.close) method."
   ]
  },
  {
   "cell_type": "markdown",
   "metadata": {},
   "source": [
    "## Writing\n",
    "\n",
    "In order to write a file, you have to first **open** the file.  But \"opening\" a file can have many different modes of use.  So we have to tell Python a few details about how we intend to use the file.  We do that by passing a `mode` argument into the `open()` function.\n",
    "\n",
    "`mode` is a string of characters.  Each character gives Python a bit of information about how the file should be opened.  Here are the most common options:\n",
    "\n",
    "* `r` - open for reading (default)\n",
    "* `w` - open for writing, truncating the file first\n",
    "* `x` - open for exclusive creation, failing if the file already exists\n",
    "* `a` - open for writing, appending to the end of the file if it exists\n",
    "* `b` - binary mode\n",
    "* `t` - text mode (default)\n",
    "* `+` - open a disk file for updating (reading and writing)\n",
    "\n",
    "In order to open a file, you need to provide a **file name**.  This file must either be in the same directory that the script is running, or accessible from the current directory using [relative paths](http://www.webdevbydoing.com/absolute-relative-and-root-relative-file-paths/)."
   ]
  },
  {
   "cell_type": "code",
   "execution_count": null,
   "metadata": {},
   "outputs": [],
   "source": [
    "help(open)"
   ]
  },
  {
   "cell_type": "code",
   "execution_count": 37,
   "metadata": {},
   "outputs": [],
   "source": [
    "outputFile = open('../../summer.txt', 'a')\n",
    "\n",
    "print('Testing', file=outputFile)\n",
    "\n",
    "counter = 1\n",
    "while counter < 10:\n",
    "    print('*' * counter, file=outputFile)\n",
    "    counter = counter + 1\n",
    "    \n",
    "outputFile.close()"
   ]
  },
  {
   "cell_type": "markdown",
   "metadata": {},
   "source": [
    "## Reading\n",
    "\n",
    "There are several ways to read files, but most of them require features of Python that we have not learned yet.  For now, you will see a simplistic way of reading the entire contents of a file into a variable as a string.\n",
    "\n",
    "Later, we will see a few more interesting (and helpful) ways to deal with the string input."
   ]
  },
  {
   "cell_type": "code",
   "execution_count": null,
   "metadata": {},
   "outputs": [],
   "source": [
    "inputFile = open('out.txt', 'r')\n",
    "\n",
    "contents = inputFile.read()\n",
    "inputFile.close()\n",
    "\n",
    "print(f'{\"File Contents\":-^30}')\n",
    "print(contents)\n",
    "print(f'{\"End File\":-^30}')\n",
    "\n"
   ]
  },
  {
   "cell_type": "code",
   "execution_count": null,
   "metadata": {},
   "outputs": [],
   "source": []
  },
  {
   "cell_type": "code",
   "execution_count": 38,
   "metadata": {},
   "outputs": [
    {
     "name": "stdout",
     "output_type": "stream",
     "text": [
      "1 1\n",
      "1 2\n",
      "1 3\n",
      "1 4\n",
      "1 5\n",
      "1 6\n",
      "1 7\n",
      "1 8\n",
      "1 9\n",
      "2 1\n",
      "2 2\n",
      "2 3\n",
      "2 4\n",
      "2 5\n",
      "2 6\n",
      "2 7\n",
      "2 8\n",
      "2 9\n",
      "3 1\n",
      "3 2\n",
      "3 3\n",
      "3 4\n",
      "3 5\n",
      "3 6\n",
      "3 7\n",
      "3 8\n",
      "3 9\n",
      "4 1\n",
      "4 2\n",
      "4 3\n",
      "4 4\n",
      "4 5\n",
      "4 6\n",
      "4 7\n",
      "4 8\n",
      "4 9\n",
      "5 1\n",
      "5 2\n",
      "5 3\n",
      "5 4\n",
      "5 5\n",
      "5 6\n",
      "5 7\n",
      "5 8\n",
      "5 9\n",
      "6 1\n",
      "6 2\n",
      "6 3\n",
      "6 4\n",
      "6 5\n",
      "6 6\n",
      "6 7\n",
      "6 8\n",
      "6 9\n",
      "7 1\n",
      "7 2\n",
      "7 3\n",
      "7 4\n",
      "7 5\n",
      "7 6\n",
      "7 7\n",
      "7 8\n",
      "7 9\n",
      "8 1\n",
      "8 2\n",
      "8 3\n",
      "8 4\n",
      "8 5\n",
      "8 6\n",
      "8 7\n",
      "8 8\n",
      "8 9\n",
      "9 1\n",
      "9 2\n",
      "9 3\n",
      "9 4\n",
      "9 5\n",
      "9 6\n",
      "9 7\n",
      "9 8\n",
      "9 9\n"
     ]
    }
   ],
   "source": [
    "i = 1\n",
    "while i < 10:\n",
    "    j = 1\n",
    "    while j < 10:\n",
    "        print(i , j)\n",
    "        j = j + 1\n",
    "    i = i + 1\n"
   ]
  },
  {
   "cell_type": "code",
   "execution_count": 2,
   "metadata": {},
   "outputs": [
    {
     "name": "stdout",
     "output_type": "stream",
     "text": [
      "*********\n",
      "*********\n",
      "*********\n",
      "*********\n",
      "*********\n",
      "*********\n",
      "*********\n",
      "*********\n",
      "*********\n"
     ]
    }
   ],
   "source": [
    "i = 1\n",
    "while i < 10:\n",
    "    j = 1\n",
    "    while j < 10:\n",
    "        print('*', end=\"\")\n",
    "        j = j + 1\n",
    "    print()\n",
    "    i = i + 1\n"
   ]
  },
  {
   "cell_type": "code",
   "execution_count": 1,
   "metadata": {},
   "outputs": [
    {
     "name": "stdout",
     "output_type": "stream",
     "text": [
      "A\n",
      "BC\n",
      "DEF\n",
      "GHIJ\n",
      "KLMNO\n",
      "PQRSTU\n",
      "VWXYZ[\\\n",
      "]^_`abcd\n",
      "efghijklm\n"
     ]
    }
   ],
   "source": [
    "i = 1\n",
    "character = ord('A')\n",
    "while i < 10:\n",
    "    j = 1\n",
    "    while j <= i:\n",
    "        print(chr(character), end=\"\")\n",
    "        character = character + 1\n",
    "        j = j + 1\n",
    "    print()\n",
    "    i = i + 1\n"
   ]
  },
  {
   "cell_type": "code",
   "execution_count": 39,
   "metadata": {},
   "outputs": [
    {
     "name": "stdout",
     "output_type": "stream",
     "text": [
      "    A     \n",
      "    BC    \n",
      "   DEF    \n",
      "   GHIJ   \n",
      "  KLMNO   \n",
      "  PQRSTU  \n",
      " VWXYZ[\\  \n",
      " ]^_`abcd \n",
      "efghijklm \n"
     ]
    }
   ],
   "source": [
    "i = 1\n",
    "character = ord('A')\n",
    "while i < 10:\n",
    "    j = 1\n",
    "    line = \"\"\n",
    "    while j <= i:\n",
    "        line = line + chr(character)\n",
    "        character = character + 1\n",
    "        j = j + 1\n",
    "    print(f\"{line:^10}\")\n",
    "    i = i + 1\n"
   ]
  },
  {
   "cell_type": "code",
   "execution_count": null,
   "metadata": {},
   "outputs": [],
   "source": []
  }
 ],
 "metadata": {
  "interpreter": {
   "hash": "ed5036af13a83d85d0bc33d78e043b6dd528025945592a6cba3b312926f49722"
  },
  "kernelspec": {
   "display_name": "Python 3.9.2 64-bit",
   "language": "python",
   "name": "python3"
  },
  "language_info": {
   "codemirror_mode": {
    "name": "ipython",
    "version": 3
   },
   "file_extension": ".py",
   "mimetype": "text/x-python",
   "name": "python",
   "nbconvert_exporter": "python",
   "pygments_lexer": "ipython3",
   "version": "3.9.2"
  }
 },
 "nbformat": 4,
 "nbformat_minor": 4
}
