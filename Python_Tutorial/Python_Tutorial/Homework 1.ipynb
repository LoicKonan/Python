{
 "cells": [
  {
   "cell_type": "markdown",
   "metadata": {},
   "source": [
    "# Homework 1\n"
   ]
  },
  {
   "cell_type": "markdown",
   "metadata": {},
   "source": [
    "# Part 1: Simple Calculations (20 Points)\n",
    "\n",
    "Your script should ask the user to enter two numbers (two separate prompts), and then combine the numbers using the four arithematic operators: `+`, `-`, `*`, `/`, and `//`.\n",
    "\n",
    "The end result should look similar to the sample runs below:\n",
    "\n",
    "**Example 1:**\n",
    "```\n",
    "What is the first number? 15\n",
    "What is the second number? 7\n",
    "15.0 + 7.0 = 22.0\n",
    "15.0 - 7.0 = 8.0\n",
    "15.0 * 7.0 = 105.0\n",
    "15.0 / 7.0 = 2.142857142857143\n",
    "15.0 // 7.0 = 2.0\n",
    "```\n",
    "\n",
    "**Example 2:**\n",
    "```\n",
    "What is the first number? -3.5\n",
    "What is the second number? 8\n",
    "-3.5 + 8.0 = 4.5\n",
    "-3.5 - 8.0 = -11.5\n",
    "-3.5 * 8.0 = -28.0\n",
    "-3.5 / 8.0 = -0.4375\n",
    "-3.5 // 8.0 = -1.0\n",
    "```\n",
    "\n",
    "You do not need to test for invalid input (*e.g.*, if the user enters \"abc\" instead of a number, then it's OK if Python raises an error)."
   ]
  },
  {
   "cell_type": "code",
   "execution_count": null,
   "metadata": {},
   "outputs": [],
   "source": [
    "### CELL 1 ###\n",
    "# Write your code in this cell below these lines.\n",
    "# Do not remove this comment block.\n",
    "##############\n",
    "\n"
   ]
  },
  {
   "cell_type": "markdown",
   "metadata": {},
   "source": [
    "# Part 2: Loops! (20 Points)\n",
    "\n",
    "Ask the user to enter an integer, and then print a \"pyramid\" pattern according to the examples below.  Make sure that they enter a positive number!\n",
    "\n",
    "## Constraint:\n",
    "\n",
    "* Use the \"string multiplication\" technique.\n",
    "\n",
    "**Example 1:**\n",
    "```\n",
    "Enter an integer: 3\n",
    "1\n",
    "22\n",
    "333\n",
    "```\n",
    "\n",
    "**Example 2:**\n",
    "```\n",
    "Enter an integer: 12\n",
    "1\n",
    "22\n",
    "333\n",
    "4444\n",
    "55555\n",
    "666666\n",
    "7777777\n",
    "88888888\n",
    "999999999\n",
    "10101010101010101010\n",
    "1111111111111111111111\n",
    "121212121212121212121212\n",
    "```\n",
    "\n",
    "**Example 3:**\n",
    "```\n",
    "Enter an integer: -5\n",
    "Stop being so negative!\n",
    "```\n",
    "\n",
    "**Example 4:**\n",
    "```\n",
    "Enter an integer: 0\n",
    "```\n",
    "\n",
    "That's right... entering `0` will not print out anything!"
   ]
  },
  {
   "cell_type": "code",
   "execution_count": null,
   "metadata": {},
   "outputs": [],
   "source": [
    "### CELL 2 ###\n",
    "# Write your code in this cell below these lines.\n",
    "# Do not remove this comment block.\n",
    "##############\n",
    "\n"
   ]
  },
  {
   "cell_type": "code",
   "execution_count": null,
   "metadata": {},
   "outputs": [],
   "source": []
  }
 ],
 "metadata": {
  "kernelspec": {
   "display_name": "Python 3",
   "language": "python",
   "name": "python3"
  },
  "language_info": {
   "codemirror_mode": {
    "name": "ipython",
    "version": 3
   },
   "file_extension": ".py",
   "mimetype": "text/x-python",
   "name": "python",
   "nbconvert_exporter": "python",
   "pygments_lexer": "ipython3",
   "version": "3.6.13"
  }
 },
 "nbformat": 4,
 "nbformat_minor": 4
}
