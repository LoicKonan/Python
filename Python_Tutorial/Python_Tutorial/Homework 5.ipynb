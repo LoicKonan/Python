{
 "cells": [
  {
   "cell_type": "markdown",
   "metadata": {},
   "source": [
    "# Homework 5"
   ]
  },
  {
   "cell_type": "markdown",
   "metadata": {},
   "source": [
    "## Part 1: Constructing a grid. (20 Points)\n",
    "\n",
    "This assignment is to write a function that will return a string containing a grid of a specific size and dimensions.  Your function should be called `printgrid()`, and will take 3 parameters: the number of rows, the number of columns, and the size of the boxes in the grid.\n",
    "\n",
    "Be sure to document the function adequately, including instructional text for use by the `help()` function.\n",
    "\n",
    "Examine the examples below to determine the required output:\n",
    "\n",
    "Calling `print(printgrid(1, 1, 1))` should print out:\n",
    "```\n",
    "+--+\n",
    "|  |\n",
    "+--+\n",
    "```\n",
    "\n",
    "Notice that, in order to make the cell square-ish, the cells are two characters wide for each one character in height.  For clarification, notice the following several examples:\n",
    "\n",
    "`print(printgrid(1,1,2))`\n",
    "```\n",
    "+----+\n",
    "|    |\n",
    "|    |\n",
    "+----+\n",
    "```\n",
    "\n",
    "`print(printgrid(3,8,1))`\n",
    "```\n",
    "+--+--+--+--+--+--+--+--+\n",
    "|  |  |  |  |  |  |  |  |\n",
    "+--+--+--+--+--+--+--+--+\n",
    "|  |  |  |  |  |  |  |  |\n",
    "+--+--+--+--+--+--+--+--+\n",
    "|  |  |  |  |  |  |  |  |\n",
    "+--+--+--+--+--+--+--+--+\n",
    "```\n",
    "\n",
    "`print(printgrid(4,4,3))`\n",
    "```\n",
    "+------+------+------+------+\n",
    "|      |      |      |      |\n",
    "|      |      |      |      |\n",
    "|      |      |      |      |\n",
    "+------+------+------+------+\n",
    "|      |      |      |      |\n",
    "|      |      |      |      |\n",
    "|      |      |      |      |\n",
    "+------+------+------+------+\n",
    "|      |      |      |      |\n",
    "|      |      |      |      |\n",
    "|      |      |      |      |\n",
    "+------+------+------+------+\n",
    "|      |      |      |      |\n",
    "|      |      |      |      |\n",
    "|      |      |      |      |\n",
    "+------+------+------+------+\n",
    "```\n",
    "\n",
    "`print(printgrid(2,5,2))`\n",
    "```\n",
    "+----+----+----+----+----+\n",
    "|    |    |    |    |    |\n",
    "|    |    |    |    |    |\n",
    "+----+----+----+----+----+\n",
    "|    |    |    |    |    |\n",
    "|    |    |    |    |    |\n",
    "+----+----+----+----+----+\n",
    "````"
   ]
  },
  {
   "cell_type": "code",
   "execution_count": null,
   "metadata": {},
   "outputs": [],
   "source": [
    "### Cell 1 ###\n",
    "### Write your code below this line ###\n",
    "\n",
    "def printgrid(rows, columns, size):\n",
    "    pass\n"
   ]
  },
  {
   "cell_type": "code",
   "execution_count": null,
   "metadata": {},
   "outputs": [],
   "source": [
    "# Your function should have adequate documentation.\n",
    "\n",
    "print(help(printgrid))"
   ]
  },
  {
   "cell_type": "code",
   "execution_count": null,
   "metadata": {},
   "outputs": [],
   "source": [
    "# This code will print several grids\n",
    "\n",
    "print(printgrid(1,1,1))\n",
    "print(printgrid(1,1,3))\n",
    "print(printgrid(2,3,6))\n",
    "print(printgrid(4,1,2))\n",
    "print(printgrid(10,10,1))\n"
   ]
  },
  {
   "cell_type": "markdown",
   "metadata": {},
   "source": [
    "## Question 2: Like a Lambda to the slaughter (20 Points)\n",
    "\n",
    "Alter the code below to behave correctly using lambda expressions.  Un-comment the code lines as you go.  They are commented in the beginning, just so that you can run the script as you develop your answers.  The only thing that you need to do for each line is to complete the missing lambda expression.\n",
    "\n",
    "If you cannot figure out the lambda expression, then you may write a function to help, but there will be a point penalty.\n",
    "\n",
    "To help you out, I have provided the `print()` statement, and have left the word `lambda` to indicate where the lambda expression that you write should appear.\n",
    "\n",
    "Also, note that I have included an additional `print()` whose purpose is to print an empty line to help the readability of your answers.  This line should not be altered.\n"
   ]
  },
  {
   "cell_type": "code",
   "execution_count": null,
   "metadata": {},
   "outputs": [],
   "source": [
    "### Cell 2 ###\n",
    "gettysburg_address = \"Four score and seven years ago our fathers brought forth on this continent, a new nation, conceived in Liberty, and dedicated to the proposition that all men are created equal. Now we are engaged in a great civil war, testing whether that nation, or any nation so conceived and so dedicated, can long endure. We are met on a great battle-field of that war. We have come to dedicate a portion of that field, as a final resting place for those who here gave their lives that that nation might live. It is altogether fitting and proper that we should do this. But, in a larger sense, we can not dedicate -- we can not consecrate -- we can not hallow -- this ground. The brave men, living and dead, who struggled here, have consecrated it, far above our poor power to add or detract. The world will little note, nor long remember what we say here, but it can never forget what they did here. It is for us the living, rather, to be dedicated here to the unfinished work which they who fought here have thus far so nobly advanced. It is rather for us to be here dedicated to the great task remaining before us -- that from these honored dead we take increased devotion to that cause for which they gave the last full measure of devotion -- that we here highly resolve that these dead shall not have died in vain -- that this nation, under God, shall have a new birth of freedom -- and that government of the people, by the people, for the people, shall not perish from the earth.\"\n",
    "\n",
    "### Write your code below this line ###\n",
    "\n",
    "print('Here are the words of the Gettysburg Address. They sorted in ascending alphabetical order (not just ASCII order) by the 2nd letter of each word, and onward.')\n",
    "    # Note: it is expected that words of length 1 will be first.\n",
    "    #   For example, if the words being sorted were: I hate chocolate cake\n",
    "    #   The output would be ['I', 'cake', 'hate', 'chocolate']\n",
    "    #   'I' is first, because it does not have a 2nd letter.\n",
    "    #   'cake' comes before 'hate', because 'ake' comes before 'ate'.\n",
    "    #   'hate' comes before 'chocolate', because 'ate' comes before 'hocolate'.\n",
    "#print(sorted(gettysburg_address.split(), key=lambda ))\n",
    "print()\n",
    "\n",
    "\n",
    "print('Here are the words of the Gettysburg Address, sorted in ascending alphabetical order by the words when spelled backwards.')\n",
    "    #   For example, if the words being sorted were: I love chocolate cake\n",
    "    #   The output would be ['cake', 'chocolate', 'love', 'I']\n",
    "    #     because 'ekac' comes before 'etalocohc', etc.\n",
    "    #   In a second example, if the words being sorted were: I hate chocolate cake\n",
    "    #   The output would be ['cake', 'hate', 'chocolate', 'I']\n",
    "#print(sorted(gettysburg_address.split(), key=lambda ))\n",
    "print()\n",
    "\n",
    "\n",
    "print('Here are the words of the Gettysburg Address.  They are filtered so that only words with two or more vowels (AEIOUaeiou) are printed.')\n",
    "    # In this example, \"ago\" should print, but \"this\" should not.\n",
    "    # Similarly, \"seven\" would be printed, but not \"new\".\n",
    "#print([*filter(lambda , gettysburg_address.split())])\n",
    "print()\n",
    "\n",
    "\n",
    "print('Here are the words of the Gettysburg Address (as a string), but each word is converted to uppercase, and the word is printed backwards.')\n",
    "    # RUOF EROCS DNA NEVES SRAEY OGA...\n",
    "#print(' '.join(map(lambda , gettysburg_address.split())))\n",
    "print()\n"
   ]
  },
  {
   "cell_type": "code",
   "execution_count": null,
   "metadata": {},
   "outputs": [],
   "source": [
    "print('Here are the words of the Gettysburg Address.  They are filtered so that only words with two or more vowels (AEIOUaeiou) are printed.')\n",
    "    # In this example, \"ago\" should print, but \"this\" should not.\n",
    "    # Similarly, \"seven\" would be printed, but not \"new\".\n",
    "print()\n",
    "\n"
   ]
  },
  {
   "cell_type": "markdown",
   "metadata": {},
   "source": [
    "## Question 3: Sin() on the dotted line (20 Points)\n",
    "\n",
    "Your task is to make an ASCII (text) representation of a Sine wave.  There's several (very different) ways to approach this, but they all start with determining the size of the drawing, followed by determining the `x` and `y` values.\n",
    "\n",
    "For simplicity, we will use an `x` value ranging from 0 to 2π.  The y value range should be self-evident.\n",
    "\n",
    "Draw an x axis as well as a y axis.\n",
    "\n",
    "Your final \"graph\" should be 51 characters wide (1 character for the axis, 50 for the drawing) by 15 characters tall.  An example of what it might look like is shown below:\n",
    "\n",
    "```\n",
    "|          ******                                  \n",
    "|        **      **                                \n",
    "|      **          **                              \n",
    "|     *              *                             \n",
    "|   **                **                           \n",
    "|  *                    *                          \n",
    "| *                      *                         \n",
    "|--------------------------------------------------\n",
    "|                          *                      *\n",
    "|                           *                    * \n",
    "|                            **                **  \n",
    "|                              *              *    \n",
    "|                               **          **     \n",
    "|                                 **      **       \n",
    "|                                   ******         \n",
    "```\n",
    "\n",
    "Coming up with a good mental model for the problem is probably your biggest challenge here.  I offer these hints:\n",
    "* You're not actually drawing a curvy line.  You're calculating points.\n",
    "* You have 50 `x` values, from 0 to 2π.  Computing what each one of those values is is trivial.  It's really just a scaling problem.\n",
    "* You have a corresponding `y` value, which is also trivial to compute.\n",
    "* You know that you need to use that `y` value to determine how hight (that is, in which row) the `*` should be, right? You can do that with simple math.  It's really just a simple scaling problem (again).\n",
    "* Once you know which row, you can then print out each row, one character (column) at a time.  For each character, ask yourself whether or not you should be printing a space (` `) or an asterisk (`*`) at that location."
   ]
  },
  {
   "cell_type": "code",
   "execution_count": null,
   "metadata": {},
   "outputs": [],
   "source": [
    "### Cell 3 ###\n",
    "import math\n",
    "\n",
    "### Write your code below this line ###\n"
   ]
  },
  {
   "cell_type": "code",
   "execution_count": null,
   "metadata": {},
   "outputs": [],
   "source": []
  }
 ],
 "metadata": {
  "kernelspec": {
   "display_name": "Python 3",
   "language": "python",
   "name": "python3"
  },
  "language_info": {
   "codemirror_mode": {
    "name": "ipython",
    "version": 3
   },
   "file_extension": ".py",
   "mimetype": "text/x-python",
   "name": "python",
   "nbconvert_exporter": "python",
   "pygments_lexer": "ipython3",
   "version": "3.6.13"
  }
 },
 "nbformat": 4,
 "nbformat_minor": 4
}
