{
 "cells": [
  {
   "cell_type": "markdown",
   "metadata": {},
   "source": [
    "# Section 2\n",
    "\n",
    "* [Helper Functions](#Helper-Functions)\n",
    "* [Sophisticated Math Syntax](#Sophisticated-Math-Syntax)\n",
    "* [Lists](#Lists)\n",
    "    * [String `.split()` and `.join()`](#.split()-and-.join())\n",
    "    * [`range()`](#range())\n",
    "        * [`range()` function arguments](#range()-function-arguments)\n",
    "    * [List Slicing](#List-Slicing)\n",
    "    * [Other List/Sequence Operations](#Other-List/Sequence-operations)\n",
    "        * [The `in` keyword](#The-in-keyword)\n",
    "        * [The `not in` keywords](#The-not-in-keywords)\n",
    "        * [`min()` and `max()` functions](#min()-and-max()-functions)\n",
    "        * [`.index()` method](#.index()-method)\n",
    "        * [`.count()` method](#.count()-method)\n",
    "        * [`sorted()` function](#sorted()-function)\n",
    "        * [`.sort()` method](#.sort()-method)\n",
    "    * [Adding Elements to a List](#Adding-Elements-to-a-List)\n",
    "* [For..in](#For..in)\n",
    "* [List Comprehensions](#List-Comprehensions)\n",
    "    * [Filtering List Comprehensions](#Filtering-List-Comprehensions)\n",
    "* [2D Lists (and beyond)](#2D-Lists-(and-beyond))\n",
    "    * [2-D Examples](#2-D-Examples)\n",
    "* [Tuples](#Tuples)\n",
    "    * [Tuple Comprehensions](#Tuple-Comprehensions)\n",
    "    * [Destructuring](#Destructuring)\n",
    "    * [`enumerate()`](#enumerate())\n",
    "* [Dictionaries](#Dictionaries)\n",
    "    * [Creating A Dictionary](#Creating-A-Dictionary)\n",
    "    * [The Wizard Of Oz](#The-Wizard-Of-Oz)\n",
    "    * [Stupid Dictionary Tricks](#Stupid-Dictionary-Tricks)\n",
    "    * [Dictionaries From Comprehensions](#Dictionaries-From-Comprehensions)\n",
    "    * [Frankenstein Exercises](#Frankenstein-Exercises)\n",
    "* [Old Information, New Perspective](#Old-Information,-New-Perspective)\n",
    "    * [`.splitlines()`](#.splitlines())\n",
    "    * [`.readlines()`](#.readlines())\n",
    "    * [The `with..as:` Block](#The-with..as:-Block)\n",
    "    * [Functios: Named Arguments And Default Values](#Functions:-Named-Arguments-And-Default-Values)\n",
    "* [Lambda Expressions](#Lambda-Expressions)\n",
    "    * [Structure Of A Function](#Structure-Of-A-Function)\n",
    "    * [`.sort()` And `sorted()`](#.sort()-And-sorted())\n",
    "    * [`map()`](#map())\n",
    "    * [`filter()`](#filter())\n",
    "    * [Perspective Thoughts On `map()` And `filter()`](#Perspective-Thoughts-On-map()-And-filter())\n",
    "* [Zipping And Unzipping Lists](#Zipping-And-Unzipping-Lists)\n",
    "    * [The Elusive Unzip](#The-Elusive-Unzip)\n",
    "* [Sets](#Sets)\n",
    "    * [The Important Parts](#The-Important-Parts)\n",
    "* [Baby Names Dataset](#Baby-Names-Dataset)"
   ]
  },
  {
   "cell_type": "markdown",
   "metadata": {},
   "source": [
    "# Helper Functions\n",
    "\n",
    "The following cell contains function definitions that will be needed at some point in this Notebook.\n",
    "\n",
    "All that you need to do is to run the cell and then proceed through the Notebook like normal."
   ]
  },
  {
   "cell_type": "code",
   "execution_count": 1,
   "metadata": {},
   "outputs": [],
   "source": [
    "def loadBook(url, filename, encoding=\"utf-8\"):\n",
    "    '''\n",
    "    The function will download a file from the specified `url`\n",
    "    and return its contents as a string.\n",
    "    \n",
    "    The file will be cached on the disk in the current directory\n",
    "    using the provided `filename`.\n",
    "    \n",
    "    Arguments:\n",
    "    url      - The URL of the file to be downloaded.\n",
    "    filename - The name used to cache the file locally.\n",
    "    encoding - The encoding of the file when reading.\n",
    "               Defaults to \"utf-8\"\n",
    "    '''\n",
    "\n",
    "    try:\n",
    "        # Assume the file exists.  Try to open it.\n",
    "        file = open(filename, 'r', encoding=encoding)\n",
    "    except:\n",
    "        # The file open() failed.\n",
    "        try:\n",
    "            # Try to download the file.\n",
    "            from urllib.request import urlopen\n",
    "            response = urlopen(url)\n",
    "            text = response.read().decode(encoding, errors='ignore')\n",
    "\n",
    "            # Write the text of the book to a file.\n",
    "            file = open(filename, 'w', encoding=encoding)\n",
    "            file.write(text)\n",
    "            file.close()\n",
    "            \n",
    "            # Open the file on disk for reading.\n",
    "            file = open(filename, 'r', encoding=encoding)\n",
    "\n",
    "        except:\n",
    "            # Something else went wrong.  Do minor cleanup,\n",
    "            # then raise another Exception, which will cause\n",
    "            # the script to stop running (with an error).\n",
    "            if file:\n",
    "                file.close()\n",
    "            raise Exception(\"Could not load file.\")\n",
    "\n",
    "    # Read the contents of the file from the disk.\n",
    "    text = file.read()\n",
    "    file.close()\n",
    "    return text\n"
   ]
  },
  {
   "cell_type": "code",
   "execution_count": 2,
   "metadata": {},
   "outputs": [
    {
     "name": "stdout",
     "output_type": "stream",
     "text": [
      "Fetching the file from the interwebs...\n",
      "NOTE: This will take a while. The file is around 20 megabytes!  And that's compressed, too!\n",
      "Loading data for AK\n",
      "Loading data for AL\n",
      "Loading data for AR\n",
      "Loading data for AZ\n",
      "Loading data for CA\n",
      "Loading data for CO\n",
      "Loading data for CT\n",
      "Loading data for DC\n",
      "Loading data for DE\n",
      "Loading data for FL\n",
      "Loading data for GA\n",
      "Loading data for HI\n",
      "Loading data for IA\n",
      "Loading data for ID\n",
      "Loading data for IL\n",
      "Loading data for IN\n",
      "Loading data for KS\n",
      "Loading data for KY\n",
      "Loading data for LA\n",
      "Loading data for MA\n",
      "Loading data for MD\n",
      "Loading data for ME\n",
      "Loading data for MI\n",
      "Loading data for MN\n",
      "Loading data for MO\n",
      "Loading data for MS\n",
      "Loading data for MT\n",
      "Loading data for NC\n",
      "Loading data for ND\n",
      "Loading data for NE\n",
      "Loading data for NH\n",
      "Loading data for NJ\n",
      "Loading data for NM\n",
      "Loading data for NV\n",
      "Loading data for NY\n",
      "Loading data for OH\n",
      "Loading data for OK\n",
      "Loading data for OR\n",
      "Loading data for PA\n",
      "Loading data for RI\n",
      "Loading data for SC\n",
      "Loading data for SD\n",
      "Loading data for TN\n",
      "Loading data for TX\n",
      "Loading data for UT\n",
      "Loading data for VA\n",
      "Loading data for VT\n",
      "Loading data for WA\n",
      "Loading data for WI\n",
      "Loading data for WV\n",
      "Loading data for WY\n",
      "Baby Names data is loaded.  There are 6311504 records.\n"
     ]
    }
   ],
   "source": [
    "#########################################################\n",
    "###    Run This Code To Download And Load The Data    ###\n",
    "#########################################################\n",
    "\n",
    "from zipfile import ZipFile\n",
    "def readnames(path):\n",
    "    '''\n",
    "    This function creates a list of baby name data, which\n",
    "    is the dataset on baby names from the Social Security\n",
    "    Administration.  Data is grouped by state, sex, year,\n",
    "    name, and then finally the number of babies born that\n",
    "    year with that name.  Names that occurred less than 5\n",
    "    times that year in that state are not included.\n",
    "    The code also saves a copy of the dataset in a file on\n",
    "    your computer.  The next time that you run the script,\n",
    "    it will first try to load the dataset directly from your\n",
    "    computer.  If it doesn't find it, then it will go ahead\n",
    "    and try to download the file.\n",
    "    \n",
    "    Arguments:\n",
    "    path - The path to the babynames zip file\n",
    "    \n",
    "    Returns:\n",
    "    A list of tuples containing the data in the form of:\n",
    "      (state, sex, year, name, count)\n",
    "    '''\n",
    "\n",
    "    babyNamesRaw = []\n",
    "    \n",
    "    # Open the .zip file.  `babyzip` is the variable that\n",
    "    # represents the .zip file.\n",
    "    with ZipFile(path) as babyzip:\n",
    "        \n",
    "        # .zip files are a compressed container for\n",
    "        # potentially many other files.\n",
    "        # Iterate through the files and process the ones\n",
    "        # that represent state data.\n",
    "        for filename in [filename for filename in babyzip.namelist() if \".TXT\" in filename]:\n",
    "            print(\"Loading data for \" + (filename[:2]))\n",
    "            \n",
    "            # Open the file from the .zip file.\n",
    "            # The file is opened in RAM, so no additional\n",
    "            # disk space is required.\n",
    "            with babyzip.open(filename) as state:\n",
    "                \n",
    "                # Iterate through each line in the file\n",
    "                # and append to the `babyNamesRaw` list.\n",
    "                for line in [line for line in state.read().decode().splitlines() if line != '']:\n",
    "                    \n",
    "                    # Convert numerical data (year and count).\n",
    "                    state, sex, year, name, count = line.split(',')\n",
    "                    babyNamesRaw.append((state, sex, int(year), name, int(count)))\n",
    "\n",
    "    return babyNamesRaw\n",
    "\n",
    "\n",
    "zipname = \"babynames.zip\"\n",
    "try:\n",
    "    # Assume the file exists.  Try to open it.\n",
    "    babyList = readnames(zipname)\n",
    "except:\n",
    "    # The file open() failed.\n",
    "    try:\n",
    "        # Try to download the file.\n",
    "        from urllib.request import urlopen\n",
    "        print(\"Fetching the file from the interwebs...\")\n",
    "        print(\"NOTE: This will take a while. The file is around 20 megabytes!  And that's compressed, too!\")\n",
    "        response = urlopen(\"https://www.ssa.gov/oact/babynames/state/namesbystate.zip\")\n",
    "\n",
    "        # Write the downloaded data to a file.\n",
    "        with open(zipname, 'wb') as babyfile:\n",
    "            babyfile.write(response.read())\n",
    "        babyList = readnames(zipname)\n",
    "    except:\n",
    "        # Something else went wrong.\n",
    "        # Raise another Exception, which will cause\n",
    "        # the script to stop running (with an error).\n",
    "        raise Exception(\"Could not load file.\")\n",
    "\n",
    "print(f'Baby Names data is loaded.  There are {len(babyList)} records.')\n"
   ]
  },
  {
   "cell_type": "markdown",
   "metadata": {},
   "source": [
    "# Sophisticated Math Syntax\n",
    "\n",
    "As stated many times in the class, \"programmers are lazy\".  And, since programmers are lazy, they come up with shortcuts for any repetitive task.\n",
    "\n",
    "As you have already seen, it is very common for us to write lines such as:\n",
    "\n",
    "`index = index + 1`\n",
    "\n",
    "This is an example of a line of code that is so often used that programmers decided to shorten it.  This same line can be written as:\n",
    "\n",
    "`index += 1`\n",
    "\n",
    "* Note that the **variable name** only needs to be written once.\n",
    "* Note that the **mathematical operation** appears before the equal sign.\n",
    "\n",
    "This advanced math syntax exists for all 6 mathematical operators: `+=` `-=` `*=` `/=` `//=` `%=`\n",
    "\n",
    "And, of course, they can be used anywhere that the standard mathematical operators can be used."
   ]
  },
  {
   "cell_type": "code",
   "execution_count": null,
   "metadata": {},
   "outputs": [],
   "source": [
    "index = 1\n",
    "print(index)\n",
    "\n",
    "index = index * 3\n",
    "print(index)\n",
    "\n",
    "index *= 4\n",
    "print(index)"
   ]
  },
  {
   "cell_type": "code",
   "execution_count": null,
   "metadata": {},
   "outputs": [],
   "source": [
    "message = \"Ho\"\n",
    "print(message)\n",
    "\n",
    "message += \"Ho\" # message = message + \"Ho\"\n",
    "print(message)\n",
    "\n",
    "message *= 3 # message = message * 3\n",
    "print(message)\n",
    "print(\"Wait... it's not Christmas!\")"
   ]
  },
  {
   "cell_type": "markdown",
   "metadata": {},
   "source": [
    "We wil use the `+=` syntax from now on in our examples."
   ]
  },
  {
   "cell_type": "markdown",
   "metadata": {},
   "source": [
    "# Lists\n",
    "\n",
    "**Lists** ([documentation](https://docs.python.org/3.6/library/stdtypes.html#list)) are one of the things that make Python *very* powerful (expressive).\n",
    "\n",
    "Informally, you can think of a list to be similar to a shopping list.  It is just a bunch of \"things\" grouped together.\n",
    "\n",
    "More formally, **list** is a type of **Collection** in Python.  A list can contain zero or more other variables, and these variables are kept in a deterministic (*e.g.*, predictable) order.  The first ordering of the **elements** of the list is the order shown when the list is created.\n",
    "\n",
    "For example, a list could be a group of numbers (int or float) or a group of student names(strings).\n",
    "\n",
    "Lists are created by putting a series of **expressions**, separated by commas, all inside square brackets (*i.e.*, **[]**)."
   ]
  },
  {
   "cell_type": "code",
   "execution_count": null,
   "metadata": {},
   "outputs": [],
   "source": [
    "# Creating a simple list:\n",
    "\n",
    "myList = [1, 2, 3]\n",
    "\n",
    "i = 0\n",
    "while i < len(myList):\n",
    "    print(myList[i])\n",
    "    i += 1\n",
    "\n",
    "print(myList)\n",
    "print()\n",
    "\n",
    "print(myList[0])\n",
    "print(myList[1])\n",
    "print(myList[2])"
   ]
  },
  {
   "cell_type": "markdown",
   "metadata": {},
   "source": [
    "The preceding example tells us several things about lists:\n",
    "\n",
    "* A list is represented by a **variable**.  In this example, we gave it the variable name `myList`\n",
    "* We can use the **`len()` function** to tell us how many items are in the list.\n",
    "* We can access individual elements in the list using the **bracket (or, square brace) notation**, just like strings.\n",
    "* We can print out the entire list using a **`print()`** statement.\n",
    "* Lists use **0-based counting** for their element index."
   ]
  },
  {
   "cell_type": "code",
   "execution_count": null,
   "metadata": {
    "scrolled": true
   },
   "outputs": [],
   "source": [
    "# What does this tell us about lists?\n",
    "myList = [1, 3, -8, 42.5, \"a\"]\n",
    "print(myList)\n",
    "print('=' * 30)\n",
    "counter = 0\n",
    "while counter < len(myList):\n",
    "    print(f\"{counter}: {myList[counter]:>8}     {type(myList[counter])}\")\n",
    "    counter += 1"
   ]
  },
  {
   "cell_type": "markdown",
   "metadata": {},
   "source": [
    "The preceding example demonstrates:\n",
    "\n",
    "* Lists can have mixed types.  In formal terms, their elements can be **heterogeneous**.\n",
    "* Indexing of a list can appear inside **format strings**."
   ]
  },
  {
   "cell_type": "code",
   "execution_count": null,
   "metadata": {},
   "outputs": [],
   "source": [
    "myList = [1, 3, -8, 42.5, \"a\"]\n",
    "print(f\"{myList}\")\n",
    "print(type(myList))"
   ]
  },
  {
   "cell_type": "markdown",
   "metadata": {},
   "source": [
    "Evidently, we can even put the entire list variable inside of a **format string**!\n",
    "\n",
    "Also, notice that the **type** of `myList` is `list`.  So a list is a formal **type** in the Python language."
   ]
  },
  {
   "cell_type": "code",
   "execution_count": null,
   "metadata": {},
   "outputs": [],
   "source": [
    "# In this instance, x is all multiples of 2, from 2 to 20\n",
    "x = [2,4,6,8,10,12,14,16,18,20]\n",
    "z = 3\n",
    "index = 0\n",
    "while index < len(x):\n",
    "    if (x[index] % z) == 0:\n",
    "        print(f\"{x[index]} is a multiple of {z} and a multiple of 2\")\n",
    "    index += 1"
   ]
  },
  {
   "cell_type": "markdown",
   "metadata": {},
   "source": [
    "## .split() and .join()\n",
    "\n",
    "Strings have a [`.split()` method](https://docs.python.org/3.6/library/stdtypes.html#str.split) which will split the string into a list of smaller strings.  This operation is often called **tokenization**, where each of the smaller strings is called a **token**\n",
    "\n",
    "The default behavior of `.split()` is to split on whitespace, however you can split on any arbitrary value.\n",
    "\n",
    "`.join()` is a bit weirder.  It is a **method** on a string.  The easiest way to think about the method is that it takes 2 parts: a **list** of words, and a **string** to put between the words.  Because `.join()` is a method on a string, the string is the **glue** that will be put between the elements of the list."
   ]
  },
  {
   "cell_type": "code",
   "execution_count": null,
   "metadata": {},
   "outputs": [],
   "source": [
    "message = \"The quick brown fox jumps over the lazy dog.\"\n",
    "\n",
    "print(message)\n",
    "print()\n",
    "\n",
    "print(message.split())\n",
    "print()\n",
    "\n",
    "print(message.split()[::-1])\n",
    "print()\n",
    "\n",
    "# Here, the space character (' ') is the glue that will\n",
    "# be used to put all of the words into a single string.\n",
    "backwardsString = ' '.join(message.split()[::-1])\n",
    "print(backwardsString)"
   ]
  },
  {
   "cell_type": "code",
   "execution_count": null,
   "metadata": {},
   "outputs": [],
   "source": [
    "word = 'abracadabra'\n",
    "print(word.split())\n",
    "print()\n",
    "\n",
    "print(word.split('a'))\n",
    "print()\n",
    "\n",
    "print(word.split('ab'))\n",
    "print()\n",
    "\n",
    "print('a'.join(word.split('a')))"
   ]
  },
  {
   "cell_type": "markdown",
   "metadata": {},
   "source": [
    "The preceding example demonstrates a couple of important points about the `.split()` method:\n",
    "\n",
    "* `.split()` *always* returns a **list**.  Even if that list only contains the original string.\n",
    "* The character that is used to split the string apart will, in turn, **not be included** in the list.\n",
    "* You can split a **sequence of characters**, but the split will occur only if that exact character sequence appears.\n",
    "* If you split apart a string, and then join it back together by the same character sequence, you should end up with a string of **equivalent value**."
   ]
  },
  {
   "cell_type": "markdown",
   "metadata": {},
   "source": [
    "## range()\n",
    "\n",
    "The [`range()` function](https://docs.python.org/3.6/library/functions.html#func-range) returns an object that can produce a sequence of integers."
   ]
  },
  {
   "cell_type": "code",
   "execution_count": null,
   "metadata": {},
   "outputs": [],
   "source": [
    "help(range)"
   ]
  },
  {
   "cell_type": "markdown",
   "metadata": {},
   "source": [
    "`range()` is not the same as a list.  It is **not** a collection of numbers."
   ]
  },
  {
   "cell_type": "code",
   "execution_count": null,
   "metadata": {},
   "outputs": [],
   "source": [
    "# Unfortunately, range() is not a list, so we can't see its contents.\n",
    "print(range(10))"
   ]
  },
  {
   "cell_type": "markdown",
   "metadata": {},
   "source": [
    "`range()`, however, can **generate** a list!"
   ]
  },
  {
   "cell_type": "code",
   "execution_count": null,
   "metadata": {},
   "outputs": [],
   "source": [
    "# We can convert a range into a list\n",
    "print(list(range(10)))"
   ]
  },
  {
   "cell_type": "code",
   "execution_count": null,
   "metadata": {},
   "outputs": [],
   "source": [
    "# We can also use this shorthand (as of Python 3.5)\n",
    "# It is sometimes called the \"splat\" operator, but that is not\n",
    "# an official name.  It is more generally called the\n",
    "# \"asterisk\" operator.\n",
    "# It has the following format: [* <some sequence> ]\n",
    "print([*range(10)])"
   ]
  },
  {
   "cell_type": "markdown",
   "metadata": {},
   "source": [
    "We will use this **spat operator** quite often!"
   ]
  },
  {
   "cell_type": "markdown",
   "metadata": {},
   "source": [
    "### range() function arguments\n",
    "\n",
    "The `range()` function can take one, two, or three arguments.\n",
    "\n",
    "If only **one** argument is given, then it is interpreted as the `stop` value.  The result is a generator from the numbers 0 up to but not including the `stop` number.\n",
    "\n",
    "If only **two** arguments are given, then they are interpreted as the `start` and `stop` values.  The result is a generator of numbers from the `start` variable, and up to but not including the `stop` variable.\n",
    "\n",
    "If all **three** arguments are given, then they are interpreted as the `start`, `stop`, and `skip` values.  The `start` and `stop` values are used as described above, and the `skip` value is used as the increment of the values (it's default is 1)."
   ]
  },
  {
   "cell_type": "code",
   "execution_count": null,
   "metadata": {},
   "outputs": [],
   "source": [
    "print([*range(10)])"
   ]
  },
  {
   "cell_type": "code",
   "execution_count": null,
   "metadata": {},
   "outputs": [],
   "source": [
    "print([*range(5,10)])"
   ]
  },
  {
   "cell_type": "code",
   "execution_count": null,
   "metadata": {},
   "outputs": [],
   "source": [
    "print([*range(-5,10,2)])"
   ]
  },
  {
   "cell_type": "code",
   "execution_count": null,
   "metadata": {},
   "outputs": [],
   "source": [
    "# We can have a decreasing range if we use a negative skip.\n",
    "print([*range(10,-8, -1)])"
   ]
  },
  {
   "cell_type": "code",
   "execution_count": null,
   "metadata": {},
   "outputs": [],
   "source": [
    "# Just another example of a negative skip.\n",
    "print([*range(10,-8,-3)])"
   ]
  },
  {
   "cell_type": "code",
   "execution_count": null,
   "metadata": {},
   "outputs": [],
   "source": [
    "x = [*range(15,22)]\n",
    "print(\"x        =\", x)\n",
    "print(\"x[0]     =\", x[0])\n",
    "print(\"x[1]     =\", x[1])\n",
    "print(\"x[2]     =\", x[2])\n",
    "print(\"x[3]     =\", x[3])\n",
    "print(\"x[1]+x[2]=\", x[1] + x[2])\n",
    "print(\"x[-1]     =\", x[-1])\n"
   ]
  },
  {
   "cell_type": "markdown",
   "metadata": {},
   "source": [
    "## List Slicing\n",
    "\n",
    "Just like strings, we can slice lists, using the same bracket notation (*e.g.*, **[from:to:skip]**) to get a part of a list.  The behavior is almost identical."
   ]
  },
  {
   "cell_type": "code",
   "execution_count": null,
   "metadata": {},
   "outputs": [],
   "source": [
    "# The general format is [<from>:<to>]\n",
    "x = [*range(15,22)]\n",
    "print(\"x        =\", x)\n",
    "print(\"x[3:5]   =\", x[3:5])"
   ]
  },
  {
   "cell_type": "code",
   "execution_count": null,
   "metadata": {},
   "outputs": [],
   "source": [
    "# If <to> is omitted, then it will return up to the end of the list.\n",
    "print(\"x        =\", x)\n",
    "print(\"x[3:]    =\", x[3:])"
   ]
  },
  {
   "cell_type": "code",
   "execution_count": null,
   "metadata": {},
   "outputs": [],
   "source": [
    "# If <from> is omitted, then it will return beginning with the\n",
    "# first element of the list.\n",
    "print(\"x        =\", x)\n",
    "print(\"x[:3]    =\", x[:3])\n",
    "print(\"x[3:5]   =\", x[3:5])"
   ]
  },
  {
   "cell_type": "code",
   "execution_count": null,
   "metadata": {},
   "outputs": [],
   "source": [
    "# A negative index means to start counting from the back of the list.\n",
    "print(\"x        =\", x)\n",
    "print(\"x[-1]    =\", x[-1])\n",
    "print(\"x[-3]    =\", x[-3])\n",
    "print(\"x[-3:]   =\", x[-3:])\n",
    "print(\"x[:-3]   =\", x[:-3])\n",
    "print(\"x[-5:-3] =\", x[-5:-3])"
   ]
  },
  {
   "cell_type": "code",
   "execution_count": null,
   "metadata": {},
   "outputs": [],
   "source": [
    "# Compare the slicing behavior to that of strings:\n",
    "x = \"FizzBuzz!!!\"\n",
    "print(\"x      =\", x)\n",
    "print(\"x[3:7] =\", x[3:7])"
   ]
  },
  {
   "cell_type": "code",
   "execution_count": null,
   "metadata": {},
   "outputs": [],
   "source": [
    "# Lists can be added together\n",
    "# This will create a new list containing everything\n",
    "# from the first list, followed by everything from\n",
    "# the second list.\n",
    "# Notice that this behavior is similar to strings, too!\n",
    "print([5,6,7] + [1,2,3])"
   ]
  },
  {
   "cell_type": "code",
   "execution_count": null,
   "metadata": {},
   "outputs": [],
   "source": [
    "# What do you think will happen if we multiply a list?\n",
    "# Why is it that this behavior might be expected?\n",
    "print([5,6,7] * 3)"
   ]
  },
  {
   "cell_type": "code",
   "execution_count": null,
   "metadata": {},
   "outputs": [],
   "source": [
    "# Notice the philosophy that Python uses for the splicing\n",
    "# boundaries.  `x[:3]` will return elements 0,1,2, but not 3.\n",
    "# `x[3:6]` will return 3,4,5.  In this way, you can use\n",
    "# the same boundary as the end of one list, and the start of\n",
    "# another (in this case, the boundary is `3`), and the\n",
    "# `x[3]` will not be duplicated.\n",
    "#\n",
    "# That is why Python behaves in the way that it does.\n",
    "x = [*range(10)]\n",
    "print(x)\n",
    "print(x[:3])\n",
    "print(x[3:6])\n",
    "print(x[:3] + x[3:6])"
   ]
  },
  {
   "cell_type": "code",
   "execution_count": null,
   "metadata": {},
   "outputs": [],
   "source": [
    "# Of course, lists can be combined in any way that you want.\n",
    "x = [*range(10)]\n",
    "print(x)\n",
    "print(x[:3] + x[-2:])"
   ]
  },
  {
   "cell_type": "code",
   "execution_count": null,
   "metadata": {},
   "outputs": [],
   "source": [
    "# How would you describe this behavior?\n",
    "\n",
    "x = [*range(10)]\n",
    "\n",
    "x = x[-1:] + x[:-1]\n",
    "\n",
    "print(x)"
   ]
  },
  {
   "cell_type": "code",
   "execution_count": null,
   "metadata": {},
   "outputs": [],
   "source": [
    "x = [*range(142)]\n",
    "\n",
    "x = x[len(x)//2:] + x[:len(x)//2]\n",
    "\n",
    "print(x)"
   ]
  },
  {
   "cell_type": "markdown",
   "metadata": {},
   "source": [
    "## Other List/Sequence operations\n",
    "\n",
    "As you can see, a **string** is a sequence of **characters**, and a **list** is a sequence of **elements**.\n",
    "\n",
    "Python makes it very easy to manipulate and ask questions about sequences and collections, whether the type is a string, list, or something that we haven't learned about yet.  This \"consistency\" is one reason for Python's popularity.\n",
    "\n",
    "While not an exhaustive set of examples, here are a few more things that you might like to be aware of.\n",
    "\n",
    "See https://docs.python.org/3/library/stdtypes.html#common-sequence-operations for more operations on lists/sequences!"
   ]
  },
  {
   "cell_type": "markdown",
   "metadata": {},
   "source": [
    "## The `in` keyword\n",
    "\n",
    "Expressions using `in` are evaluated as returning a boolean `True` or `False` value."
   ]
  },
  {
   "cell_type": "code",
   "execution_count": null,
   "metadata": {},
   "outputs": [],
   "source": [
    "# the \"in\" keyword (strings)\n",
    "\n",
    "word = \"abracadabra\"\n",
    "\n",
    "print(\"a\" in word)\n",
    "print(\"dab\" in word)\n",
    "\n",
    "letter = ord(\"a\")\n",
    "while letter <= ord(\"z\"):\n",
    "    if chr(letter) in word:\n",
    "        print(f\"The letter \\\"{chr(letter)}\\\" is in \\\"{word}\\\"\")\n",
    "    else:\n",
    "        print(f\"The letter \\\"{chr(letter)}\\\" is NOT in \\\"{word}\\\"\")\n",
    "    letter += 1"
   ]
  },
  {
   "cell_type": "code",
   "execution_count": null,
   "metadata": {},
   "outputs": [],
   "source": [
    "# the \"in\" keyword (lists)\n",
    "\n",
    "nonsense = [\"foo\", \"bar\", \"baz\"]\n",
    "\n",
    "testList = [\"The\", \"quick\", \"foo\", \"dog\"]\n",
    "\n",
    "index = 0\n",
    "while index < len(testList):\n",
    "    if testList[index] in nonsense:\n",
    "        print(f'\"{testList[index]}\" is nonsense!')\n",
    "    else:\n",
    "        print(f'\"{testList[index]}\" seems alright to me.')\n",
    "    index += 1"
   ]
  },
  {
   "cell_type": "code",
   "execution_count": null,
   "metadata": {},
   "outputs": [],
   "source": [
    "message = \"The quick brown fox jumps over the lazy dog.\"\n",
    "myList = message.split()\n",
    "\n",
    "if 'fox' in myList:\n",
    "    print('The list contains a fox.  What does the fox say?')\n"
   ]
  },
  {
   "cell_type": "markdown",
   "metadata": {},
   "source": [
    "### The `not in` keywords\n",
    "\n",
    "There is also a `not in` syntax, and it does exactly what you would expect:"
   ]
  },
  {
   "cell_type": "code",
   "execution_count": null,
   "metadata": {},
   "outputs": [],
   "source": [
    "word = \"abracadabra\"\n",
    "\n",
    "print(\"a\" not in word)\n",
    "print(not (\"a\" in word))\n",
    "print(\"dab\" not in word)\n",
    "\n",
    "letter = ord(\"a\")\n",
    "while letter <= ord(\"z\"):\n",
    "    if chr(letter) not in word:\n",
    "        print(f\"The letter \\\"{chr(letter)}\\\" is NOT in \\\"{word}\\\"\")\n",
    "    else:\n",
    "        print(f\"The letter \\\"{chr(letter)}\\\" is in \\\"{word}\\\"\")\n",
    "    letter += 1"
   ]
  },
  {
   "cell_type": "markdown",
   "metadata": {},
   "source": [
    "### `min()` and `max()` functions\n",
    "\n",
    "Return the smallest and the largest elements of the sequence/container."
   ]
  },
  {
   "cell_type": "code",
   "execution_count": null,
   "metadata": {},
   "outputs": [],
   "source": [
    "# min() and max() functions\n",
    "\n",
    "myList = [1,2,3,4,5]\n",
    "\n",
    "print(min(myList))\n",
    "print(max(myList))"
   ]
  },
  {
   "cell_type": "code",
   "execution_count": null,
   "metadata": {},
   "outputs": [],
   "source": [
    "word = \"abracadabra\"\n",
    "\n",
    "print(min(word))\n",
    "print(max(word))"
   ]
  },
  {
   "cell_type": "code",
   "execution_count": null,
   "metadata": {},
   "outputs": [],
   "source": [
    "# BEWARE!!!\n",
    "# min() and max() use ASCII values!\n",
    "\n",
    "word = \"Foo\"\n",
    "print(word)\n",
    "print(\"min is:\", min(word))\n",
    "print(\"max is:\", max(word))\n",
    "print()\n",
    "\n",
    "word = \"Zoom\"\n",
    "print(word)\n",
    "print(\"min is:\", min(word))\n",
    "print(\"max is:\", max(word))\n",
    "print()\n",
    "\n",
    "# one solution:\n",
    "word = \"Zoom\"\n",
    "print(word)\n",
    "print(\"min is:\", min(word.lower()))\n",
    "print(\"max is:\", max(word.lower()))"
   ]
  },
  {
   "cell_type": "markdown",
   "metadata": {},
   "source": [
    "### `.index()` method\n",
    "\n",
    "Finds a value in the sequence/collection and returns it's index."
   ]
  },
  {
   "cell_type": "code",
   "execution_count": null,
   "metadata": {},
   "outputs": [],
   "source": [
    "help(str.index)"
   ]
  },
  {
   "cell_type": "code",
   "execution_count": null,
   "metadata": {},
   "outputs": [],
   "source": [
    "# the `.index()` method will tell you where the value exists in the sequence\n",
    "message = \"The quick brown fox jumps over the lazy dog.\"\n",
    "print(message)\n",
    "\n",
    "i = message.index('fox')\n",
    "print(message[i:])"
   ]
  },
  {
   "cell_type": "code",
   "execution_count": null,
   "metadata": {},
   "outputs": [],
   "source": [
    "message = \"The quick brown fox jumps over the lazy dog.\"\n",
    "myList = message.split()\n",
    "\n",
    "print(myList)\n",
    "print(myList.index('fox'))\n",
    "print()\n",
    "\n",
    "# This will error:\n",
    "#print(myList.index('Fox'))\n",
    "\n",
    "# potential fix:\n",
    "if 'Fox' in myList:\n",
    "    print(myList.index('Fox'))\n",
    "else:\n",
    "    print('\"Fox\" is not in the list.')\n"
   ]
  },
  {
   "cell_type": "code",
   "execution_count": null,
   "metadata": {},
   "outputs": [],
   "source": [
    "message = \"The quick brown fox jumps over the lazy dog.\"\n",
    "myList = message.upper().split()\n",
    "\n",
    "print(myList)\n",
    "print(myList.index(\"THE\"))"
   ]
  },
  {
   "cell_type": "markdown",
   "metadata": {},
   "source": [
    "### `.count()` method\n",
    "\n",
    "Used to count the number of times that a value appears in the sequence/container."
   ]
  },
  {
   "cell_type": "code",
   "execution_count": null,
   "metadata": {},
   "outputs": [],
   "source": []
  },
  {
   "cell_type": "code",
   "execution_count": null,
   "metadata": {},
   "outputs": [],
   "source": [
    "# .count() method (strings)\n",
    "\n",
    "word = \"abracadabra\"\n",
    "\n",
    "print(word.count(\"a\"))\n",
    "print(word.count(\"ab\"))\n",
    "print(word.count(\"dog\"))\n"
   ]
  },
  {
   "cell_type": "code",
   "execution_count": null,
   "metadata": {},
   "outputs": [],
   "source": [
    "# .count() method (lists)\n",
    "\n",
    "message = \"The quick brown fox jumps over the lazy dog.\"\n",
    "\n",
    "myList = message.split()\n",
    "print(myList)\n",
    "print(myList.count(\"the\"))\n",
    "print()\n",
    "\n",
    "myList = message.upper().split()\n",
    "print(myList)\n",
    "print(myList.count(\"THE\"))\n"
   ]
  },
  {
   "cell_type": "markdown",
   "metadata": {},
   "source": [
    "### `sorted()` function\n",
    "\n",
    "Returns a new copy of the sequence/container in which all values are sorted by value.  The original sequence/container is not altered in any way.\n",
    "\n",
    "**Warning: Uses ASCII value!**"
   ]
  },
  {
   "cell_type": "code",
   "execution_count": null,
   "metadata": {},
   "outputs": [],
   "source": [
    "message = \"The quick brown fox jumps over the lazy dog.\"\n",
    "\n",
    "myList = message.split()\n",
    "print(myList)\n",
    "print(sorted(myList))\n",
    "print(myList)"
   ]
  },
  {
   "cell_type": "code",
   "execution_count": null,
   "metadata": {},
   "outputs": [],
   "source": [
    "word = \"abracadabra\"\n",
    "print(word)\n",
    "print(sorted(word))\n",
    "print(''.join(sorted(word)))\n",
    "print(word)"
   ]
  },
  {
   "cell_type": "markdown",
   "metadata": {},
   "source": [
    "### `.sort()` method\n",
    "\n",
    "Does not return any value.  Alters the original sequence/container by reordering elements in ascending order.\n",
    "\n",
    "**Warning: Uses ASCII values!!**"
   ]
  },
  {
   "cell_type": "code",
   "execution_count": null,
   "metadata": {},
   "outputs": [],
   "source": [
    "message = \"The quick brown fox jumps over the lazy dog.\"\n",
    "\n",
    "myList = message.split()\n",
    "print(myList)\n",
    "print(myList.sort())\n",
    "print(myList)"
   ]
  },
  {
   "cell_type": "code",
   "execution_count": null,
   "metadata": {},
   "outputs": [],
   "source": [
    "word = \"abracadabra\"\n",
    "print(word)\n",
    "print(word.sorted())\n",
    "print(word)"
   ]
  },
  {
   "cell_type": "markdown",
   "metadata": {},
   "source": [
    "Oops!  Strings don't have a `.sort()` method!"
   ]
  },
  {
   "cell_type": "code",
   "execution_count": null,
   "metadata": {},
   "outputs": [],
   "source": [
    "# There is a workaround for this functionality, but we\n",
    "# haven't learned enough yet to understand it properly.\n",
    "# You can see here, though, that the solution will use\n",
    "# the `sorted()` function.\n",
    "\n",
    "# Don't worry about the rest, we will cover it in the\n",
    "# next few lectures.  You will find that it is quite easy!\n",
    "word = \"abracadabra\"\n",
    "print(word)\n",
    "word = ''.join(sorted([char for char in word]))\n",
    "print(word)"
   ]
  },
  {
   "cell_type": "markdown",
   "metadata": {},
   "source": [
    "## Adding Elements to a List\n",
    "\n",
    "You can add elements to the end of a list.  And, because programmers like to use big words to show off how smart they are, this process is called **appending** to a list."
   ]
  },
  {
   "cell_type": "code",
   "execution_count": null,
   "metadata": {},
   "outputs": [],
   "source": [
    "# Example of the .append() function on a list\n",
    "x = []\n",
    "print(x)\n",
    "x.append(42)\n",
    "print(x)\n",
    "x.append(-28)\n",
    "print(x)"
   ]
  },
  {
   "cell_type": "code",
   "execution_count": null,
   "metadata": {},
   "outputs": [],
   "source": [
    "# Other ways to append to a list\n",
    "x = []\n",
    "print(x)\n",
    "x = x + [42]\n",
    "print(x)\n",
    "x += [-28]\n",
    "print(x)"
   ]
  },
  {
   "cell_type": "code",
   "execution_count": null,
   "metadata": {},
   "outputs": [],
   "source": []
  },
  {
   "cell_type": "markdown",
   "metadata": {},
   "source": [
    "# For..in\n",
    "\n",
    "`for..in:` is a looping structure that is very popular in Python.  [Official documentation here.](https://docs.python.org/3/tutorial/controlflow.html#for-statements)\n",
    "\n",
    "`for..in:` is considered a graceful way to loop through any sequence container (lists, string) or generator (`range()`) without having to use a counter (like we do with the `while:` loop).\n",
    "\n",
    "The format for this loop is:\n",
    "\n",
    "```\n",
    "for <variable> in <sequence>:\n",
    "    # code block here\n",
    "```\n",
    "\n",
    "In this instance, `<variable>` will be assigned to the next item in the sequence until all items in the sequence have been represented."
   ]
  },
  {
   "cell_type": "code",
   "execution_count": null,
   "metadata": {},
   "outputs": [],
   "source": [
    "# old way\n",
    "message = \"The quick brown fox jumps over the lazy dog.\"\n",
    "myList = message.split()\n",
    "\n",
    "index = 0\n",
    "while index < len(myList):\n",
    "    print(myList[index])\n",
    "    index += 1"
   ]
  },
  {
   "cell_type": "code",
   "execution_count": null,
   "metadata": {},
   "outputs": [],
   "source": [
    "# old way\n",
    "# In this example, I'm adding a variable \"word\" just to make it clearer\n",
    "message = \"The quick brown fox jumps over the lazy dog.\"\n",
    "myList = message.split()\n",
    "\n",
    "index = 0\n",
    "while index < len(myList):\n",
    "    word = myList[index]\n",
    "    print(word)\n",
    "    index += 1"
   ]
  },
  {
   "cell_type": "code",
   "execution_count": null,
   "metadata": {},
   "outputs": [],
   "source": [
    "# new way\n",
    "message = \"The quick brown fox jumps over the lazy dog.\"\n",
    "myList = message.split()\n",
    "\n",
    "for word in myList:\n",
    "    print(word)\n"
   ]
  },
  {
   "cell_type": "code",
   "execution_count": null,
   "metadata": {},
   "outputs": [],
   "source": [
    "# With a string:\n",
    "for letter in \"abracadabra\":\n",
    "    print(letter)"
   ]
  },
  {
   "cell_type": "code",
   "execution_count": null,
   "metadata": {},
   "outputs": [],
   "source": [
    "# with the range() generator:\n",
    "for foo in range(11):\n",
    "    print(foo)"
   ]
  },
  {
   "cell_type": "code",
   "execution_count": null,
   "metadata": {},
   "outputs": [],
   "source": [
    "# Equivalent while: statement\n",
    "foo = 0\n",
    "while foo < 11:\n",
    "    print(foo)\n",
    "    foo = foo + 1"
   ]
  },
  {
   "cell_type": "code",
   "execution_count": null,
   "metadata": {},
   "outputs": [],
   "source": [
    "listOfWords = \"Mr. and Mrs. Dursley, of number four, Privet Drive, were proud to say they were perfectly normal, thank you very much.\".split()\n",
    "print(listOfWords)\n",
    "print(\"==================\")\n",
    "for word in listOfWords:\n",
    "    print(word)"
   ]
  },
  {
   "cell_type": "code",
   "execution_count": null,
   "metadata": {},
   "outputs": [],
   "source": [
    "for num in range(10,-1,-2):\n",
    "    print(num)"
   ]
  },
  {
   "cell_type": "markdown",
   "metadata": {},
   "source": [
    "# List Comprehensions\n",
    "\n",
    "Python is powerful in how it can quickly and concisely handle lists.  It has special syntax to build lists on the fly.  These are called **List Comprehensions**.\n",
    "\n",
    "List Comprehensions are a combination of the list syntax (*i.e.*, the square braces **[]**) and the `for..in` syntax.\n",
    "\n",
    "`[<expression> for <variable> in <sequence>]`\n",
    "\n",
    "Where\n",
    "\n",
    "1. `<sequence>` is a sequence, container, or generator of some sort,\n",
    "2. `<variable>` is a variable that will be assigned to each element of the sequence, one at a time, and\n",
    "3. `<expression>` is a valid Python expression which, when evaluated (often using `<variable>` in some way) results in some value that will be added as an element to the list which is being generated.\n",
    "\n",
    "As is usual with Python, it may seem that you have to read the code backwards in order to understand what is happening.  When read in order, however, it often sounds the same as you would say it in spoken English."
   ]
  },
  {
   "cell_type": "code",
   "execution_count": null,
   "metadata": {},
   "outputs": [],
   "source": [
    "# Consider this loop to build a list of integers from 0 to 9:\n",
    "integers = []\n",
    "for x in range(10):\n",
    "    integers.append(x)\n",
    "print(integers)"
   ]
  },
  {
   "cell_type": "code",
   "execution_count": null,
   "metadata": {},
   "outputs": [],
   "source": [
    "# The preceding loop to build a list can be\n",
    "# condensed down to a single line, called a\n",
    "# list comprehension.\n",
    "#\n",
    "# The syntax for a list comprehension is:\n",
    "# [<expression> for <var> in <sequence>]\n",
    "\n",
    "print([x for x in range(10)])"
   ]
  },
  {
   "cell_type": "code",
   "execution_count": null,
   "metadata": {},
   "outputs": [],
   "source": [
    "# Consider the impact of the change in this example:\n",
    "print([x * 2 for x in range(10)])"
   ]
  },
  {
   "cell_type": "code",
   "execution_count": null,
   "metadata": {},
   "outputs": [],
   "source": [
    "# You can use the <expression> part of the list\n",
    "# comprehension in order to build more complex lists.\n",
    "print([x**2 for x in range(10)])"
   ]
  },
  {
   "cell_type": "code",
   "execution_count": null,
   "metadata": {},
   "outputs": [],
   "source": [
    "# How about this?\n",
    "\n",
    "word = \"abracadabra\"\n",
    "\n",
    "newWord = ''.join([chr(ord(letter) + 1) for letter in word])\n",
    "\n",
    "print(word)\n",
    "print(newWord)"
   ]
  },
  {
   "cell_type": "markdown",
   "metadata": {},
   "source": [
    "## Filtering List Comprehensions\n",
    "\n",
    "OK, so perhaps you agree that list comprehensions are helpful in some cases.  \n",
    "\n",
    "But what if you only want to add some things to the list from the sequence?\n",
    "\n",
    "Consider the following loop that builds a list of elements whose value is odd."
   ]
  },
  {
   "cell_type": "code",
   "execution_count": null,
   "metadata": {},
   "outputs": [],
   "source": [
    "oddNumbers = []\n",
    "for x in range(10):\n",
    "    if x % 2 != 0:\n",
    "        oddNumbers.append(x)\n",
    "print(oddNumbers)"
   ]
  },
  {
   "cell_type": "markdown",
   "metadata": {},
   "source": [
    "The List Comprehension can emulate this behavior, too!  How? You can add an `if` to the end of the list comprehension syntax which will act as a filter!\n",
    "\n",
    "`[<expression> for <variable> in <sequence> if <expression>]`\n",
    "\n",
    "Notice that there are 3 parts to this particular list comprehension:\n",
    "\n",
    "1. the `<expression>`\n",
    "2. the `for <var> in <sequence>`\n",
    "3. the `if <expression>`, which will be cast to a `bool` (Boolean) value.\n",
    "\n",
    "First, **part 3** will filter the elements of **part 2**.  **If** the test passes, **then part 1** is evaluated for that item in the new array.  If the test does not pass, then the item is not added to the new array.\n"
   ]
  },
  {
   "cell_type": "code",
   "execution_count": null,
   "metadata": {},
   "outputs": [],
   "source": [
    "oddNumbers = [x for x in range(10) if x % 2]\n",
    "print(oddNumbers)"
   ]
  },
  {
   "cell_type": "code",
   "execution_count": null,
   "metadata": {},
   "outputs": [],
   "source": [
    "# Here is an additional example of this extended, 3-part syntax.\n",
    "# Notice, in this example, that the list is filtered\n",
    "# *before* the `x + 1` is evaluated.\n",
    "print([x + 1 for x in range(10) if x % 2])"
   ]
  },
  {
   "cell_type": "code",
   "execution_count": null,
   "metadata": {},
   "outputs": [],
   "source": [
    "print([chr(ord(\"A\") + x) for x in range(10) if x % 2])"
   ]
  },
  {
   "cell_type": "code",
   "execution_count": null,
   "metadata": {},
   "outputs": [],
   "source": [
    "# You can do some interesting things.\n",
    "# What does this code produce?\n",
    "print([x for x in \"abracadabra\" if x not in \"abc\"])"
   ]
  },
  {
   "cell_type": "code",
   "execution_count": null,
   "metadata": {},
   "outputs": [],
   "source": [
    "# See the behavior of ''.join()\n",
    "print('\\n'.join([x for x in \"abracadabra\" if x not in \"abc\"]))"
   ]
  },
  {
   "cell_type": "code",
   "execution_count": null,
   "metadata": {},
   "outputs": [],
   "source": [
    "[chr(ch) for ch in range(65, 75)]"
   ]
  },
  {
   "cell_type": "markdown",
   "metadata": {},
   "source": [
    "What's the moral of the story?  The **List Comprehension** is an elegant, flexible Python code syntax that can simplify your code and make it easier to reason about and faster to write.\n",
    "\n",
    "*As long as it is not abused, that is!!!*"
   ]
  },
  {
   "cell_type": "markdown",
   "metadata": {},
   "source": [
    "## Do you remember the \"splat\" operator?"
   ]
  },
  {
   "cell_type": "code",
   "execution_count": null,
   "metadata": {},
   "outputs": [],
   "source": [
    "print(range(10))"
   ]
  },
  {
   "cell_type": "code",
   "execution_count": null,
   "metadata": {},
   "outputs": [],
   "source": [
    "print(list(range(10)))"
   ]
  },
  {
   "cell_type": "code",
   "execution_count": null,
   "metadata": {},
   "outputs": [],
   "source": [
    "print([*range(10)])"
   ]
  },
  {
   "cell_type": "code",
   "execution_count": null,
   "metadata": {},
   "outputs": [],
   "source": [
    "print([i for i in range(10)])"
   ]
  },
  {
   "cell_type": "markdown",
   "metadata": {},
   "source": [
    "Basically, the \"splat\" operator (`[* <sequence> ]`) can function like an ultra-shorthand list comprehension!\n",
    "\n",
    "(It's not exactly the same as a list comprehension, but in this example, it functions like one.)"
   ]
  },
  {
   "cell_type": "code",
   "execution_count": null,
   "metadata": {},
   "outputs": [],
   "source": [
    "print(\"Hello\")"
   ]
  },
  {
   "cell_type": "code",
   "execution_count": null,
   "metadata": {},
   "outputs": [],
   "source": [
    "print([character for character in \"Hello\"])"
   ]
  },
  {
   "cell_type": "code",
   "execution_count": null,
   "metadata": {
    "scrolled": true
   },
   "outputs": [],
   "source": [
    "print([*\"Hello\"])"
   ]
  },
  {
   "cell_type": "markdown",
   "metadata": {},
   "source": [
    "The following example is just a silly example of how the splat operator and list comprehension are similar."
   ]
  },
  {
   "cell_type": "code",
   "execution_count": null,
   "metadata": {},
   "outputs": [],
   "source": [
    "print([*[1,2,3]])"
   ]
  },
  {
   "cell_type": "code",
   "execution_count": null,
   "metadata": {},
   "outputs": [],
   "source": [
    "print([x for x in [1,2,3]])"
   ]
  },
  {
   "cell_type": "markdown",
   "metadata": {},
   "source": [
    "Of course, the splat operator can't modify the list in any way, but the list comprehension can."
   ]
  },
  {
   "cell_type": "code",
   "execution_count": null,
   "metadata": {},
   "outputs": [],
   "source": [
    "print([-x for x in [1,2,3]])"
   ]
  },
  {
   "cell_type": "markdown",
   "metadata": {},
   "source": [
    "In conclusion, the splat operator and list comprehension both do the job of converting a sequence into a list."
   ]
  },
  {
   "cell_type": "code",
   "execution_count": null,
   "metadata": {},
   "outputs": [],
   "source": [
    "sentence = \"It was a dark and stormy night.\"\n",
    "print(sentence)\n",
    "print(sentence.upper())\n",
    "print([x.upper() for x in sentence.split()])\n",
    "print(' '.join(sorted(sentence.upper().split())))"
   ]
  },
  {
   "cell_type": "code",
   "execution_count": null,
   "metadata": {},
   "outputs": [],
   "source": [
    "# Other weird ways that lists and comprehensions can be used.\n",
    "print([x for x in sentence.split()])\n",
    "print([len(x) for x in sentence.split()])\n",
    "# Advanced, please don't worry about it now:\n",
    "print(sorted(sentence.split(), key=len))"
   ]
  },
  {
   "cell_type": "markdown",
   "metadata": {},
   "source": [
    "# 2D Lists (and beyond)\n",
    "\n",
    "Lists are a **1-dimensional** structure.  This means that, although the list in its entirety is referenced using a single variable name, you must provide an **index** in order to access any particular element of that list.  This is nothing new.\n",
    "\n",
    "What is new is the realization that each list item is, in fact, a variable that can contain *any* type of value... **including another list!!!**\n"
   ]
  },
  {
   "cell_type": "code",
   "execution_count": null,
   "metadata": {},
   "outputs": [],
   "source": [
    "myList = [0, 1, 2, ['a', 'b']]\n",
    "\n",
    "print(myList)\n",
    "print()\n",
    "\n",
    "for item in myList:\n",
    "    print(item)"
   ]
  },
  {
   "cell_type": "markdown",
   "metadata": {},
   "source": [
    "**Remember:** Lists are heterogeneous.  That means that one item in the list may be a string, and another item can be an integer, and another item can be a list.\n",
    "\n",
    "Let's see how we can access that \"inner\" list."
   ]
  },
  {
   "cell_type": "code",
   "execution_count": null,
   "metadata": {},
   "outputs": [],
   "source": [
    "myList = [42, \"foo bar baz\", [1, 2, 3, 4, 5]]\n",
    "\n",
    "print(myList)\n",
    "print(type(myList))\n",
    "print()\n",
    "\n",
    "print(\"List Items:\")\n",
    "print(\"-=\"*15)\n",
    "\n",
    "for item in myList:\n",
    "    print(item)\n",
    "    print(type(item))\n",
    "    print()"
   ]
  },
  {
   "cell_type": "code",
   "execution_count": null,
   "metadata": {},
   "outputs": [],
   "source": [
    "# Notice that we can access each item in the list by using\n",
    "# the bracket (square brace) notation.\n",
    "print(myList[0])\n",
    "print(type(myList[0]))\n",
    "print()\n",
    "print(myList[1])\n",
    "print(type(myList[1]))\n",
    "print()\n",
    "print(myList[2])\n",
    "print(type(myList[2]))"
   ]
  },
  {
   "cell_type": "code",
   "execution_count": null,
   "metadata": {},
   "outputs": [],
   "source": [
    "# Because the bracket notation returns a value\n",
    "# (and that value has a type, etc.), we are\n",
    "# able to further break down that value, when\n",
    "# that value is a sequence type.\n",
    "\n",
    "print(myList[1])\n",
    "print(myList[1][0])\n",
    "print()\n",
    "\n",
    "print(myList[2])\n",
    "print(myList[2][-1])"
   ]
  },
  {
   "cell_type": "markdown",
   "metadata": {},
   "source": [
    "These examples show why we call this type of structure a **2-D** (or 2-Dimensional) structure.  It represents a mental model of how the data is arranged.\n",
    "\n",
    "**Is this truly a 2-D structure?**  No.\n",
    "\n",
    "Remember that lists are heterogenous.  In the preceding example, `myList[0]` is an `int`.  If you try to access a 2nd dimension like this: `myList[0][0]`, you will receive a runtime error, because the interpreter does not know how to access `[0]` from an `int`.\n",
    "\n",
    "**Why do we say that it is 2-D, then?**\n",
    "\n",
    "Because it helps us to visualize the data.  Remember the quote from the first lecture: \"All models are wrong, but some are useful.\"  A list is never truly a 2-D structure, but it can behave like one if set up properly.  And, when set up properly, it can help us to think through problems."
   ]
  },
  {
   "cell_type": "markdown",
   "metadata": {},
   "source": [
    "## 2-D Examples"
   ]
  },
  {
   "cell_type": "code",
   "execution_count": null,
   "metadata": {},
   "outputs": [],
   "source": [
    "# Creating a 2D list:\n",
    "myList = [[0,1,2],[3,4,5],[6,7,8]]\n",
    "\n",
    "print(myList)"
   ]
  },
  {
   "cell_type": "code",
   "execution_count": null,
   "metadata": {},
   "outputs": [],
   "source": [
    "# Traversing a 2D list:\n",
    "myList = [[0,1,2],[3,4,5],[6,7,8]]\n",
    "\n",
    "for row in myList:\n",
    "    print(\"row:\", row)\n",
    "    \n",
    "    print(\"This row contains: \", end=\"\")\n",
    "    for column in row:\n",
    "        print(column, end=\" \")\n",
    "    print()\n",
    "    print()"
   ]
  },
  {
   "cell_type": "code",
   "execution_count": null,
   "metadata": {},
   "outputs": [],
   "source": [
    "# Creating a 3x3 list quickly:\n",
    "myList = [[0, 0, 0]] * 3\n",
    "print(myList)"
   ]
  },
  {
   "cell_type": "code",
   "execution_count": null,
   "metadata": {},
   "outputs": [],
   "source": [
    "# Creating a nxn list quickly:\n",
    "n = 5\n",
    "myList = [[0] * n] * n\n",
    "print(myList)"
   ]
  },
  {
   "cell_type": "code",
   "execution_count": null,
   "metadata": {},
   "outputs": [],
   "source": [
    "# Creating a 3x3 list with a list comprehension:\n",
    "myList = [[0, 0, 0] for _ in range(3)]\n",
    "print(myList)"
   ]
  },
  {
   "cell_type": "code",
   "execution_count": null,
   "metadata": {},
   "outputs": [],
   "source": [
    "# Of course, once that you realize that list\n",
    "# comprehensions can create 2D lists, you just\n",
    "# have to use your imagination to come up with\n",
    "# interesting applications.\n",
    "\n",
    "myList = [\n",
    "    [1 if col == row else 0 for col in range(10)]\n",
    "    for row in range(10)]\n",
    "print(myList)\n",
    "print()\n",
    "for row in myList:\n",
    "    print(row)"
   ]
  },
  {
   "cell_type": "code",
   "execution_count": null,
   "metadata": {},
   "outputs": [],
   "source": [
    "# Rotating characters\n",
    "message = \"Go Mustangs!\"\n",
    "\n",
    "block = [[character for character in message[row:] + message[:row]] for row in range(0, len(message))]\n",
    "block *= 2\n",
    "print(block)\n",
    "print()\n",
    "for row in block:\n",
    "    print(''.join(row))"
   ]
  },
  {
   "cell_type": "code",
   "execution_count": 8,
   "metadata": {},
   "outputs": [
    {
     "name": "stdout",
     "output_type": "stream",
     "text": [
      "Go Irish!\n",
      "o Irish!G\n",
      " Irish!Go\n",
      "Irish!Go \n",
      "rish!Go I\n",
      "ish!Go Ir\n",
      "sh!Go Iri\n",
      "h!Go Iris\n",
      "!Go Irish\n",
      "Go Irish!\n",
      "o Irish!G\n",
      " Irish!Go\n",
      "Irish!Go \n",
      "rish!Go I\n",
      "ish!Go Ir\n",
      "sh!Go Iri\n",
      "h!Go Iris\n",
      "!Go Irish\n"
     ]
    }
   ],
   "source": [
    "# Of course, the previous code could be written a bit more concisely:\n",
    "message = \"Go Mustangs!\"\n",
    "\n",
    "for row in [[*(message[row:] + message[:row])] for row in range(0, len(message))] * 2:\n",
    "    print(''.join(row))"
   ]
  },
  {
   "cell_type": "code",
   "execution_count": null,
   "metadata": {},
   "outputs": [],
   "source": [
    "# Of course, the previous code could be written a bit more concisely:\n",
    "message = \"Go Mustangs!\"\n",
    "\n",
    "print('\\n'.join([message[row:] + message[:row] for row in range(0, len(message))] * 2))"
   ]
  },
  {
   "cell_type": "code",
   "execution_count": null,
   "metadata": {},
   "outputs": [],
   "source": [
    "# How would you change the code to give you a list of strings?\n",
    "# (instead of a 2-d list of characters)\n",
    "message = \"Go Mustangs!\"\n",
    "\n"
   ]
  },
  {
   "cell_type": "code",
   "execution_count": null,
   "metadata": {},
   "outputs": [],
   "source": [
    "# And lastly, if you want to only print out the last\n",
    "# block of text and condense the code all down to a single line:\n",
    "\n"
   ]
  },
  {
   "cell_type": "markdown",
   "metadata": {},
   "source": [
    "# Tuples\n",
    "\n",
    "First, a review of what we know about strings and lists"
   ]
  },
  {
   "cell_type": "code",
   "execution_count": null,
   "metadata": {},
   "outputs": [],
   "source": [
    "# l is a list of individual words taken from this string:\n",
    "l = \"Hello, how are you today\".split()\n",
    "print(l)"
   ]
  },
  {
   "cell_type": "code",
   "execution_count": null,
   "metadata": {},
   "outputs": [],
   "source": [
    "# We can add (append) to a list\n",
    "l.append(3)\n",
    "print(l)"
   ]
  },
  {
   "cell_type": "code",
   "execution_count": null,
   "metadata": {},
   "outputs": [],
   "source": [
    "# We can access an individual element of the list\n",
    "print(l[2])"
   ]
  },
  {
   "cell_type": "code",
   "execution_count": null,
   "metadata": {},
   "outputs": [],
   "source": [
    "# We can change an individual element of a list\n",
    "l[2] = \"blablabla\"\n",
    "print(l)"
   ]
  },
  {
   "cell_type": "markdown",
   "metadata": {},
   "source": [
    "### Compare this behavior to strings"
   ]
  },
  {
   "cell_type": "code",
   "execution_count": null,
   "metadata": {},
   "outputs": [],
   "source": [
    "# Let's compare that to how strings operate\n",
    "message = \"hello how are you\"\n",
    "print(message)"
   ]
  },
  {
   "cell_type": "code",
   "execution_count": null,
   "metadata": {},
   "outputs": [],
   "source": [
    "# We can access a specific element of a string\n",
    "print(message[3])"
   ]
  },
  {
   "cell_type": "code",
   "execution_count": null,
   "metadata": {},
   "outputs": [],
   "source": [
    "# We can append something to the end of a string\n",
    "message += \"5\"\n",
    "print(message)"
   ]
  },
  {
   "cell_type": "code",
   "execution_count": null,
   "metadata": {},
   "outputs": [],
   "source": [
    "# We can't change something in the middle of a string, so the \n",
    "# following code is not permitted.  If you un-comment it and try\n",
    "# to run it, you will receive an error.\n",
    "message[3] = \"X\""
   ]
  },
  {
   "cell_type": "markdown",
   "metadata": {},
   "source": [
    "### Key takeaway:\n",
    "\n",
    "**Lists are mutable.** That is, they can be changed.  The values of the items in the list can be altered.  A list can have items added to or removed from it.\n",
    "\n",
    "**Strings are immutable.**  Once they are created, they cannot be changed.  When we \"added to\" a string in the preceding example (`message += \"5\"`), we were not actually modifying the old string.  Rather, we were creating a new string that was equal to the value of the two preceding strings being concatenated together."
   ]
  },
  {
   "cell_type": "markdown",
   "metadata": {},
   "source": [
    "## Tuples, what they really are...\n",
    "\n",
    "Tuples are very much like lists, but they are unchangeable (just like strings are unchangeable).  As programmers, we use **lists** to imply that the data in the sequence is expected to change.  Conversely, we use **tuples** to imply that the data in the sequence is expected to **not** be changed.\n",
    "\n",
    "A **Tuple** implies that the data inside the tuple is interconnected in some way."
   ]
  },
  {
   "cell_type": "code",
   "execution_count": null,
   "metadata": {},
   "outputs": [],
   "source": [
    "# First, notice how a list is declared (using square braces)\n",
    "xList = [1,2,3]\n",
    "\n",
    "# Tuples are declared using parenthesis\n",
    "xTuple = (1,2,3)\n",
    "\n",
    "# Notice the difference when we print them out.\n",
    "print(xList)\n",
    "print(xTuple)"
   ]
  },
  {
   "cell_type": "code",
   "execution_count": null,
   "metadata": {},
   "outputs": [],
   "source": [
    "# We can append() to a list\n",
    "xList.append('Hi')\n",
    "print(xList)\n",
    "\n",
    "# We cannot append() to a tuple\n",
    "# xTuple.append('Hi')\n",
    "print(xTuple)"
   ]
  },
  {
   "cell_type": "code",
   "execution_count": null,
   "metadata": {},
   "outputs": [],
   "source": [
    "# We can reassign the value of one element in a list\n",
    "xList[1] = \"changed\"\n",
    "print(xList)\n",
    "\n",
    "# We cannot reassign any value in a tuple.\n",
    "# xTuple[1] = \"changed\"\n",
    "print(xTuple)"
   ]
  },
  {
   "cell_type": "code",
   "execution_count": null,
   "metadata": {},
   "outputs": [],
   "source": [
    "# Notice the difference now when we print them out.\n",
    "print(xList)\n",
    "print(xTuple)"
   ]
  },
  {
   "cell_type": "code",
   "execution_count": null,
   "metadata": {},
   "outputs": [],
   "source": [
    "# A tuple can be declared explicitly.\n",
    "(1,1,1,1,1)"
   ]
  },
  {
   "cell_type": "code",
   "execution_count": null,
   "metadata": {},
   "outputs": [],
   "source": [
    "# Just like lists, concatenating tuples will result in a new tuple being created.\n",
    "(1,1) + (2,2)"
   ]
  },
  {
   "cell_type": "code",
   "execution_count": null,
   "metadata": {},
   "outputs": [],
   "source": [
    "# Just like lists (and strings), we can multiply them by an integer, which makes them repeat\n",
    "(1,2) * 5"
   ]
  },
  {
   "cell_type": "code",
   "execution_count": null,
   "metadata": {},
   "outputs": [],
   "source": [
    "# Example of multiplying an array.\n",
    "[0] * 26"
   ]
  },
  {
   "cell_type": "code",
   "execution_count": null,
   "metadata": {},
   "outputs": [],
   "source": [
    "# Example of creating a list with a single element.\n",
    "l = [23]\n",
    "print(l)"
   ]
  },
  {
   "cell_type": "code",
   "execution_count": null,
   "metadata": {},
   "outputs": [],
   "source": [
    "# Example of creating a tuple with a single element (notice the comma that is\n",
    "# required when the tuple only has a single element).\n",
    "t = (23, )\n",
    "\n",
    "print(t)"
   ]
  },
  {
   "cell_type": "code",
   "execution_count": null,
   "metadata": {},
   "outputs": [],
   "source": [
    "#############################################################\n"
   ]
  },
  {
   "cell_type": "code",
   "execution_count": null,
   "metadata": {},
   "outputs": [],
   "source": [
    "# In a surprising twist, we can leave the parenthesis out, but because we have commas,\n",
    "# Python will still understand that we are implying a tuple.\n",
    "t = 23,4,5,.17,\"why Python.... why???\"\n",
    "print(t)\n",
    "print(t[4])"
   ]
  },
  {
   "cell_type": "code",
   "execution_count": null,
   "metadata": {},
   "outputs": [],
   "source": [
    "# This also works for a tuple with only one value in it.\n",
    "t = 23,\n",
    "print(t)"
   ]
  },
  {
   "cell_type": "code",
   "execution_count": null,
   "metadata": {},
   "outputs": [],
   "source": [
    "# Here is a two-dimentional list.  Notice how we access the elements of the deeper dimensions.\n",
    "tt = [[0, \"a\"], [0,42]]\n",
    "print(tt)\n",
    "print(tt[1])\n",
    "print(tt[1][1])"
   ]
  },
  {
   "cell_type": "code",
   "execution_count": null,
   "metadata": {},
   "outputs": [],
   "source": [
    "# Here is a two-dimentional tuple.\n",
    "tt = (0, \"a\"), (0,42)\n",
    "print(tt)\n",
    "print(tt[1])\n",
    "print(tt[1][1])"
   ]
  },
  {
   "cell_type": "code",
   "execution_count": null,
   "metadata": {},
   "outputs": [],
   "source": [
    "# Here is a list that contains tuples.\n",
    "tt = [(0, \"a\"), (0,42)]\n",
    "print(tt)\n",
    "print(tt[1])\n",
    "print(tt[1][1])"
   ]
  },
  {
   "cell_type": "code",
   "execution_count": null,
   "metadata": {},
   "outputs": [],
   "source": [
    "# Here is a list containing tuples and other value types.\n",
    "tt = [(0, \"a\"), (0,42), 123456789, \"Python is weird!\"]\n",
    "print(tt)\n",
    "print(tt[1][1])\n",
    "print(tt[3][:6])\n"
   ]
  },
  {
   "cell_type": "markdown",
   "metadata": {},
   "source": [
    "## Tuple Comprehensions\n",
    "\n",
    "There is no **tuple comprehension** *per se*.  But, you can convert a list into a tuple using the `tuple()` constructor."
   ]
  },
  {
   "cell_type": "code",
   "execution_count": null,
   "metadata": {},
   "outputs": [],
   "source": [
    "print([x for x in \"Hello\"])\n",
    "print(tuple(x for x in \"Hello\"))"
   ]
  },
  {
   "cell_type": "markdown",
   "metadata": {},
   "source": [
    "Some people also wanted a spat-like syntax for tuples, so, since Python 3.5, you can do this:"
   ]
  },
  {
   "cell_type": "code",
   "execution_count": null,
   "metadata": {},
   "outputs": [],
   "source": [
    "# Ugly syntax when assigning the tuple to a variable.\n",
    "t = *(x for x in \"Hello\"),\n",
    "\n",
    "print(t)"
   ]
  },
  {
   "cell_type": "code",
   "execution_count": null,
   "metadata": {},
   "outputs": [],
   "source": [
    "# Even uglier syntax when using directly as an argument in a function.\n",
    "print((*(x for x in \"Hello\"),))"
   ]
  },
  {
   "cell_type": "markdown",
   "metadata": {},
   "source": [
    "As you can see in the last line of the above example, though, this is messy. :(\n",
    "\n",
    "Specifically, the format for a tuple comprehension is `*( <for..in expression> ),`.\n",
    "\n",
    "Notice that it starts with `*(` and ends with `),`.  It's not a true comprehension, but rather a hack (IMO).\n",
    "\n",
    "When using the splat tuple comprehension as an argument to a function, you must surround it with an additional pair of parenthesis.\n",
    "\n",
    "In short, it might be better to just use the `tuple( <for..in expression> )` syntax, for both readability and neatness."
   ]
  },
  {
   "cell_type": "markdown",
   "metadata": {},
   "source": [
    "## Destructuring\n",
    "\n",
    "Python has a neat trick called **destructuring**.  Destructuring itself is a huge topic, so we will focus on the part that we are most interested in.\n",
    "\n",
    "In short, **destructuring** is a syntax that allows us to assign variable values based on the *structure* of a list.\n",
    "\n",
    "An example will make this much easier to understand."
   ]
  },
  {
   "cell_type": "code",
   "execution_count": null,
   "metadata": {},
   "outputs": [],
   "source": [
    "(a, b) = (1, 2)\n",
    "\n",
    "print(f'a is {a}')\n",
    "print(f'b is {b}')"
   ]
  },
  {
   "cell_type": "markdown",
   "metadata": {},
   "source": [
    "As you can see, the tuple `(1, 2)` on the right of the equal assignment is **destructured** into the left hand structure of `(a, b)`, so that the value `1` is assigned to `a` and `2` is assigned to `b`.\n",
    "\n",
    "To put it another way, Python observes the paralled structure that is given on either side of the equal assignment operator and uses it to assign values to a corresponding variable."
   ]
  },
  {
   "cell_type": "code",
   "execution_count": null,
   "metadata": {},
   "outputs": [],
   "source": [
    "# It works for multiple values\n",
    "(a, b, c) = (\"foo\", \"bar\", \"baz\")\n",
    "\n",
    "print(a)\n",
    "print(b)\n",
    "print(c)"
   ]
  },
  {
   "cell_type": "code",
   "execution_count": null,
   "metadata": {},
   "outputs": [],
   "source": [
    "# It even works if you use a list instead of a tuple!!!\n",
    "(a, b, c) = [\"foo\", \"bar\", \"baz\"]\n",
    "print(a)\n",
    "print(b)\n",
    "print(c)\n",
    "print()\n",
    "\n",
    "[d, e, f] = (\"foo\", \"bar\", \"baz\")\n",
    "print(d)\n",
    "print(e)\n",
    "print(f)\n",
    "print()\n",
    "\n",
    "[g, h, i] = [\"foo\", \"bar\", \"baz\"]\n",
    "print(g)\n",
    "print(h)\n",
    "print(i)\n"
   ]
  },
  {
   "cell_type": "markdown",
   "metadata": {},
   "source": [
    "**Remember** that tuples **don't** need to use a parenthesis, though!"
   ]
  },
  {
   "cell_type": "code",
   "execution_count": null,
   "metadata": {},
   "outputs": [],
   "source": [
    "a, b = 1, 2\n",
    "\n",
    "print(a)\n",
    "print(b)"
   ]
  },
  {
   "cell_type": "code",
   "execution_count": null,
   "metadata": {},
   "outputs": [],
   "source": [
    "# Destructuring even works when the tuple (or list) is in a variable.\n",
    "\n",
    "import math\n",
    "\n",
    "coordinates = math.pi, math.sin(math.pi)\n",
    "print(coordinates)\n",
    "print()\n",
    "\n",
    "x, y = coordinates\n",
    "print(f'The coordinates are ({x}, {y})')\n",
    "print(f'The coordinates are ({x:.3f}, {y:.3f})') # Why?"
   ]
  },
  {
   "cell_type": "markdown",
   "metadata": {},
   "source": [
    "Do you remember the Fibonacci example?\n",
    "\n",
    "```\n",
    "total = int(input(\"How many Fibonacci numbers should I generate? \"))\n",
    "\n",
    "num1 = 1\n",
    "num2 = 1\n",
    "num3 = num1 + num2\n",
    "counter = 0\n",
    "while counter < total:\n",
    "    print(num1, end=\" \")\n",
    "    num1 = num2\n",
    "    num2 = num3\n",
    "    num3 = num1 + num2\n",
    "    counter = counter + 1\n",
    "```\n",
    "\n",
    "Re-write the code so that the assignment of `num1`, `num2`, and `num3` all occur on the same line."
   ]
  },
  {
   "cell_type": "code",
   "execution_count": null,
   "metadata": {},
   "outputs": [],
   "source": [
    "# Re-write Fibonacci here:\n",
    "total = int(input(\"How many Fibonacci numbers should I generate? \"))\n",
    "\n",
    "(num1, num2, num3) = (1, 1, 2)\n",
    "for _ in range(total):\n",
    "    print(num1, end=\" \")\n",
    "    num1, num2, num3 = num2, num3, (num2 + num3)\n"
   ]
  },
  {
   "cell_type": "code",
   "execution_count": null,
   "metadata": {},
   "outputs": [],
   "source": [
    "foo = (1,2)\n",
    "print(foo)\n",
    "foo = (3,4)\n",
    "print(foo)\n",
    "foo.append(5)"
   ]
  },
  {
   "cell_type": "code",
   "execution_count": null,
   "metadata": {},
   "outputs": [],
   "source": [
    "s = \"abc\"\n",
    "print(s)\n",
    "\n",
    "s += \"foo\"\n",
    "print(s)\n",
    "\n",
    "s[0] = \"Z\""
   ]
  },
  {
   "cell_type": "code",
   "execution_count": null,
   "metadata": {},
   "outputs": [],
   "source": [
    "a, b = ((0, 1), (2,3))\n",
    "\n",
    "print(a)\n",
    "print(b)\n",
    "\n",
    "a = (10,20)\n",
    "print(a)"
   ]
  },
  {
   "cell_type": "markdown",
   "metadata": {},
   "source": [
    "Python has another use of the splat operator.  Consider the following (which produces an error)."
   ]
  },
  {
   "cell_type": "code",
   "execution_count": null,
   "metadata": {},
   "outputs": [],
   "source": [
    "a, b = 1, 2, 3\n",
    "\n",
    "print(a)\n",
    "print(b)"
   ]
  },
  {
   "cell_type": "markdown",
   "metadata": {},
   "source": [
    "If we use the splat operator, we can use the last variable as a \"catch-all\" for the rest of the tuple/list."
   ]
  },
  {
   "cell_type": "code",
   "execution_count": null,
   "metadata": {},
   "outputs": [],
   "source": [
    "a, *b = 1, 2, 3\n",
    "\n",
    "print(a)\n",
    "print(b)"
   ]
  },
  {
   "cell_type": "code",
   "execution_count": null,
   "metadata": {},
   "outputs": [],
   "source": [
    "# This can lead to some interesting (valid) Python notation.\n",
    "a, *b, c = 1, 2, 3\n",
    "\n",
    "print(a)\n",
    "print(b)\n",
    "print(c)"
   ]
  },
  {
   "cell_type": "code",
   "execution_count": 13,
   "metadata": {},
   "outputs": [
    {
     "name": "stdout",
     "output_type": "stream",
     "text": [
      "1\n",
      "[2, 3]\n",
      "4\n"
     ]
    }
   ],
   "source": [
    "# Does it make sense why `b` is a list?\n",
    "a, *b, c = 1, 2, 3, 4\n",
    "\n",
    "print(a)\n",
    "print(b)\n",
    "print(c)"
   ]
  },
  {
   "cell_type": "code",
   "execution_count": 11,
   "metadata": {},
   "outputs": [
    {
     "ename": "SyntaxError",
     "evalue": "multiple starred expressions in assignment (2562304086.py, line 2)",
     "output_type": "error",
     "traceback": [
      "\u001b[0;36m  Input \u001b[0;32mIn [11]\u001b[0;36m\u001b[0m\n\u001b[0;31m    a, *b, *c = 1, 2, 3, 4\u001b[0m\n\u001b[0m    ^\u001b[0m\n\u001b[0;31mSyntaxError\u001b[0m\u001b[0;31m:\u001b[0m multiple starred expressions in assignment\n"
     ]
    }
   ],
   "source": [
    "# And, in case you were wondering, Python does not allow ambiguity.\n",
    "a, *b, *c = 1, 2, 3, 4\n",
    "\n",
    "print(a)\n",
    "print(b)\n",
    "print(c)"
   ]
  },
  {
   "cell_type": "markdown",
   "metadata": {},
   "source": [
    "Lastly (for now), we should observe that destructuring works as expected when the right hand side has mixed types."
   ]
  },
  {
   "cell_type": "code",
   "execution_count": 12,
   "metadata": {},
   "outputs": [
    {
     "name": "stdout",
     "output_type": "stream",
     "text": [
      "42\n",
      "[0, 1, 2, 3, 4, 5, 6, 7, 8, 9]\n",
      "['foo bar baz']\n"
     ]
    }
   ],
   "source": [
    "a, b, *c = 42, [a for a in range(10)], \"foo bar baz\"\n",
    "\n",
    "print(a)\n",
    "print(b)\n",
    "print(c)"
   ]
  },
  {
   "cell_type": "code",
   "execution_count": null,
   "metadata": {},
   "outputs": [],
   "source": [
    "theList = [*\"hello\"]\n",
    "print(theList)\n",
    "\n",
    "index = 0\n",
    "while index < len(theList):\n",
    "    print(theList[index])\n",
    "    index += 1\n",
    "print()\n",
    "    \n",
    "for item in theList:\n",
    "    print(item)"
   ]
  },
  {
   "cell_type": "markdown",
   "metadata": {},
   "source": [
    "## enumerate()\n",
    "\n",
    "**`enumerate()`** is a function that that takes a sequence as its argument, and returns a sequence generator.  For each item in the source sequence, the `enumerate()` generator will produce a tuple representing the index and value of that item in the source sequence.\n",
    "\n",
    "Because `enumerate()` returns a generating object, it is often difficult to inspect directly.  Just like the `range()` generator, however, we can convert the `enumerate()` generator into a list of values by using the splat operator."
   ]
  },
  {
   "cell_type": "code",
   "execution_count": null,
   "metadata": {},
   "outputs": [],
   "source": [
    "help(enumerate)"
   ]
  },
  {
   "cell_type": "code",
   "execution_count": null,
   "metadata": {},
   "outputs": [],
   "source": [
    "myList = [0,1,2]\n",
    "print(enumerate(myList))\n",
    "print([*enumerate(myList)])"
   ]
  },
  {
   "cell_type": "code",
   "execution_count": 10,
   "metadata": {},
   "outputs": [
    {
     "name": "stdout",
     "output_type": "stream",
     "text": [
      "abcdefghijklmnopqrstuvwxyz\n",
      "\n",
      "['a', 'b', 'c', 'd', 'e', 'f', 'g', 'h', 'i', 'j', 'k', 'l', 'm', 'n', 'o', 'p', 'q', 'r', 's', 't', 'u', 'v', 'w', 'x', 'y', 'z']\n",
      "\n",
      "[(0, 'a'), (1, 'b'), (2, 'c'), (3, 'd'), (4, 'e'), (5, 'f'), (6, 'g'), (7, 'h'), (8, 'i'), (9, 'j'), (10, 'k'), (11, 'l'), (12, 'm'), (13, 'n'), (14, 'o'), (15, 'p'), (16, 'q'), (17, 'r'), (18, 's'), (19, 't'), (20, 'u'), (21, 'v'), (22, 'w'), (23, 'x'), (24, 'y'), (25, 'z')]\n"
     ]
    }
   ],
   "source": [
    "# The point of this code is to walk you through the concept of what the enumerate()\n",
    "# function does.  That is, it returns a list, in which each row contains a tuple\n",
    "# with two elements.  The first number in the tuple is the index from the original\n",
    "# list.  The second value is the corresponding value from the original list.\n",
    "\n",
    "import string\n",
    "print(string.ascii_lowercase)\n",
    "print()\n",
    "\n",
    "lowalpha = [*string.ascii_lowercase]\n",
    "print(lowalpha)\n",
    "print()\n",
    "\n",
    "print([*enumerate(lowalpha)])\n"
   ]
  },
  {
   "cell_type": "markdown",
   "metadata": {},
   "source": [
    "Notice how in the last example (the splatted line) that the resulting list has **tuples** for its elements.\n",
    "\n",
    "Combine this observation with the fact that we can iterate through generated sequences using the `for..in:` construct, and we get the following:"
   ]
  },
  {
   "cell_type": "code",
   "execution_count": 9,
   "metadata": {},
   "outputs": [
    {
     "name": "stdout",
     "output_type": "stream",
     "text": [
      "(0, 'G')\n",
      "(1, 'o')\n",
      "(2, ' ')\n",
      "(3, 'M')\n",
      "(4, 'u')\n",
      "(5, 's')\n",
      "(6, 't')\n",
      "(7, 'a')\n",
      "(8, 'n')\n",
      "(9, 'g')\n",
      "(10, 's')\n",
      "(11, '!')\n"
     ]
    }
   ],
   "source": [
    "for pair in enumerate(\"Go Mustangs!\"):\n",
    "    print(pair)"
   ]
  },
  {
   "cell_type": "markdown",
   "metadata": {},
   "source": [
    "In this example, `pair` is a **tuple**!  That means that we can use **destructuring** on it and end up with something like this:"
   ]
  },
  {
   "cell_type": "code",
   "execution_count": null,
   "metadata": {},
   "outputs": [],
   "source": [
    "for index, character in enumerate(\"Go Mustangs!\"):\n",
    "    print(f\"'{character}' is in index position {index}.\")"
   ]
  },
  {
   "cell_type": "markdown",
   "metadata": {},
   "source": [
    "Of course, the same trick applies to lists!"
   ]
  },
  {
   "cell_type": "code",
   "execution_count": null,
   "metadata": {},
   "outputs": [],
   "source": [
    "message = 'The quick brown fox jumps over the lazy dog.'\n",
    "\n",
    "for word in message.split():\n",
    "    print(word)\n",
    "\n",
    "print('------------------------')\n",
    "\n",
    "for i, word in enumerate(message.split()):\n",
    "    print(i, word)"
   ]
  },
  {
   "cell_type": "markdown",
   "metadata": {},
   "source": [
    "As you can see, **destructuring** and the **`enumerate()`** function make it easy for us to get at the index of a list/sequence item.\n",
    "\n",
    "**This is a trick that you want to remember!**"
   ]
  },
  {
   "cell_type": "markdown",
   "metadata": {},
   "source": [
    "# Dictionaries\n",
    "\n",
    "https://docs.python.org/3.6/tutorial/datastructures.html#dictionaries\n",
    "\n",
    "A **dictionary** is a collection object that allows us to store **key-value pairs**.  That is, a **value** can be associated with some identifier, called a **key**.\n",
    "\n",
    "For comparison, Think about how a list operates.  In a list, the \"key\" is the index (number), starting with 0.  In a dictionary, the key can be any value that we want to use, number or string.\n"
   ]
  },
  {
   "cell_type": "code",
   "execution_count": null,
   "metadata": {},
   "outputs": [],
   "source": [
    "myList = ['a', 'b', 'c']\n",
    "print(myList[2])"
   ]
  },
  {
   "cell_type": "markdown",
   "metadata": {},
   "source": [
    "In the case of the previous example, the list `myList` contains 3 items.\n",
    "\n",
    "`myList[0]` has the value `a`, `myList[1]` has the value `b`, and `myList[2]` has the value `c`.\n",
    "\n",
    "In this sense, the **key** are the indexes `0`, `1`, and `2`, and their associated values are `a`, `b`, and `c`.\n",
    "\n",
    "Lists can only have numeric indexes.  Dictionaries can have **any** value as an index.\n",
    "\n",
    "**To sum it up:**\n",
    "\n",
    "**List indexes** are:\n",
    "\n",
    "1. **Automatic**.  List indexes are assigned automatically when building the list.\n",
    "2. **Numeric, Zero-based**.  The first index is `0`.\n",
    "3. **Sequential**.  Index values are numerically sequential.\n",
    "\n",
    "**Dictionary keys** are:\n",
    "1. **Manual**.  Dictionary keys must be declared manually.\n",
    "2. **Any type**.  Dictionary keys can have any type.\n",
    "3. **Non-sequential**.  Index values have no inerhent sequence in **Python 3.6**, the version of Python that we are using.  As of **Python 3.7**, The **insertion order** is preserved, but this is not a behavior that you should rely on."
   ]
  },
  {
   "cell_type": "markdown",
   "metadata": {},
   "source": [
    "## Creating A Dictionary\n",
    "\n",
    "Dictionaries can be created in several ways.  Some are more common than others.  Here are a few examples:"
   ]
  },
  {
   "cell_type": "code",
   "execution_count": null,
   "metadata": {},
   "outputs": [],
   "source": [
    "# The least-used method:\n",
    "myDictionary = dict(foo=\"hey\", bar=42, baz=True)\n",
    "\n",
    "print(myDictionary)\n",
    "print()\n",
    "\n",
    "print(myDictionary[\"foo\"])"
   ]
  },
  {
   "cell_type": "markdown",
   "metadata": {},
   "source": [
    "As you can see, a dictionary can be recognized by its use of curly braces (**{}**).  You can also see the **key** and **value** pairs.  Lastly, you see that we access the individual elements in the dictionary using the familiar square braces (**[]**)."
   ]
  },
  {
   "cell_type": "code",
   "execution_count": null,
   "metadata": {},
   "outputs": [],
   "source": [
    "# Create a dictionary from a list of tuples\n",
    "myDictionary = dict([(1, \"foo\"), (2, \"bar\"), (3, \"baz\")])\n",
    "print(myDictionary)"
   ]
  },
  {
   "cell_type": "code",
   "execution_count": null,
   "metadata": {},
   "outputs": [],
   "source": [
    "# Creating a dictionary *using* the curly braces.\n",
    "# This way is quite common to use.\n",
    "myDictionary = {\"a\": 1, \"b\": 42, \"c\": \"foo\", \"6\": \"good\", 6: \"evil\"}\n",
    "print(myDictionary)\n",
    "print()\n",
    "\n",
    "print(myDictionary[\"b\"])\n",
    "print(myDictionary[\"6\"])\n",
    "print(myDictionary[6])"
   ]
  },
  {
   "cell_type": "markdown",
   "metadata": {},
   "source": [
    "In the above example, notice that keys `'6'` (a string) and `6` (an int) represent different key-value pairs.  It is because the **type** matters!"
   ]
  },
  {
   "cell_type": "code",
   "execution_count": null,
   "metadata": {},
   "outputs": [],
   "source": [
    "# Changing a value in the dictionary\n",
    "print(myDictionary)\n",
    "print()\n",
    "\n",
    "print(myDictionary[\"b\"])\n",
    "print(\"Change d['b']\")\n",
    "myDictionary[\"b\"] = \"LOOK AT ME!\"\n",
    "print(myDictionary[\"b\"])\n",
    "print()\n",
    "\n",
    "print(myDictionary)"
   ]
  },
  {
   "cell_type": "code",
   "execution_count": null,
   "metadata": {},
   "outputs": [],
   "source": [
    "nums = {\"a\" : 0, \"b\" : 0}\n",
    "print(nums)\n",
    "print()\n",
    "\n",
    "nums[\"a\"] += 1\n",
    "print(nums)"
   ]
  },
  {
   "cell_type": "code",
   "execution_count": null,
   "metadata": {},
   "outputs": [],
   "source": []
  },
  {
   "cell_type": "markdown",
   "metadata": {},
   "source": [
    "## The Wizard Of Oz\n",
    "\n",
    "Let's do something fun.  The code here will download the text of the book **The Wonderful Wizard of Oz** and put it into a variable called `oz`."
   ]
  },
  {
   "cell_type": "code",
   "execution_count": null,
   "metadata": {},
   "outputs": [],
   "source": [
    "oz = loadBook(\"http://www.gutenberg.org/cache/epub/55/pg55.txt\", 'oz.txt', \"utf-8-sig\")\n",
    "\n",
    "print('The Wonderful Wizard of Oz is loaded.  It is %d characters long.' % len(oz))\n",
    "print('-' * 80)\n",
    "print(oz)"
   ]
  },
  {
   "cell_type": "markdown",
   "metadata": {},
   "source": [
    "As a warm-up, let's count the number of times that the word `the` and `oz` each appear in the text."
   ]
  },
  {
   "cell_type": "code",
   "execution_count": null,
   "metadata": {},
   "outputs": [],
   "source": [
    "theCount = 0\n",
    "ozCount = 0\n",
    "\n",
    "for word in oz.lower().split():\n",
    "    if word == \"the\":\n",
    "        theCount += 1\n",
    "    if word == \"oz\":\n",
    "        ozCount += 1\n",
    "\n",
    "print(f\"`the` occurs {theCount} time(s)\")\n",
    "print(f\"`oz` occurs {ozCount} time(s)\")\n"
   ]
  },
  {
   "cell_type": "markdown",
   "metadata": {},
   "source": [
    "Let's use a **dictionary** to count the number of times that each word appears in the text.\n",
    "\n",
    "For the key-value pair, the key will be the word and the value will be the number of times that the word appears.\n",
    "\n",
    "In this example, we are only going to count occurences of these two specific words.  The **`in`** keyword here tests whether or not the `word` exists as a **key** in the dictionary."
   ]
  },
  {
   "cell_type": "code",
   "execution_count": null,
   "metadata": {},
   "outputs": [],
   "source": [
    "wordCount = {\"oz\": 0, \"the\": 0}\n",
    "\n",
    "for word in oz.lower().split():\n",
    "    if word in wordCount:\n",
    "        wordCount[word] += 1\n",
    "\n",
    "print(wordCount)"
   ]
  },
  {
   "cell_type": "markdown",
   "metadata": {},
   "source": [
    "Why do we have to test whether or not the key already exists in the dictionary?\n",
    "\n",
    "Let's see what happens when we forget to test whether or not the key exists."
   ]
  },
  {
   "cell_type": "code",
   "execution_count": null,
   "metadata": {},
   "outputs": [],
   "source": [
    "wordCount = {\"oz\": 0, \"the\": 0}\n",
    "\n",
    "for word in oz.lower().split():\n",
    "    wordCount[word] += 1\n",
    "\n",
    "print(wordCount)"
   ]
  },
  {
   "cell_type": "markdown",
   "metadata": {},
   "source": [
    "As you can see, the **KeyError** indicates that you tried to get the value of a key that doesn't exist in the dictionary.\n",
    "\n",
    "The code `wordCount[word] += 1` is the problem.  In order to do a `+=`, there must be a value that exists first.\n",
    "\n",
    "How can we fix this?  By checking to see whether or not a word is in the dictionary and taking the appropriate action."
   ]
  },
  {
   "cell_type": "code",
   "execution_count": null,
   "metadata": {},
   "outputs": [],
   "source": [
    "wordCount = {}\n",
    "\n",
    "for word in oz.lower().split():\n",
    "    if word not in wordCount:\n",
    "        wordCount[word] = 1\n",
    "    else:\n",
    "        wordCount[word] += 1\n",
    "\n",
    "print(wordCount)"
   ]
  },
  {
   "cell_type": "markdown",
   "metadata": {},
   "source": [
    "## Stupid Dictionary Tricks\n",
    "\n",
    "* `.keys()` will generate a list of the dictionary **keys**.  The order is unpredictable for this version of Python.\n",
    "* `.values()` will generate a list of the dictionary **values**.  The order is unpredictable for this version of Python.\n",
    "* `.items()` will generate a list of tuples, which are the key-value pairs.\n",
    "* `.setdefault(key, value)` will set a \"default value\" for the provided `key`\n",
    "* `len()` will give the number of values in the dictionary.\n",
    "* `del` can delete a key/value pair from the dictionary.  E.g., `del myDictionary[\"a\"]`\n"
   ]
  },
  {
   "cell_type": "code",
   "execution_count": null,
   "metadata": {},
   "outputs": [],
   "source": [
    "# Getting at the contents of the dictionary\n",
    "myDictionary = dict([(0,'a'), (1,'b'), (2,'c'), (3,'d'), (4,'e'), (5,'f'), (6,'g'), (7,'h'), (8,'i'), (9,'j')])\n",
    "print(myDictionary)\n",
    "print()\n",
    "\n",
    "print(\".keys()\")\n",
    "print(myDictionary.keys())\n",
    "print()\n",
    "\n",
    "print(\".values()\")\n",
    "print(myDictionary.values())\n",
    "print()\n",
    "\n",
    "print(\".items()\")\n",
    "print(myDictionary.items())"
   ]
  },
  {
   "cell_type": "markdown",
   "metadata": {},
   "source": [
    "Don't let the names `dict_keys()`, `dict_values()`, or `dict_items()` throw you off.  They are just sequences.  You can convert them to a list or use them in any place that you use sequences.\n",
    "\n",
    "For example:"
   ]
  },
  {
   "cell_type": "code",
   "execution_count": null,
   "metadata": {},
   "outputs": [],
   "source": [
    "myDictionary = dict([(0,'a'), (1,'b'), (2,'c'), (3,'d'), (4,'e'), (5,'f'), (6,'g'), (7,'h'), (8,'i'), (9,'j')])\n",
    "print(myDictionary)\n",
    "print()\n",
    "\n",
    "for key, value in myDictionary.items():\n",
    "    print(f\"key `{key}` has value `{value}`\")"
   ]
  },
  {
   "cell_type": "code",
   "execution_count": null,
   "metadata": {},
   "outputs": [],
   "source": [
    "wordCount = {}\n",
    "\n",
    "for word in oz.lower().split():\n",
    "    if word not in wordCount:\n",
    "        wordCount[word] = 0\n",
    "    wordCount[word] += 1\n",
    "\n",
    "#del wordCount[\"the\"]\n",
    "#del wordCount[\"and\"]\n",
    "lookFor = max(wordCount.values())\n",
    "for word in wordCount.keys():\n",
    "    if (wordCount[word] == lookFor):\n",
    "        print(word)"
   ]
  },
  {
   "cell_type": "code",
   "execution_count": null,
   "metadata": {},
   "outputs": [],
   "source": [
    "# Simple code to count the number of occurences of a character in a string.\n",
    "characters = {}\n",
    "for ch in oz:\n",
    "    if ch not in characters:\n",
    "        characters[ch] = 0\n",
    "    characters[ch] += 1\n",
    "print(characters)\n",
    "print(characters[\"A\"] + characters['a'])\n",
    "\n",
    "# Print out the count of all the letters in the alphabet\n",
    "import string\n",
    "for ch in string.ascii_letters:\n",
    "    print(ch + \" : \" + str(characters[ch]))\n",
    "    print(f\"{ch} : {characters[ch]}\")"
   ]
  },
  {
   "cell_type": "code",
   "execution_count": null,
   "metadata": {},
   "outputs": [],
   "source": [
    "# Example using .setdefault()\n",
    "wordCount = {}\n",
    "\n",
    "for word in oz.lower().split():\n",
    "    wordCount.setdefault(word, 0)\n",
    "    wordCount[word] += 1\n",
    "\n",
    "print(wordCount)"
   ]
  },
  {
   "cell_type": "code",
   "execution_count": null,
   "metadata": {},
   "outputs": [],
   "source": [
    "# Deleting values from the dictionary by their key\n",
    "myDictionary = dict([(0,'a'), (1,'b'), (2,'c'), (3,'d'), (4,'e'), (5,'f'), (6,'g'), (7,'h'), (8,'i'), (9,'j')])\n",
    "print(myDictionary)\n",
    "print()\n",
    "\n",
    "print(\"Deleting keys 1, 5, and 8.\")\n",
    "print()\n",
    "\n",
    "del myDictionary[1]\n",
    "del myDictionary[5]\n",
    "del myDictionary[8]\n",
    "\n",
    "print(myDictionary)"
   ]
  },
  {
   "cell_type": "code",
   "execution_count": null,
   "metadata": {
    "scrolled": true
   },
   "outputs": [],
   "source": [
    "# Of course, if the key is not in the dictionary, then trying to\n",
    "# delete it will result in a KeyError.\n",
    "myDictionary = dict([(0,'a'), (1,'b'), (2,'c'), (3,'d'), (4,'e'), (5,'f'), (6,'g'), (7,'h'), (8,'i'), (9,'j')])\n",
    "print(myDictionary)\n",
    "print()\n",
    "\n",
    "print(\"Deleting keys 1, 5, and 42.\")\n",
    "print()\n",
    "\n",
    "del myDictionary[1]\n",
    "del myDictionary[5]\n",
    "del myDictionary[42]\n",
    "\n",
    "print(myDictionary)"
   ]
  },
  {
   "cell_type": "code",
   "execution_count": null,
   "metadata": {},
   "outputs": [],
   "source": [
    "# Deleting values from the dictionary by their key\n",
    "myDictionary = dict([(0,'a'), (1,'b'), (2,'c'), (3,'d'), (4,'e'), (5,'f'), (6,'g'), (7,'h'), (8,'i'), (9,'j')])\n",
    "print(myDictionary)\n",
    "print()\n",
    "\n",
    "print(\"Deleting keys 1, 5, and 42.\")\n",
    "print()\n",
    "\n",
    "if 1 in myDictionary:\n",
    "    del myDictionary[1]\n",
    "if 5 in myDictionary:\n",
    "    del myDictionary[5]\n",
    "if 42 in myDictionary:\n",
    "    del myDictionary[42]\n",
    "\n",
    "print(myDictionary)"
   ]
  },
  {
   "cell_type": "code",
   "execution_count": null,
   "metadata": {},
   "outputs": [],
   "source": [
    "# Another way to write it:\n",
    "myDictionary = dict([(0,'a'), (1,'b'), (2,'c'), (3,'d'), (4,'e'), (5,'f'), (6,'g'), (7,'h'), (8,'i'), (9,'j')])\n",
    "print(myDictionary)\n",
    "print()\n",
    "\n",
    "print(\"Deleting keys 1, 5, and 42.\")\n",
    "print()\n",
    "\n",
    "for num in [1, 5, 42]:\n",
    "    if num in myDictionary:\n",
    "        del myDictionary[num]\n",
    "\n",
    "print(myDictionary)"
   ]
  },
  {
   "cell_type": "markdown",
   "metadata": {},
   "source": [
    "## Dictionaries From Comprehensions\n",
    "\n",
    "You can be very imaginitive with this.\n",
    "\n",
    "The pure comprehension uses the pattern: `{key:value for <> in <>}`"
   ]
  },
  {
   "cell_type": "code",
   "execution_count": null,
   "metadata": {},
   "outputs": [],
   "source": [
    "# From a dictionary comprehension\n",
    "d = {x: x**2 for x in range(10)}\n",
    "print(d)"
   ]
  },
  {
   "cell_type": "code",
   "execution_count": null,
   "metadata": {},
   "outputs": [],
   "source": [
    "# same result as dictionary comprehension above\n",
    "e = dict([(x, x**2) for x in range(10)])\n",
    "print(e)"
   ]
  },
  {
   "cell_type": "code",
   "execution_count": null,
   "metadata": {},
   "outputs": [],
   "source": [
    "# From a dictionary comprehension\n",
    "d = {x: x**2 for x in range(10) if x % 2 == 0}\n",
    "print(d)"
   ]
  },
  {
   "cell_type": "markdown",
   "metadata": {},
   "source": [
    "## Frankenstein Exercises\n",
    "\n",
    "Quick side note: observe the difference at the beginning of the string when using different encodings."
   ]
  },
  {
   "cell_type": "code",
   "execution_count": null,
   "metadata": {},
   "outputs": [],
   "source": [
    "loadBook(\"http://www.gutenberg.org/files/84/84-0.txt\", 'frank-without-sig.txt', \"utf-8\")[:250]"
   ]
  },
  {
   "cell_type": "code",
   "execution_count": null,
   "metadata": {},
   "outputs": [],
   "source": [
    "loadBook(\"http://www.gutenberg.org/files/84/84-0.txt\", 'frank.txt', \"utf-8-sig\")[:250]"
   ]
  },
  {
   "cell_type": "markdown",
   "metadata": {},
   "source": [
    "As you can see, the `utf-8` encoding includes [byte order marks](https://en.wikipedia.org/wiki/Byte_order_mark#:~:text=Byte%20order%20marks%20by%20encoding%20%20%20,the%20null%20character%29%20%207%20more%20rows%20), which we don't want.  The `utf-8-sig` encoding will remove this information.\n",
    "\n",
    "This brings us to an important question: **How do you know which codec to use when doing stuff on your own?**\n",
    "\n",
    "The simple answer is this: you look at the data yourself, and make an educated guess.  You know know that if you see a string starting with `\\ufeff`, then that is a byte order mark, and you need to remove it by using the correct encoding.\n",
    "\n",
    "In other words, there is no hard-and-fast rule.  Your job is to be aware of the problems of different data sources so that you know what to look for (search online for) to get your code working correctly."
   ]
  },
  {
   "cell_type": "code",
   "execution_count": null,
   "metadata": {},
   "outputs": [],
   "source": [
    "frank = loadBook(\"http://www.gutenberg.org/files/84/84-0.txt\", 'frank.txt', \"utf-8-sig\")\n",
    "\n",
    "print(frank)"
   ]
  },
  {
   "cell_type": "code",
   "execution_count": null,
   "metadata": {},
   "outputs": [],
   "source": [
    "# Get the most common word.\n",
    "import string\n",
    "'''\n",
    "slimFrank = ''\n",
    "\n",
    "for ch in frank.lower():\n",
    "    if ch in (string.ascii_lowercase + ' \\n'):\n",
    "        slimFrank += ch\n",
    "        \n",
    "print(slimFrank)\n",
    "'''\n",
    "\n",
    "slimFrank = ''.join([ch for ch in frank.lower() if ch in (string.ascii_lowercase + ' \\n')])\n",
    "\n",
    "counts = {}\n",
    "\n",
    "for word in slimFrank.split():\n",
    "    counts.setdefault(word, 0)\n",
    "    counts[word] += 1\n",
    "    \n",
    "most = max(counts.values())\n",
    "\n",
    "print(most)\n",
    "\n",
    "for key, value in counts.items():\n",
    "    if value == most:\n",
    "        print(key)\n",
    "        \n",
    "print([key for key,value in counts.items() if value == most])"
   ]
  },
  {
   "cell_type": "markdown",
   "metadata": {},
   "source": [
    "### Q1: What is the longest word(s) in the text?"
   ]
  },
  {
   "cell_type": "code",
   "execution_count": null,
   "metadata": {},
   "outputs": [],
   "source": [
    "import string\n",
    "\n",
    "slimFrank = ''.join([ch for ch in frank.lower() if ch in (string.ascii_lowercase + ' \\n')])\n",
    "\n",
    "wordLengths = [len(word) for word in slimFrank.split()]\n",
    "\n",
    "maxLen = 4 # max(wordLengths)\n",
    "\n",
    "for word in slimFrank.split():\n",
    "    if len(word) == maxLen:\n",
    "        print(word)\n"
   ]
  },
  {
   "cell_type": "code",
   "execution_count": null,
   "metadata": {},
   "outputs": [],
   "source": [
    "import string\n",
    "\n",
    "slimFrank = ''.join([ch for ch in frank.lower() if ch in (string.ascii_lowercase + ' \\n')])\n",
    "\n",
    "wordLengths = [len(word) for word in slimFrank.split()]\n",
    "\n",
    "maxLen = max(wordLengths)\n",
    "\n",
    "displayed = {}\n",
    "\n",
    "for word in slimFrank.split():\n",
    "    if len(word) == maxLen:\n",
    "        if word not in displayed:\n",
    "            displayed[word] = True\n",
    "            print(word)\n"
   ]
  },
  {
   "cell_type": "code",
   "execution_count": null,
   "metadata": {},
   "outputs": [],
   "source": [
    "import string\n",
    "\n",
    "slimFrank = ''.join([ch for ch in frank.lower() if ch in (string.ascii_lowercase + ' \\n')])\n",
    "\n",
    "wordLen = {word:len(word) for word in slimFrank.split()}\n",
    "\n",
    "maxLen = max(wordLen.values())\n",
    "\n",
    "[word for word, length in wordLen.items() if length == maxLen]"
   ]
  },
  {
   "cell_type": "markdown",
   "metadata": {},
   "source": [
    "\n",
    "### Q2: What are the 20 most commonly used words in the text?"
   ]
  },
  {
   "cell_type": "code",
   "execution_count": null,
   "metadata": {},
   "outputs": [],
   "source": [
    "slimFrank = ''.join([ch for ch in frank.lower() if ch in (string.ascii_lowercase + ' \\n')])\n",
    "\n",
    "counts = {}\n",
    "\n",
    "for word in slimFrank.split():\n",
    "    counts.setdefault(word, 0)\n",
    "    counts[word] += 1\n",
    "\n",
    "most = max(counts.values())\n",
    "\n",
    "print(most)\n",
    "\n",
    "mostFrequent = []\n",
    "\n",
    "for length in range(most, 0, -1):\n",
    "    mostFrequent += [word for word in counts.keys() if counts[word] == length]\n",
    "\n",
    "print(mostFrequent[:20])"
   ]
  },
  {
   "cell_type": "code",
   "execution_count": null,
   "metadata": {},
   "outputs": [],
   "source": [
    "slimFrank = ''.join([ch for ch in frank.lower() if ch in (string.ascii_lowercase + ' \\n')])\n",
    "\n",
    "counts = {}\n",
    "\n",
    "for word in slimFrank.split():\n",
    "    counts.setdefault(word, 0)\n",
    "    counts[word] += 1\n",
    "    \n",
    "most = max(counts.values())\n",
    "\n",
    "print(most)\n",
    "\n",
    "mostFrequent = []\n",
    "\n",
    "for length in range(most, 0, -1):\n",
    "    mostFrequent += [word for word in counts.keys() if counts[word] == length]\n",
    "\n",
    "print(mostFrequent[:20])"
   ]
  },
  {
   "cell_type": "code",
   "execution_count": null,
   "metadata": {},
   "outputs": [],
   "source": [
    "slimFrank = ''.join([ch for ch in frank.lower() if ch in (string.ascii_lowercase + ' \\n')])\n",
    "\n",
    "counts = {}\n",
    "\n",
    "for word in slimFrank.split():\n",
    "    counts.setdefault(word, 0)\n",
    "    counts[word] += 1\n",
    " \n",
    "reverseDictionary = {}\n",
    "\n",
    "for word in counts.keys():\n",
    "    key = counts[word]\n",
    "    reverseDictionary.setdefault(key, [])\n",
    "    if word not in reverseDictionary[key]:\n",
    "        reverseDictionary[key].append(word)\n",
    "    \n",
    "\n",
    "most = max(reverseDictionary.keys())\n",
    "\n",
    "print(most)\n",
    "\n",
    "mostFrequent = []\n",
    "for length in range(most, 0, -1):\n",
    "    if length in reverseDictionary:\n",
    "        mostFrequent += reverseDictionary[length]\n",
    "\n",
    "print(mostFrequent[:20])\n"
   ]
  },
  {
   "cell_type": "markdown",
   "metadata": {},
   "source": [
    "### Q3: What are the 20 most commonly used words in the text, ignoring the 100 most commonly used words in the English language?\n",
    "\n",
    "https://en.wikipedia.org/wiki/Most_common_words_in_English"
   ]
  },
  {
   "cell_type": "code",
   "execution_count": null,
   "metadata": {},
   "outputs": [],
   "source": []
  },
  {
   "cell_type": "markdown",
   "metadata": {},
   "source": [
    "### Q4: The text has a lot of boilerplate that might be skewing the data.  How can you remove the boilerplate text?\n",
    "\n",
    "**Hint:** look up the string [.splitlines()](https://docs.python.org/3.6/library/stdtypes.html#str.splitlines) method."
   ]
  },
  {
   "cell_type": "code",
   "execution_count": null,
   "metadata": {},
   "outputs": [],
   "source": []
  },
  {
   "cell_type": "markdown",
   "metadata": {},
   "source": [
    "# Old Information, New Perspective\n",
    "\n",
    "* string .splitlines()\n",
    "* reading a file with .readlines()\n",
    "* reading a file using `with..as`\n",
    "* function argument naming and default values"
   ]
  },
  {
   "cell_type": "markdown",
   "metadata": {},
   "source": [
    "## `.splitlines()`\n",
    "\n",
    "Strings have a method called `.splitlines()` which will convert the string into a **list** of strings, using the **newline** characters in the original text as the split points.\n",
    "\n",
    "The following two examples show the difference between `.split()` and `.splitlines()`.\n",
    "\n",
    "**Note:** We could not cover this information earlier, when we were learning about strings, because we did not know about lists yet."
   ]
  },
  {
   "cell_type": "code",
   "execution_count": null,
   "metadata": {},
   "outputs": [],
   "source": [
    "oz = loadBook(\"http://www.gutenberg.org/cache/epub/55/pg55.txt\", 'oz.txt', \"utf-8-sig\")\n",
    "\n",
    "print(oz.split())"
   ]
  },
  {
   "cell_type": "code",
   "execution_count": null,
   "metadata": {},
   "outputs": [],
   "source": [
    "print(oz.splitlines())"
   ]
  },
  {
   "cell_type": "markdown",
   "metadata": {},
   "source": [
    "## `.readlines()`\n",
    "\n",
    "Similar to the string `.splitlines()` method, there is a corresponding method for dealing with text from files.\n",
    "\n",
    "Before, we saw that the `.read()` method would put the contents of a file into a string.  Now we will look at the **`.readlines()`** method, which will return the contents of a file as a **list** of strings, using the **newline** characters in the original text as the split points."
   ]
  },
  {
   "cell_type": "code",
   "execution_count": null,
   "metadata": {},
   "outputs": [],
   "source": [
    "# Create a file that we can read from.\n",
    "outputFile = open('out.txt', 'w')\n",
    "\n",
    "print('Testing', file=outputFile)\n",
    "print(file=outputFile)\n",
    "\n",
    "for i in range(20):\n",
    "    print('*' * i, file=outputFile)\n",
    "    \n",
    "outputFile.close()"
   ]
  },
  {
   "cell_type": "code",
   "execution_count": null,
   "metadata": {},
   "outputs": [],
   "source": [
    "# Read the file contents\n",
    "inputFile = open('out.txt', 'r')\n",
    "\n",
    "contents = inputFile.readlines()\n",
    "inputFile.close()\n",
    "\n",
    "print(f'{\"File Contents\":-^30}')\n",
    "print(contents)\n",
    "print(f'{\"End File\":-^30}')\n"
   ]
  },
  {
   "cell_type": "markdown",
   "metadata": {},
   "source": [
    "Notice that the **newline** at the end of each string still exists.  In the next example, we will print out each line, but because each line already has a newline, we will use the `end=''` argument to avoid double-spacing."
   ]
  },
  {
   "cell_type": "code",
   "execution_count": null,
   "metadata": {},
   "outputs": [],
   "source": [
    "# Alternatively, you can loop through the list:\n",
    "inputFile = open('out.txt', 'r')\n",
    "\n",
    "contents = inputFile.readlines()\n",
    "inputFile.close()\n",
    "\n",
    "print(f'{\"File Contents\":-^30}')\n",
    "for line in contents:\n",
    "    print(line, end='')\n",
    "print(f'{\"End File\":-^30}')\n"
   ]
  },
  {
   "cell_type": "code",
   "execution_count": null,
   "metadata": {},
   "outputs": [],
   "source": [
    "# Lastly, here is an example using `enumerate()`.\n",
    "# Also notice a different tactic for handling the\n",
    "# newline at the end of each line.\n",
    "inputFile = open('out.txt', 'r')\n",
    "\n",
    "print(f'{\"File Contents\":-^30}')\n",
    "\n",
    "for number, line in enumerate(inputFile.readlines()):\n",
    "    print(f\"{number:03}: {line[:-1]}\")\n",
    "\n",
    "print(f'{\"End File\":-^30}')\n",
    "\n",
    "inputFile.close()\n"
   ]
  },
  {
   "cell_type": "markdown",
   "metadata": {},
   "source": [
    "## The `with..as:` Block\n",
    "\n",
    "As you have seen, Python provides many advanced syntax shortcuts, the goal of which is to minimize mistakes on the part of the programmer.  One of these common mistakes is to open a file, and then forget to close it.\n",
    "\n",
    "Python provides a syntax that helps with this oversite: `with..as:`\n",
    "\n",
    "The format is: `with <expression> as <variable>:`, followed by a code block.  Inside the code block, `<variable>` will act as an alias for `<expression>`.\n",
    "\n",
    "How does this help us with files?  Well, the `with..as:` construct will **automatically close the file for you** when it's code block is exited.\n",
    "\n",
    "Consider the next two, equivalent cells:"
   ]
  },
  {
   "cell_type": "code",
   "execution_count": null,
   "metadata": {},
   "outputs": [],
   "source": [
    "# Create a file that we can read from.\n",
    "outputFile = open('out.txt', 'w')\n",
    "\n",
    "print('Testing', file=outputFile)\n",
    "print(file=outputFile)\n",
    "\n",
    "for i in range(20):\n",
    "    print('*' * i, file=outputFile)\n",
    "    \n",
    "outputFile.close()"
   ]
  },
  {
   "cell_type": "code",
   "execution_count": null,
   "metadata": {},
   "outputs": [],
   "source": [
    "# Create a file that we can read from.\n",
    "\n",
    "with open('out.txt', 'w') as outputFile:\n",
    "    print('Testing', file=outputFile)\n",
    "    print(file=outputFile)\n",
    "\n",
    "    for i in range(20):\n",
    "        print('*' * i, file=outputFile)\n"
   ]
  },
  {
   "cell_type": "markdown",
   "metadata": {},
   "source": [
    "The two preceding cells are **equivalent**, but the second is cleaner.\n",
    "\n",
    "There are more [sophisticated](https://docs.python.org/3.6/reference/compound_stmts.html#the-with-statement) uses for this syntax, but file operations are the most commonly encountered."
   ]
  },
  {
   "cell_type": "markdown",
   "metadata": {},
   "source": [
    "## Functions: Named Arguments And Default Values\n",
    "\n",
    "Now that you have a bit more experience with functions, let's see how Python can make them easier to use.\n",
    "\n",
    "First, we will look at **Named Arguments**.\n",
    "\n",
    "**Named Arguments** is the ability to change the calling order of the arguments of a function by providing the expected **variable name** of that argument.\n",
    "\n",
    "As always, an example will be explain this idea most effectively."
   ]
  },
  {
   "cell_type": "code",
   "execution_count": null,
   "metadata": {},
   "outputs": [],
   "source": [
    "def printThreeThings(a, b, c):\n",
    "    print(a, b, c)\n",
    "\n",
    "printThreeThings('foo', 'bar', 'baz')"
   ]
  },
  {
   "cell_type": "markdown",
   "metadata": {},
   "source": [
    "This example doesn't surprise us in its output.  `'foo'` is assigned to the variable `a`, etc.\n",
    "\n",
    "Now look at this example of calling the same function, but **naming** the arguments."
   ]
  },
  {
   "cell_type": "code",
   "execution_count": null,
   "metadata": {},
   "outputs": [],
   "source": [
    "printThreeThings(c='foo', b='bar', a='baz')"
   ]
  },
  {
   "cell_type": "markdown",
   "metadata": {},
   "source": [
    "Here, you can see that we can supply the arguments in any order, so long as you **name** which argument you intend the value to be associated with."
   ]
  },
  {
   "cell_type": "code",
   "execution_count": null,
   "metadata": {},
   "outputs": [],
   "source": [
    "# This example shows that the named arguments cannot\n",
    "# precede non-named (or, \"positional\") arguments.\n",
    "# It is a syntax error.\n",
    "printThreeThings(c='foo', 'bar', 'baz')"
   ]
  },
  {
   "cell_type": "code",
   "execution_count": null,
   "metadata": {},
   "outputs": [],
   "source": [
    "# This example shows that named arguments cannot\n",
    "# replace the value of the positional arguments.\n",
    "# It is a Runtime Error.\n",
    "printThreeThings('foo', 'bar', b='baz')"
   ]
  },
  {
   "cell_type": "markdown",
   "metadata": {},
   "source": [
    "It may seem as though **named arguments** aren't very useful, given the limitations observed above.  But they can be combined with the next concept, **default argument values**, to provide sophisticated behavior.  Let's cover the default values by themselves first, then we will combine the two.\n",
    "\n",
    "When declaring a function, you can provide a **default value** for that argument in order to simplify the code for the majority of use cases.\n",
    "\n",
    "Consider the following:"
   ]
  },
  {
   "cell_type": "code",
   "execution_count": null,
   "metadata": {},
   "outputs": [],
   "source": [
    "def doubleIt(number=42):\n",
    "    return number * 2\n",
    "\n",
    "print(doubleIt(10))\n",
    "print(doubleIt(20))\n",
    "print()\n",
    "print(doubleIt())"
   ]
  },
  {
   "cell_type": "markdown",
   "metadata": {},
   "source": [
    "In this example, `number` is given the default value **only if** an argument is not provided by the caller.\n",
    "\n",
    "A function may contain multiple arguments with a declared default value, but they should always appear later in the argument list than those without a default value."
   ]
  },
  {
   "cell_type": "code",
   "execution_count": null,
   "metadata": {},
   "outputs": [],
   "source": [
    "def addUp(a, b=0):\n",
    "    return a + b\n",
    "\n",
    "print(addUp(4,5))\n",
    "print(addUp(42))\n"
   ]
  },
  {
   "cell_type": "code",
   "execution_count": null,
   "metadata": {},
   "outputs": [],
   "source": [
    "# This cell will not compile (syntax error).\n",
    "def addUp(a=0, b):\n",
    "    return a + b\n",
    "\n",
    "print(addUp(4,5))\n",
    "print(addUp(42))\n"
   ]
  },
  {
   "cell_type": "markdown",
   "metadata": {},
   "source": [
    "**Combining Named Arguments with Default Values!**\n",
    "\n",
    "Named arguments allow us to provide arguments in any order.  Default values allow us to provide a default value for any value not otherwise specified.\n",
    "\n",
    "Look at the resulting behavior:"
   ]
  },
  {
   "cell_type": "code",
   "execution_count": null,
   "metadata": {},
   "outputs": [],
   "source": [
    "def printThreeThings(a='foo', b='bar', c='baz'):\n",
    "    print(a, b, c)\n",
    "    \n",
    "    \n",
    "print(\"A:\", end=\"\")\n",
    "printThreeThings()\n",
    "print()\n",
    "\n",
    "print(\"B:\", end=\"\")\n",
    "printThreeThings(c=\"HOTDOGS!\")\n",
    "print()\n",
    "\n",
    "print(\"C:\", end=\"\")\n",
    "printThreeThings(\"Klondike\", c=\"is a good snack!\")"
   ]
  },
  {
   "cell_type": "markdown",
   "metadata": {},
   "source": [
    "As you can see, we can either **(A)** provide no arguments, **(B)** provide only named arguments, or **(C)** provide some positional and some named arguments.\n",
    "\n",
    "In all 3 examples, though, we left out some or all of the arguments.\n",
    "\n",
    "**Do named arguments look familiar?**  They should!\n",
    "\n",
    "You have been using named arguments with the `print()` function since the beginning, with the arguments `end=`, `sep=`, and `file=` (for writing to files).  If you look at the `help()` function information on the `print()` statement, you will see that it shows all of this information, as well as their default values."
   ]
  },
  {
   "cell_type": "code",
   "execution_count": null,
   "metadata": {},
   "outputs": [],
   "source": [
    "help(print)"
   ]
  },
  {
   "cell_type": "markdown",
   "metadata": {},
   "source": [
    "# Lambda Expressions"
   ]
  },
  {
   "cell_type": "markdown",
   "metadata": {},
   "source": [
    "Before talking about Lamda expressions, let's think about **functions**.\n",
    "\n",
    "Some functions are **stand-alone**.  Some functions are attached to a variable, and we call these types of functions **methods**.\n",
    "\n",
    "Fundamentally, though, a function represents some computational unit.  Just like a variable, a function can be re-assigned."
   ]
  },
  {
   "cell_type": "code",
   "execution_count": null,
   "metadata": {},
   "outputs": [],
   "source": [
    "# First declaration of foo()\n",
    "def foo():\n",
    "    print(\"bar\")\n",
    "    \n",
    "print(foo)\n",
    "foo()\n",
    "\n",
    "print()\n",
    "\n",
    "# Second declaration of foo()\n",
    "def foo():\n",
    "    print(\"baz\")\n",
    "    \n",
    "print(foo)\n",
    "foo()"
   ]
  },
  {
   "cell_type": "markdown",
   "metadata": {},
   "source": [
    "As you can see, the name `foo` is a **variable**, and the **value** that it contains is a **function**!\n",
    "\n",
    "The value that `foo` represents can be changed.  (As a reminder, we talked about this behavior earlier, and warned you that it is possible to re-define the built-in functions, which would cause you to have to restart your kernel in order to fix it!)\n",
    "\n",
    "We can even assign the \"function value\" to another variable name!"
   ]
  },
  {
   "cell_type": "code",
   "execution_count": null,
   "metadata": {},
   "outputs": [],
   "source": [
    "differentName = foo\n",
    "\n",
    "differentName()"
   ]
  },
  {
   "cell_type": "markdown",
   "metadata": {},
   "source": [
    "**That's amazing!**\n",
    "\n",
    "What does all of this have to do with **Lambda Expressions**?\n",
    "\n",
    "Well, **Lambda expressions** are a way of writing **short functions that don't have a (variable) name**.  Just like the value `3` can exists without being assigned to a variable, so can functions exist without being given a name.\n",
    "\n",
    "**Why are they called \"Lambda expressions\"?**  Mathematical history.  Lambda expressions are a part of \"Lambda Calculus\", where \"Lambda\" is a Greek letter (λ) representing arbitrary mathematical functions that could be defined.  In other words, **Alonzo Church** published about it in the 1930's, and we're stuck with it!\n",
    "\n",
    "Of course, you may want to know **why** we care about lambda expressions.  The answer is that, similar to Comprehensions, lambda expressions allow us to express small computational ideas quickly and elegantly in Python."
   ]
  },
  {
   "cell_type": "markdown",
   "metadata": {},
   "source": [
    "## Structure Of A Function\n",
    "\n",
    "Think about what is needed to define a function:"
   ]
  },
  {
   "cell_type": "code",
   "execution_count": null,
   "metadata": {},
   "outputs": [],
   "source": [
    "def doubleIt(num):\n",
    "    return num * 2"
   ]
  },
  {
   "cell_type": "markdown",
   "metadata": {},
   "source": [
    "We see:\n",
    "\n",
    "* The `def` keyword, letting Python know that we are defining a function.\n",
    "* `doubleIt`, the name of the function.\n",
    "* `(num)`, the argument list.\n",
    "* `:`, indicating that the following will be the code block\n",
    "* `return num * 2`, which is the code block with a `return` value.\n",
    "\n",
    "We have already said that lambda expressions don't have a name, so let's see the same function expressed as a lambda expression.\n"
   ]
  },
  {
   "cell_type": "code",
   "execution_count": null,
   "metadata": {},
   "outputs": [],
   "source": [
    "lambda num: num * 2"
   ]
  },
  {
   "cell_type": "markdown",
   "metadata": {},
   "source": [
    "Notice the differences:\n",
    "\n",
    "* There is the keyword `lambda` instead of `def`.\n",
    "* There is no function name.\n",
    "* There is no parenthesis around the arguments list.\n",
    "* There is no code block, but rather just a single line.\n",
    "* There is no `return` statement.  Lambda expressions can only be **1** line long, and whatever value is evaluated on that line is the value that is returned.  Then again, we have already seen that Python can do **a lot** in only 1 line of code!\n",
    "\n",
    "Of course, we can save this lambda expression to a variable and use it just like a function."
   ]
  },
  {
   "cell_type": "code",
   "execution_count": null,
   "metadata": {},
   "outputs": [],
   "source": [
    "doubleIt = lambda num: num * 2\n",
    "\n",
    "print(doubleIt(42))"
   ]
  },
  {
   "cell_type": "code",
   "execution_count": null,
   "metadata": {},
   "outputs": [],
   "source": [
    "# Example of a lambda expression with two arguments\n",
    "addUp = lambda a,b: a + b\n",
    "\n",
    "print(addUp(3,5))"
   ]
  },
  {
   "cell_type": "markdown",
   "metadata": {},
   "source": [
    "The most eloquent description in the world won't be enough to convince you of the utility of lambda expressions.  For that, we need to see examples of **where** we can use lambda expressions, and to do that, we need to learn more Python!"
   ]
  },
  {
   "cell_type": "markdown",
   "metadata": {},
   "source": [
    "## `.sort()` And `sorted()`\n",
    "\n",
    "You have already seen that `.sort()` and `sorted()` both serve to sort a sequence.  `.sort()` only exists for lists (not strings), and alters the associated list so that its items are rearranged.  `sorted()` returns a new sequence in which the items are rearranged.\n",
    "\n",
    "By default, these work using ASCII (or numerical) order.  Both functions, however, expose a `key=` argument so that you can customize what is being used to perform the sort.\n",
    "\n",
    "The `key=` argument expects a **function** as the value.  Compare the following:"
   ]
  },
  {
   "cell_type": "code",
   "execution_count": null,
   "metadata": {},
   "outputs": [],
   "source": [
    "message = \"The quick brown fox jumps over the lazy dog\"\n",
    "\n",
    "print(sorted(message.split()))"
   ]
  },
  {
   "cell_type": "markdown",
   "metadata": {},
   "source": [
    "Notice that the word `'brown'` is *after* the word `'The'`, because of ascii ordering.\n",
    "\n",
    "We can change this.  We can change what the sort function sees when it compares the items during the sorting process."
   ]
  },
  {
   "cell_type": "code",
   "execution_count": null,
   "metadata": {},
   "outputs": [],
   "source": [
    "def changeToUppercase(word):\n",
    "    return word.upper()\n",
    "\n",
    "message = \"The quick brown fox jumps over the lazy dog\"\n",
    "\n",
    "print(sorted(message.split(), key=changeToUppercase))"
   ]
  },
  {
   "cell_type": "markdown",
   "metadata": {},
   "source": [
    "It worked!\n",
    "\n",
    "What is happening is that, when Python is deciding which string should go first, because we are passing the values through the `key=` function, then instead of seeing `'The'` and `'brown'`, it sees `'THE'` and `'BROWN'`.\n",
    "\n",
    "Also, notice that `'The'` and `'the'` are next to one another.  Because the `sorted()` function sees them both as `'THE'`, it is arbitrary which one will appear first.\n",
    "\n",
    "Let's see what this looks like as a **lambda expression**, using the next two cells."
   ]
  },
  {
   "cell_type": "code",
   "execution_count": null,
   "metadata": {},
   "outputs": [],
   "source": [
    "# First, convert the function to a lambda expression.\n",
    "\n",
    "changeToUppercase = lambda word: word.upper()\n",
    "\n",
    "message = \"The quick brown fox jumps over the lazy dog\"\n",
    "\n",
    "print(sorted(message.split(), key=changeToUppercase))"
   ]
  },
  {
   "cell_type": "code",
   "execution_count": null,
   "metadata": {},
   "outputs": [],
   "source": [
    "# Second, replace the variable `changeToUppercase` with the lambda expression.\n",
    "\n",
    "message = \"The quick brown fox jumps over the lazy dog\"\n",
    "\n",
    "print(sorted(message.split(), key=lambda word: word.upper()))"
   ]
  },
  {
   "cell_type": "markdown",
   "metadata": {},
   "source": [
    "We can use pre-defined functions, too.  Here is an example using the **`len()`** function so that we can sort the words by their length."
   ]
  },
  {
   "cell_type": "code",
   "execution_count": null,
   "metadata": {},
   "outputs": [],
   "source": [
    "message = \"The quick brown fox jumps over the lazy dog\"\n",
    "\n",
    "print(sorted(message.split(), key=len))\n",
    "\n",
    "sortedWordsByLen = sorted(message.split(), key=len)\n",
    "longestWord = sortedWordsByLen[-1]\n",
    "longestWordLength = len(longestWord)\n",
    "\n",
    "print(f\"The longest word has {longestWordLength} characters.\")\n",
    "\n",
    "print(f\"The longest word has {len(longestWord)} characters.\")\n",
    "\n",
    "print(f\"The longest word has {len(sortedWordsByLen[-1])} characters.\")\n",
    "\n",
    "print(f\"The longest word has {len(sorted(message.split(), key=len)[-1])} characters.\")\n",
    "\n"
   ]
  },
  {
   "cell_type": "markdown",
   "metadata": {},
   "source": [
    "Notice that this example doesn't need a lambda expression at all, because `len()` already exists by default!"
   ]
  },
  {
   "cell_type": "markdown",
   "metadata": {},
   "source": [
    "**`.sort()`** works the same way in respect to the `key=` argument.  Remember that `.sort()` is a method on a list, and it doesn't return anything, but rather modifies the list in-place."
   ]
  },
  {
   "cell_type": "code",
   "execution_count": null,
   "metadata": {},
   "outputs": [],
   "source": [
    "# Example with sorted()\n",
    "\n",
    "message = \"The quick brown fox jumps over the lazy dog\"\n",
    "\n",
    "messageList = message.split()\n",
    "\n",
    "print(messageList)\n",
    "print()\n",
    "\n",
    "messageList.sort(key=lambda word: word.upper())\n",
    "\n",
    "print(messageList)"
   ]
  },
  {
   "cell_type": "markdown",
   "metadata": {},
   "source": [
    "Both `sorted()` and `.sort()` have additional arguments that you should explore, including an option to reverse the sort order."
   ]
  },
  {
   "cell_type": "markdown",
   "metadata": {},
   "source": [
    "## `filter()`\n",
    "\n",
    "`filter()` is a function that will filter a sequence according to some test.  The test is provided in the form of a **function** that takes an item from the list and returns either a `True` or `False` value, which decides whether or not the item will be included in the filtered version of the list.  Of course, the only items which will be included in the final list are those items that receive a `True` response from the filter function.\n",
    "\n",
    "The form is `filter(<function>, <sequence>)`.\n",
    "\n",
    "As usual, an example is most helpful.  Let's filter a list of words so that only those of length 4 or longer are allowed."
   ]
  },
  {
   "cell_type": "code",
   "execution_count": null,
   "metadata": {},
   "outputs": [],
   "source": [
    "message = \"The quick brown fox jumps over the lazy dog\"\n",
    "\n",
    "def wordIsLongEnough(word):\n",
    "    return len(word) >= 4\n",
    "\n",
    "print(filter(wordIsLongEnough, message.split()))"
   ]
  },
  {
   "cell_type": "markdown",
   "metadata": {},
   "source": [
    "As you can see, we need to convert this \"filter object\" to an actual list if we want to print it out.  Or, we could use it as a sequence in some other context."
   ]
  },
  {
   "cell_type": "code",
   "execution_count": null,
   "metadata": {},
   "outputs": [],
   "source": [
    "message = \"The quick brown fox jumps over the lazy dog\"\n",
    "\n",
    "def wordIsLongEnough(word):\n",
    "    return len(word) >= 4\n",
    "\n",
    "print([*filter(wordIsLongEnough, message.split())])"
   ]
  },
  {
   "cell_type": "code",
   "execution_count": null,
   "metadata": {},
   "outputs": [],
   "source": [
    "message = \"The quick brown fox jumps over the lazy dog\"\n",
    "\n",
    "def wordIsLongEnough(word):\n",
    "    return len(word) >= 4\n",
    "\n",
    "for word in filter(wordIsLongEnough, message.split()):\n",
    "    print(word)"
   ]
  },
  {
   "cell_type": "markdown",
   "metadata": {},
   "source": [
    "And now, let's write this same code using Lambda expressions."
   ]
  },
  {
   "cell_type": "code",
   "execution_count": null,
   "metadata": {},
   "outputs": [],
   "source": [
    "message = \"The quick brown fox jumps over the lazy dog\"\n",
    "\n",
    "print([*filter(lambda word: len(word) >= 4, message.split())])"
   ]
  },
  {
   "cell_type": "code",
   "execution_count": null,
   "metadata": {},
   "outputs": [],
   "source": [
    "message = \"The quick brown fox jumps over the lazy dog\"\n",
    "\n",
    "for word in filter(lambda word: len(word) >= 4, message.split()):\n",
    "    print(word)"
   ]
  },
  {
   "cell_type": "markdown",
   "metadata": {},
   "source": [
    "### Challenge\n",
    "\n",
    "Can you write code that will filter out all words that do not contain an \"o\"?"
   ]
  },
  {
   "cell_type": "code",
   "execution_count": null,
   "metadata": {},
   "outputs": [],
   "source": [
    "message = \"The quick brown fox jumps over the lazy dog\"\n",
    "\n",
    "for word in filter(lambda word: 'o' in word, message.split()):\n",
    "    print(word)\n"
   ]
  },
  {
   "cell_type": "markdown",
   "metadata": {},
   "source": [
    "## `map()`\n",
    "\n",
    "`map()` is a sister function to `filter()`, and they are often taught together.\n",
    "\n",
    "`map()` will iterate through the items of a list and apply some function (that you provide) to each item individually.  The results from that function will then become a new list.\n",
    "\n",
    "Similar to `filter()`, the syntax of `map()` is like this: `map(<function>, <sequence>)`"
   ]
  },
  {
   "cell_type": "code",
   "execution_count": null,
   "metadata": {},
   "outputs": [],
   "source": [
    "message = \"The quick brown fox jumps over the lazy dog\"\n",
    "\n",
    "def changeToUppercase(word):\n",
    "    return word.upper()\n",
    "\n",
    "print(map(changeToUppercase, message.split()))"
   ]
  },
  {
   "cell_type": "markdown",
   "metadata": {},
   "source": [
    "As with its sibling, `map()` also returns a \"map object\" that can either be converted to a list, or used as a sequence elsewhere."
   ]
  },
  {
   "cell_type": "code",
   "execution_count": null,
   "metadata": {},
   "outputs": [],
   "source": [
    "message = \"The quick brown fox jumps over the lazy dog\"\n",
    "\n",
    "def changeToUppercase(word):\n",
    "    return word.upper()\n",
    "\n",
    "print([*map(changeToUppercase, message.split())])"
   ]
  },
  {
   "cell_type": "code",
   "execution_count": null,
   "metadata": {},
   "outputs": [],
   "source": [
    "message = \"The quick brown fox jumps over the lazy dog\"\n",
    "\n",
    "def changeToUppercase(word):\n",
    "    return word.upper()\n",
    "\n",
    "for word in map(changeToUppercase, message.split()):\n",
    "    print(word)"
   ]
  },
  {
   "cell_type": "markdown",
   "metadata": {},
   "source": [
    "And, of course, we can use lambda expressions here as well."
   ]
  },
  {
   "cell_type": "code",
   "execution_count": null,
   "metadata": {},
   "outputs": [],
   "source": [
    "message = \"The quick brown fox jumps over the lazy dog\"\n",
    "\n",
    "print([*map(lambda word: word.upper(), message.split())])"
   ]
  },
  {
   "cell_type": "code",
   "execution_count": null,
   "metadata": {},
   "outputs": [],
   "source": [
    "message = \"The quick brown fox jumps over the lazy dog\"\n",
    "\n",
    "for word in map(lambda word: word.upper(), message.split()):\n",
    "    print(word)"
   ]
  },
  {
   "cell_type": "markdown",
   "metadata": {},
   "source": [
    "Yes, you can use built-in functions, too:"
   ]
  },
  {
   "cell_type": "code",
   "execution_count": null,
   "metadata": {},
   "outputs": [],
   "source": [
    "# This will print out the length of each word.\n",
    "\n",
    "message = \"The quick brown fox jumps over the lazy dog\"\n",
    "\n",
    "print([*map(len, message.split())])"
   ]
  },
  {
   "cell_type": "markdown",
   "metadata": {},
   "source": [
    "### Challenge\n",
    "\n",
    "Can you print the average word length for the letters in this string?"
   ]
  },
  {
   "cell_type": "code",
   "execution_count": null,
   "metadata": {},
   "outputs": [],
   "source": [
    "message = \"The quick brown fox jumps over the lazy dog\"\n",
    "\n",
    "wordLengths = [*map(len, message.split())]\n",
    "\n",
    "print(wordLengths)\n",
    "\n",
    "print(sum(wordLengths) / len(wordLengths))"
   ]
  },
  {
   "cell_type": "markdown",
   "metadata": {},
   "source": [
    "## Perspective Thoughts On `map()` And `filter()`\n",
    "\n",
    "`map()` and `filter()` are not complicated ideas.  In fact, you have been doing them for a while now, just in another form.  \"Where?\", you may ask.  **Comprehensions.**\n",
    "\n",
    "Consider the following comprehension:"
   ]
  },
  {
   "cell_type": "code",
   "execution_count": null,
   "metadata": {},
   "outputs": [],
   "source": [
    "# Create a list of tuples, where the tuple is a word and its length.\n",
    "# Only allow words with a length greater than 3.\n",
    "message = \"The quick brown fox jumps over the lazy dog.\"\n",
    "\n",
    "print([(word, len(word)) for word in message.split() if len(word) > 3])"
   ]
  },
  {
   "cell_type": "markdown",
   "metadata": {},
   "source": [
    "This comprehension is first performing a **filter** behavior, followed by a **mapping** behavior.  It could be re-written as this:"
   ]
  },
  {
   "cell_type": "code",
   "execution_count": null,
   "metadata": {},
   "outputs": [],
   "source": [
    "# Create a list of tuples, where the tuple is a word and its length.\n",
    "# Only allow words with a length greater than 3.\n",
    "message = \"The quick brown fox jumps over the lazy dog.\"\n",
    "\n",
    "print([*map(lambda word: (word, len(word)), filter(lambda word: len(word) > 3, message.split()))])"
   ]
  },
  {
   "cell_type": "markdown",
   "metadata": {},
   "source": [
    "Admittedly, it might be a bit harder to read, but the essential parts are there!\n",
    "\n",
    "**Why would you use one approach over the other?**\n",
    "\n",
    "It's all about expressing your ideas.  Sometimes it's easier (or more readable) to express your idea using a list comprehension.  Sometimes it's easer to use either `filter()`, or `map()`, or both!  Python provides the flexibility and the syntax.  You, as the programmer, provide the choice and the reasoning."
   ]
  },
  {
   "cell_type": "code",
   "execution_count": null,
   "metadata": {},
   "outputs": [],
   "source": [
    "import string\n",
    "\n",
    "frank = loadBook(\"http://www.gutenberg.org/files/84/84-0.txt\", 'frank.txt', \"utf-8-sig\")\n",
    "\n",
    "slimFrank = ''.join([ch for ch in frank.lower() if ch in (string.ascii_lowercase + ' \\n')])\n",
    "\n",
    "wordCount = {}\n",
    "\n",
    "for word in slimFrank.split():\n",
    "    wordCount.setdefault(word, 0)\n",
    "    wordCount[word] += 1\n",
    " \n",
    "sortedWords = sorted(wordCount.items(), key=lambda pair: pair[1], reverse=True)\n",
    "\n",
    "print(sortedWords[:20])\n"
   ]
  },
  {
   "cell_type": "markdown",
   "metadata": {},
   "source": [
    "# Zipping And Unzipping Lists\n",
    "\n",
    "What is \"zipping\"?  It's a way to combine two different lists into a single list, pairing up their elements side-by-side in tuples.\n",
    "\n",
    "https://docs.python.org/3.6/library/functions.html?highlight=sorted#zip\n",
    "\n",
    "First, consider these two lists:"
   ]
  },
  {
   "cell_type": "code",
   "execution_count": null,
   "metadata": {},
   "outputs": [],
   "source": [
    "a = [0, 1, 2, 3, 4, 5]\n",
    "b = ['a', 'b', 'c', 'd', 'e', 'f']\n",
    "\n",
    "print(a)\n",
    "print(b)"
   ]
  },
  {
   "cell_type": "markdown",
   "metadata": {},
   "source": [
    "Now, think of how you could combine these two lists so that their structure is like this:\n",
    "\n",
    "```\n",
    "[(0, 'a'), (1, 'b'), (2, 'c'), (3, 'd'), (4, 'e'), (5, 'f')]\n",
    "```\n",
    "\n",
    "You could do it clumsily using loops:"
   ]
  },
  {
   "cell_type": "code",
   "execution_count": null,
   "metadata": {},
   "outputs": [],
   "source": [
    "combined = []\n",
    "\n",
    "for i in range(len(a)):\n",
    "    combined.append((a[i], b[i]))\n",
    "    \n",
    "print(combined)"
   ]
  },
  {
   "cell_type": "markdown",
   "metadata": {},
   "source": [
    "That would work, but building lists with `.append()` is **slow**.  What if you wanted to use a **comprehension** instead?"
   ]
  },
  {
   "cell_type": "code",
   "execution_count": null,
   "metadata": {},
   "outputs": [],
   "source": [
    "print([(a[i], b[i]) for i in range(len(a))])"
   ]
  },
  {
   "cell_type": "markdown",
   "metadata": {},
   "source": [
    "That works, too, but it's a bit ugly.  And what if your lists are different lengths?\n",
    "\n",
    "The `zip()` function takes care of all of these problems in a beautifully short syntax:"
   ]
  },
  {
   "cell_type": "code",
   "execution_count": null,
   "metadata": {},
   "outputs": [],
   "source": [
    "print(zip(a,b))"
   ]
  },
  {
   "cell_type": "markdown",
   "metadata": {},
   "source": [
    "Wait... of course, this is Python, and **a lot** of sequences are an object of some sort.  We can splat it into a list, though if we want to print it out:"
   ]
  },
  {
   "cell_type": "code",
   "execution_count": null,
   "metadata": {},
   "outputs": [],
   "source": [
    "print([*zip(a,b)])"
   ]
  },
  {
   "cell_type": "markdown",
   "metadata": {},
   "source": [
    "And, as usual, we don't have to splat it if we are just using it as a sequence:"
   ]
  },
  {
   "cell_type": "code",
   "execution_count": null,
   "metadata": {},
   "outputs": [],
   "source": [
    "print(a)\n",
    "print(b)\n",
    "print()\n",
    "\n",
    "for number, letter in zip(a,b):\n",
    "    print(f\"{number} is in a tuple with '{letter}'.\")"
   ]
  },
  {
   "cell_type": "markdown",
   "metadata": {},
   "source": [
    "What if they have different numbers of elements?"
   ]
  },
  {
   "cell_type": "code",
   "execution_count": null,
   "metadata": {},
   "outputs": [],
   "source": [
    "a = [0, 1, 2, 3, 4, 5]\n",
    "b = ['a', 'b', 'c', 'd', 'e', 'f']\n",
    "c = \"foo bar baz\".split()\n",
    "\n",
    "print([*zip(a,c)])\n",
    "print([*zip(c,b)])"
   ]
  },
  {
   "cell_type": "markdown",
   "metadata": {},
   "source": [
    "OK, so it truncates to the length of the shorter list.\n",
    "\n",
    "Can you zip more than two lists?"
   ]
  },
  {
   "cell_type": "code",
   "execution_count": null,
   "metadata": {},
   "outputs": [],
   "source": [
    "a = [0, 1, 2, 3, 4, 5]\n",
    "b = ['a', 'b', 'c', 'd', 'e', 'f']\n",
    "c = \"foo bar baz\".split()\n",
    "\n",
    "print([*zip(a,b,c)])\n"
   ]
  },
  {
   "cell_type": "markdown",
   "metadata": {},
   "source": [
    "Indeed you can!"
   ]
  },
  {
   "cell_type": "markdown",
   "metadata": {},
   "source": [
    "### Challenge\n",
    "\n",
    "Imagine that you are trying to analyze text.  for whatever reason, you need to loop through the text and examine each word, but you also need to know what the word before it is.\n",
    "\n",
    "You realize that you could do this with a clever `zip()`, so that the end result is:\n",
    "\n",
    "```\n",
    "[('', 'The'), ('The', 'quick'), ('quick', 'brown'), ... ('the', 'lazy'), ('lazy', 'dog.')]\n",
    "```\n",
    "\n",
    "Can you write this code?\n",
    "\n",
    "(Yes, I realize that the `message` variable has the sentence in there twice.)"
   ]
  },
  {
   "cell_type": "code",
   "execution_count": null,
   "metadata": {},
   "outputs": [],
   "source": [
    "message = \"The quick brown fox jumps over the lazy dog. The quick brown fox jumps over the lazy dog.\"\n",
    "\n",
    "print([*zip([''] + message.split(), message.split())])"
   ]
  },
  {
   "cell_type": "markdown",
   "metadata": {},
   "source": [
    "## The Elusive Unzip\n",
    "\n",
    "Logically speaking, **unzipping** a list should be the opposite of **zipping**.  That is, to unzip a list, you should start with a list of tuples, and end up with two list, each list containing the respective parts of the tuple.\n",
    "\n",
    "If you start with:\n",
    "\n",
    "`\n",
    "[(0, 'a'), (1, 'b'), (2, 'c'), (3, 'd'), (4, 'e'), (5, 'f')]\n",
    "`\n",
    "\n",
    "Then you should be able to **separate** out the parts into two distinct lists:\n",
    "\n",
    "`\n",
    "[0, 1, 2, 3, 4, 5]\n",
    "`\n",
    "\n",
    "and\n",
    "\n",
    "`\n",
    "['a', 'b', 'c', 'd', 'e', 'f']\n",
    "`\n",
    "\n",
    "**Problem:** There is no **unzip** function.\n",
    "\n",
    "But, it is easy to achieve the effect using list comprehensions!"
   ]
  },
  {
   "cell_type": "code",
   "execution_count": null,
   "metadata": {},
   "outputs": [],
   "source": [
    "originalList = [(0, 'a'), (1, 'b'), (2, 'c'), (3, 'd'), (4, 'e'), (5, 'f')]\n",
    "print(originalList)\n",
    "print()\n",
    "\n",
    "a = [item[0] for item in originalList]\n",
    "print(a)\n",
    "print()\n",
    "\n",
    "b = [item[1] for item in originalList]\n",
    "print(b)"
   ]
  },
  {
   "cell_type": "markdown",
   "metadata": {},
   "source": [
    "Using **destructuring**, we can make this idea a bit more compact."
   ]
  },
  {
   "cell_type": "code",
   "execution_count": null,
   "metadata": {},
   "outputs": [],
   "source": [
    "originalList = [(0, 'a'), (1, 'b'), (2, 'c'), (3, 'd'), (4, 'e'), (5, 'f')]\n",
    "print(originalList)\n",
    "print()\n",
    "\n",
    "a, b = [item[0] for item in originalList], [item[1] for item in originalList]\n",
    "\n",
    "print(a)\n",
    "print()\n",
    "\n",
    "print(b)"
   ]
  },
  {
   "cell_type": "markdown",
   "metadata": {},
   "source": [
    "Of course, what happens if the `originalList` is not **well-formed**?  That is to say, what if `originalList` has an item that is not a tuple?"
   ]
  },
  {
   "cell_type": "code",
   "execution_count": null,
   "metadata": {},
   "outputs": [],
   "source": [
    "originalList = [(0, 'a'), (1, 'b'), (2, 'c'), (3, 'd'), (4, 'e'), (5, 'f'), 42]\n",
    "print(originalList)\n",
    "print()\n",
    "\n",
    "a, b = [item[0] for item in originalList], [item[1] for item in originalList]\n",
    "\n",
    "print(a)\n",
    "print()\n",
    "\n",
    "print(b)"
   ]
  },
  {
   "cell_type": "markdown",
   "metadata": {},
   "source": [
    "As you can see, it will fail.  It is up to you, the programmer, to ensure that your data is in a predictable state (or, **sanitized**) before trying to process it."
   ]
  },
  {
   "cell_type": "markdown",
   "metadata": {},
   "source": [
    "# Sets\n",
    "\n",
    "This part on Sets will be quite brief, because it overlaps greatly with other material covered in this Section.\n",
    "\n",
    "So far, we have seen **Lists**, **Tuples**, and **Dictionaries**.  Now, we have one last (main) container type: **Sets**.\n",
    "\n",
    "As **Set** is much like the mathematical idea, in that it is a collection of items in which each **value** is only stored once.\n",
    "\n",
    "For example, let's suppose that I have the list:\n",
    "\n",
    "```\n",
    "[1,3,5,5,7,7,9,9,9]\n",
    "```\n",
    "\n",
    "The **Set** of these numbers would be:\n",
    "\n",
    "```\n",
    "{1, 3, 5, 7, 9}\n",
    "```\n",
    "\n",
    "Notice that it uses the curly brace syntax, just like a Dictionary, but it does not have any **key-value** pairs.  Also notice that each value is only present once.\n"
   ]
  },
  {
   "cell_type": "markdown",
   "metadata": {},
   "source": [
    "## The Important Parts\n",
    "\n",
    "* The items in the set are **unordered**.\n",
    "* Sets support comprehensions and syntax such as **`x in set`**, **`x not in set`**, **`len(set)`**, **`min(set)`**, **`max(set)`**, and **`for x in set`**.\n",
    "* Set **do not** support indexing, slicing, or any other sequence-like behaviors.\n",
    "* There is actually both the **`set()`** and **`frozenset()`** containers.  The `frozenset()` is immutable (*i.e.*, cannot be changed once created).  We will only be using the `set()` in our examples.\n",
    "* Sets can represent the standard mathematical functions: intersection, union, difference, symmetric difference.  They can also be used for membership testing and  removing duplicates from a sequence.  See [the documentation](https://docs.python.org/3.6/library/stdtypes.html#set-types-set-frozenset) for the most complete information and syntax."
   ]
  },
  {
   "cell_type": "code",
   "execution_count": null,
   "metadata": {},
   "outputs": [],
   "source": [
    "# Create a set() using a list.\n",
    "\n",
    "a = set([1,3,5,5,7,7,9,9,9])\n",
    "\n",
    "print(a)"
   ]
  },
  {
   "cell_type": "code",
   "execution_count": null,
   "metadata": {},
   "outputs": [],
   "source": [
    "# Create a set using curly braces.\n",
    "a = {1, 3, 5, 5, 7, 7, 9, 9, 9}\n",
    "\n",
    "print(a)"
   ]
  },
  {
   "cell_type": "code",
   "execution_count": null,
   "metadata": {},
   "outputs": [],
   "source": [
    "# Create a set from a Comprehension\n",
    "a = {a for a in \"abracadabra\"}\n",
    "\n",
    "print(a)\n",
    "print(type(a))"
   ]
  },
  {
   "cell_type": "code",
   "execution_count": null,
   "metadata": {},
   "outputs": [],
   "source": [
    "# Create a set using a string\n",
    "a = set(\"abracadabra\")\n",
    "\n",
    "print(a)"
   ]
  },
  {
   "cell_type": "code",
   "execution_count": null,
   "metadata": {},
   "outputs": [],
   "source": [
    "# Create a set that contains a single string\n",
    "a = set([\"abracadabra\"])\n",
    "b = {\"abracadabra\"}\n",
    "\n",
    "print(a)\n",
    "print(b)"
   ]
  },
  {
   "cell_type": "markdown",
   "metadata": {},
   "source": [
    "The most common methods are:\n",
    "\n",
    "* `.add(<item>)` - Add the item to the set.\n",
    "* `.remove(<item>)` - Remove the item from the set.  Raise a KeyError if the item is not in the set.\n",
    "* `.discard(<item>)` - Like `.remove()`, but won't raise a KeyError.\n",
    "* `.pop(<item>)` - Remove and return an arbitrary item from the set.\n",
    "* `.clear()` - Remove all elements from the set."
   ]
  },
  {
   "cell_type": "code",
   "execution_count": null,
   "metadata": {},
   "outputs": [],
   "source": []
  },
  {
   "cell_type": "markdown",
   "metadata": {},
   "source": [
    "# Baby Names Dataset\n",
    "\n",
    "https://www.ssa.gov/oact/babynames/limits.html\n",
    "\n",
    "The **Social Security Administration** makes available data about the names given to babies.  It is downloadable as a .zip file, and data is split across multiple files included in that .zip file.\n",
    "\n",
    "I provided a cell (at the top of this notebook) that will download the data and put it all into a single list called `babyList`.  Run that cell first, and then continue with this section."
   ]
  },
  {
   "cell_type": "code",
   "execution_count": null,
   "metadata": {},
   "outputs": [],
   "source": [
    "# The first 10 records in the dataset:\n",
    "print(babyList[:10])\n",
    "\n",
    "print()\n",
    "\n",
    "# The last 10 records in the dataset:\n",
    "print(babyList[-10:])"
   ]
  },
  {
   "cell_type": "markdown",
   "metadata": {},
   "source": [
    "Given this **real** data, what kind of questions could you answer?"
   ]
  },
  {
   "cell_type": "markdown",
   "metadata": {},
   "source": [
    "**Warm-Up Question: How many distinct names are in the dataset?**"
   ]
  },
  {
   "cell_type": "code",
   "execution_count": 5,
   "metadata": {},
   "outputs": [
    {
     "name": "stdout",
     "output_type": "stream",
     "text": [
      "32403\n"
     ]
    }
   ],
   "source": [
    "names = set()\n",
    "\n",
    "for state, sex, year, name, count in babyList:\n",
    "    names.add(name)\n",
    "    \n",
    "print(len(names))"
   ]
  },
  {
   "cell_type": "code",
   "execution_count": 6,
   "metadata": {},
   "outputs": [
    {
     "name": "stdout",
     "output_type": "stream",
     "text": [
      "32403\n"
     ]
    }
   ],
   "source": [
    "print(len({name for state, sex, year, name, count in babyList}))"
   ]
  },
  {
   "cell_type": "code",
   "execution_count": 7,
   "metadata": {},
   "outputs": [
    {
     "name": "stdout",
     "output_type": "stream",
     "text": [
      "203954\n"
     ]
    }
   ],
   "source": [
    "nameSet = {name for state, sex, year, name, count in babyList}\n",
    "\n",
    "print(sum([len(name) for name in nameSet]))"
   ]
  },
  {
   "cell_type": "markdown",
   "metadata": {},
   "source": [
    "**Q1: Given a name and a year, how many births match that constraint?**  Write this as a function."
   ]
  },
  {
   "cell_type": "code",
   "execution_count": null,
   "metadata": {},
   "outputs": [],
   "source": [
    "def nameAndYear(searchName, searchYear):\n",
    "    return sum([count for state, sex, year, name, count in babyList if name == searchName and year == searchYear])\n",
    "\n",
    "\n",
    "print(nameAndYear(\"Charles\", 2018))"
   ]
  },
  {
   "cell_type": "markdown",
   "metadata": {},
   "source": [
    "**Q2: Given a name and a year, how many births match that constraint, *separated by sex*?**  Write this as a function."
   ]
  },
  {
   "cell_type": "code",
   "execution_count": null,
   "metadata": {},
   "outputs": [],
   "source": [
    "def nameAndYearBySex(searchName, searchYear):\n",
    "    maleCount = sum([count for state, sex, year, name, count in babyList if name == searchName and year == searchYear and sex == \"M\"])\n",
    "    femaleCount = sum([count for state, sex, year, name, count in babyList if name == searchName and year == searchYear and sex == \"F\"])\n",
    "    return {\"M\": maleCount, \"F\": femaleCount}\n",
    "\n",
    "print(nameAndYearBySex(\"Joanne\", 1957))"
   ]
  },
  {
   "cell_type": "markdown",
   "metadata": {},
   "source": [
    "**Q3: Given a name, how has the use of that name changed, for all years in the dataset?** Write this as a function."
   ]
  },
  {
   "cell_type": "code",
   "execution_count": 4,
   "metadata": {},
   "outputs": [
    {
     "name": "stdout",
     "output_type": "stream",
     "text": [
      "{2000: 132, 2004: 134, 1998: 136, 1999: 146, 1996: 38, 1991: 5, 1992: 9, 1993: 32, 1994: 39, 1995: 39, 1997: 72, 2001: 139, 2002: 93, 2003: 105, 2005: 121, 2006: 104, 2007: 81, 2008: 53, 2009: 79, 2010: 90, 2011: 40, 2012: 67, 2013: 62, 2014: 34, 2015: 22, 2016: 31, 2017: 26, 2019: 21, 2020: 11, 2021: 8, 1990: 6, 2018: 7}\n",
      "1990: 6\n",
      "1991: 5\n",
      "1992: 9\n",
      "1993: 32\n",
      "1994: 39\n",
      "1995: 39\n",
      "1996: 38\n",
      "1997: 72\n",
      "1998: 136\n",
      "1999: 146\n",
      "2000: 132\n",
      "2001: 139\n",
      "2002: 93\n",
      "2003: 105\n",
      "2004: 134\n",
      "2005: 121\n",
      "2006: 104\n",
      "2007: 81\n",
      "2008: 53\n",
      "2009: 79\n",
      "2010: 90\n",
      "2011: 40\n",
      "2012: 67\n",
      "2013: 62\n",
      "2014: 34\n",
      "2015: 22\n",
      "2016: 31\n",
      "2017: 26\n",
      "2018: 7\n",
      "2019: 21\n",
      "2020: 11\n",
      "2021: 8\n"
     ]
    }
   ],
   "source": [
    "def change (searchName):\n",
    "    changed = {}\n",
    "    for state, sex, year, name, count in babyList:\n",
    "        if name == searchName:\n",
    "            changed.setdefault(year,0)\n",
    "            changed[year] += count\n",
    "    return changed\n",
    "\n",
    "print(change(\"Cailey\"))\n",
    "\n",
    "nameChangeData = change(\"Cailey\")\n",
    "\n",
    "for year in sorted(nameChangeData.keys()):\n",
    "    print(f\"{year}: {nameChangeData[year]}\")"
   ]
  },
  {
   "cell_type": "code",
   "execution_count": null,
   "metadata": {},
   "outputs": [],
   "source": [
    "# Problem: year is over-written so that only\n",
    "# the last record examined will set the value.\n",
    "# Should be adding the values together instead.\n",
    "\n",
    "searchName = \"Cailey\"\n",
    "\n",
    "dictionary = {year: count for state, sex, year, name, count in babyList if name == searchName}\n",
    "print(dictionary)\n",
    "\n",
    "for record in babyList:\n",
    "    if record[3] == \"Cailey\":\n",
    "        print(record)"
   ]
  },
  {
   "cell_type": "markdown",
   "metadata": {},
   "source": [
    "**Q4: What is the most popular name of all time?**"
   ]
  },
  {
   "cell_type": "code",
   "execution_count": null,
   "metadata": {},
   "outputs": [],
   "source": [
    "nameCount = {}\n",
    "for state, sex, year, name, count in babyList:\n",
    "    nameCount.setdefault(name,0)\n",
    "    nameCount[name] += count\n",
    "\n",
    "orderedData = sorted(nameCount.items(), key=lambda record: record[1])\n",
    "\n",
    "print(orderedData[-10:][::-1])"
   ]
  },
  {
   "cell_type": "code",
   "execution_count": null,
   "metadata": {},
   "outputs": [],
   "source": []
  }
 ],
 "metadata": {
  "interpreter": {
   "hash": "aee8b7b246df8f9039afb4144a1f6fd8d2ca17a180786b69acc140d282b71a49"
  },
  "kernelspec": {
   "display_name": "Python 3.9.10 64-bit",
   "language": "python",
   "name": "python3"
  },
  "language_info": {
   "codemirror_mode": {
    "name": "ipython",
    "version": 3
   },
   "file_extension": ".py",
   "mimetype": "text/x-python",
   "name": "python",
   "nbconvert_exporter": "python",
   "pygments_lexer": "ipython3",
   "version": "3.9.10"
  }
 },
 "nbformat": 4,
 "nbformat_minor": 4
}
