{
 "cells": [
  {
   "cell_type": "markdown",
   "metadata": {},
   "source": [
    "# Homework 3\n"
   ]
  },
  {
   "cell_type": "markdown",
   "metadata": {},
   "source": [
    "## Part 1: Simple math (20 Points)\n",
    "\n",
    "Write a small program that analyzes a list of numbers and prints the following statistics:\n",
    "```\n",
    "Minimum: \n",
    "Maximum: \n",
    "Average: \n",
    "Population Standard Deviation:\n",
    "```\n",
    "\n",
    "When executed, Cell 1 will provide the numbers in a variable called `numbers`.\n",
    "\n",
    "Although there are pre-existing functions (`min()`, `max()`, `mean()`, `pstdev()`) to compute these statistics, you should not use them for this particular problem.  Rather, write your own loops (I suggest `for..in:` loops) to perform the math as needed.  **This is an exercise in writing loops.**  You will be able to use these built-in functions for other questions in this homework assignment.\n",
    "\n",
    "If you are unfamiliar with the Standard Deviation, see this Wikipedia article (https://en.wikipedia.org/wiki/Standard_deviation).  If the formal definition is confusing, see the \"Basic Examples\" section.  Specifically, we are looking for the Population Standard Deviation.\n",
    "\n",
    "### Example Output\n",
    "\n",
    "If `numbers = [1, 3, 5, 7, 9]`, then the output should be as follows:\n",
    "\n",
    "```\n",
    "Minimum: 1\n",
    "Maximum: 9\n",
    "Average: 5.0\n",
    "Population Standard Deviation: 2.8284271247461903\n",
    "```"
   ]
  },
  {
   "cell_type": "code",
   "execution_count": null,
   "metadata": {},
   "outputs": [],
   "source": [
    "### CELL 1 ###\n",
    "# This cell will load values from the well-known Iris dataset.\n",
    "# (https://en.wikipedia.org/wiki/Iris_flower_data_set)\n",
    "# At this point, don't worry about how it works.  As long as\n",
    "# the numbers are loaded correctly, everything will be fine.\n",
    "# Please note that the first time that this is run, it may take\n",
    "# 10 seconds or so to finish loading.\n",
    "from sklearn import datasets\n",
    "numbers = [*datasets.load_iris().data[:,0]]\n",
    "print('Numbers loaded:', numbers)"
   ]
  },
  {
   "cell_type": "code",
   "execution_count": null,
   "metadata": {},
   "outputs": [],
   "source": [
    "### CELL 2 ###\n",
    "# Write your code in this cell.\n",
    "# Do not remove this comment block.  Write your code after this comment block.\n",
    "##############\n",
    "\n"
   ]
  },
  {
   "cell_type": "markdown",
   "metadata": {},
   "source": [
    "## Part 2: List Comprehensions (25 Points)\n",
    "\n",
    "Understanding List Comprehensions (and being able to write them) is an important Python skill.  List comprehensions are an elegant way to create a new list, based on an existing sequence (list, range, string, etc.).\n",
    "\n",
    "Here, your job is to re-write a given piece of code to use a list comprehension rather than building the list manually.  For example, if the given code is:\n",
    "\n",
    "```\n",
    "l = []\n",
    "for i in range(0,51,2):\n",
    "    l.append(i)\n",
    "print(l)\n",
    "```\n",
    "You should write:\n",
    "```\n",
    "print([i for i in range(0,51,2)])\n",
    "```\n",
    "\n",
    "Similarly, if the given code is:\n",
    "```\n",
    "l = []\n",
    "for i in range(11):\n",
    "    l.append(i * 2)\n",
    "print(l)\n",
    "```\n",
    "You should write:\n",
    "```\n",
    "print([i * 2 for i in range(11)])\n",
    "```\n",
    "\n",
    "Obviously, the output for the two versions of code should be identical.\n",
    "\n",
    "Your code should only be **one** line in length."
   ]
  },
  {
   "cell_type": "code",
   "execution_count": null,
   "metadata": {},
   "outputs": [],
   "source": [
    "### CELL 3 ###\n",
    "# Part 1.\n",
    "# The code given is:\n",
    "##############\n",
    "myList = []\n",
    "for number in range(100, 1, -10):\n",
    "    myList.append(number)\n",
    "print(myList)"
   ]
  },
  {
   "cell_type": "code",
   "execution_count": null,
   "metadata": {},
   "outputs": [],
   "source": [
    "### CELL 4 ###\n",
    "# Write your version of Part 1 below.\n",
    "##############\n",
    "\n"
   ]
  },
  {
   "cell_type": "code",
   "execution_count": null,
   "metadata": {},
   "outputs": [],
   "source": [
    "### CELL 5 ###\n",
    "# Part 2.\n",
    "# The code given is:\n",
    "##############\n",
    "repeated = []\n",
    "for number in range(31):\n",
    "    repeated.append(number % 2)\n",
    "print(repeated)"
   ]
  },
  {
   "cell_type": "code",
   "execution_count": null,
   "metadata": {},
   "outputs": [],
   "source": [
    "### CELL 6 ###\n",
    "# Write your version of Part 2 below.\n",
    "##############\n",
    "\n"
   ]
  },
  {
   "cell_type": "code",
   "execution_count": null,
   "metadata": {},
   "outputs": [],
   "source": [
    "### CELL 7 ###\n",
    "# Part 3.\n",
    "# The code given is:\n",
    "##############\n",
    "squares = []\n",
    "for num in range(21):\n",
    "    squares.append(num ** 2)\n",
    "print(squares)"
   ]
  },
  {
   "cell_type": "code",
   "execution_count": null,
   "metadata": {},
   "outputs": [],
   "source": [
    "### CELL 8 ###\n",
    "# Write your version of Part 3 below.\n",
    "##############\n",
    "\n"
   ]
  },
  {
   "cell_type": "code",
   "execution_count": null,
   "metadata": {},
   "outputs": [],
   "source": [
    "### CELL 9 ###\n",
    "# Part 3.\n",
    "# The code given is:\n",
    "##############\n",
    "letters = []\n",
    "for character in \"Go Irish!\":\n",
    "    letters.append(character * 3)\n",
    "print('--'.join(letters))"
   ]
  },
  {
   "cell_type": "code",
   "execution_count": null,
   "metadata": {},
   "outputs": [],
   "source": [
    "### CELL 10 ###\n",
    "# Write your version of Part 3 below.\n",
    "###############\n",
    "\n"
   ]
  },
  {
   "cell_type": "code",
   "execution_count": null,
   "metadata": {},
   "outputs": [],
   "source": [
    "### CELL 11 ###\n",
    "# Part 3.\n",
    "# The code given is:\n",
    "###############\n",
    "noVowels = []\n",
    "for character in \"Rally sons of Notre Dame\":\n",
    "    if character not in \"aeiou\":\n",
    "        noVowels.append(character)\n",
    "print(''.join(noVowels))"
   ]
  },
  {
   "cell_type": "code",
   "execution_count": null,
   "metadata": {},
   "outputs": [],
   "source": [
    "### CELL 12 ###\n",
    "# Write your version of Part 4 below.\n",
    "###############\n",
    "\n"
   ]
  },
  {
   "cell_type": "markdown",
   "metadata": {},
   "source": [
    "## Part 3: Frame the words (20 Points)\n",
    "\n",
    "Write a small program that takes a string variable called `message` and prints the words, one per line, in a rectangular frame. For example the string `\"Hello World in a frame\"` gets printed as:\n",
    "```\n",
    "*********\n",
    "* Hello *\n",
    "* World *\n",
    "* in    *\n",
    "* a     *\n",
    "* frame *\n",
    "*********\n",
    "```\n",
    "\n",
    "Obviously, you will have to figure out how wide the frame should be, based on the widest word.  Do not hard-code the width, but figure it out from the `message` variable using code.\n",
    "\n",
    "Remember `\"\".split()`, `len()`, `max()`, and list comprehensions.  You are permitted to use functions such as `max()` in this problem."
   ]
  },
  {
   "cell_type": "code",
   "execution_count": null,
   "metadata": {},
   "outputs": [],
   "source": [
    "### CELL 13 ###\n",
    "# This cell is for instantiating the `message` variable.\n",
    "###############\n",
    "message = \"The more code that you write, the easier Python gets!\""
   ]
  },
  {
   "cell_type": "code",
   "execution_count": null,
   "metadata": {},
   "outputs": [],
   "source": [
    "### CELL 14 ###\n",
    "# Write your code in this cell.\n",
    "# Do not remove this comment block.  Write your code after this comment block.\n",
    "###############\n",
    "\n",
    "\n"
   ]
  },
  {
   "cell_type": "markdown",
   "metadata": {},
   "source": [
    "## Part 4: Fibonacci Refactor (20 Points)\n",
    "\n",
    "Fibonacci is back, because this time it needs to be written in a function.\n",
    "\n",
    "In the lecture, I gave the following as a proposed solution to the Fibonacci sequence problem in Homework 2.\n",
    "\n",
    "```\n",
    "total = int(input(\"How many Fibonacci numbers should I generate? \"))\n",
    "\n",
    "num1 = 1\n",
    "num2 = 1\n",
    "num3 = num1 + num2\n",
    "counter = 0\n",
    "while counter < total:\n",
    "    print(num1, end=\" \")\n",
    "    num1 = num2\n",
    "    num2 = num3\n",
    "    num3 = num1 + num2\n",
    "    counter = counter + 1\n",
    "```\n",
    "\n",
    "In this homework, you need to convert this code into a function (with a few minor changes).\n",
    "\n",
    "1. The `fibonacci()` function should not print out anything.  Rather, it should return a **list** of numbers.  It may return an empty list if appropriate.  An example list of 5 numbers would be `[1, 1, 2, 3, 5]`.\n",
    "2. You should write **documentation** for the function, which explains how the function should be used.  The documentation does not need to be long, but it should be sufficient, describing the function, it's arguments, and anything else you deem important.  You may also add comments to the code in order to explain your approach to the grader.\n",
    "3. You may use the same code provided above as a starting point.\n",
    "4. Re-write the code to use a `for..in:` loop instead of the `while:` loop.\n",
    "5. You have probably realized this already, but to be clear: You are **only** writing the function, and nothing outside of the function.  This is what happens in the real world when you write a **library** of code.  That is, the library provides the functionality, and it is up to the programmer to write the code that uses your functions.  In this example, I have supplied the code that will *call* (or, use) your `fibonacci()` function."
   ]
  },
  {
   "cell_type": "code",
   "execution_count": null,
   "metadata": {},
   "outputs": [],
   "source": [
    "### CELL 15 ###\n",
    "# Write your code in this cell.\n",
    "# Do not remove this comment block.  Write your code after this comment block.\n",
    "###############\n",
    "\n",
    "def fibonacci(total):\n",
    "    pass # the pass statement may be removed when you write your own code.\n",
    "\n",
    "\n",
    "###############\n",
    "# Do not change anything below this line.\n",
    "# The following code will call your function, declared above.\n",
    "###############\n",
    "\n",
    "total = int(input(\"How many Fibonacci numbers should I generate? \"))\n",
    "print(fibonacci(total))\n",
    "print('----------------------------------------')\n",
    "print(help(fibonacci))"
   ]
  },
  {
   "cell_type": "code",
   "execution_count": null,
   "metadata": {},
   "outputs": [],
   "source": []
  }
 ],
 "metadata": {
  "kernelspec": {
   "display_name": "Python 3",
   "language": "python",
   "name": "python3"
  },
  "language_info": {
   "codemirror_mode": {
    "name": "ipython",
    "version": 3
   },
   "file_extension": ".py",
   "mimetype": "text/x-python",
   "name": "python",
   "nbconvert_exporter": "python",
   "pygments_lexer": "ipython3",
   "version": "3.6.13"
  }
 },
 "nbformat": 4,
 "nbformat_minor": 2
}
